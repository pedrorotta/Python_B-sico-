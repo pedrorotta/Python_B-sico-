{
  "nbformat": 4,
  "nbformat_minor": 0,
  "metadata": {
    "colab": {
      "name": "Clase 7.ipynb",
      "provenance": [],
      "mount_file_id": "1QCppOMVVd4-xqxlanO-YOJJD-o8oWE4p",
      "authorship_tag": "ABX9TyMgzelNdWMyPfOGTu+vgd3c",
      "include_colab_link": true
    },
    "kernelspec": {
      "name": "python3",
      "display_name": "Python 3"
    },
    "language_info": {
      "name": "python"
    }
  },
  "cells": [
    {
      "cell_type": "markdown",
      "metadata": {
        "id": "view-in-github",
        "colab_type": "text"
      },
      "source": [
        "<a href=\"https://colab.research.google.com/github/pedrorotta/Python_B-sico-/blob/main/Clase_7.ipynb\" target=\"_parent\"><img src=\"https://colab.research.google.com/assets/colab-badge.svg\" alt=\"Open In Colab\"/></a>"
      ]
    },
    {
      "cell_type": "markdown",
      "metadata": {
        "id": "tBZTjPgM9ov9"
      },
      "source": [
        "# Clase 7 : Más sobre análisis de datos\n",
        "\n",
        "En la clase anterior vimos algunas cosas fundamentales del análisis de datos. En esta remarcaremos las más importantes. \n",
        "\n",
        "El análisis de datos, al igual que otras ciencias tiene una metodología que aunque es variante (ya que dependerá de ciertas situaciones o no) pero que de alguna manera es similar para todos los casos y sigue estos pasos principales: \n",
        "\n",
        "1. Recepción de los datos\n",
        "2. Visualización previa\n",
        "3. Análisis estadístico\n",
        "4. Preprocesamiento de los datos (Filtrar, normalizar, acomodar)\n",
        "5. Análisis profundo (Machine learning). \n",
        "  * Estructura o modelo \n",
        "  * Validación\n",
        "  * Experimentación y resultados  \n"
      ]
    },
    {
      "cell_type": "markdown",
      "metadata": {
        "id": "E1wpMtPi-1lk"
      },
      "source": [
        "Python tiene múltiples librerías para el desarrollo de esta metodología y también varía el modo de análisis dependiendo de lo que se necesite. En esta clase vamos a ver nuevamente el ejemplo anterior. Pero analizaremos otra librería gráfica bastante popular que se llama [Plotly](https://plotly.com/python/plotly-fundamentals/). \n",
        "\n",
        "Plotly es una librería gráfica que además cuenta con un framework de interfaz web, y que permite programar directamente aplicaciones en python. \n",
        "\n",
        "En esta clase no veremos la parte de la programación web, pero estudiaremos cómo son los fundamentos básicos para realizar gráficas más realistas en Python. "
      ]
    },
    {
      "cell_type": "markdown",
      "metadata": {
        "id": "M3Etc2KvABjh"
      },
      "source": [
        "## **DataFrame**\n",
        "\n",
        "Como vimos la clase pasada, el primer paso o step del análisis de datos es obtener un `DataFrame` o al que hemos llamado como **tabla** para fines prácticos. El `DataFrame` es un objeto de la librería pandas, que para realizar una analogía sería similar a los diccionarios o a los arrays de numpy, es decir es una estructura de datos que se representa mediante filas y columnas (Básicamente).\n",
        "\n",
        "Entonces para utilizar tablas en python tenemos que: \n",
        "\n",
        "1. Importar la librería pandas\n",
        "\n",
        "`import pandas as pd`\n",
        "\n",
        "2. Extraer el archivo a analizar : Nosotros estamos trabajando con esta [data](https://www.kaggle.com/spscientist/students-performance-in-exams)\n",
        "\n",
        "`df_estudiantes = pd.read_csv(\"/file.csv\")`"
      ]
    },
    {
      "cell_type": "code",
      "metadata": {
        "id": "BQD26pgQ9mVE"
      },
      "source": [
        "import pandas as pd\n",
        "df_estudiantes = pd.read_csv(\"/content/drive/MyDrive/archivos_python/StudentsPerformance.csv\")"
      ],
      "execution_count": 1,
      "outputs": []
    },
    {
      "cell_type": "markdown",
      "metadata": {
        "id": "FUVqIvL0Burd"
      },
      "source": [
        "Ahora vamos a usar plotly para hacer una figura de una tabla, y esto dará una visualización más interante del escenario. \n",
        "\n",
        "1. Importar plotly \n",
        "\n",
        "`import plotly.graph_objects` as go\n",
        "\n",
        "2. Crear una figura en plotly\n",
        "\n",
        "`fig = go.Figure(data = go.Table( header:dict(values=list(df.columns)), \n",
        "cells: dict(values=[df[\"col1\"], df[\"col2\"]...]))\n",
        "`\n",
        "3. Mostrarlo\n",
        "\n",
        "`fig.show()`"
      ]
    },
    {
      "cell_type": "code",
      "metadata": {
        "colab": {
          "base_uri": "https://localhost:8080/",
          "height": 199
        },
        "id": "rkX1iTfCFi_F",
        "outputId": "aa6887b6-fde3-4906-ef88-d3289dc721c8"
      },
      "source": [
        "df_estudiantes.head()"
      ],
      "execution_count": 4,
      "outputs": [
        {
          "output_type": "execute_result",
          "data": {
            "text/html": [
              "<div>\n",
              "<style scoped>\n",
              "    .dataframe tbody tr th:only-of-type {\n",
              "        vertical-align: middle;\n",
              "    }\n",
              "\n",
              "    .dataframe tbody tr th {\n",
              "        vertical-align: top;\n",
              "    }\n",
              "\n",
              "    .dataframe thead th {\n",
              "        text-align: right;\n",
              "    }\n",
              "</style>\n",
              "<table border=\"1\" class=\"dataframe\">\n",
              "  <thead>\n",
              "    <tr style=\"text-align: right;\">\n",
              "      <th></th>\n",
              "      <th>gender</th>\n",
              "      <th>race/ethnicity</th>\n",
              "      <th>parental level of education</th>\n",
              "      <th>lunch</th>\n",
              "      <th>test preparation course</th>\n",
              "      <th>math score</th>\n",
              "      <th>reading score</th>\n",
              "      <th>writing score</th>\n",
              "    </tr>\n",
              "  </thead>\n",
              "  <tbody>\n",
              "    <tr>\n",
              "      <th>0</th>\n",
              "      <td>female</td>\n",
              "      <td>group B</td>\n",
              "      <td>bachelor's degree</td>\n",
              "      <td>standard</td>\n",
              "      <td>none</td>\n",
              "      <td>72</td>\n",
              "      <td>72</td>\n",
              "      <td>74</td>\n",
              "    </tr>\n",
              "    <tr>\n",
              "      <th>1</th>\n",
              "      <td>female</td>\n",
              "      <td>group C</td>\n",
              "      <td>some college</td>\n",
              "      <td>standard</td>\n",
              "      <td>completed</td>\n",
              "      <td>69</td>\n",
              "      <td>90</td>\n",
              "      <td>88</td>\n",
              "    </tr>\n",
              "    <tr>\n",
              "      <th>2</th>\n",
              "      <td>female</td>\n",
              "      <td>group B</td>\n",
              "      <td>master's degree</td>\n",
              "      <td>standard</td>\n",
              "      <td>none</td>\n",
              "      <td>90</td>\n",
              "      <td>95</td>\n",
              "      <td>93</td>\n",
              "    </tr>\n",
              "    <tr>\n",
              "      <th>3</th>\n",
              "      <td>male</td>\n",
              "      <td>group A</td>\n",
              "      <td>associate's degree</td>\n",
              "      <td>free/reduced</td>\n",
              "      <td>none</td>\n",
              "      <td>47</td>\n",
              "      <td>57</td>\n",
              "      <td>44</td>\n",
              "    </tr>\n",
              "    <tr>\n",
              "      <th>4</th>\n",
              "      <td>male</td>\n",
              "      <td>group C</td>\n",
              "      <td>some college</td>\n",
              "      <td>standard</td>\n",
              "      <td>none</td>\n",
              "      <td>76</td>\n",
              "      <td>78</td>\n",
              "      <td>75</td>\n",
              "    </tr>\n",
              "  </tbody>\n",
              "</table>\n",
              "</div>"
            ],
            "text/plain": [
              "   gender race/ethnicity  ... reading score writing score\n",
              "0  female        group B  ...            72            74\n",
              "1  female        group C  ...            90            88\n",
              "2  female        group B  ...            95            93\n",
              "3    male        group A  ...            57            44\n",
              "4    male        group C  ...            78            75\n",
              "\n",
              "[5 rows x 8 columns]"
            ]
          },
          "metadata": {
            "tags": []
          },
          "execution_count": 4
        }
      ]
    },
    {
      "cell_type": "code",
      "metadata": {
        "id": "ZTmQJoimB4Ry"
      },
      "source": [
        "import plotly.graph_objects as go"
      ],
      "execution_count": 3,
      "outputs": []
    },
    {
      "cell_type": "code",
      "metadata": {
        "colab": {
          "base_uri": "https://localhost:8080/"
        },
        "id": "6LAZWKj-GCfb",
        "outputId": "53c09ca0-f05e-46c5-8c69-02c9148c03a8"
      },
      "source": [
        "print(type(df_estudiantes.columns[0]))"
      ],
      "execution_count": 7,
      "outputs": [
        {
          "output_type": "stream",
          "text": [
            "<class 'str'>\n"
          ],
          "name": "stdout"
        }
      ]
    },
    {
      "cell_type": "code",
      "metadata": {
        "id": "qn3IgChgE-dp"
      },
      "source": [
        "\n",
        "def rows(df):\n",
        "  A = []\n",
        "  for i in df_estudiantes.columns:\n",
        "    value = df_estudiantes[i]\n",
        "    A.append(value)\n",
        "  return A\n"
      ],
      "execution_count": 21,
      "outputs": []
    },
    {
      "cell_type": "code",
      "metadata": {
        "colab": {
          "base_uri": "https://localhost:8080/",
          "height": 542
        },
        "id": "8LNxba0JGi78",
        "outputId": "11b1b82e-0dcc-47ea-fef2-e0400c5814f7"
      },
      "source": [
        "A = rows(df_estudiantes)\n",
        "tabla = go.Table(header = dict(values = list(df_estudiantes.columns), align = 'left'),\n",
        "               cells = dict(values = A, align = 'left'))\n",
        "fig = go.Figure(data = [tabla])\n",
        "fig.show()"
      ],
      "execution_count": 22,
      "outputs": [
        {
          "output_type": "display_data",
          "data": {
            "text/html": [
              "<html>\n",
              "<head><meta charset=\"utf-8\" /></head>\n",
              "<body>\n",
              "    <div>\n",
              "            <script src=\"https://cdnjs.cloudflare.com/ajax/libs/mathjax/2.7.5/MathJax.js?config=TeX-AMS-MML_SVG\"></script><script type=\"text/javascript\">if (window.MathJax) {MathJax.Hub.Config({SVG: {font: \"STIX-Web\"}});}</script>\n",
              "                <script type=\"text/javascript\">window.PlotlyConfig = {MathJaxConfig: 'local'};</script>\n",
              "        <script src=\"https://cdn.plot.ly/plotly-latest.min.js\"></script>    \n",
              "            <div id=\"9114870f-1b5d-4be6-ab10-43d71597bb59\" class=\"plotly-graph-div\" style=\"height:525px; width:100%;\"></div>\n",
              "            <script type=\"text/javascript\">\n",
              "                \n",
              "                    window.PLOTLYENV=window.PLOTLYENV || {};\n",
              "                    \n",
              "                if (document.getElementById(\"9114870f-1b5d-4be6-ab10-43d71597bb59\")) {\n",
              "                    Plotly.newPlot(\n",
              "                        '9114870f-1b5d-4be6-ab10-43d71597bb59',\n",
              "                        [{\"cells\": {\"align\": \"left\", \"values\": [[\"female\", \"female\", \"female\", \"male\", \"male\", \"female\", \"female\", \"male\", \"male\", \"female\", \"male\", \"male\", \"female\", \"male\", \"female\", \"female\", \"male\", \"female\", \"male\", \"female\", \"male\", \"female\", \"male\", \"female\", \"male\", \"male\", \"male\", \"female\", \"male\", \"female\", \"female\", \"female\", \"female\", \"male\", \"male\", \"male\", \"female\", \"female\", \"female\", \"male\", \"male\", \"female\", \"female\", \"male\", \"female\", \"male\", \"female\", \"female\", \"female\", \"male\", \"male\", \"male\", \"male\", \"male\", \"female\", \"female\", \"female\", \"male\", \"male\", \"female\", \"male\", \"male\", \"male\", \"female\", \"female\", \"male\", \"male\", \"female\", \"male\", \"female\", \"female\", \"male\", \"female\", \"male\", \"male\", \"male\", \"male\", \"male\", \"female\", \"female\", \"female\", \"male\", \"male\", \"male\", \"male\", \"female\", \"female\", \"female\", \"female\", \"female\", \"female\", \"male\", \"male\", \"male\", \"female\", \"male\", \"male\", \"female\", \"female\", \"female\", \"male\", \"male\", \"female\", \"male\", \"male\", \"female\", \"female\", \"male\", \"female\", \"female\", \"female\", \"male\", \"male\", \"female\", \"female\", \"male\", \"female\", \"female\", \"female\", \"female\", \"female\", \"male\", \"female\", \"male\", \"male\", \"female\", \"male\", \"male\", \"male\", \"female\", \"male\", \"male\", \"male\", \"female\", \"male\", \"male\", \"male\", \"male\", \"female\", \"male\", \"female\", \"female\", \"female\", \"male\", \"male\", \"female\", \"male\", \"male\", \"female\", \"male\", \"male\", \"male\", \"female\", \"male\", \"male\", \"female\", \"female\", \"male\", \"female\", \"male\", \"male\", \"female\", \"male\", \"male\", \"female\", \"female\", \"male\", \"female\", \"female\", \"female\", \"male\", \"male\", \"female\", \"female\", \"female\", \"female\", \"female\", \"female\", \"female\", \"female\", \"male\", \"female\", \"female\", \"female\", \"male\", \"male\", \"male\", \"male\", \"male\", \"female\", \"female\", \"male\", \"female\", \"male\", \"female\", \"male\", \"male\", \"male\", \"female\", \"female\", \"female\", \"female\", \"male\", \"female\", \"male\", \"male\", \"male\", \"male\", \"female\", \"female\", \"male\", \"male\", \"female\", \"male\", \"male\", \"male\", \"female\", \"female\", \"male\", \"male\", \"female\", \"male\", \"female\", \"male\", \"female\", \"female\", \"female\", \"male\", \"male\", \"female\", \"male\", \"male\", \"female\", \"male\", \"male\", \"male\", \"male\", \"female\", \"male\", \"male\", \"male\", \"female\", \"female\", \"male\", \"male\", \"male\", \"male\", \"female\", \"female\", \"male\", \"male\", \"female\", \"female\", \"male\", \"male\", \"female\", \"female\", \"male\", \"female\", \"female\", \"female\", \"male\", \"female\", \"female\", \"male\", \"male\", \"female\", \"female\", \"female\", \"female\", \"male\", \"male\", \"female\", \"female\", \"male\", \"male\", \"female\", \"female\", \"female\", \"male\", \"male\", \"male\", \"female\", \"female\", \"female\", \"male\", \"male\", \"female\", \"male\", \"male\", \"male\", \"male\", \"male\", \"female\", \"male\", \"male\", \"male\", \"male\", \"male\", \"male\", \"male\", \"male\", \"female\", \"male\", \"female\", \"male\", \"male\", \"male\", \"female\", \"female\", \"female\", \"male\", \"male\", \"female\", \"female\", \"male\", \"female\", \"male\", \"male\", \"female\", \"female\", \"female\", \"female\", \"female\", \"female\", \"female\", \"male\", \"male\", \"male\", \"female\", \"male\", \"male\", \"male\", \"male\", \"female\", \"female\", \"male\", \"male\", \"female\", \"female\", \"male\", \"female\", \"female\", \"male\", \"male\", \"female\", \"male\", \"female\", \"male\", \"male\", \"female\", \"male\", \"female\", \"female\", \"female\", \"female\", \"male\", \"female\", \"male\", \"female\", \"female\", \"male\", \"female\", \"female\", \"male\", \"male\", \"male\", \"male\", \"female\", \"female\", \"male\", \"female\", \"male\", \"female\", \"female\", \"male\", \"female\", \"female\", \"female\", \"male\", \"female\", \"male\", \"male\", \"female\", \"female\", \"female\", \"female\", \"female\", \"female\", \"male\", \"male\", \"female\", \"male\", \"male\", \"female\", \"male\", \"female\", \"female\", \"male\", \"male\", \"female\", \"male\", \"female\", \"female\", \"female\", \"female\", \"male\", \"female\", \"female\", \"male\", \"female\", \"male\", \"male\", \"male\", \"female\", \"male\", \"male\", \"male\", \"male\", \"male\", \"female\", \"female\", \"female\", \"female\", \"male\", \"female\", \"male\", \"male\", \"male\", \"male\", \"male\", \"female\", \"male\", \"female\", \"male\", \"male\", \"male\", \"male\", \"male\", \"male\", \"female\", \"female\", \"female\", \"female\", \"male\", \"female\", \"male\", \"male\", \"male\", \"male\", \"female\", \"female\", \"female\", \"male\", \"female\", \"male\", \"female\", \"male\", \"female\", \"male\", \"male\", \"male\", \"female\", \"female\", \"male\", \"female\", \"female\", \"male\", \"female\", \"male\", \"female\", \"female\", \"female\", \"female\", \"female\", \"female\", \"male\", \"male\", \"female\", \"male\", \"male\", \"female\", \"male\", \"male\", \"female\", \"male\", \"male\", \"female\", \"male\", \"male\", \"female\", \"female\", \"female\", \"female\", \"female\", \"male\", \"female\", \"female\", \"female\", \"male\", \"female\", \"female\", \"male\", \"female\", \"female\", \"female\", \"male\", \"male\", \"male\", \"female\", \"male\", \"male\", \"male\", \"female\", \"female\", \"female\", \"female\", \"female\", \"female\", \"female\", \"male\", \"female\", \"male\", \"male\", \"male\", \"male\", \"male\", \"female\", \"female\", \"female\", \"female\", \"female\", \"male\", \"female\", \"male\", \"female\", \"male\", \"female\", \"male\", \"male\", \"male\", \"male\", \"female\", \"female\", \"female\", \"male\", \"female\", \"male\", \"female\", \"male\", \"male\", \"male\", \"female\", \"male\", \"male\", \"female\", \"female\", \"male\", \"female\", \"male\", \"female\", \"female\", \"male\", \"female\", \"male\", \"male\", \"female\", \"female\", \"male\", \"male\", \"male\", \"male\", \"female\", \"female\", \"female\", \"male\", \"male\", \"female\", \"female\", \"female\", \"female\", \"female\", \"female\", \"female\", \"female\", \"female\", \"female\", \"female\", \"female\", \"female\", \"male\", \"male\", \"male\", \"female\", \"female\", \"female\", \"male\", \"male\", \"female\", \"female\", \"female\", \"female\", \"female\", \"male\", \"male\", \"male\", \"female\", \"female\", \"female\", \"female\", \"male\", \"female\", \"male\", \"female\", \"female\", \"female\", \"female\", \"male\", \"male\", \"male\", \"female\", \"male\", \"male\", \"male\", \"female\", \"male\", \"male\", \"male\", \"male\", \"female\", \"male\", \"male\", \"female\", \"female\", \"male\", \"male\", \"female\", \"female\", \"male\", \"female\", \"male\", \"female\", \"female\", \"female\", \"male\", \"female\", \"female\", \"female\", \"female\", \"female\", \"male\", \"female\", \"female\", \"female\", \"female\", \"female\", \"male\", \"male\", \"female\", \"male\", \"male\", \"male\", \"female\", \"female\", \"male\", \"female\", \"female\", \"female\", \"male\", \"male\", \"female\", \"male\", \"female\", \"female\", \"female\", \"female\", \"female\", \"female\", \"male\", \"male\", \"female\", \"male\", \"male\", \"female\", \"male\", \"female\", \"male\", \"male\", \"male\", \"male\", \"female\", \"female\", \"female\", \"female\", \"female\", \"female\", \"female\", \"female\", \"female\", \"male\", \"female\", \"female\", \"male\", \"female\", \"female\", \"male\", \"male\", \"male\", \"male\", \"female\", \"male\", \"female\", \"female\", \"male\", \"female\", \"female\", \"male\", \"female\", \"female\", \"male\", \"female\", \"male\", \"female\", \"male\", \"male\", \"male\", \"female\", \"male\", \"female\", \"male\", \"female\", \"male\", \"female\", \"male\", \"female\", \"male\", \"male\", \"female\", \"male\", \"male\", \"male\", \"female\", \"female\", \"female\", \"male\", \"male\", \"male\", \"male\", \"female\", \"male\", \"male\", \"male\", \"male\", \"female\", \"male\", \"female\", \"male\", \"male\", \"female\", \"male\", \"female\", \"female\", \"male\", \"female\", \"male\", \"female\", \"female\", \"male\", \"female\", \"male\", \"male\", \"male\", \"female\", \"female\", \"male\", \"female\", \"female\", \"female\", \"female\", \"male\", \"female\", \"female\", \"female\", \"female\", \"male\", \"female\", \"female\", \"female\", \"male\", \"female\", \"female\", \"female\", \"male\", \"male\", \"female\", \"female\", \"male\", \"female\", \"male\", \"female\", \"male\", \"male\", \"female\", \"female\", \"female\", \"male\", \"female\", \"female\", \"male\", \"male\", \"male\", \"male\", \"female\", \"male\", \"female\", \"male\", \"female\", \"male\", \"female\", \"female\", \"female\", \"female\", \"male\", \"female\", \"female\", \"male\", \"female\", \"female\", \"female\", \"male\", \"female\", \"female\", \"male\", \"female\", \"male\", \"female\", \"male\", \"female\", \"male\", \"female\", \"female\", \"male\", \"female\", \"male\", \"female\", \"male\", \"male\", \"male\", \"female\", \"male\", \"male\", \"female\", \"female\", \"male\", \"male\", \"female\", \"male\", \"female\", \"male\", \"male\", \"female\", \"female\", \"male\", \"female\", \"male\", \"male\", \"male\", \"male\", \"male\", \"male\", \"male\", \"female\", \"male\", \"male\", \"female\", \"male\", \"male\", \"male\", \"female\", \"female\", \"male\", \"female\", \"female\", \"male\", \"female\", \"female\", \"female\", \"male\", \"female\", \"male\", \"female\", \"female\", \"female\", \"male\", \"female\", \"female\", \"male\", \"female\", \"male\", \"female\", \"male\", \"female\", \"female\", \"female\", \"female\", \"male\", \"male\", \"female\", \"female\", \"male\", \"male\", \"female\", \"female\", \"female\", \"female\", \"female\", \"male\", \"female\", \"female\", \"male\", \"male\", \"female\", \"male\", \"female\", \"male\", \"male\", \"male\", \"female\", \"male\", \"female\", \"male\", \"male\", \"male\", \"male\", \"male\", \"male\", \"male\", \"female\", \"male\", \"male\", \"male\", \"female\", \"male\", \"male\", \"female\", \"female\", \"male\", \"female\", \"male\", \"female\", \"male\", \"female\", \"female\", \"male\", \"female\", \"male\", \"male\", \"female\", \"female\", \"male\", \"female\", \"female\", \"female\", \"female\", \"male\", \"female\", \"male\", \"male\", \"female\", \"female\", \"female\", \"male\", \"female\", \"female\", \"female\", \"female\", \"male\", \"male\", \"male\", \"female\", \"female\", \"male\", \"male\", \"female\", \"female\", \"male\", \"female\", \"male\", \"female\", \"female\", \"male\", \"female\", \"female\", \"female\", \"male\", \"female\", \"male\", \"female\", \"female\", \"female\"], [\"group B\", \"group C\", \"group B\", \"group A\", \"group C\", \"group B\", \"group B\", \"group B\", \"group D\", \"group B\", \"group C\", \"group D\", \"group B\", \"group A\", \"group A\", \"group C\", \"group C\", \"group B\", \"group C\", \"group C\", \"group D\", \"group B\", \"group D\", \"group C\", \"group D\", \"group A\", \"group B\", \"group C\", \"group C\", \"group D\", \"group D\", \"group B\", \"group E\", \"group D\", \"group E\", \"group E\", \"group D\", \"group D\", \"group D\", \"group B\", \"group C\", \"group C\", \"group B\", \"group B\", \"group E\", \"group B\", \"group A\", \"group C\", \"group D\", \"group C\", \"group E\", \"group E\", \"group C\", \"group D\", \"group C\", \"group C\", \"group E\", \"group D\", \"group D\", \"group C\", \"group E\", \"group A\", \"group A\", \"group C\", \"group D\", \"group B\", \"group D\", \"group C\", \"group B\", \"group C\", \"group D\", \"group D\", \"group A\", \"group C\", \"group C\", \"group B\", \"group E\", \"group A\", \"group D\", \"group E\", \"group B\", \"group B\", \"group A\", \"group E\", \"group D\", \"group C\", \"group C\", \"group D\", \"group A\", \"group D\", \"group C\", \"group C\", \"group C\", \"group C\", \"group B\", \"group C\", \"group B\", \"group E\", \"group D\", \"group D\", \"group B\", \"group D\", \"group D\", \"group B\", \"group C\", \"group C\", \"group D\", \"group E\", \"group B\", \"group B\", \"group D\", \"group C\", \"group A\", \"group D\", \"group E\", \"group C\", \"group B\", \"group D\", \"group D\", \"group C\", \"group C\", \"group B\", \"group C\", \"group D\", \"group E\", \"group B\", \"group B\", \"group D\", \"group D\", \"group A\", \"group D\", \"group C\", \"group E\", \"group C\", \"group D\", \"group C\", \"group B\", \"group E\", \"group C\", \"group D\", \"group D\", \"group C\", \"group E\", \"group A\", \"group D\", \"group C\", \"group B\", \"group C\", \"group D\", \"group E\", \"group A\", \"group A\", \"group B\", \"group D\", \"group D\", \"group C\", \"group E\", \"group B\", \"group B\", \"group D\", \"group B\", \"group E\", \"group B\", \"group C\", \"group E\", \"group C\", \"group C\", \"group B\", \"group B\", \"group C\", \"group A\", \"group E\", \"group D\", \"group C\", \"group C\", \"group C\", \"group B\", \"group C\", \"group B\", \"group D\", \"group C\", \"group C\", \"group E\", \"group D\", \"group C\", \"group C\", \"group E\", \"group D\", \"group B\", \"group C\", \"group E\", \"group D\", \"group B\", \"group D\", \"group C\", \"group D\", \"group C\", \"group E\", \"group B\", \"group B\", \"group C\", \"group D\", \"group C\", \"group B\", \"group C\", \"group D\", \"group E\", \"group E\", \"group B\", \"group B\", \"group D\", \"group C\", \"group C\", \"group C\", \"group E\", \"group B\", \"group E\", \"group C\", \"group B\", \"group B\", \"group D\", \"group B\", \"group C\", \"group D\", \"group B\", \"group E\", \"group C\", \"group D\", \"group A\", \"group C\", \"group D\", \"group C\", \"group B\", \"group E\", \"group C\", \"group D\", \"group D\", \"group D\", \"group B\", \"group C\", \"group D\", \"group E\", \"group D\", \"group E\", \"group D\", \"group C\", \"group E\", \"group B\", \"group B\", \"group C\", \"group A\", \"group D\", \"group B\", \"group D\", \"group D\", \"group E\", \"group C\", \"group C\", \"group B\", \"group C\", \"group C\", \"group C\", \"group C\", \"group E\", \"group D\", \"group D\", \"group C\", \"group D\", \"group D\", \"group E\", \"group C\", \"group C\", \"group D\", \"group D\", \"group B\", \"group C\", \"group C\", \"group E\", \"group C\", \"group B\", \"group D\", \"group D\", \"group D\", \"group D\", \"group B\", \"group B\", \"group E\", \"group B\", \"group B\", \"group E\", \"group C\", \"group D\", \"group C\", \"group E\", \"group D\", \"group B\", \"group A\", \"group E\", \"group C\", \"group D\", \"group A\", \"group D\", \"group C\", \"group B\", \"group C\", \"group A\", \"group E\", \"group C\", \"group B\", \"group D\", \"group B\", \"group B\", \"group D\", \"group C\", \"group C\", \"group C\", \"group D\", \"group C\", \"group B\", \"group D\", \"group C\", \"group E\", \"group C\", \"group C\", \"group C\", \"group C\", \"group C\", \"group A\", \"group C\", \"group B\", \"group C\", \"group C\", \"group E\", \"group B\", \"group C\", \"group B\", \"group D\", \"group C\", \"group B\", \"group D\", \"group C\", \"group C\", \"group B\", \"group D\", \"group D\", \"group C\", \"group B\", \"group C\", \"group D\", \"group E\", \"group B\", \"group E\", \"group C\", \"group C\", \"group C\", \"group B\", \"group A\", \"group C\", \"group D\", \"group D\", \"group B\", \"group B\", \"group C\", \"group D\", \"group C\", \"group A\", \"group C\", \"group C\", \"group A\", \"group D\", \"group E\", \"group C\", \"group D\", \"group D\", \"group D\", \"group E\", \"group D\", \"group D\", \"group A\", \"group A\", \"group B\", \"group C\", \"group C\", \"group E\", \"group A\", \"group E\", \"group E\", \"group C\", \"group D\", \"group D\", \"group E\", \"group D\", \"group E\", \"group C\", \"group C\", \"group A\", \"group B\", \"group C\", \"group B\", \"group D\", \"group C\", \"group A\", \"group A\", \"group D\", \"group C\", \"group C\", \"group B\", \"group B\", \"group D\", \"group D\", \"group D\", \"group E\", \"group D\", \"group B\", \"group C\", \"group E\", \"group C\", \"group C\", \"group D\", \"group E\", \"group C\", \"group D\", \"group D\", \"group A\", \"group B\", \"group C\", \"group C\", \"group C\", \"group A\", \"group C\", \"group C\", \"group C\", \"group C\", \"group A\", \"group C\", \"group C\", \"group D\", \"group D\", \"group C\", \"group D\", \"group C\", \"group D\", \"group A\", \"group B\", \"group A\", \"group C\", \"group D\", \"group C\", \"group B\", \"group B\", \"group C\", \"group E\", \"group C\", \"group C\", \"group C\", \"group C\", \"group D\", \"group D\", \"group E\", \"group B\", \"group C\", \"group B\", \"group E\", \"group C\", \"group A\", \"group C\", \"group D\", \"group A\", \"group A\", \"group C\", \"group C\", \"group C\", \"group C\", \"group D\", \"group B\", \"group D\", \"group E\", \"group D\", \"group D\", \"group E\", \"group B\", \"group D\", \"group C\", \"group A\", \"group B\", \"group C\", \"group D\", \"group C\", \"group B\", \"group A\", \"group A\", \"group C\", \"group C\", \"group C\", \"group B\", \"group D\", \"group C\", \"group D\", \"group B\", \"group E\", \"group D\", \"group B\", \"group C\", \"group E\", \"group D\", \"group B\", \"group A\", \"group B\", \"group C\", \"group C\", \"group D\", \"group A\", \"group D\", \"group B\", \"group B\", \"group C\", \"group D\", \"group E\", \"group D\", \"group B\", \"group D\", \"group C\", \"group D\", \"group C\", \"group C\", \"group E\", \"group C\", \"group C\", \"group D\", \"group C\", \"group C\", \"group C\", \"group E\", \"group E\", \"group B\", \"group C\", \"group C\", \"group D\", \"group E\", \"group A\", \"group C\", \"group D\", \"group C\", \"group D\", \"group D\", \"group E\", \"group A\", \"group C\", \"group C\", \"group C\", \"group C\", \"group B\", \"group B\", \"group D\", \"group E\", \"group C\", \"group C\", \"group C\", \"group B\", \"group D\", \"group D\", \"group C\", \"group C\", \"group D\", \"group B\", \"group B\", \"group E\", \"group D\", \"group B\", \"group D\", \"group B\", \"group A\", \"group C\", \"group C\", \"group E\", \"group A\", \"group A\", \"group B\", \"group B\", \"group D\", \"group D\", \"group E\", \"group D\", \"group D\", \"group D\", \"group C\", \"group A\", \"group C\", \"group C\", \"group A\", \"group C\", \"group A\", \"group E\", \"group E\", \"group C\", \"group C\", \"group B\", \"group A\", \"group D\", \"group D\", \"group D\", \"group C\", \"group E\", \"group D\", \"group D\", \"group C\", \"group C\", \"group C\", \"group E\", \"group B\", \"group D\", \"group C\", \"group C\", \"group C\", \"group A\", \"group C\", \"group E\", \"group D\", \"group D\", \"group C\", \"group C\", \"group B\", \"group C\", \"group A\", \"group E\", \"group D\", \"group B\", \"group D\", \"group D\", \"group C\", \"group D\", \"group B\", \"group B\", \"group C\", \"group D\", \"group A\", \"group B\", \"group D\", \"group E\", \"group D\", \"group D\", \"group D\", \"group B\", \"group E\", \"group B\", \"group B\", \"group D\", \"group E\", \"group B\", \"group D\", \"group C\", \"group A\", \"group D\", \"group A\", \"group B\", \"group B\", \"group C\", \"group D\", \"group D\", \"group D\", \"group C\", \"group C\", \"group D\", \"group C\", \"group D\", \"group C\", \"group C\", \"group B\", \"group C\", \"group D\", \"group C\", \"group D\", \"group C\", \"group C\", \"group D\", \"group B\", \"group E\", \"group C\", \"group D\", \"group D\", \"group D\", \"group B\", \"group B\", \"group C\", \"group B\", \"group E\", \"group E\", \"group D\", \"group A\", \"group E\", \"group C\", \"group E\", \"group C\", \"group D\", \"group C\", \"group D\", \"group C\", \"group A\", \"group D\", \"group C\", \"group E\", \"group B\", \"group A\", \"group D\", \"group B\", \"group A\", \"group D\", \"group C\", \"group D\", \"group D\", \"group C\", \"group E\", \"group D\", \"group D\", \"group B\", \"group B\", \"group C\", \"group C\", \"group C\", \"group E\", \"group C\", \"group D\", \"group B\", \"group C\", \"group B\", \"group E\", \"group E\", \"group E\", \"group D\", \"group C\", \"group B\", \"group A\", \"group C\", \"group D\", \"group E\", \"group C\", \"group C\", \"group B\", \"group D\", \"group C\", \"group D\", \"group A\", \"group C\", \"group C\", \"group B\", \"group D\", \"group D\", \"group C\", \"group C\", \"group B\", \"group D\", \"group E\", \"group C\", \"group C\", \"group C\", \"group E\", \"group D\", \"group E\", \"group D\", \"group B\", \"group C\", \"group D\", \"group D\", \"group B\", \"group D\", \"group B\", \"group C\", \"group B\", \"group D\", \"group A\", \"group B\", \"group D\", \"group B\", \"group C\", \"group B\", \"group B\", \"group B\", \"group C\", \"group A\", \"group E\", \"group D\", \"group B\", \"group B\", \"group C\", \"group C\", \"group B\", \"group E\", \"group B\", \"group C\", \"group C\", \"group B\", \"group D\", \"group D\", \"group E\", \"group B\", \"group E\", \"group D\", \"group E\", \"group E\", \"group C\", \"group C\", \"group C\", \"group E\", \"group B\", \"group C\", \"group A\", \"group D\", \"group E\", \"group C\", \"group B\", \"group A\", \"group A\", \"group C\", \"group E\", \"group C\", \"group B\", \"group A\", \"group D\", \"group B\", \"group C\", \"group A\", \"group D\", \"group E\", \"group B\", \"group C\", \"group C\", \"group C\", \"group C\", \"group D\", \"group B\", \"group A\", \"group C\", \"group A\", \"group B\", \"group B\", \"group C\", \"group E\", \"group A\", \"group B\", \"group C\", \"group D\", \"group C\", \"group B\", \"group B\", \"group D\", \"group E\", \"group C\", \"group D\", \"group C\", \"group D\", \"group C\", \"group A\", \"group E\", \"group E\", \"group C\", \"group B\", \"group B\", \"group C\", \"group B\", \"group C\", \"group C\", \"group E\", \"group D\", \"group C\", \"group C\", \"group D\", \"group C\", \"group B\", \"group E\", \"group C\", \"group B\", \"group C\", \"group B\", \"group E\", \"group C\", \"group C\", \"group D\", \"group C\", \"group D\", \"group D\", \"group C\", \"group E\", \"group B\", \"group D\", \"group E\", \"group C\", \"group E\", \"group C\", \"group D\", \"group D\", \"group E\", \"group E\", \"group A\", \"group D\", \"group E\", \"group E\", \"group B\", \"group B\", \"group D\", \"group D\", \"group D\", \"group C\", \"group A\", \"group D\", \"group D\", \"group D\", \"group B\", \"group D\", \"group C\", \"group E\", \"group D\", \"group A\", \"group C\", \"group C\", \"group B\", \"group E\", \"group E\", \"group C\", \"group C\", \"group B\", \"group D\", \"group C\", \"group D\", \"group B\", \"group D\", \"group E\", \"group E\", \"group D\", \"group E\", \"group C\", \"group C\", \"group D\", \"group D\", \"group C\", \"group C\", \"group D\", \"group A\", \"group E\", \"group D\", \"group D\", \"group C\", \"group D\", \"group C\", \"group A\", \"group B\", \"group C\", \"group B\", \"group D\", \"group B\", \"group E\", \"group E\", \"group D\", \"group E\", \"group C\", \"group C\", \"group E\", \"group C\", \"group D\", \"group D\", \"group C\", \"group A\", \"group D\", \"group E\", \"group C\", \"group D\", \"group D\", \"group A\", \"group C\", \"group E\", \"group B\", \"group D\", \"group C\", \"group A\", \"group D\", \"group A\", \"group C\", \"group B\", \"group C\", \"group D\", \"group C\", \"group B\", \"group D\", \"group B\", \"group A\", \"group C\", \"group A\", \"group C\", \"group E\", \"group A\", \"group D\", \"group E\", \"group B\", \"group D\", \"group D\", \"group A\", \"group E\", \"group C\", \"group C\", \"group D\", \"group D\"], [\"bachelor's degree\", \"some college\", \"master's degree\", \"associate's degree\", \"some college\", \"associate's degree\", \"some college\", \"some college\", \"high school\", \"high school\", \"associate's degree\", \"associate's degree\", \"high school\", \"some college\", \"master's degree\", \"some high school\", \"high school\", \"some high school\", \"master's degree\", \"associate's degree\", \"high school\", \"some college\", \"some college\", \"some high school\", \"bachelor's degree\", \"master's degree\", \"some college\", \"bachelor's degree\", \"high school\", \"master's degree\", \"some college\", \"some college\", \"master's degree\", \"some college\", \"some college\", \"associate's degree\", \"associate's degree\", \"some high school\", \"associate's degree\", \"associate's degree\", \"associate's degree\", \"associate's degree\", \"associate's degree\", \"some college\", \"associate's degree\", \"associate's degree\", \"associate's degree\", \"high school\", \"associate's degree\", \"high school\", \"some college\", \"associate's degree\", \"some college\", \"high school\", \"some high school\", \"high school\", \"associate's degree\", \"associate's degree\", \"some college\", \"some high school\", \"bachelor's degree\", \"some high school\", \"associate's degree\", \"associate's degree\", \"some high school\", \"some high school\", \"some high school\", \"some college\", \"associate's degree\", \"associate's degree\", \"some college\", \"some college\", \"associate's degree\", \"some high school\", \"some high school\", \"associate's degree\", \"some high school\", \"bachelor's degree\", \"some high school\", \"master's degree\", \"associate's degree\", \"high school\", \"some college\", \"associate's degree\", \"high school\", \"some college\", \"some college\", \"associate's degree\", \"some college\", \"some high school\", \"bachelor's degree\", \"high school\", \"high school\", \"associate's degree\", \"some college\", \"associate's degree\", \"some high school\", \"some college\", \"some college\", \"bachelor's degree\", \"some college\", \"bachelor's degree\", \"associate's degree\", \"high school\", \"some college\", \"some college\", \"master's degree\", \"associate's degree\", \"associate's degree\", \"some high school\", \"associate's degree\", \"high school\", \"associate's degree\", \"some college\", \"bachelor's degree\", \"high school\", \"bachelor's degree\", \"bachelor's degree\", \"some high school\", \"some college\", \"bachelor's degree\", \"associate's degree\", \"some college\", \"high school\", \"some college\", \"high school\", \"some high school\", \"some college\", \"master's degree\", \"bachelor's degree\", \"master's degree\", \"some high school\", \"some college\", \"some college\", \"bachelor's degree\", \"bachelor's degree\", \"some high school\", \"high school\", \"associate's degree\", \"some college\", \"some high school\", \"some college\", \"some college\", \"high school\", \"some college\", \"some college\", \"some high school\", \"associate's degree\", \"bachelor's degree\", \"associate's degree\", \"some high school\", \"bachelor's degree\", \"associate's degree\", \"bachelor's degree\", \"some high school\", \"some college\", \"high school\", \"some college\", \"associate's degree\", \"associate's degree\", \"associate's degree\", \"some college\", \"master's degree\", \"high school\", \"master's degree\", \"bachelor's degree\", \"high school\", \"master's degree\", \"high school\", \"some college\", \"high school\", \"some high school\", \"some college\", \"associate's degree\", \"bachelor's degree\", \"master's degree\", \"high school\", \"associate's degree\", \"master's degree\", \"some high school\", \"master's degree\", \"some college\", \"high school\", \"associate's degree\", \"some high school\", \"associate's degree\", \"high school\", \"some high school\", \"some high school\", \"bachelor's degree\", \"associate's degree\", \"some college\", \"some high school\", \"some college\", \"master's degree\", \"associate's degree\", \"some high school\", \"high school\", \"some college\", \"bachelor's degree\", \"associate's degree\", \"some college\", \"associate's degree\", \"associate's degree\", \"some college\", \"some high school\", \"bachelor's degree\", \"high school\", \"some college\", \"some college\", \"some high school\", \"some college\", \"high school\", \"associate's degree\", \"high school\", \"some high school\", \"associate's degree\", \"high school\", \"high school\", \"some high school\", \"high school\", \"associate's degree\", \"some high school\", \"some high school\", \"associate's degree\", \"master's degree\", \"some college\", \"high school\", \"some high school\", \"some college\", \"some college\", \"associate's degree\", \"bachelor's degree\", \"some high school\", \"bachelor's degree\", \"associate's degree\", \"bachelor's degree\", \"some high school\", \"some college\", \"associate's degree\", \"high school\", \"bachelor's degree\", \"high school\", \"some college\", \"some high school\", \"associate's degree\", \"associate's degree\", \"high school\", \"high school\", \"high school\", \"some high school\", \"some college\", \"some high school\", \"master's degree\", \"high school\", \"some college\", \"associate's degree\", \"associate's degree\", \"some college\", \"master's degree\", \"some high school\", \"some college\", \"some high school\", \"high school\", \"high school\", \"some high school\", \"bachelor's degree\", \"high school\", \"associate's degree\", \"some college\", \"bachelor's degree\", \"some college\", \"associate's degree\", \"some college\", \"some college\", \"bachelor's degree\", \"some high school\", \"high school\", \"some high school\", \"bachelor's degree\", \"high school\", \"high school\", \"bachelor's degree\", \"some college\", \"some high school\", \"associate's degree\", \"associate's degree\", \"some high school\", \"bachelor's degree\", \"some high school\", \"associate's degree\", \"some high school\", \"some high school\", \"bachelor's degree\", \"high school\", \"associate's degree\", \"some high school\", \"associate's degree\", \"high school\", \"associate's degree\", \"some college\", \"some high school\", \"associate's degree\", \"associate's degree\", \"associate's degree\", \"some college\", \"some college\", \"some high school\", \"associate's degree\", \"high school\", \"associate's degree\", \"bachelor's degree\", \"bachelor's degree\", \"associate's degree\", \"bachelor's degree\", \"high school\", \"master's degree\", \"associate's degree\", \"bachelor's degree\", \"associate's degree\", \"high school\", \"high school\", \"some college\", \"some high school\", \"high school\", \"some college\", \"some college\", \"some college\", \"associate's degree\", \"some high school\", \"high school\", \"associate's degree\", \"associate's degree\", \"associate's degree\", \"bachelor's degree\", \"some college\", \"some high school\", \"associate's degree\", \"some high school\", \"some high school\", \"high school\", \"high school\", \"high school\", \"associate's degree\", \"some college\", \"high school\", \"some college\", \"bachelor's degree\", \"high school\", \"associate's degree\", \"bachelor's degree\", \"some college\", \"some college\", \"associate's degree\", \"some college\", \"bachelor's degree\", \"associate's degree\", \"some college\", \"some college\", \"some college\", \"high school\", \"some high school\", \"some college\", \"some high school\", \"some college\", \"bachelor's degree\", \"high school\", \"bachelor's degree\", \"some high school\", \"some high school\", \"some college\", \"some college\", \"some high school\", \"some college\", \"bachelor's degree\", \"associate's degree\", \"some high school\", \"master's degree\", \"some high school\", \"bachelor's degree\", \"associate's degree\", \"associate's degree\", \"master's degree\", \"some high school\", \"some high school\", \"some college\", \"bachelor's degree\", \"associate's degree\", \"high school\", \"master's degree\", \"some high school\", \"some college\", \"some college\", \"associate's degree\", \"some high school\", \"high school\", \"high school\", \"associate's degree\", \"some high school\", \"some high school\", \"some high school\", \"some college\", \"some college\", \"high school\", \"high school\", \"some high school\", \"associate's degree\", \"associate's degree\", \"high school\", \"associate's degree\", \"master's degree\", \"some college\", \"associate's degree\", \"some high school\", \"bachelor's degree\", \"high school\", \"bachelor's degree\", \"associate's degree\", \"some college\", \"high school\", \"associate's degree\", \"high school\", \"master's degree\", \"some high school\", \"some college\", \"some college\", \"bachelor's degree\", \"some high school\", \"some high school\", \"some high school\", \"associate's degree\", \"high school\", \"high school\", \"some high school\", \"some high school\", \"some college\", \"associate's degree\", \"associate's degree\", \"high school\", \"some high school\", \"some college\", \"high school\", \"some high school\", \"associate's degree\", \"some high school\", \"some high school\", \"some college\", \"high school\", \"high school\", \"associate's degree\", \"some college\", \"some college\", \"associate's degree\", \"some college\", \"associate's degree\", \"bachelor's degree\", \"bachelor's degree\", \"associate's degree\", \"bachelor's degree\", \"high school\", \"bachelor's degree\", \"some college\", \"some college\", \"some college\", \"bachelor's degree\", \"some college\", \"associate's degree\", \"high school\", \"high school\", \"some college\", \"associate's degree\", \"high school\", \"associate's degree\", \"some high school\", \"associate's degree\", \"bachelor's degree\", \"bachelor's degree\", \"associate's degree\", \"master's degree\", \"associate's degree\", \"high school\", \"associate's degree\", \"some college\", \"high school\", \"associate's degree\", \"high school\", \"some college\", \"associate's degree\", \"some high school\", \"associate's degree\", \"associate's degree\", \"associate's degree\", \"some college\", \"bachelor's degree\", \"high school\", \"high school\", \"some college\", \"some college\", \"some high school\", \"some college\", \"master's degree\", \"associate's degree\", \"some college\", \"associate's degree\", \"master's degree\", \"some high school\", \"high school\", \"bachelor's degree\", \"master's degree\", \"bachelor's degree\", \"some college\", \"some high school\", \"some high school\", \"some high school\", \"master's degree\", \"some high school\", \"some college\", \"some college\", \"some high school\", \"high school\", \"some college\", \"associate's degree\", \"bachelor's degree\", \"master's degree\", \"high school\", \"some college\", \"some high school\", \"high school\", \"bachelor's degree\", \"associate's degree\", \"associate's degree\", \"some high school\", \"associate's degree\", \"associate's degree\", \"high school\", \"bachelor's degree\", \"associate's degree\", \"high school\", \"bachelor's degree\", \"associate's degree\", \"high school\", \"associate's degree\", \"associate's degree\", \"associate's degree\", \"master's degree\", \"some high school\", \"some high school\", \"high school\", \"high school\", \"master's degree\", \"some high school\", \"bachelor's degree\", \"associate's degree\", \"some college\", \"associate's degree\", \"some college\", \"associate's degree\", \"master's degree\", \"associate's degree\", \"some high school\", \"some college\", \"some college\", \"bachelor's degree\", \"some college\", \"bachelor's degree\", \"associate's degree\", \"bachelor's degree\", \"master's degree\", \"high school\", \"bachelor's degree\", \"some college\", \"bachelor's degree\", \"some college\", \"high school\", \"high school\", \"associate's degree\", \"some college\", \"high school\", \"some college\", \"master's degree\", \"some high school\", \"some high school\", \"bachelor's degree\", \"associate's degree\", \"some college\", \"associate's degree\", \"high school\", \"bachelor's degree\", \"some college\", \"some high school\", \"some college\", \"some high school\", \"bachelor's degree\", \"high school\", \"bachelor's degree\", \"bachelor's degree\", \"high school\", \"some high school\", \"high school\", \"some high school\", \"master's degree\", \"high school\", \"some college\", \"high school\", \"master's degree\", \"some high school\", \"associate's degree\", \"master's degree\", \"some college\", \"associate's degree\", \"some college\", \"some college\", \"bachelor's degree\", \"associate's degree\", \"associate's degree\", \"high school\", \"bachelor's degree\", \"bachelor's degree\", \"master's degree\", \"associate's degree\", \"high school\", \"bachelor's degree\", \"high school\", \"some college\", \"bachelor's degree\", \"some college\", \"associate's degree\", \"associate's degree\", \"some college\", \"some high school\", \"some college\", \"high school\", \"bachelor's degree\", \"high school\", \"some high school\", \"high school\", \"high school\", \"some high school\", \"some college\", \"associate's degree\", \"high school\", \"associate's degree\", \"some high school\", \"high school\", \"high school\", \"bachelor's degree\", \"associate's degree\", \"high school\", \"high school\", \"some college\", \"some high school\", \"high school\", \"some college\", \"associate's degree\", \"some high school\", \"some college\", \"associate's degree\", \"some high school\", \"associate's degree\", \"associate's degree\", \"some college\", \"some high school\", \"some college\", \"high school\", \"associate's degree\", \"some high school\", \"some college\", \"bachelor's degree\", \"some college\", \"associate's degree\", \"high school\", \"associate's degree\", \"some college\", \"associate's degree\", \"high school\", \"some college\", \"some college\", \"some high school\", \"associate's degree\", \"some college\", \"high school\", \"high school\", \"high school\", \"some high school\", \"some college\", \"master's degree\", \"some college\", \"associate's degree\", \"high school\", \"some college\", \"associate's degree\", \"associate's degree\", \"bachelor's degree\", \"associate's degree\", \"some high school\", \"some college\", \"associate's degree\", \"bachelor's degree\", \"associate's degree\", \"high school\", \"bachelor's degree\", \"some high school\", \"bachelor's degree\", \"some college\", \"some high school\", \"bachelor's degree\", \"high school\", \"some college\", \"high school\", \"associate's degree\", \"some college\", \"some high school\", \"some college\", \"master's degree\", \"some high school\", \"associate's degree\", \"associate's degree\", \"associate's degree\", \"high school\", \"associate's degree\", \"some college\", \"some high school\", \"some high school\", \"high school\", \"some college\", \"some college\", \"associate's degree\", \"some high school\", \"high school\", \"some college\", \"associate's degree\", \"some high school\", \"some college\", \"some high school\", \"some college\", \"master's degree\", \"associate's degree\", \"some college\", \"associate's degree\", \"high school\", \"bachelor's degree\", \"associate's degree\", \"high school\", \"associate's degree\", \"some college\", \"associate's degree\", \"high school\", \"some college\", \"bachelor's degree\", \"some college\", \"some high school\", \"some college\", \"master's degree\", \"some high school\", \"associate's degree\", \"associate's degree\", \"some college\", \"bachelor's degree\", \"some college\", \"some college\", \"high school\", \"some high school\", \"some high school\", \"high school\", \"some college\", \"high school\", \"high school\", \"high school\", \"some high school\", \"some college\", \"high school\", \"bachelor's degree\", \"some high school\", \"bachelor's degree\", \"some college\", \"some high school\", \"high school\", \"some college\", \"some college\", \"associate's degree\", \"associate's degree\", \"master's degree\", \"high school\", \"associate's degree\", \"bachelor's degree\", \"some high school\", \"some high school\", \"some college\", \"associate's degree\", \"master's degree\", \"high school\", \"some college\", \"high school\", \"some high school\", \"high school\", \"associate's degree\", \"high school\", \"associate's degree\", \"some college\", \"associate's degree\", \"some high school\", \"some high school\", \"associate's degree\", \"some college\", \"some college\", \"some college\", \"some college\", \"high school\", \"high school\", \"bachelor's degree\", \"some high school\", \"high school\", \"master's degree\", \"some high school\", \"high school\", \"some high school\", \"bachelor's degree\", \"bachelor's degree\", \"high school\", \"some high school\", \"some high school\", \"bachelor's degree\", \"some college\", \"high school\", \"some high school\", \"high school\", \"associate's degree\", \"some high school\", \"some high school\", \"some high school\", \"some college\", \"bachelor's degree\", \"bachelor's degree\", \"high school\", \"some college\", \"high school\", \"high school\", \"high school\", \"associate's degree\", \"associate's degree\", \"high school\", \"some high school\", \"high school\", \"some college\", \"some high school\", \"master's degree\", \"master's degree\", \"high school\", \"high school\", \"associate's degree\", \"master's degree\", \"high school\", \"some college\", \"some high school\", \"some high school\", \"bachelor's degree\", \"some college\", \"bachelor's degree\", \"high school\", \"associate's degree\", \"associate's degree\", \"master's degree\", \"bachelor's degree\", \"some college\", \"associate's degree\", \"some college\", \"high school\", \"associate's degree\", \"associate's degree\", \"associate's degree\", \"high school\", \"some college\", \"associate's degree\", \"associate's degree\", \"bachelor's degree\", \"some college\", \"some college\", \"some high school\", \"some high school\", \"associate's degree\", \"bachelor's degree\", \"bachelor's degree\", \"high school\", \"bachelor's degree\", \"associate's degree\", \"associate's degree\", \"associate's degree\", \"high school\", \"some college\", \"high school\", \"some college\", \"associate's degree\", \"master's degree\", \"some high school\", \"associate's degree\", \"some high school\", \"high school\", \"some high school\", \"associate's degree\", \"some high school\", \"master's degree\", \"master's degree\", \"high school\", \"bachelor's degree\", \"some high school\", \"some college\", \"high school\", \"some college\", \"bachelor's degree\", \"bachelor's degree\", \"bachelor's degree\", \"some college\", \"bachelor's degree\", \"bachelor's degree\", \"associate's degree\", \"some college\", \"bachelor's degree\", \"high school\", \"associate's degree\", \"some college\", \"high school\", \"high school\", \"high school\", \"associate's degree\", \"high school\", \"some high school\", \"associate's degree\", \"high school\", \"associate's degree\", \"some high school\", \"some college\", \"some college\", \"associate's degree\", \"bachelor's degree\", \"associate's degree\", \"some college\", \"associate's degree\", \"high school\", \"some college\", \"some high school\", \"master's degree\", \"master's degree\", \"high school\", \"some high school\", \"high school\", \"associate's degree\", \"high school\", \"some college\", \"some high school\", \"high school\", \"high school\", \"some college\", \"some high school\", \"high school\", \"some college\", \"associate's degree\", \"some college\", \"master's degree\", \"high school\", \"high school\", \"some college\", \"some high school\", \"associate's degree\", \"some high school\", \"some college\", \"some college\", \"some high school\", \"some college\", \"associate's degree\", \"bachelor's degree\", \"bachelor's degree\", \"some high school\", \"high school\", \"some college\", \"some college\", \"some college\", \"some college\", \"associate's degree\", \"high school\", \"associate's degree\", \"high school\", \"some high school\", \"some high school\", \"some college\", \"some high school\", \"high school\", \"associate's degree\", \"some high school\", \"some high school\", \"some college\", \"high school\", \"some high school\", \"associate's degree\", \"bachelor's degree\", \"high school\", \"master's degree\", \"high school\", \"high school\", \"some college\", \"some college\"], [\"standard\", \"standard\", \"standard\", \"free/reduced\", \"standard\", \"standard\", \"standard\", \"free/reduced\", \"free/reduced\", \"free/reduced\", \"standard\", \"standard\", \"standard\", \"standard\", \"standard\", \"standard\", \"standard\", \"free/reduced\", \"free/reduced\", \"free/reduced\", \"standard\", \"free/reduced\", \"standard\", \"standard\", \"free/reduced\", \"free/reduced\", \"standard\", \"standard\", \"standard\", \"standard\", \"standard\", \"standard\", \"free/reduced\", \"standard\", \"standard\", \"standard\", \"standard\", \"free/reduced\", \"free/reduced\", \"free/reduced\", \"free/reduced\", \"standard\", \"standard\", \"free/reduced\", \"free/reduced\", \"standard\", \"standard\", \"standard\", \"free/reduced\", \"standard\", \"standard\", \"free/reduced\", \"standard\", \"standard\", \"free/reduced\", \"free/reduced\", \"standard\", \"standard\", \"standard\", \"free/reduced\", \"free/reduced\", \"free/reduced\", \"free/reduced\", \"standard\", \"standard\", \"standard\", \"free/reduced\", \"standard\", \"free/reduced\", \"standard\", \"free/reduced\", \"standard\", \"free/reduced\", \"free/reduced\", \"standard\", \"free/reduced\", \"standard\", \"standard\", \"standard\", \"standard\", \"standard\", \"free/reduced\", \"free/reduced\", \"standard\", \"free/reduced\", \"standard\", \"free/reduced\", \"standard\", \"standard\", \"standard\", \"standard\", \"free/reduced\", \"standard\", \"free/reduced\", \"standard\", \"free/reduced\", \"standard\", \"standard\", \"free/reduced\", \"standard\", \"standard\", \"standard\", \"standard\", \"standard\", \"standard\", \"standard\", \"standard\", \"standard\", \"free/reduced\", \"standard\", \"free/reduced\", \"standard\", \"standard\", \"standard\", \"standard\", \"standard\", \"free/reduced\", \"standard\", \"standard\", \"standard\", \"standard\", \"standard\", \"standard\", \"free/reduced\", \"standard\", \"standard\", \"standard\", \"standard\", \"standard\", \"standard\", \"standard\", \"free/reduced\", \"free/reduced\", \"standard\", \"free/reduced\", \"standard\", \"standard\", \"standard\", \"standard\", \"standard\", \"standard\", \"free/reduced\", \"free/reduced\", \"standard\", \"standard\", \"free/reduced\", \"standard\", \"free/reduced\", \"standard\", \"free/reduced\", \"standard\", \"standard\", \"standard\", \"standard\", \"standard\", \"standard\", \"free/reduced\", \"free/reduced\", \"standard\", \"free/reduced\", \"free/reduced\", \"free/reduced\", \"free/reduced\", \"standard\", \"standard\", \"standard\", \"free/reduced\", \"free/reduced\", \"standard\", \"free/reduced\", \"standard\", \"standard\", \"standard\", \"standard\", \"free/reduced\", \"standard\", \"free/reduced\", \"standard\", \"free/reduced\", \"standard\", \"free/reduced\", \"free/reduced\", \"standard\", \"standard\", \"free/reduced\", \"free/reduced\", \"standard\", \"standard\", \"free/reduced\", \"standard\", \"standard\", \"standard\", \"standard\", \"standard\", \"standard\", \"standard\", \"free/reduced\", \"free/reduced\", \"free/reduced\", \"free/reduced\", \"standard\", \"free/reduced\", \"standard\", \"standard\", \"standard\", \"standard\", \"standard\", \"standard\", \"free/reduced\", \"free/reduced\", \"free/reduced\", \"free/reduced\", \"free/reduced\", \"free/reduced\", \"standard\", \"standard\", \"free/reduced\", \"free/reduced\", \"free/reduced\", \"standard\", \"standard\", \"standard\", \"free/reduced\", \"standard\", \"standard\", \"free/reduced\", \"standard\", \"standard\", \"free/reduced\", \"standard\", \"standard\", \"standard\", \"standard\", \"standard\", \"standard\", \"standard\", \"free/reduced\", \"standard\", \"standard\", \"standard\", \"free/reduced\", \"standard\", \"standard\", \"standard\", \"standard\", \"standard\", \"standard\", \"standard\", \"standard\", \"standard\", \"standard\", \"free/reduced\", \"standard\", \"standard\", \"standard\", \"standard\", \"free/reduced\", \"standard\", \"standard\", \"free/reduced\", \"free/reduced\", \"standard\", \"free/reduced\", \"standard\", \"standard\", \"free/reduced\", \"standard\", \"standard\", \"standard\", \"free/reduced\", \"standard\", \"standard\", \"free/reduced\", \"standard\", \"standard\", \"standard\", \"standard\", \"standard\", \"free/reduced\", \"free/reduced\", \"standard\", \"standard\", \"free/reduced\", \"free/reduced\", \"standard\", \"standard\", \"standard\", \"standard\", \"free/reduced\", \"standard\", \"standard\", \"standard\", \"standard\", \"standard\", \"free/reduced\", \"free/reduced\", \"standard\", \"standard\", \"free/reduced\", \"free/reduced\", \"free/reduced\", \"free/reduced\", \"standard\", \"standard\", \"standard\", \"standard\", \"standard\", \"standard\", \"free/reduced\", \"free/reduced\", \"standard\", \"standard\", \"standard\", \"free/reduced\", \"standard\", \"standard\", \"standard\", \"standard\", \"standard\", \"free/reduced\", \"free/reduced\", \"standard\", \"standard\", \"free/reduced\", \"free/reduced\", \"standard\", \"standard\", \"free/reduced\", \"standard\", \"standard\", \"standard\", \"standard\", \"standard\", \"standard\", \"standard\", \"free/reduced\", \"standard\", \"standard\", \"free/reduced\", \"free/reduced\", \"free/reduced\", \"standard\", \"standard\", \"standard\", \"standard\", \"standard\", \"standard\", \"standard\", \"free/reduced\", \"standard\", \"standard\", \"standard\", \"standard\", \"standard\", \"standard\", \"standard\", \"standard\", \"free/reduced\", \"free/reduced\", \"standard\", \"standard\", \"standard\", \"standard\", \"free/reduced\", \"standard\", \"free/reduced\", \"standard\", \"free/reduced\", \"free/reduced\", \"standard\", \"standard\", \"free/reduced\", \"standard\", \"standard\", \"standard\", \"free/reduced\", \"standard\", \"free/reduced\", \"standard\", \"standard\", \"standard\", \"standard\", \"free/reduced\", \"free/reduced\", \"free/reduced\", \"standard\", \"standard\", \"free/reduced\", \"standard\", \"standard\", \"free/reduced\", \"standard\", \"standard\", \"standard\", \"standard\", \"free/reduced\", \"free/reduced\", \"standard\", \"standard\", \"standard\", \"standard\", \"standard\", \"free/reduced\", \"standard\", \"standard\", \"standard\", \"standard\", \"standard\", \"free/reduced\", \"standard\", \"standard\", \"standard\", \"standard\", \"standard\", \"free/reduced\", \"standard\", \"standard\", \"standard\", \"standard\", \"free/reduced\", \"free/reduced\", \"standard\", \"free/reduced\", \"standard\", \"free/reduced\", \"free/reduced\", \"standard\", \"free/reduced\", \"free/reduced\", \"free/reduced\", \"free/reduced\", \"standard\", \"standard\", \"free/reduced\", \"standard\", \"free/reduced\", \"standard\", \"free/reduced\", \"standard\", \"standard\", \"standard\", \"standard\", \"free/reduced\", \"standard\", \"free/reduced\", \"standard\", \"free/reduced\", \"standard\", \"standard\", \"standard\", \"free/reduced\", \"standard\", \"free/reduced\", \"free/reduced\", \"free/reduced\", \"free/reduced\", \"standard\", \"free/reduced\", \"standard\", \"standard\", \"free/reduced\", \"free/reduced\", \"standard\", \"free/reduced\", \"standard\", \"standard\", \"free/reduced\", \"free/reduced\", \"free/reduced\", \"standard\", \"standard\", \"standard\", \"standard\", \"standard\", \"standard\", \"standard\", \"standard\", \"standard\", \"standard\", \"standard\", \"standard\", \"free/reduced\", \"free/reduced\", \"standard\", \"standard\", \"standard\", \"free/reduced\", \"free/reduced\", \"standard\", \"free/reduced\", \"free/reduced\", \"standard\", \"standard\", \"standard\", \"standard\", \"standard\", \"standard\", \"free/reduced\", \"standard\", \"standard\", \"standard\", \"standard\", \"free/reduced\", \"standard\", \"free/reduced\", \"standard\", \"standard\", \"free/reduced\", \"standard\", \"standard\", \"standard\", \"standard\", \"free/reduced\", \"standard\", \"free/reduced\", \"standard\", \"standard\", \"standard\", \"standard\", \"free/reduced\", \"standard\", \"standard\", \"standard\", \"free/reduced\", \"standard\", \"standard\", \"free/reduced\", \"free/reduced\", \"free/reduced\", \"standard\", \"standard\", \"standard\", \"standard\", \"standard\", \"standard\", \"free/reduced\", \"standard\", \"standard\", \"standard\", \"standard\", \"standard\", \"free/reduced\", \"standard\", \"standard\", \"standard\", \"free/reduced\", \"standard\", \"standard\", \"free/reduced\", \"standard\", \"free/reduced\", \"free/reduced\", \"standard\", \"free/reduced\", \"standard\", \"free/reduced\", \"standard\", \"free/reduced\", \"free/reduced\", \"standard\", \"standard\", \"standard\", \"standard\", \"free/reduced\", \"free/reduced\", \"standard\", \"free/reduced\", \"free/reduced\", \"free/reduced\", \"free/reduced\", \"standard\", \"standard\", \"standard\", \"free/reduced\", \"standard\", \"free/reduced\", \"standard\", \"standard\", \"free/reduced\", \"standard\", \"standard\", \"standard\", \"free/reduced\", \"standard\", \"standard\", \"standard\", \"standard\", \"free/reduced\", \"standard\", \"standard\", \"free/reduced\", \"standard\", \"standard\", \"standard\", \"standard\", \"standard\", \"free/reduced\", \"standard\", \"standard\", \"standard\", \"standard\", \"standard\", \"standard\", \"free/reduced\", \"free/reduced\", \"standard\", \"standard\", \"free/reduced\", \"standard\", \"standard\", \"free/reduced\", \"standard\", \"standard\", \"standard\", \"standard\", \"standard\", \"standard\", \"standard\", \"standard\", \"free/reduced\", \"free/reduced\", \"free/reduced\", \"free/reduced\", \"standard\", \"free/reduced\", \"standard\", \"free/reduced\", \"standard\", \"free/reduced\", \"standard\", \"standard\", \"standard\", \"standard\", \"standard\", \"standard\", \"standard\", \"free/reduced\", \"standard\", \"standard\", \"standard\", \"standard\", \"free/reduced\", \"free/reduced\", \"standard\", \"standard\", \"standard\", \"standard\", \"free/reduced\", \"standard\", \"standard\", \"free/reduced\", \"standard\", \"standard\", \"standard\", \"standard\", \"standard\", \"free/reduced\", \"standard\", \"free/reduced\", \"standard\", \"free/reduced\", \"standard\", \"free/reduced\", \"standard\", \"standard\", \"free/reduced\", \"free/reduced\", \"free/reduced\", \"standard\", \"standard\", \"free/reduced\", \"free/reduced\", \"standard\", \"standard\", \"standard\", \"standard\", \"standard\", \"standard\", \"free/reduced\", \"free/reduced\", \"standard\", \"standard\", \"standard\", \"free/reduced\", \"standard\", \"standard\", \"standard\", \"free/reduced\", \"free/reduced\", \"free/reduced\", \"standard\", \"free/reduced\", \"free/reduced\", \"standard\", \"standard\", \"free/reduced\", \"standard\", \"standard\", \"standard\", \"free/reduced\", \"standard\", \"standard\", \"standard\", \"standard\", \"free/reduced\", \"free/reduced\", \"standard\", \"standard\", \"standard\", \"free/reduced\", \"standard\", \"standard\", \"standard\", \"standard\", \"standard\", \"free/reduced\", \"standard\", \"standard\", \"standard\", \"free/reduced\", \"free/reduced\", \"free/reduced\", \"free/reduced\", \"standard\", \"standard\", \"standard\", \"standard\", \"standard\", \"free/reduced\", \"standard\", \"free/reduced\", \"free/reduced\", \"standard\", \"standard\", \"free/reduced\", \"standard\", \"standard\", \"free/reduced\", \"standard\", \"free/reduced\", \"standard\", \"free/reduced\", \"standard\", \"standard\", \"free/reduced\", \"standard\", \"standard\", \"standard\", \"free/reduced\", \"standard\", \"standard\", \"standard\", \"free/reduced\", \"standard\", \"free/reduced\", \"standard\", \"standard\", \"free/reduced\", \"free/reduced\", \"standard\", \"free/reduced\", \"standard\", \"standard\", \"standard\", \"standard\", \"standard\", \"standard\", \"standard\", \"standard\", \"free/reduced\", \"standard\", \"standard\", \"free/reduced\", \"free/reduced\", \"standard\", \"free/reduced\", \"standard\", \"free/reduced\", \"standard\", \"standard\", \"free/reduced\", \"standard\", \"free/reduced\", \"standard\", \"standard\", \"standard\", \"free/reduced\", \"standard\", \"free/reduced\", \"free/reduced\", \"standard\", \"free/reduced\", \"free/reduced\", \"standard\", \"standard\", \"free/reduced\", \"standard\", \"free/reduced\", \"standard\", \"standard\", \"standard\", \"standard\", \"standard\", \"standard\", \"standard\", \"free/reduced\", \"free/reduced\", \"free/reduced\", \"standard\", \"standard\", \"standard\", \"free/reduced\", \"standard\", \"standard\", \"standard\", \"standard\", \"standard\", \"free/reduced\", \"free/reduced\", \"standard\", \"standard\", \"free/reduced\", \"free/reduced\", \"free/reduced\", \"free/reduced\", \"standard\", \"free/reduced\", \"standard\", \"free/reduced\", \"standard\", \"free/reduced\", \"free/reduced\", \"standard\", \"standard\", \"standard\", \"standard\", \"standard\", \"standard\", \"free/reduced\", \"standard\", \"free/reduced\", \"standard\", \"free/reduced\", \"free/reduced\", \"free/reduced\", \"standard\", \"standard\", \"standard\", \"standard\", \"standard\", \"standard\", \"standard\", \"standard\", \"standard\", \"standard\", \"standard\", \"free/reduced\", \"standard\", \"standard\", \"free/reduced\", \"standard\", \"free/reduced\", \"free/reduced\", \"standard\", \"standard\", \"standard\", \"free/reduced\", \"standard\", \"free/reduced\", \"free/reduced\", \"standard\", \"standard\", \"standard\", \"free/reduced\", \"free/reduced\", \"free/reduced\", \"standard\", \"standard\", \"standard\", \"standard\", \"standard\", \"standard\", \"free/reduced\", \"free/reduced\", \"standard\", \"standard\", \"standard\", \"free/reduced\", \"free/reduced\", \"free/reduced\", \"standard\", \"standard\", \"free/reduced\", \"standard\", \"standard\", \"free/reduced\", \"free/reduced\", \"free/reduced\", \"standard\", \"standard\", \"standard\", \"standard\", \"free/reduced\", \"free/reduced\", \"free/reduced\", \"standard\", \"standard\", \"standard\", \"free/reduced\", \"standard\", \"free/reduced\", \"standard\", \"standard\", \"free/reduced\", \"free/reduced\", \"standard\", \"standard\", \"standard\", \"standard\", \"standard\", \"free/reduced\", \"free/reduced\", \"standard\", \"free/reduced\", \"free/reduced\", \"standard\", \"free/reduced\", \"free/reduced\", \"free/reduced\", \"free/reduced\", \"free/reduced\", \"free/reduced\", \"free/reduced\", \"free/reduced\", \"standard\", \"free/reduced\", \"standard\", \"free/reduced\", \"standard\", \"standard\", \"free/reduced\", \"standard\", \"standard\", \"free/reduced\", \"standard\", \"standard\", \"standard\", \"free/reduced\", \"free/reduced\", \"free/reduced\", \"standard\", \"standard\", \"free/reduced\", \"standard\", \"standard\", \"standard\", \"standard\", \"standard\", \"standard\", \"standard\", \"standard\", \"free/reduced\", \"standard\", \"free/reduced\", \"standard\", \"standard\", \"standard\", \"standard\", \"standard\", \"standard\", \"standard\", \"standard\", \"free/reduced\", \"free/reduced\", \"standard\", \"standard\", \"free/reduced\", \"standard\", \"standard\", \"standard\", \"free/reduced\", \"standard\", \"standard\", \"standard\", \"standard\", \"standard\", \"standard\", \"standard\", \"free/reduced\", \"free/reduced\", \"free/reduced\", \"standard\", \"free/reduced\", \"free/reduced\", \"standard\", \"standard\", \"free/reduced\", \"free/reduced\", \"standard\", \"free/reduced\"], [\"none\", \"completed\", \"none\", \"none\", \"none\", \"none\", \"completed\", \"none\", \"completed\", \"none\", \"none\", \"none\", \"none\", \"completed\", \"none\", \"none\", \"none\", \"none\", \"completed\", \"none\", \"none\", \"completed\", \"none\", \"none\", \"completed\", \"none\", \"none\", \"none\", \"none\", \"none\", \"none\", \"none\", \"none\", \"none\", \"none\", \"completed\", \"none\", \"none\", \"completed\", \"none\", \"none\", \"none\", \"none\", \"completed\", \"none\", \"none\", \"completed\", \"none\", \"completed\", \"completed\", \"none\", \"completed\", \"none\", \"none\", \"completed\", \"none\", \"completed\", \"none\", \"completed\", \"none\", \"completed\", \"none\", \"none\", \"none\", \"none\", \"none\", \"none\", \"none\", \"none\", \"none\", \"completed\", \"completed\", \"none\", \"none\", \"none\", \"none\", \"none\", \"completed\", \"completed\", \"none\", \"none\", \"none\", \"completed\", \"none\", \"none\", \"none\", \"none\", \"none\", \"none\", \"none\", \"none\", \"none\", \"none\", \"completed\", \"none\", \"completed\", \"completed\", \"completed\", \"none\", \"none\", \"none\", \"completed\", \"none\", \"completed\", \"completed\", \"none\", \"none\", \"completed\", \"none\", \"none\", \"completed\", \"none\", \"none\", \"none\", \"completed\", \"none\", \"none\", \"none\", \"none\", \"none\", \"completed\", \"completed\", \"completed\", \"none\", \"none\", \"none\", \"none\", \"completed\", \"none\", \"none\", \"none\", \"completed\", \"completed\", \"completed\", \"completed\", \"none\", \"completed\", \"none\", \"none\", \"completed\", \"none\", \"none\", \"completed\", \"none\", \"none\", \"none\", \"none\", \"none\", \"completed\", \"completed\", \"completed\", \"none\", \"completed\", \"none\", \"none\", \"completed\", \"completed\", \"none\", \"completed\", \"none\", \"completed\", \"completed\", \"none\", \"none\", \"none\", \"completed\", \"completed\", \"completed\", \"completed\", \"completed\", \"completed\", \"none\", \"none\", \"none\", \"completed\", \"completed\", \"completed\", \"completed\", \"completed\", \"completed\", \"completed\", \"none\", \"none\", \"none\", \"completed\", \"completed\", \"none\", \"completed\", \"none\", \"none\", \"none\", \"completed\", \"none\", \"completed\", \"completed\", \"none\", \"completed\", \"none\", \"none\", \"none\", \"completed\", \"none\", \"none\", \"none\", \"none\", \"completed\", \"none\", \"completed\", \"none\", \"none\", \"completed\", \"none\", \"none\", \"completed\", \"completed\", \"completed\", \"completed\", \"none\", \"none\", \"completed\", \"completed\", \"none\", \"none\", \"none\", \"completed\", \"none\", \"none\", \"none\", \"none\", \"completed\", \"none\", \"none\", \"none\", \"none\", \"completed\", \"none\", \"none\", \"completed\", \"none\", \"none\", \"completed\", \"none\", \"none\", \"none\", \"none\", \"none\", \"none\", \"completed\", \"none\", \"none\", \"completed\", \"none\", \"completed\", \"none\", \"none\", \"none\", \"none\", \"completed\", \"none\", \"completed\", \"completed\", \"completed\", \"none\", \"none\", \"none\", \"none\", \"none\", \"none\", \"completed\", \"none\", \"none\", \"none\", \"none\", \"none\", \"completed\", \"none\", \"completed\", \"completed\", \"none\", \"none\", \"none\", \"none\", \"none\", \"completed\", \"none\", \"completed\", \"completed\", \"none\", \"none\", \"completed\", \"none\", \"none\", \"completed\", \"none\", \"completed\", \"none\", \"completed\", \"completed\", \"completed\", \"none\", \"completed\", \"none\", \"completed\", \"none\", \"completed\", \"none\", \"completed\", \"none\", \"none\", \"none\", \"none\", \"none\", \"completed\", \"completed\", \"completed\", \"none\", \"completed\", \"none\", \"none\", \"none\", \"completed\", \"none\", \"none\", \"none\", \"none\", \"none\", \"none\", \"none\", \"completed\", \"none\", \"none\", \"none\", \"completed\", \"none\", \"none\", \"none\", \"completed\", \"none\", \"none\", \"completed\", \"none\", \"none\", \"completed\", \"completed\", \"none\", \"none\", \"none\", \"completed\", \"none\", \"none\", \"none\", \"none\", \"completed\", \"none\", \"none\", \"none\", \"none\", \"completed\", \"none\", \"none\", \"none\", \"completed\", \"none\", \"none\", \"none\", \"completed\", \"completed\", \"none\", \"none\", \"none\", \"none\", \"completed\", \"none\", \"completed\", \"none\", \"none\", \"none\", \"completed\", \"none\", \"none\", \"none\", \"completed\", \"none\", \"none\", \"none\", \"none\", \"none\", \"none\", \"none\", \"none\", \"completed\", \"none\", \"none\", \"completed\", \"completed\", \"none\", \"none\", \"none\", \"none\", \"none\", \"completed\", \"none\", \"none\", \"completed\", \"none\", \"none\", \"completed\", \"none\", \"completed\", \"completed\", \"completed\", \"completed\", \"none\", \"completed\", \"completed\", \"none\", \"completed\", \"none\", \"none\", \"completed\", \"completed\", \"completed\", \"completed\", \"completed\", \"none\", \"none\", \"none\", \"none\", \"none\", \"none\", \"none\", \"none\", \"none\", \"none\", \"none\", \"completed\", \"none\", \"none\", \"none\", \"completed\", \"completed\", \"none\", \"none\", \"none\", \"none\", \"completed\", \"none\", \"completed\", \"none\", \"none\", \"completed\", \"none\", \"none\", \"none\", \"none\", \"none\", \"none\", \"none\", \"none\", \"completed\", \"none\", \"none\", \"none\", \"none\", \"completed\", \"none\", \"none\", \"completed\", \"completed\", \"none\", \"completed\", \"none\", \"completed\", \"none\", \"completed\", \"completed\", \"completed\", \"none\", \"none\", \"none\", \"completed\", \"none\", \"none\", \"none\", \"none\", \"none\", \"none\", \"none\", \"completed\", \"completed\", \"none\", \"none\", \"none\", \"none\", \"none\", \"completed\", \"none\", \"completed\", \"none\", \"none\", \"none\", \"completed\", \"none\", \"completed\", \"none\", \"none\", \"none\", \"none\", \"none\", \"none\", \"none\", \"none\", \"none\", \"completed\", \"completed\", \"completed\", \"none\", \"completed\", \"completed\", \"completed\", \"none\", \"none\", \"none\", \"none\", \"completed\", \"none\", \"completed\", \"none\", \"none\", \"none\", \"completed\", \"none\", \"completed\", \"completed\", \"completed\", \"completed\", \"completed\", \"none\", \"completed\", \"completed\", \"completed\", \"completed\", \"none\", \"none\", \"none\", \"completed\", \"completed\", \"completed\", \"none\", \"none\", \"none\", \"completed\", \"none\", \"none\", \"none\", \"none\", \"completed\", \"none\", \"none\", \"none\", \"completed\", \"none\", \"completed\", \"completed\", \"none\", \"none\", \"completed\", \"completed\", \"none\", \"none\", \"completed\", \"none\", \"none\", \"completed\", \"none\", \"completed\", \"completed\", \"none\", \"completed\", \"none\", \"none\", \"none\", \"none\", \"completed\", \"none\", \"none\", \"none\", \"none\", \"none\", \"none\", \"none\", \"none\", \"none\", \"none\", \"completed\", \"completed\", \"none\", \"none\", \"none\", \"none\", \"none\", \"none\", \"none\", \"none\", \"completed\", \"none\", \"none\", \"none\", \"none\", \"none\", \"completed\", \"none\", \"completed\", \"none\", \"none\", \"none\", \"none\", \"none\", \"none\", \"completed\", \"none\", \"none\", \"completed\", \"completed\", \"none\", \"completed\", \"completed\", \"none\", \"none\", \"completed\", \"none\", \"none\", \"completed\", \"none\", \"none\", \"none\", \"completed\", \"completed\", \"none\", \"none\", \"none\", \"completed\", \"none\", \"completed\", \"none\", \"completed\", \"none\", \"none\", \"none\", \"completed\", \"completed\", \"completed\", \"completed\", \"completed\", \"none\", \"none\", \"none\", \"none\", \"none\", \"none\", \"none\", \"none\", \"none\", \"none\", \"none\", \"completed\", \"completed\", \"none\", \"none\", \"completed\", \"none\", \"none\", \"none\", \"completed\", \"completed\", \"completed\", \"completed\", \"completed\", \"none\", \"none\", \"none\", \"none\", \"none\", \"completed\", \"completed\", \"completed\", \"completed\", \"none\", \"none\", \"none\", \"none\", \"none\", \"completed\", \"none\", \"none\", \"none\", \"completed\", \"none\", \"completed\", \"none\", \"completed\", \"none\", \"completed\", \"none\", \"completed\", \"none\", \"none\", \"none\", \"none\", \"completed\", \"completed\", \"completed\", \"none\", \"none\", \"completed\", \"completed\", \"completed\", \"completed\", \"none\", \"completed\", \"none\", \"completed\", \"completed\", \"none\", \"none\", \"completed\", \"completed\", \"completed\", \"none\", \"none\", \"completed\", \"none\", \"completed\", \"none\", \"none\", \"none\", \"none\", \"completed\", \"none\", \"none\", \"none\", \"none\", \"none\", \"completed\", \"none\", \"none\", \"none\", \"none\", \"none\", \"completed\", \"completed\", \"none\", \"completed\", \"completed\", \"none\", \"none\", \"none\", \"completed\", \"completed\", \"completed\", \"none\", \"none\", \"completed\", \"none\", \"none\", \"none\", \"completed\", \"completed\", \"none\", \"none\", \"none\", \"none\", \"completed\", \"none\", \"none\", \"none\", \"none\", \"none\", \"completed\", \"completed\", \"none\", \"none\", \"completed\", \"completed\", \"completed\", \"completed\", \"none\", \"none\", \"none\", \"none\", \"none\", \"none\", \"none\", \"completed\", \"none\", \"completed\", \"none\", \"none\", \"none\", \"none\", \"completed\", \"completed\", \"none\", \"none\", \"none\", \"none\", \"none\", \"none\", \"none\", \"none\", \"none\", \"none\", \"completed\", \"completed\", \"none\", \"completed\", \"none\", \"completed\", \"none\", \"none\", \"completed\", \"none\", \"completed\", \"none\", \"none\", \"none\", \"completed\", \"none\", \"completed\", \"none\", \"none\", \"completed\", \"none\", \"completed\", \"none\", \"completed\", \"none\", \"completed\", \"completed\", \"none\", \"none\", \"none\", \"completed\", \"completed\", \"completed\", \"none\", \"completed\", \"none\", \"none\", \"none\", \"none\", \"none\", \"none\", \"none\", \"none\", \"none\", \"none\", \"none\", \"completed\", \"none\", \"none\", \"none\", \"completed\", \"completed\", \"none\", \"completed\", \"none\", \"none\", \"completed\", \"none\", \"none\", \"completed\", \"completed\", \"none\", \"none\", \"none\", \"none\", \"none\", \"none\", \"none\", \"completed\", \"completed\", \"none\", \"none\", \"none\", \"completed\", \"completed\", \"none\", \"none\", \"none\", \"completed\", \"none\", \"none\", \"completed\", \"none\", \"none\", \"none\", \"completed\", \"completed\", \"completed\", \"none\", \"none\", \"completed\", \"completed\", \"none\", \"none\", \"none\", \"completed\", \"none\", \"completed\", \"none\", \"none\", \"completed\", \"completed\", \"none\", \"none\", \"completed\", \"none\", \"completed\", \"completed\", \"none\", \"none\", \"none\", \"none\", \"none\", \"completed\", \"none\", \"completed\", \"completed\", \"none\", \"completed\", \"none\", \"completed\", \"completed\", \"completed\", \"none\", \"none\", \"none\", \"completed\", \"completed\", \"completed\", \"none\", \"none\", \"completed\", \"none\", \"none\", \"none\", \"none\", \"completed\", \"completed\", \"none\", \"completed\", \"none\", \"completed\", \"none\", \"none\", \"none\", \"none\", \"none\", \"none\", \"none\", \"none\", \"none\", \"completed\", \"none\", \"none\", \"completed\", \"none\", \"none\", \"none\", \"none\", \"completed\", \"completed\", \"none\", \"none\", \"completed\", \"completed\", \"none\", \"completed\", \"none\", \"none\", \"none\", \"completed\", \"completed\", \"none\", \"none\", \"none\", \"completed\", \"none\", \"completed\", \"completed\", \"completed\", \"none\", \"none\", \"none\", \"completed\", \"none\", \"completed\", \"completed\", \"none\"], [72, 69, 90, 47, 76, 71, 88, 40, 64, 38, 58, 40, 65, 78, 50, 69, 88, 18, 46, 54, 66, 65, 44, 69, 74, 73, 69, 67, 70, 62, 69, 63, 56, 40, 97, 81, 74, 50, 75, 57, 55, 58, 53, 59, 50, 65, 55, 66, 57, 82, 53, 77, 53, 88, 71, 33, 82, 52, 58, 0, 79, 39, 62, 69, 59, 67, 45, 60, 61, 39, 58, 63, 41, 61, 49, 44, 30, 80, 61, 62, 47, 49, 50, 72, 42, 73, 76, 71, 58, 73, 65, 27, 71, 43, 79, 78, 65, 63, 58, 65, 79, 68, 85, 60, 98, 58, 87, 66, 52, 70, 77, 62, 54, 51, 99, 84, 75, 78, 51, 55, 79, 91, 88, 63, 83, 87, 72, 65, 82, 51, 89, 53, 87, 75, 74, 58, 51, 70, 59, 71, 76, 59, 42, 57, 88, 22, 88, 73, 68, 100, 62, 77, 59, 54, 62, 70, 66, 60, 61, 66, 82, 75, 49, 52, 81, 96, 53, 58, 68, 67, 72, 94, 79, 63, 43, 81, 46, 71, 52, 97, 62, 46, 50, 65, 45, 65, 80, 62, 48, 77, 66, 76, 62, 77, 69, 61, 59, 55, 45, 78, 67, 65, 69, 57, 59, 74, 82, 81, 74, 58, 80, 35, 42, 60, 87, 84, 83, 34, 66, 61, 56, 87, 55, 86, 52, 45, 72, 57, 68, 88, 76, 46, 67, 92, 83, 80, 63, 64, 54, 84, 73, 80, 56, 59, 75, 85, 89, 58, 65, 68, 47, 71, 60, 80, 54, 62, 64, 78, 70, 65, 64, 79, 44, 99, 76, 59, 63, 69, 88, 71, 69, 58, 47, 65, 88, 83, 85, 59, 65, 73, 53, 45, 73, 70, 37, 81, 97, 67, 88, 77, 76, 86, 63, 65, 78, 67, 46, 71, 40, 90, 81, 56, 67, 80, 74, 69, 99, 51, 53, 49, 73, 66, 67, 68, 59, 71, 77, 83, 63, 56, 67, 75, 71, 43, 41, 82, 61, 28, 82, 41, 71, 47, 62, 90, 83, 61, 76, 49, 24, 35, 58, 61, 69, 67, 79, 72, 62, 77, 75, 87, 52, 66, 63, 46, 59, 61, 63, 42, 59, 80, 58, 85, 52, 27, 59, 49, 69, 61, 44, 73, 84, 45, 74, 82, 59, 46, 80, 85, 71, 66, 80, 87, 79, 38, 38, 67, 64, 57, 62, 73, 73, 77, 76, 57, 65, 48, 50, 85, 74, 60, 59, 53, 49, 88, 54, 63, 65, 82, 52, 87, 70, 84, 71, 63, 51, 84, 71, 74, 68, 57, 82, 57, 47, 59, 41, 62, 86, 69, 65, 68, 64, 61, 61, 47, 73, 50, 75, 75, 70, 89, 67, 78, 59, 73, 79, 67, 69, 86, 47, 81, 64, 100, 65, 65, 53, 37, 79, 53, 100, 72, 53, 54, 71, 77, 75, 84, 26, 72, 77, 91, 83, 63, 68, 59, 90, 71, 76, 80, 55, 76, 73, 52, 68, 59, 49, 70, 61, 60, 64, 79, 65, 64, 83, 81, 54, 68, 54, 59, 66, 76, 74, 94, 63, 95, 40, 82, 68, 55, 79, 86, 76, 64, 62, 54, 77, 76, 74, 66, 66, 67, 71, 91, 69, 54, 53, 68, 56, 36, 29, 62, 68, 47, 62, 79, 73, 66, 51, 51, 85, 97, 75, 79, 81, 82, 64, 78, 92, 72, 62, 79, 79, 87, 40, 77, 53, 32, 55, 61, 53, 73, 74, 63, 96, 63, 48, 48, 92, 61, 63, 68, 71, 91, 53, 50, 74, 40, 61, 81, 48, 53, 81, 77, 63, 73, 69, 65, 55, 44, 54, 48, 58, 71, 68, 74, 92, 56, 30, 53, 69, 65, 54, 29, 76, 60, 84, 75, 85, 40, 61, 58, 69, 58, 94, 65, 82, 60, 37, 88, 95, 65, 35, 62, 58, 100, 61, 100, 69, 61, 49, 44, 67, 79, 66, 75, 84, 71, 67, 80, 86, 76, 41, 74, 72, 74, 70, 65, 59, 64, 50, 69, 51, 68, 85, 65, 73, 62, 77, 69, 43, 90, 74, 73, 55, 65, 80, 50, 63, 77, 73, 81, 66, 52, 69, 65, 69, 50, 73, 70, 81, 63, 67, 60, 62, 29, 62, 94, 85, 77, 53, 93, 49, 73, 66, 77, 49, 79, 75, 59, 57, 66, 79, 57, 87, 63, 59, 62, 46, 66, 89, 42, 93, 80, 98, 81, 60, 76, 73, 96, 76, 91, 62, 55, 74, 50, 47, 81, 65, 68, 73, 53, 68, 55, 87, 55, 53, 67, 92, 53, 81, 61, 80, 37, 81, 59, 55, 72, 69, 69, 50, 87, 71, 68, 79, 77, 58, 84, 55, 70, 52, 69, 53, 48, 78, 62, 60, 74, 58, 76, 68, 58, 52, 75, 52, 62, 66, 49, 66, 35, 72, 94, 46, 77, 76, 52, 91, 32, 72, 19, 68, 52, 48, 60, 66, 89, 42, 57, 70, 70, 69, 52, 67, 76, 87, 82, 73, 75, 64, 41, 90, 59, 51, 45, 54, 87, 72, 94, 45, 61, 60, 77, 85, 78, 49, 71, 48, 62, 56, 65, 69, 68, 61, 74, 64, 77, 58, 60, 73, 75, 58, 66, 39, 64, 23, 74, 40, 90, 91, 64, 59, 80, 71, 61, 87, 82, 62, 97, 75, 65, 52, 87, 53, 81, 39, 71, 97, 82, 59, 61, 78, 49, 59, 70, 82, 90, 43, 80, 81, 57, 59, 64, 63, 71, 64, 55, 51, 62, 93, 54, 69, 44, 86, 85, 50, 88, 59, 32, 36, 63, 67, 65, 85, 73, 34, 93, 67, 88, 57, 79, 67, 70, 50, 69, 52, 47, 46, 68, 100, 44, 57, 91, 69, 35, 72, 54, 74, 74, 64, 65, 46, 48, 67, 62, 61, 70, 98, 70, 67, 57, 85, 77, 72, 78, 81, 61, 58, 54, 82, 49, 49, 57, 94, 75, 74, 58, 62, 72, 84, 92, 45, 75, 56, 48, 100, 65, 72, 62, 66, 63, 68, 75, 89, 78, 53, 49, 54, 64, 60, 62, 55, 91, 8, 81, 79, 78, 74, 57, 40, 81, 44, 67, 86, 65, 55, 62, 63, 88, 62, 59, 68, 77], [72, 90, 95, 57, 78, 83, 95, 43, 64, 60, 54, 52, 81, 72, 53, 75, 89, 32, 42, 58, 69, 75, 54, 73, 71, 74, 54, 69, 70, 70, 74, 65, 72, 42, 87, 81, 81, 64, 90, 56, 61, 73, 58, 65, 56, 54, 65, 71, 74, 84, 55, 69, 44, 78, 84, 41, 85, 55, 59, 17, 74, 39, 61, 80, 58, 64, 37, 72, 58, 64, 63, 55, 51, 57, 49, 41, 26, 78, 74, 68, 49, 45, 47, 64, 39, 80, 83, 71, 70, 86, 72, 34, 79, 45, 86, 81, 66, 72, 67, 67, 67, 74, 91, 44, 86, 67, 100, 63, 76, 64, 89, 55, 53, 58, 100, 77, 85, 82, 63, 69, 92, 89, 93, 57, 80, 95, 68, 77, 82, 49, 84, 37, 74, 81, 79, 55, 54, 55, 66, 61, 72, 62, 55, 43, 73, 39, 84, 68, 75, 100, 67, 67, 70, 49, 67, 89, 74, 60, 86, 62, 78, 88, 53, 53, 92, 100, 51, 76, 83, 75, 73, 88, 86, 67, 51, 91, 54, 77, 70, 100, 68, 64, 50, 69, 52, 67, 76, 66, 52, 88, 65, 83, 64, 62, 84, 55, 69, 56, 53, 79, 84, 81, 77, 69, 41, 71, 62, 80, 81, 61, 79, 28, 62, 51, 91, 83, 86, 42, 77, 56, 68, 85, 65, 80, 66, 56, 72, 50, 72, 95, 64, 43, 86, 87, 82, 75, 66, 60, 52, 80, 68, 83, 52, 51, 74, 76, 76, 70, 64, 60, 49, 83, 70, 80, 52, 73, 73, 77, 75, 81, 79, 79, 50, 93, 73, 42, 75, 72, 92, 76, 63, 49, 53, 70, 85, 78, 92, 63, 86, 56, 52, 48, 79, 78, 46, 82, 82, 89, 75, 76, 70, 73, 60, 73, 77, 62, 41, 74, 46, 87, 78, 54, 84, 76, 75, 67, 87, 52, 71, 57, 76, 60, 61, 67, 64, 66, 82, 72, 71, 65, 79, 86, 81, 53, 46, 90, 61, 23, 75, 55, 60, 37, 56, 78, 93, 68, 70, 51, 38, 55, 61, 73, 76, 72, 73, 80, 61, 94, 74, 74, 65, 57, 78, 58, 71, 72, 61, 66, 62, 90, 62, 84, 58, 34, 60, 58, 58, 66, 64, 84, 77, 73, 74, 97, 70, 43, 90, 95, 83, 64, 86, 100, 81, 49, 43, 76, 73, 78, 64, 70, 67, 68, 67, 54, 74, 45, 67, 89, 63, 59, 54, 43, 65, 99, 59, 73, 65, 80, 57, 84, 71, 83, 66, 67, 72, 73, 74, 73, 59, 56, 93, 58, 58, 85, 39, 67, 83, 71, 59, 63, 66, 72, 56, 59, 66, 48, 68, 66, 56, 88, 81, 81, 73, 83, 82, 74, 66, 81, 46, 73, 85, 92, 77, 58, 61, 56, 89, 54, 100, 65, 58, 54, 70, 90, 58, 87, 31, 67, 88, 74, 85, 69, 86, 67, 90, 76, 62, 68, 64, 71, 71, 59, 68, 52, 52, 74, 47, 75, 53, 82, 85, 64, 83, 88, 64, 64, 48, 78, 69, 71, 79, 87, 61, 89, 59, 82, 70, 59, 78, 92, 71, 50, 49, 61, 97, 87, 89, 74, 78, 78, 49, 86, 58, 59, 52, 60, 61, 53, 41, 74, 67, 54, 61, 88, 69, 83, 60, 66, 66, 92, 69, 82, 77, 95, 63, 83, 100, 67, 67, 72, 76, 90, 48, 62, 45, 39, 72, 67, 70, 66, 75, 74, 90, 80, 51, 43, 100, 71, 48, 68, 75, 96, 62, 66, 81, 55, 51, 91, 56, 61, 97, 79, 73, 75, 77, 76, 73, 63, 64, 66, 57, 62, 68, 76, 100, 79, 24, 54, 77, 82, 60, 29, 78, 57, 89, 72, 84, 58, 64, 63, 60, 59, 90, 77, 93, 68, 45, 78, 81, 73, 61, 63, 51, 96, 58, 97, 70, 48, 57, 51, 64, 60, 74, 88, 84, 74, 80, 92, 76, 74, 52, 88, 81, 79, 65, 81, 70, 62, 53, 79, 56, 80, 86, 70, 79, 67, 67, 66, 60, 87, 77, 66, 71, 69, 63, 60, 73, 85, 74, 72, 76, 57, 78, 84, 77, 64, 78, 82, 75, 61, 72, 68, 55, 40, 66, 99, 75, 78, 58, 90, 53, 76, 74, 77, 63, 89, 82, 72, 78, 66, 81, 67, 84, 64, 63, 72, 34, 59, 87, 61, 84, 85, 100, 81, 70, 94, 78, 96, 76, 73, 72, 59, 90, 48, 43, 74, 75, 51, 92, 39, 77, 46, 89, 47, 58, 57, 79, 66, 71, 60, 73, 57, 84, 73, 55, 79, 75, 64, 60, 84, 69, 72, 77, 90, 55, 95, 58, 68, 59, 77, 72, 58, 81, 62, 63, 72, 75, 62, 71, 60, 48, 73, 67, 78, 65, 58, 72, 44, 79, 85, 56, 90, 85, 59, 81, 51, 79, 38, 65, 65, 62, 66, 74, 84, 52, 68, 70, 84, 60, 55, 73, 80, 94, 85, 76, 81, 74, 45, 75, 54, 31, 47, 64, 84, 80, 86, 59, 70, 72, 91, 90, 90, 52, 87, 58, 67, 68, 69, 86, 54, 60, 86, 60, 82, 50, 64, 64, 82, 57, 77, 52, 58, 44, 77, 65, 85, 85, 54, 72, 75, 67, 68, 85, 67, 64, 97, 68, 79, 49, 73, 62, 86, 42, 71, 93, 82, 53, 42, 74, 51, 58, 72, 84, 90, 62, 64, 82, 61, 72, 76, 64, 70, 73, 46, 51, 76, 100, 72, 65, 51, 85, 92, 67, 74, 62, 34, 29, 78, 54, 78, 84, 78, 48, 100, 84, 77, 48, 84, 75, 64, 42, 84, 61, 62, 61, 70, 100, 61, 77, 96, 70, 53, 66, 65, 70, 64, 56, 61, 43, 56, 74, 57, 71, 75, 87, 63, 57, 58, 81, 68, 66, 91, 66, 62, 68, 61, 82, 58, 50, 75, 73, 77, 74, 52, 69, 57, 87, 100, 63, 81, 58, 54, 100, 76, 57, 70, 68, 63, 76, 84, 100, 72, 50, 65, 63, 82, 62, 65, 41, 95, 24, 78, 85, 87, 75, 51, 59, 75, 45, 86, 81, 82, 76, 72, 63, 99, 55, 71, 78, 86], [74, 88, 93, 44, 75, 78, 92, 39, 67, 50, 52, 43, 73, 70, 58, 78, 86, 28, 46, 61, 63, 70, 53, 73, 80, 72, 55, 75, 65, 75, 74, 61, 65, 38, 82, 79, 83, 59, 88, 57, 54, 68, 65, 66, 54, 57, 62, 76, 76, 82, 48, 68, 42, 75, 87, 43, 86, 49, 58, 10, 72, 34, 55, 71, 59, 61, 37, 74, 56, 57, 73, 63, 48, 56, 41, 38, 22, 81, 72, 68, 50, 45, 54, 63, 34, 82, 88, 74, 67, 82, 74, 36, 71, 50, 92, 82, 62, 70, 62, 62, 67, 74, 89, 47, 90, 72, 100, 64, 70, 72, 98, 49, 47, 54, 100, 74, 82, 79, 61, 65, 89, 92, 93, 56, 73, 86, 67, 74, 74, 51, 82, 40, 70, 84, 75, 48, 41, 56, 67, 69, 71, 64, 54, 47, 78, 33, 75, 66, 81, 93, 69, 68, 66, 47, 61, 88, 78, 60, 87, 64, 74, 85, 52, 49, 91, 100, 51, 78, 78, 70, 74, 78, 81, 70, 54, 87, 58, 77, 62, 100, 75, 66, 47, 70, 49, 65, 65, 68, 45, 87, 69, 79, 66, 62, 85, 52, 65, 51, 55, 76, 86, 77, 69, 68, 42, 78, 62, 76, 76, 66, 79, 27, 60, 56, 81, 75, 88, 39, 70, 56, 74, 73, 62, 75, 73, 54, 71, 54, 64, 94, 66, 42, 83, 78, 84, 77, 67, 74, 51, 80, 66, 83, 55, 43, 69, 71, 74, 68, 62, 53, 49, 83, 70, 72, 52, 70, 68, 77, 78, 81, 77, 78, 51, 90, 68, 41, 81, 77, 95, 70, 61, 42, 58, 71, 76, 73, 93, 75, 80, 57, 42, 46, 84, 78, 46, 82, 88, 82, 76, 77, 68, 70, 57, 75, 80, 60, 43, 68, 50, 75, 81, 52, 81, 64, 83, 69, 81, 44, 67, 52, 80, 57, 68, 69, 75, 65, 91, 78, 69, 63, 84, 79, 80, 53, 43, 94, 62, 19, 77, 51, 61, 35, 53, 81, 95, 66, 69, 43, 27, 60, 52, 63, 74, 67, 67, 75, 57, 95, 66, 76, 69, 52, 80, 57, 70, 70, 61, 69, 61, 89, 59, 78, 58, 32, 58, 60, 53, 61, 58, 85, 71, 70, 72, 96, 73, 41, 82, 100, 77, 62, 83, 95, 71, 45, 43, 75, 70, 67, 64, 75, 59, 77, 67, 56, 77, 41, 63, 95, 57, 54, 67, 43, 55, 100, 62, 68, 63, 77, 56, 85, 74, 78, 60, 67, 79, 69, 68, 67, 62, 54, 93, 64, 67, 80, 34, 62, 86, 65, 53, 54, 59, 70, 55, 50, 66, 53, 64, 73, 51, 82, 79, 80, 69, 76, 73, 77, 60, 80, 42, 72, 85, 97, 74, 49, 62, 47, 89, 48, 100, 68, 55, 45, 76, 91, 62, 91, 38, 65, 85, 76, 90, 74, 84, 61, 91, 83, 66, 72, 70, 67, 68, 56, 61, 46, 54, 71, 56, 74, 57, 82, 76, 70, 90, 90, 68, 66, 52, 76, 68, 72, 82, 92, 54, 92, 54, 80, 66, 54, 77, 87, 73, 43, 52, 62, 94, 85, 84, 73, 78, 79, 52, 84, 57, 50, 49, 59, 60, 43, 47, 70, 73, 53, 58, 94, 68, 83, 58, 62, 71, 86, 68, 80, 79, 89, 66, 80, 97, 64, 64, 69, 65, 88, 50, 64, 40, 33, 79, 66, 70, 62, 79, 74, 92, 80, 46, 45, 100, 78, 47, 67, 70, 92, 56, 64, 71, 53, 52, 89, 58, 68, 96, 80, 78, 80, 77, 76, 73, 62, 65, 65, 54, 50, 64, 73, 99, 72, 15, 48, 73, 81, 63, 30, 80, 51, 90, 62, 82, 54, 62, 65, 63, 66, 91, 74, 93, 72, 38, 83, 84, 68, 54, 56, 52, 86, 62, 99, 63, 46, 46, 55, 70, 65, 81, 85, 80, 64, 81, 88, 74, 73, 51, 90, 79, 80, 60, 81, 65, 68, 55, 81, 53, 76, 98, 74, 79, 67, 64, 61, 58, 85, 73, 63, 69, 67, 63, 60, 71, 87, 61, 77, 68, 50, 76, 84, 78, 66, 76, 76, 78, 60, 74, 60, 54, 44, 68, 100, 68, 73, 44, 83, 53, 78, 81, 73, 56, 86, 90, 70, 79, 59, 82, 72, 87, 67, 64, 65, 36, 52, 79, 58, 90, 85, 99, 84, 74, 87, 72, 99, 74, 80, 70, 59, 88, 42, 41, 71, 77, 57, 84, 37, 80, 43, 94, 44, 57, 59, 84, 73, 73, 55, 72, 56, 82, 72, 47, 74, 71, 68, 59, 86, 68, 65, 75, 85, 53, 92, 52, 72, 65, 77, 64, 54, 86, 63, 59, 72, 77, 60, 75, 57, 49, 74, 72, 79, 60, 55, 70, 43, 82, 82, 57, 84, 82, 62, 79, 44, 77, 32, 61, 61, 60, 70, 69, 77, 51, 73, 70, 81, 54, 57, 68, 73, 95, 87, 78, 74, 75, 40, 69, 51, 36, 49, 67, 76, 83, 87, 64, 76, 68, 88, 92, 93, 51, 82, 52, 58, 70, 76, 81, 53, 57, 89, 58, 89, 45, 74, 57, 79, 53, 73, 46, 51, 36, 76, 64, 84, 85, 50, 68, 69, 67, 63, 93, 61, 55, 96, 65, 81, 46, 72, 53, 87, 38, 80, 91, 88, 52, 41, 72, 51, 47, 76, 78, 82, 61, 66, 84, 54, 80, 74, 66, 70, 71, 44, 54, 80, 95, 59, 74, 48, 91, 85, 73, 75, 69, 38, 27, 79, 63, 82, 89, 74, 41, 100, 84, 77, 51, 91, 72, 70, 48, 82, 66, 66, 55, 66, 100, 52, 80, 91, 67, 46, 66, 65, 69, 60, 52, 71, 44, 51, 70, 62, 73, 74, 90, 58, 53, 57, 85, 69, 72, 96, 64, 61, 61, 58, 80, 60, 52, 73, 71, 83, 72, 54, 69, 62, 81, 100, 59, 71, 64, 53, 100, 75, 58, 72, 64, 60, 67, 80, 100, 69, 60, 61, 67, 77, 60, 58, 48, 94, 23, 78, 86, 91, 82, 54, 51, 76, 45, 83, 75, 78, 76, 74, 62, 95, 55, 65, 77, 86]]}, \"header\": {\"align\": \"left\", \"values\": [\"gender\", \"race/ethnicity\", \"parental level of education\", \"lunch\", \"test preparation course\", \"math score\", \"reading score\", \"writing score\"]}, \"type\": \"table\"}],\n",
              "                        {\"template\": {\"data\": {\"bar\": [{\"error_x\": {\"color\": \"#2a3f5f\"}, \"error_y\": {\"color\": \"#2a3f5f\"}, \"marker\": {\"line\": {\"color\": \"#E5ECF6\", \"width\": 0.5}}, \"type\": \"bar\"}], \"barpolar\": [{\"marker\": {\"line\": {\"color\": \"#E5ECF6\", \"width\": 0.5}}, \"type\": \"barpolar\"}], \"carpet\": [{\"aaxis\": {\"endlinecolor\": \"#2a3f5f\", \"gridcolor\": \"white\", \"linecolor\": \"white\", \"minorgridcolor\": \"white\", \"startlinecolor\": \"#2a3f5f\"}, \"baxis\": {\"endlinecolor\": \"#2a3f5f\", \"gridcolor\": \"white\", \"linecolor\": \"white\", \"minorgridcolor\": \"white\", \"startlinecolor\": \"#2a3f5f\"}, \"type\": \"carpet\"}], \"choropleth\": [{\"colorbar\": {\"outlinewidth\": 0, \"ticks\": \"\"}, \"type\": \"choropleth\"}], \"contour\": [{\"colorbar\": {\"outlinewidth\": 0, \"ticks\": \"\"}, \"colorscale\": [[0.0, \"#0d0887\"], [0.1111111111111111, \"#46039f\"], [0.2222222222222222, \"#7201a8\"], [0.3333333333333333, \"#9c179e\"], [0.4444444444444444, \"#bd3786\"], [0.5555555555555556, \"#d8576b\"], [0.6666666666666666, \"#ed7953\"], [0.7777777777777778, \"#fb9f3a\"], [0.8888888888888888, \"#fdca26\"], [1.0, \"#f0f921\"]], \"type\": \"contour\"}], \"contourcarpet\": [{\"colorbar\": {\"outlinewidth\": 0, \"ticks\": \"\"}, \"type\": \"contourcarpet\"}], \"heatmap\": [{\"colorbar\": {\"outlinewidth\": 0, \"ticks\": \"\"}, \"colorscale\": [[0.0, \"#0d0887\"], [0.1111111111111111, \"#46039f\"], [0.2222222222222222, \"#7201a8\"], [0.3333333333333333, \"#9c179e\"], [0.4444444444444444, \"#bd3786\"], [0.5555555555555556, \"#d8576b\"], [0.6666666666666666, \"#ed7953\"], [0.7777777777777778, \"#fb9f3a\"], [0.8888888888888888, \"#fdca26\"], [1.0, \"#f0f921\"]], \"type\": \"heatmap\"}], \"heatmapgl\": [{\"colorbar\": {\"outlinewidth\": 0, \"ticks\": \"\"}, \"colorscale\": [[0.0, \"#0d0887\"], [0.1111111111111111, \"#46039f\"], [0.2222222222222222, \"#7201a8\"], [0.3333333333333333, \"#9c179e\"], [0.4444444444444444, \"#bd3786\"], [0.5555555555555556, \"#d8576b\"], [0.6666666666666666, \"#ed7953\"], [0.7777777777777778, \"#fb9f3a\"], [0.8888888888888888, \"#fdca26\"], [1.0, \"#f0f921\"]], \"type\": \"heatmapgl\"}], \"histogram\": [{\"marker\": {\"colorbar\": {\"outlinewidth\": 0, \"ticks\": \"\"}}, \"type\": \"histogram\"}], \"histogram2d\": [{\"colorbar\": {\"outlinewidth\": 0, \"ticks\": \"\"}, \"colorscale\": [[0.0, \"#0d0887\"], [0.1111111111111111, \"#46039f\"], [0.2222222222222222, \"#7201a8\"], [0.3333333333333333, \"#9c179e\"], [0.4444444444444444, \"#bd3786\"], [0.5555555555555556, \"#d8576b\"], [0.6666666666666666, \"#ed7953\"], [0.7777777777777778, \"#fb9f3a\"], [0.8888888888888888, \"#fdca26\"], [1.0, \"#f0f921\"]], \"type\": \"histogram2d\"}], \"histogram2dcontour\": [{\"colorbar\": {\"outlinewidth\": 0, \"ticks\": \"\"}, \"colorscale\": [[0.0, \"#0d0887\"], [0.1111111111111111, \"#46039f\"], [0.2222222222222222, \"#7201a8\"], [0.3333333333333333, \"#9c179e\"], [0.4444444444444444, \"#bd3786\"], [0.5555555555555556, \"#d8576b\"], [0.6666666666666666, \"#ed7953\"], [0.7777777777777778, \"#fb9f3a\"], [0.8888888888888888, \"#fdca26\"], [1.0, \"#f0f921\"]], \"type\": \"histogram2dcontour\"}], \"mesh3d\": [{\"colorbar\": {\"outlinewidth\": 0, \"ticks\": \"\"}, \"type\": \"mesh3d\"}], \"parcoords\": [{\"line\": {\"colorbar\": {\"outlinewidth\": 0, \"ticks\": \"\"}}, \"type\": \"parcoords\"}], \"pie\": [{\"automargin\": true, \"type\": \"pie\"}], \"scatter\": [{\"marker\": {\"colorbar\": {\"outlinewidth\": 0, \"ticks\": \"\"}}, \"type\": \"scatter\"}], \"scatter3d\": [{\"line\": {\"colorbar\": {\"outlinewidth\": 0, \"ticks\": \"\"}}, \"marker\": {\"colorbar\": {\"outlinewidth\": 0, \"ticks\": \"\"}}, \"type\": \"scatter3d\"}], \"scattercarpet\": [{\"marker\": {\"colorbar\": {\"outlinewidth\": 0, \"ticks\": \"\"}}, \"type\": \"scattercarpet\"}], \"scattergeo\": [{\"marker\": {\"colorbar\": {\"outlinewidth\": 0, \"ticks\": \"\"}}, \"type\": \"scattergeo\"}], \"scattergl\": [{\"marker\": {\"colorbar\": {\"outlinewidth\": 0, \"ticks\": \"\"}}, \"type\": \"scattergl\"}], \"scattermapbox\": [{\"marker\": {\"colorbar\": {\"outlinewidth\": 0, \"ticks\": \"\"}}, \"type\": \"scattermapbox\"}], \"scatterpolar\": [{\"marker\": {\"colorbar\": {\"outlinewidth\": 0, \"ticks\": \"\"}}, \"type\": \"scatterpolar\"}], \"scatterpolargl\": [{\"marker\": {\"colorbar\": {\"outlinewidth\": 0, \"ticks\": \"\"}}, \"type\": \"scatterpolargl\"}], \"scatterternary\": [{\"marker\": {\"colorbar\": {\"outlinewidth\": 0, \"ticks\": \"\"}}, \"type\": \"scatterternary\"}], \"surface\": [{\"colorbar\": {\"outlinewidth\": 0, \"ticks\": \"\"}, \"colorscale\": [[0.0, \"#0d0887\"], [0.1111111111111111, \"#46039f\"], [0.2222222222222222, \"#7201a8\"], [0.3333333333333333, \"#9c179e\"], [0.4444444444444444, \"#bd3786\"], [0.5555555555555556, \"#d8576b\"], [0.6666666666666666, \"#ed7953\"], [0.7777777777777778, \"#fb9f3a\"], [0.8888888888888888, \"#fdca26\"], [1.0, \"#f0f921\"]], \"type\": \"surface\"}], \"table\": [{\"cells\": {\"fill\": {\"color\": \"#EBF0F8\"}, \"line\": {\"color\": \"white\"}}, \"header\": {\"fill\": {\"color\": \"#C8D4E3\"}, \"line\": {\"color\": \"white\"}}, \"type\": \"table\"}]}, \"layout\": {\"annotationdefaults\": {\"arrowcolor\": \"#2a3f5f\", \"arrowhead\": 0, \"arrowwidth\": 1}, \"coloraxis\": {\"colorbar\": {\"outlinewidth\": 0, \"ticks\": \"\"}}, \"colorscale\": {\"diverging\": [[0, \"#8e0152\"], [0.1, \"#c51b7d\"], [0.2, \"#de77ae\"], [0.3, \"#f1b6da\"], [0.4, \"#fde0ef\"], [0.5, \"#f7f7f7\"], [0.6, \"#e6f5d0\"], [0.7, \"#b8e186\"], [0.8, \"#7fbc41\"], [0.9, \"#4d9221\"], [1, \"#276419\"]], \"sequential\": [[0.0, \"#0d0887\"], [0.1111111111111111, \"#46039f\"], [0.2222222222222222, \"#7201a8\"], [0.3333333333333333, \"#9c179e\"], [0.4444444444444444, \"#bd3786\"], [0.5555555555555556, \"#d8576b\"], [0.6666666666666666, \"#ed7953\"], [0.7777777777777778, \"#fb9f3a\"], [0.8888888888888888, \"#fdca26\"], [1.0, \"#f0f921\"]], \"sequentialminus\": [[0.0, \"#0d0887\"], [0.1111111111111111, \"#46039f\"], [0.2222222222222222, \"#7201a8\"], [0.3333333333333333, \"#9c179e\"], [0.4444444444444444, \"#bd3786\"], [0.5555555555555556, \"#d8576b\"], [0.6666666666666666, \"#ed7953\"], [0.7777777777777778, \"#fb9f3a\"], [0.8888888888888888, \"#fdca26\"], [1.0, \"#f0f921\"]]}, \"colorway\": [\"#636efa\", \"#EF553B\", \"#00cc96\", \"#ab63fa\", \"#FFA15A\", \"#19d3f3\", \"#FF6692\", \"#B6E880\", \"#FF97FF\", \"#FECB52\"], \"font\": {\"color\": \"#2a3f5f\"}, \"geo\": {\"bgcolor\": \"white\", \"lakecolor\": \"white\", \"landcolor\": \"#E5ECF6\", \"showlakes\": true, \"showland\": true, \"subunitcolor\": \"white\"}, \"hoverlabel\": {\"align\": \"left\"}, \"hovermode\": \"closest\", \"mapbox\": {\"style\": \"light\"}, \"paper_bgcolor\": \"white\", \"plot_bgcolor\": \"#E5ECF6\", \"polar\": {\"angularaxis\": {\"gridcolor\": \"white\", \"linecolor\": \"white\", \"ticks\": \"\"}, \"bgcolor\": \"#E5ECF6\", \"radialaxis\": {\"gridcolor\": \"white\", \"linecolor\": \"white\", \"ticks\": \"\"}}, \"scene\": {\"xaxis\": {\"backgroundcolor\": \"#E5ECF6\", \"gridcolor\": \"white\", \"gridwidth\": 2, \"linecolor\": \"white\", \"showbackground\": true, \"ticks\": \"\", \"zerolinecolor\": \"white\"}, \"yaxis\": {\"backgroundcolor\": \"#E5ECF6\", \"gridcolor\": \"white\", \"gridwidth\": 2, \"linecolor\": \"white\", \"showbackground\": true, \"ticks\": \"\", \"zerolinecolor\": \"white\"}, \"zaxis\": {\"backgroundcolor\": \"#E5ECF6\", \"gridcolor\": \"white\", \"gridwidth\": 2, \"linecolor\": \"white\", \"showbackground\": true, \"ticks\": \"\", \"zerolinecolor\": \"white\"}}, \"shapedefaults\": {\"line\": {\"color\": \"#2a3f5f\"}}, \"ternary\": {\"aaxis\": {\"gridcolor\": \"white\", \"linecolor\": \"white\", \"ticks\": \"\"}, \"baxis\": {\"gridcolor\": \"white\", \"linecolor\": \"white\", \"ticks\": \"\"}, \"bgcolor\": \"#E5ECF6\", \"caxis\": {\"gridcolor\": \"white\", \"linecolor\": \"white\", \"ticks\": \"\"}}, \"title\": {\"x\": 0.05}, \"xaxis\": {\"automargin\": true, \"gridcolor\": \"white\", \"linecolor\": \"white\", \"ticks\": \"\", \"title\": {\"standoff\": 15}, \"zerolinecolor\": \"white\", \"zerolinewidth\": 2}, \"yaxis\": {\"automargin\": true, \"gridcolor\": \"white\", \"linecolor\": \"white\", \"ticks\": \"\", \"title\": {\"standoff\": 15}, \"zerolinecolor\": \"white\", \"zerolinewidth\": 2}}}},\n",
              "                        {\"responsive\": true}\n",
              "                    ).then(function(){\n",
              "                            \n",
              "var gd = document.getElementById('9114870f-1b5d-4be6-ab10-43d71597bb59');\n",
              "var x = new MutationObserver(function (mutations, observer) {{\n",
              "        var display = window.getComputedStyle(gd).display;\n",
              "        if (!display || display === 'none') {{\n",
              "            console.log([gd, 'removed!']);\n",
              "            Plotly.purge(gd);\n",
              "            observer.disconnect();\n",
              "        }}\n",
              "}});\n",
              "\n",
              "// Listen for the removal of the full notebook cells\n",
              "var notebookContainer = gd.closest('#notebook-container');\n",
              "if (notebookContainer) {{\n",
              "    x.observe(notebookContainer, {childList: true});\n",
              "}}\n",
              "\n",
              "// Listen for the clearing of the current output cell\n",
              "var outputEl = gd.closest('.output');\n",
              "if (outputEl) {{\n",
              "    x.observe(outputEl, {childList: true});\n",
              "}}\n",
              "\n",
              "                        })\n",
              "                };\n",
              "                \n",
              "            </script>\n",
              "        </div>\n",
              "</body>\n",
              "</html>"
            ]
          },
          "metadata": {
            "tags": []
          }
        }
      ]
    },
    {
      "cell_type": "markdown",
      "metadata": {
        "id": "5u3y5KIqJ9s4"
      },
      "source": [
        "## Gráfico de barras: \n",
        "\n",
        "En el mundo del análisis de datos son básicos. \n",
        "\n",
        "1. Importar plotly \n",
        "\n",
        "`import plotly.express as px`\n",
        "\n",
        "2. Guardar la figura\n",
        "\n",
        "`fig = px.bar(DataFrame, x = \"labelx\", y = \"labely\")`"
      ]
    },
    {
      "cell_type": "code",
      "metadata": {
        "colab": {
          "base_uri": "https://localhost:8080/"
        },
        "id": "GceEQk9UI7Kf",
        "outputId": "da649712-424b-4a48-9b2f-4599f194536e"
      },
      "source": [
        "genero = df_estudiantes[\"gender\"]\n",
        "genero.describe()"
      ],
      "execution_count": 23,
      "outputs": [
        {
          "output_type": "execute_result",
          "data": {
            "text/plain": [
              "count       1000\n",
              "unique         2\n",
              "top       female\n",
              "freq         518\n",
              "Name: gender, dtype: object"
            ]
          },
          "metadata": {
            "tags": []
          },
          "execution_count": 23
        }
      ]
    },
    {
      "cell_type": "code",
      "metadata": {
        "colab": {
          "base_uri": "https://localhost:8080/",
          "height": 108
        },
        "id": "hX7gLF_CO8Vd",
        "outputId": "d84b23eb-8655-46ac-9c34-b84d66802c0b"
      },
      "source": [
        "df_genero = pd.DataFrame(data = [[\"female\",518 ],\n",
        "                                 [\"male\", (1000-518)]], columns = [\"gender\", \"count\"])\n",
        "df_genero"
      ],
      "execution_count": 38,
      "outputs": [
        {
          "output_type": "execute_result",
          "data": {
            "text/html": [
              "<div>\n",
              "<style scoped>\n",
              "    .dataframe tbody tr th:only-of-type {\n",
              "        vertical-align: middle;\n",
              "    }\n",
              "\n",
              "    .dataframe tbody tr th {\n",
              "        vertical-align: top;\n",
              "    }\n",
              "\n",
              "    .dataframe thead th {\n",
              "        text-align: right;\n",
              "    }\n",
              "</style>\n",
              "<table border=\"1\" class=\"dataframe\">\n",
              "  <thead>\n",
              "    <tr style=\"text-align: right;\">\n",
              "      <th></th>\n",
              "      <th>gender</th>\n",
              "      <th>count</th>\n",
              "    </tr>\n",
              "  </thead>\n",
              "  <tbody>\n",
              "    <tr>\n",
              "      <th>0</th>\n",
              "      <td>female</td>\n",
              "      <td>518</td>\n",
              "    </tr>\n",
              "    <tr>\n",
              "      <th>1</th>\n",
              "      <td>male</td>\n",
              "      <td>482</td>\n",
              "    </tr>\n",
              "  </tbody>\n",
              "</table>\n",
              "</div>"
            ],
            "text/plain": [
              "   gender  count\n",
              "0  female    518\n",
              "1    male    482"
            ]
          },
          "metadata": {
            "tags": []
          },
          "execution_count": 38
        }
      ]
    },
    {
      "cell_type": "code",
      "metadata": {
        "id": "mYYgMSpfLLqS"
      },
      "source": [
        "import plotly.express as px"
      ],
      "execution_count": 39,
      "outputs": []
    },
    {
      "cell_type": "code",
      "metadata": {
        "colab": {
          "base_uri": "https://localhost:8080/",
          "height": 542
        },
        "id": "r5H8Wf3QLUOK",
        "outputId": "92b93428-c9e6-4e3f-938f-3f72f1dfe9b8"
      },
      "source": [
        "px.bar(df_genero, x = \"gender\", y = \"count\", color = \"gender\", title = \"Gráfico de Barras con plotly\")"
      ],
      "execution_count": 43,
      "outputs": [
        {
          "output_type": "display_data",
          "data": {
            "text/html": [
              "<html>\n",
              "<head><meta charset=\"utf-8\" /></head>\n",
              "<body>\n",
              "    <div>\n",
              "            <script src=\"https://cdnjs.cloudflare.com/ajax/libs/mathjax/2.7.5/MathJax.js?config=TeX-AMS-MML_SVG\"></script><script type=\"text/javascript\">if (window.MathJax) {MathJax.Hub.Config({SVG: {font: \"STIX-Web\"}});}</script>\n",
              "                <script type=\"text/javascript\">window.PlotlyConfig = {MathJaxConfig: 'local'};</script>\n",
              "        <script src=\"https://cdn.plot.ly/plotly-latest.min.js\"></script>    \n",
              "            <div id=\"4acc9fef-d42d-43ea-8828-d27d88c61195\" class=\"plotly-graph-div\" style=\"height:525px; width:100%;\"></div>\n",
              "            <script type=\"text/javascript\">\n",
              "                \n",
              "                    window.PLOTLYENV=window.PLOTLYENV || {};\n",
              "                    \n",
              "                if (document.getElementById(\"4acc9fef-d42d-43ea-8828-d27d88c61195\")) {\n",
              "                    Plotly.newPlot(\n",
              "                        '4acc9fef-d42d-43ea-8828-d27d88c61195',\n",
              "                        [{\"alignmentgroup\": \"True\", \"hoverlabel\": {\"namelength\": 0}, \"hovertemplate\": \"gender=%{x}<br>count=%{y}\", \"legendgroup\": \"gender=female\", \"marker\": {\"color\": \"#636efa\"}, \"name\": \"gender=female\", \"offsetgroup\": \"gender=female\", \"orientation\": \"v\", \"showlegend\": true, \"textposition\": \"auto\", \"type\": \"bar\", \"x\": [\"female\"], \"xaxis\": \"x\", \"y\": [518], \"yaxis\": \"y\"}, {\"alignmentgroup\": \"True\", \"hoverlabel\": {\"namelength\": 0}, \"hovertemplate\": \"gender=%{x}<br>count=%{y}\", \"legendgroup\": \"gender=male\", \"marker\": {\"color\": \"#EF553B\"}, \"name\": \"gender=male\", \"offsetgroup\": \"gender=male\", \"orientation\": \"v\", \"showlegend\": true, \"textposition\": \"auto\", \"type\": \"bar\", \"x\": [\"male\"], \"xaxis\": \"x\", \"y\": [482], \"yaxis\": \"y\"}],\n",
              "                        {\"barmode\": \"relative\", \"legend\": {\"tracegroupgap\": 0}, \"template\": {\"data\": {\"bar\": [{\"error_x\": {\"color\": \"#2a3f5f\"}, \"error_y\": {\"color\": \"#2a3f5f\"}, \"marker\": {\"line\": {\"color\": \"#E5ECF6\", \"width\": 0.5}}, \"type\": \"bar\"}], \"barpolar\": [{\"marker\": {\"line\": {\"color\": \"#E5ECF6\", \"width\": 0.5}}, \"type\": \"barpolar\"}], \"carpet\": [{\"aaxis\": {\"endlinecolor\": \"#2a3f5f\", \"gridcolor\": \"white\", \"linecolor\": \"white\", \"minorgridcolor\": \"white\", \"startlinecolor\": \"#2a3f5f\"}, \"baxis\": {\"endlinecolor\": \"#2a3f5f\", \"gridcolor\": \"white\", \"linecolor\": \"white\", \"minorgridcolor\": \"white\", \"startlinecolor\": \"#2a3f5f\"}, \"type\": \"carpet\"}], \"choropleth\": [{\"colorbar\": {\"outlinewidth\": 0, \"ticks\": \"\"}, \"type\": \"choropleth\"}], \"contour\": [{\"colorbar\": {\"outlinewidth\": 0, \"ticks\": \"\"}, \"colorscale\": [[0.0, \"#0d0887\"], [0.1111111111111111, \"#46039f\"], [0.2222222222222222, \"#7201a8\"], [0.3333333333333333, \"#9c179e\"], [0.4444444444444444, \"#bd3786\"], [0.5555555555555556, \"#d8576b\"], [0.6666666666666666, \"#ed7953\"], [0.7777777777777778, \"#fb9f3a\"], [0.8888888888888888, \"#fdca26\"], [1.0, \"#f0f921\"]], \"type\": \"contour\"}], \"contourcarpet\": [{\"colorbar\": {\"outlinewidth\": 0, \"ticks\": \"\"}, \"type\": \"contourcarpet\"}], \"heatmap\": [{\"colorbar\": {\"outlinewidth\": 0, \"ticks\": \"\"}, \"colorscale\": [[0.0, \"#0d0887\"], [0.1111111111111111, \"#46039f\"], [0.2222222222222222, \"#7201a8\"], [0.3333333333333333, \"#9c179e\"], [0.4444444444444444, \"#bd3786\"], [0.5555555555555556, \"#d8576b\"], [0.6666666666666666, \"#ed7953\"], [0.7777777777777778, \"#fb9f3a\"], [0.8888888888888888, \"#fdca26\"], [1.0, \"#f0f921\"]], \"type\": \"heatmap\"}], \"heatmapgl\": [{\"colorbar\": {\"outlinewidth\": 0, \"ticks\": \"\"}, \"colorscale\": [[0.0, \"#0d0887\"], [0.1111111111111111, \"#46039f\"], [0.2222222222222222, \"#7201a8\"], [0.3333333333333333, \"#9c179e\"], [0.4444444444444444, \"#bd3786\"], [0.5555555555555556, \"#d8576b\"], [0.6666666666666666, \"#ed7953\"], [0.7777777777777778, \"#fb9f3a\"], [0.8888888888888888, \"#fdca26\"], [1.0, \"#f0f921\"]], \"type\": \"heatmapgl\"}], \"histogram\": [{\"marker\": {\"colorbar\": {\"outlinewidth\": 0, \"ticks\": \"\"}}, \"type\": \"histogram\"}], \"histogram2d\": [{\"colorbar\": {\"outlinewidth\": 0, \"ticks\": \"\"}, \"colorscale\": [[0.0, \"#0d0887\"], [0.1111111111111111, \"#46039f\"], [0.2222222222222222, \"#7201a8\"], [0.3333333333333333, \"#9c179e\"], [0.4444444444444444, \"#bd3786\"], [0.5555555555555556, \"#d8576b\"], [0.6666666666666666, \"#ed7953\"], [0.7777777777777778, \"#fb9f3a\"], [0.8888888888888888, \"#fdca26\"], [1.0, \"#f0f921\"]], \"type\": \"histogram2d\"}], \"histogram2dcontour\": [{\"colorbar\": {\"outlinewidth\": 0, \"ticks\": \"\"}, \"colorscale\": [[0.0, \"#0d0887\"], [0.1111111111111111, \"#46039f\"], [0.2222222222222222, \"#7201a8\"], [0.3333333333333333, \"#9c179e\"], [0.4444444444444444, \"#bd3786\"], [0.5555555555555556, \"#d8576b\"], [0.6666666666666666, \"#ed7953\"], [0.7777777777777778, \"#fb9f3a\"], [0.8888888888888888, \"#fdca26\"], [1.0, \"#f0f921\"]], \"type\": \"histogram2dcontour\"}], \"mesh3d\": [{\"colorbar\": {\"outlinewidth\": 0, \"ticks\": \"\"}, \"type\": \"mesh3d\"}], \"parcoords\": [{\"line\": {\"colorbar\": {\"outlinewidth\": 0, \"ticks\": \"\"}}, \"type\": \"parcoords\"}], \"pie\": [{\"automargin\": true, \"type\": \"pie\"}], \"scatter\": [{\"marker\": {\"colorbar\": {\"outlinewidth\": 0, \"ticks\": \"\"}}, \"type\": \"scatter\"}], \"scatter3d\": [{\"line\": {\"colorbar\": {\"outlinewidth\": 0, \"ticks\": \"\"}}, \"marker\": {\"colorbar\": {\"outlinewidth\": 0, \"ticks\": \"\"}}, \"type\": \"scatter3d\"}], \"scattercarpet\": [{\"marker\": {\"colorbar\": {\"outlinewidth\": 0, \"ticks\": \"\"}}, \"type\": \"scattercarpet\"}], \"scattergeo\": [{\"marker\": {\"colorbar\": {\"outlinewidth\": 0, \"ticks\": \"\"}}, \"type\": \"scattergeo\"}], \"scattergl\": [{\"marker\": {\"colorbar\": {\"outlinewidth\": 0, \"ticks\": \"\"}}, \"type\": \"scattergl\"}], \"scattermapbox\": [{\"marker\": {\"colorbar\": {\"outlinewidth\": 0, \"ticks\": \"\"}}, \"type\": \"scattermapbox\"}], \"scatterpolar\": [{\"marker\": {\"colorbar\": {\"outlinewidth\": 0, \"ticks\": \"\"}}, \"type\": \"scatterpolar\"}], \"scatterpolargl\": [{\"marker\": {\"colorbar\": {\"outlinewidth\": 0, \"ticks\": \"\"}}, \"type\": \"scatterpolargl\"}], \"scatterternary\": [{\"marker\": {\"colorbar\": {\"outlinewidth\": 0, \"ticks\": \"\"}}, \"type\": \"scatterternary\"}], \"surface\": [{\"colorbar\": {\"outlinewidth\": 0, \"ticks\": \"\"}, \"colorscale\": [[0.0, \"#0d0887\"], [0.1111111111111111, \"#46039f\"], [0.2222222222222222, \"#7201a8\"], [0.3333333333333333, \"#9c179e\"], [0.4444444444444444, \"#bd3786\"], [0.5555555555555556, \"#d8576b\"], [0.6666666666666666, \"#ed7953\"], [0.7777777777777778, \"#fb9f3a\"], [0.8888888888888888, \"#fdca26\"], [1.0, \"#f0f921\"]], \"type\": \"surface\"}], \"table\": [{\"cells\": {\"fill\": {\"color\": \"#EBF0F8\"}, \"line\": {\"color\": \"white\"}}, \"header\": {\"fill\": {\"color\": \"#C8D4E3\"}, \"line\": {\"color\": \"white\"}}, \"type\": \"table\"}]}, \"layout\": {\"annotationdefaults\": {\"arrowcolor\": \"#2a3f5f\", \"arrowhead\": 0, \"arrowwidth\": 1}, \"coloraxis\": {\"colorbar\": {\"outlinewidth\": 0, \"ticks\": \"\"}}, \"colorscale\": {\"diverging\": [[0, \"#8e0152\"], [0.1, \"#c51b7d\"], [0.2, \"#de77ae\"], [0.3, \"#f1b6da\"], [0.4, \"#fde0ef\"], [0.5, \"#f7f7f7\"], [0.6, \"#e6f5d0\"], [0.7, \"#b8e186\"], [0.8, \"#7fbc41\"], [0.9, \"#4d9221\"], [1, \"#276419\"]], \"sequential\": [[0.0, \"#0d0887\"], [0.1111111111111111, \"#46039f\"], [0.2222222222222222, \"#7201a8\"], [0.3333333333333333, \"#9c179e\"], [0.4444444444444444, \"#bd3786\"], [0.5555555555555556, \"#d8576b\"], [0.6666666666666666, \"#ed7953\"], [0.7777777777777778, \"#fb9f3a\"], [0.8888888888888888, \"#fdca26\"], [1.0, \"#f0f921\"]], \"sequentialminus\": [[0.0, \"#0d0887\"], [0.1111111111111111, \"#46039f\"], [0.2222222222222222, \"#7201a8\"], [0.3333333333333333, \"#9c179e\"], [0.4444444444444444, \"#bd3786\"], [0.5555555555555556, \"#d8576b\"], [0.6666666666666666, \"#ed7953\"], [0.7777777777777778, \"#fb9f3a\"], [0.8888888888888888, \"#fdca26\"], [1.0, \"#f0f921\"]]}, \"colorway\": [\"#636efa\", \"#EF553B\", \"#00cc96\", \"#ab63fa\", \"#FFA15A\", \"#19d3f3\", \"#FF6692\", \"#B6E880\", \"#FF97FF\", \"#FECB52\"], \"font\": {\"color\": \"#2a3f5f\"}, \"geo\": {\"bgcolor\": \"white\", \"lakecolor\": \"white\", \"landcolor\": \"#E5ECF6\", \"showlakes\": true, \"showland\": true, \"subunitcolor\": \"white\"}, \"hoverlabel\": {\"align\": \"left\"}, \"hovermode\": \"closest\", \"mapbox\": {\"style\": \"light\"}, \"paper_bgcolor\": \"white\", \"plot_bgcolor\": \"#E5ECF6\", \"polar\": {\"angularaxis\": {\"gridcolor\": \"white\", \"linecolor\": \"white\", \"ticks\": \"\"}, \"bgcolor\": \"#E5ECF6\", \"radialaxis\": {\"gridcolor\": \"white\", \"linecolor\": \"white\", \"ticks\": \"\"}}, \"scene\": {\"xaxis\": {\"backgroundcolor\": \"#E5ECF6\", \"gridcolor\": \"white\", \"gridwidth\": 2, \"linecolor\": \"white\", \"showbackground\": true, \"ticks\": \"\", \"zerolinecolor\": \"white\"}, \"yaxis\": {\"backgroundcolor\": \"#E5ECF6\", \"gridcolor\": \"white\", \"gridwidth\": 2, \"linecolor\": \"white\", \"showbackground\": true, \"ticks\": \"\", \"zerolinecolor\": \"white\"}, \"zaxis\": {\"backgroundcolor\": \"#E5ECF6\", \"gridcolor\": \"white\", \"gridwidth\": 2, \"linecolor\": \"white\", \"showbackground\": true, \"ticks\": \"\", \"zerolinecolor\": \"white\"}}, \"shapedefaults\": {\"line\": {\"color\": \"#2a3f5f\"}}, \"ternary\": {\"aaxis\": {\"gridcolor\": \"white\", \"linecolor\": \"white\", \"ticks\": \"\"}, \"baxis\": {\"gridcolor\": \"white\", \"linecolor\": \"white\", \"ticks\": \"\"}, \"bgcolor\": \"#E5ECF6\", \"caxis\": {\"gridcolor\": \"white\", \"linecolor\": \"white\", \"ticks\": \"\"}}, \"title\": {\"x\": 0.05}, \"xaxis\": {\"automargin\": true, \"gridcolor\": \"white\", \"linecolor\": \"white\", \"ticks\": \"\", \"title\": {\"standoff\": 15}, \"zerolinecolor\": \"white\", \"zerolinewidth\": 2}, \"yaxis\": {\"automargin\": true, \"gridcolor\": \"white\", \"linecolor\": \"white\", \"ticks\": \"\", \"title\": {\"standoff\": 15}, \"zerolinecolor\": \"white\", \"zerolinewidth\": 2}}}, \"title\": {\"text\": \"Gr\\u00e1fico de Barras con plotly\"}, \"xaxis\": {\"anchor\": \"y\", \"categoryarray\": [\"female\", \"male\"], \"categoryorder\": \"array\", \"domain\": [0.0, 1.0], \"title\": {\"text\": \"gender\"}}, \"yaxis\": {\"anchor\": \"x\", \"domain\": [0.0, 1.0], \"title\": {\"text\": \"count\"}}},\n",
              "                        {\"responsive\": true}\n",
              "                    ).then(function(){\n",
              "                            \n",
              "var gd = document.getElementById('4acc9fef-d42d-43ea-8828-d27d88c61195');\n",
              "var x = new MutationObserver(function (mutations, observer) {{\n",
              "        var display = window.getComputedStyle(gd).display;\n",
              "        if (!display || display === 'none') {{\n",
              "            console.log([gd, 'removed!']);\n",
              "            Plotly.purge(gd);\n",
              "            observer.disconnect();\n",
              "        }}\n",
              "}});\n",
              "\n",
              "// Listen for the removal of the full notebook cells\n",
              "var notebookContainer = gd.closest('#notebook-container');\n",
              "if (notebookContainer) {{\n",
              "    x.observe(notebookContainer, {childList: true});\n",
              "}}\n",
              "\n",
              "// Listen for the clearing of the current output cell\n",
              "var outputEl = gd.closest('.output');\n",
              "if (outputEl) {{\n",
              "    x.observe(outputEl, {childList: true});\n",
              "}}\n",
              "\n",
              "                        })\n",
              "                };\n",
              "                \n",
              "            </script>\n",
              "        </div>\n",
              "</body>\n",
              "</html>"
            ]
          },
          "metadata": {
            "tags": []
          }
        }
      ]
    },
    {
      "cell_type": "markdown",
      "metadata": {
        "id": "orQfueuhQDaS"
      },
      "source": [
        "## Diagrama de Torta\n",
        "\n",
        "Se hace con Plotly express. \n",
        "Necesita igual también un DataFrame y de labels"
      ]
    },
    {
      "cell_type": "code",
      "metadata": {
        "id": "5YsjCSAILgGe"
      },
      "source": [
        "raza = df_estudiantes[\"race/ethnicity\"]\n",
        "razac = raza.value_counts()\n"
      ],
      "execution_count": 59,
      "outputs": []
    },
    {
      "cell_type": "code",
      "metadata": {
        "colab": {
          "base_uri": "https://localhost:8080/",
          "height": 199
        },
        "id": "6qRIC0r8Q4Xy",
        "outputId": "5ddf9def-d699-4eb2-b6c5-d72421de4f91"
      },
      "source": [
        "df_raza = pd.DataFrame(raza.value_counts())\n",
        "df_raza"
      ],
      "execution_count": 81,
      "outputs": [
        {
          "output_type": "execute_result",
          "data": {
            "text/html": [
              "<div>\n",
              "<style scoped>\n",
              "    .dataframe tbody tr th:only-of-type {\n",
              "        vertical-align: middle;\n",
              "    }\n",
              "\n",
              "    .dataframe tbody tr th {\n",
              "        vertical-align: top;\n",
              "    }\n",
              "\n",
              "    .dataframe thead th {\n",
              "        text-align: right;\n",
              "    }\n",
              "</style>\n",
              "<table border=\"1\" class=\"dataframe\">\n",
              "  <thead>\n",
              "    <tr style=\"text-align: right;\">\n",
              "      <th></th>\n",
              "      <th>race/ethnicity</th>\n",
              "    </tr>\n",
              "  </thead>\n",
              "  <tbody>\n",
              "    <tr>\n",
              "      <th>group C</th>\n",
              "      <td>319</td>\n",
              "    </tr>\n",
              "    <tr>\n",
              "      <th>group D</th>\n",
              "      <td>262</td>\n",
              "    </tr>\n",
              "    <tr>\n",
              "      <th>group B</th>\n",
              "      <td>190</td>\n",
              "    </tr>\n",
              "    <tr>\n",
              "      <th>group E</th>\n",
              "      <td>140</td>\n",
              "    </tr>\n",
              "    <tr>\n",
              "      <th>group A</th>\n",
              "      <td>89</td>\n",
              "    </tr>\n",
              "  </tbody>\n",
              "</table>\n",
              "</div>"
            ],
            "text/plain": [
              "         race/ethnicity\n",
              "group C             319\n",
              "group D             262\n",
              "group B             190\n",
              "group E             140\n",
              "group A              89"
            ]
          },
          "metadata": {
            "tags": []
          },
          "execution_count": 81
        }
      ]
    },
    {
      "cell_type": "code",
      "metadata": {
        "id": "AD-DHcIrRCa1"
      },
      "source": [
        "df_raza[\"Groups\"] = razac.index"
      ],
      "execution_count": 82,
      "outputs": []
    },
    {
      "cell_type": "code",
      "metadata": {
        "id": "d1ciQ8oWRDYo"
      },
      "source": [
        "df_raza.columns = [\"count\",\"grupo\"]"
      ],
      "execution_count": 83,
      "outputs": []
    },
    {
      "cell_type": "code",
      "metadata": {
        "colab": {
          "base_uri": "https://localhost:8080/",
          "height": 199
        },
        "id": "dAB9xhWkRmIC",
        "outputId": "fb6874ea-3ed7-469f-d6cc-61d1b3229183"
      },
      "source": [
        "df_raza"
      ],
      "execution_count": 84,
      "outputs": [
        {
          "output_type": "execute_result",
          "data": {
            "text/html": [
              "<div>\n",
              "<style scoped>\n",
              "    .dataframe tbody tr th:only-of-type {\n",
              "        vertical-align: middle;\n",
              "    }\n",
              "\n",
              "    .dataframe tbody tr th {\n",
              "        vertical-align: top;\n",
              "    }\n",
              "\n",
              "    .dataframe thead th {\n",
              "        text-align: right;\n",
              "    }\n",
              "</style>\n",
              "<table border=\"1\" class=\"dataframe\">\n",
              "  <thead>\n",
              "    <tr style=\"text-align: right;\">\n",
              "      <th></th>\n",
              "      <th>count</th>\n",
              "      <th>grupo</th>\n",
              "    </tr>\n",
              "  </thead>\n",
              "  <tbody>\n",
              "    <tr>\n",
              "      <th>group C</th>\n",
              "      <td>319</td>\n",
              "      <td>group C</td>\n",
              "    </tr>\n",
              "    <tr>\n",
              "      <th>group D</th>\n",
              "      <td>262</td>\n",
              "      <td>group D</td>\n",
              "    </tr>\n",
              "    <tr>\n",
              "      <th>group B</th>\n",
              "      <td>190</td>\n",
              "      <td>group B</td>\n",
              "    </tr>\n",
              "    <tr>\n",
              "      <th>group E</th>\n",
              "      <td>140</td>\n",
              "      <td>group E</td>\n",
              "    </tr>\n",
              "    <tr>\n",
              "      <th>group A</th>\n",
              "      <td>89</td>\n",
              "      <td>group A</td>\n",
              "    </tr>\n",
              "  </tbody>\n",
              "</table>\n",
              "</div>"
            ],
            "text/plain": [
              "         count    grupo\n",
              "group C    319  group C\n",
              "group D    262  group D\n",
              "group B    190  group B\n",
              "group E    140  group E\n",
              "group A     89  group A"
            ]
          },
          "metadata": {
            "tags": []
          },
          "execution_count": 84
        }
      ]
    },
    {
      "cell_type": "code",
      "metadata": {
        "id": "dBp3gWYYSrex"
      },
      "source": [
        "fig = px.pie(df_raza, values = 'count', names = 'grupo', title = \"Pie chart usando plotly\")"
      ],
      "execution_count": 85,
      "outputs": []
    },
    {
      "cell_type": "code",
      "metadata": {
        "colab": {
          "base_uri": "https://localhost:8080/",
          "height": 542
        },
        "id": "TvspXEylTALH",
        "outputId": "010e4e65-9879-4d95-bb0c-fff769b50729"
      },
      "source": [
        "fig.show()"
      ],
      "execution_count": 86,
      "outputs": [
        {
          "output_type": "display_data",
          "data": {
            "text/html": [
              "<html>\n",
              "<head><meta charset=\"utf-8\" /></head>\n",
              "<body>\n",
              "    <div>\n",
              "            <script src=\"https://cdnjs.cloudflare.com/ajax/libs/mathjax/2.7.5/MathJax.js?config=TeX-AMS-MML_SVG\"></script><script type=\"text/javascript\">if (window.MathJax) {MathJax.Hub.Config({SVG: {font: \"STIX-Web\"}});}</script>\n",
              "                <script type=\"text/javascript\">window.PlotlyConfig = {MathJaxConfig: 'local'};</script>\n",
              "        <script src=\"https://cdn.plot.ly/plotly-latest.min.js\"></script>    \n",
              "            <div id=\"1a5a3aa3-db56-4d1b-baf2-a35201acaef3\" class=\"plotly-graph-div\" style=\"height:525px; width:100%;\"></div>\n",
              "            <script type=\"text/javascript\">\n",
              "                \n",
              "                    window.PLOTLYENV=window.PLOTLYENV || {};\n",
              "                    \n",
              "                if (document.getElementById(\"1a5a3aa3-db56-4d1b-baf2-a35201acaef3\")) {\n",
              "                    Plotly.newPlot(\n",
              "                        '1a5a3aa3-db56-4d1b-baf2-a35201acaef3',\n",
              "                        [{\"domain\": {\"x\": [0.0, 1.0], \"y\": [0.0, 1.0]}, \"hoverlabel\": {\"namelength\": 0}, \"hovertemplate\": \"grupo=%{label}<br>count=%{value}\", \"labels\": [\"group C\", \"group D\", \"group B\", \"group E\", \"group A\"], \"legendgroup\": \"\", \"name\": \"\", \"showlegend\": true, \"type\": \"pie\", \"values\": [319, 262, 190, 140, 89]}],\n",
              "                        {\"legend\": {\"tracegroupgap\": 0}, \"template\": {\"data\": {\"bar\": [{\"error_x\": {\"color\": \"#2a3f5f\"}, \"error_y\": {\"color\": \"#2a3f5f\"}, \"marker\": {\"line\": {\"color\": \"#E5ECF6\", \"width\": 0.5}}, \"type\": \"bar\"}], \"barpolar\": [{\"marker\": {\"line\": {\"color\": \"#E5ECF6\", \"width\": 0.5}}, \"type\": \"barpolar\"}], \"carpet\": [{\"aaxis\": {\"endlinecolor\": \"#2a3f5f\", \"gridcolor\": \"white\", \"linecolor\": \"white\", \"minorgridcolor\": \"white\", \"startlinecolor\": \"#2a3f5f\"}, \"baxis\": {\"endlinecolor\": \"#2a3f5f\", \"gridcolor\": \"white\", \"linecolor\": \"white\", \"minorgridcolor\": \"white\", \"startlinecolor\": \"#2a3f5f\"}, \"type\": \"carpet\"}], \"choropleth\": [{\"colorbar\": {\"outlinewidth\": 0, \"ticks\": \"\"}, \"type\": \"choropleth\"}], \"contour\": [{\"colorbar\": {\"outlinewidth\": 0, \"ticks\": \"\"}, \"colorscale\": [[0.0, \"#0d0887\"], [0.1111111111111111, \"#46039f\"], [0.2222222222222222, \"#7201a8\"], [0.3333333333333333, \"#9c179e\"], [0.4444444444444444, \"#bd3786\"], [0.5555555555555556, \"#d8576b\"], [0.6666666666666666, \"#ed7953\"], [0.7777777777777778, \"#fb9f3a\"], [0.8888888888888888, \"#fdca26\"], [1.0, \"#f0f921\"]], \"type\": \"contour\"}], \"contourcarpet\": [{\"colorbar\": {\"outlinewidth\": 0, \"ticks\": \"\"}, \"type\": \"contourcarpet\"}], \"heatmap\": [{\"colorbar\": {\"outlinewidth\": 0, \"ticks\": \"\"}, \"colorscale\": [[0.0, \"#0d0887\"], [0.1111111111111111, \"#46039f\"], [0.2222222222222222, \"#7201a8\"], [0.3333333333333333, \"#9c179e\"], [0.4444444444444444, \"#bd3786\"], [0.5555555555555556, \"#d8576b\"], [0.6666666666666666, \"#ed7953\"], [0.7777777777777778, \"#fb9f3a\"], [0.8888888888888888, \"#fdca26\"], [1.0, \"#f0f921\"]], \"type\": \"heatmap\"}], \"heatmapgl\": [{\"colorbar\": {\"outlinewidth\": 0, \"ticks\": \"\"}, \"colorscale\": [[0.0, \"#0d0887\"], [0.1111111111111111, \"#46039f\"], [0.2222222222222222, \"#7201a8\"], [0.3333333333333333, \"#9c179e\"], [0.4444444444444444, \"#bd3786\"], [0.5555555555555556, \"#d8576b\"], [0.6666666666666666, \"#ed7953\"], [0.7777777777777778, \"#fb9f3a\"], [0.8888888888888888, \"#fdca26\"], [1.0, \"#f0f921\"]], \"type\": \"heatmapgl\"}], \"histogram\": [{\"marker\": {\"colorbar\": {\"outlinewidth\": 0, \"ticks\": \"\"}}, \"type\": \"histogram\"}], \"histogram2d\": [{\"colorbar\": {\"outlinewidth\": 0, \"ticks\": \"\"}, \"colorscale\": [[0.0, \"#0d0887\"], [0.1111111111111111, \"#46039f\"], [0.2222222222222222, \"#7201a8\"], [0.3333333333333333, \"#9c179e\"], [0.4444444444444444, \"#bd3786\"], [0.5555555555555556, \"#d8576b\"], [0.6666666666666666, \"#ed7953\"], [0.7777777777777778, \"#fb9f3a\"], [0.8888888888888888, \"#fdca26\"], [1.0, \"#f0f921\"]], \"type\": \"histogram2d\"}], \"histogram2dcontour\": [{\"colorbar\": {\"outlinewidth\": 0, \"ticks\": \"\"}, \"colorscale\": [[0.0, \"#0d0887\"], [0.1111111111111111, \"#46039f\"], [0.2222222222222222, \"#7201a8\"], [0.3333333333333333, \"#9c179e\"], [0.4444444444444444, \"#bd3786\"], [0.5555555555555556, \"#d8576b\"], [0.6666666666666666, \"#ed7953\"], [0.7777777777777778, \"#fb9f3a\"], [0.8888888888888888, \"#fdca26\"], [1.0, \"#f0f921\"]], \"type\": \"histogram2dcontour\"}], \"mesh3d\": [{\"colorbar\": {\"outlinewidth\": 0, \"ticks\": \"\"}, \"type\": \"mesh3d\"}], \"parcoords\": [{\"line\": {\"colorbar\": {\"outlinewidth\": 0, \"ticks\": \"\"}}, \"type\": \"parcoords\"}], \"pie\": [{\"automargin\": true, \"type\": \"pie\"}], \"scatter\": [{\"marker\": {\"colorbar\": {\"outlinewidth\": 0, \"ticks\": \"\"}}, \"type\": \"scatter\"}], \"scatter3d\": [{\"line\": {\"colorbar\": {\"outlinewidth\": 0, \"ticks\": \"\"}}, \"marker\": {\"colorbar\": {\"outlinewidth\": 0, \"ticks\": \"\"}}, \"type\": \"scatter3d\"}], \"scattercarpet\": [{\"marker\": {\"colorbar\": {\"outlinewidth\": 0, \"ticks\": \"\"}}, \"type\": \"scattercarpet\"}], \"scattergeo\": [{\"marker\": {\"colorbar\": {\"outlinewidth\": 0, \"ticks\": \"\"}}, \"type\": \"scattergeo\"}], \"scattergl\": [{\"marker\": {\"colorbar\": {\"outlinewidth\": 0, \"ticks\": \"\"}}, \"type\": \"scattergl\"}], \"scattermapbox\": [{\"marker\": {\"colorbar\": {\"outlinewidth\": 0, \"ticks\": \"\"}}, \"type\": \"scattermapbox\"}], \"scatterpolar\": [{\"marker\": {\"colorbar\": {\"outlinewidth\": 0, \"ticks\": \"\"}}, \"type\": \"scatterpolar\"}], \"scatterpolargl\": [{\"marker\": {\"colorbar\": {\"outlinewidth\": 0, \"ticks\": \"\"}}, \"type\": \"scatterpolargl\"}], \"scatterternary\": [{\"marker\": {\"colorbar\": {\"outlinewidth\": 0, \"ticks\": \"\"}}, \"type\": \"scatterternary\"}], \"surface\": [{\"colorbar\": {\"outlinewidth\": 0, \"ticks\": \"\"}, \"colorscale\": [[0.0, \"#0d0887\"], [0.1111111111111111, \"#46039f\"], [0.2222222222222222, \"#7201a8\"], [0.3333333333333333, \"#9c179e\"], [0.4444444444444444, \"#bd3786\"], [0.5555555555555556, \"#d8576b\"], [0.6666666666666666, \"#ed7953\"], [0.7777777777777778, \"#fb9f3a\"], [0.8888888888888888, \"#fdca26\"], [1.0, \"#f0f921\"]], \"type\": \"surface\"}], \"table\": [{\"cells\": {\"fill\": {\"color\": \"#EBF0F8\"}, \"line\": {\"color\": \"white\"}}, \"header\": {\"fill\": {\"color\": \"#C8D4E3\"}, \"line\": {\"color\": \"white\"}}, \"type\": \"table\"}]}, \"layout\": {\"annotationdefaults\": {\"arrowcolor\": \"#2a3f5f\", \"arrowhead\": 0, \"arrowwidth\": 1}, \"coloraxis\": {\"colorbar\": {\"outlinewidth\": 0, \"ticks\": \"\"}}, \"colorscale\": {\"diverging\": [[0, \"#8e0152\"], [0.1, \"#c51b7d\"], [0.2, \"#de77ae\"], [0.3, \"#f1b6da\"], [0.4, \"#fde0ef\"], [0.5, \"#f7f7f7\"], [0.6, \"#e6f5d0\"], [0.7, \"#b8e186\"], [0.8, \"#7fbc41\"], [0.9, \"#4d9221\"], [1, \"#276419\"]], \"sequential\": [[0.0, \"#0d0887\"], [0.1111111111111111, \"#46039f\"], [0.2222222222222222, \"#7201a8\"], [0.3333333333333333, \"#9c179e\"], [0.4444444444444444, \"#bd3786\"], [0.5555555555555556, \"#d8576b\"], [0.6666666666666666, \"#ed7953\"], [0.7777777777777778, \"#fb9f3a\"], [0.8888888888888888, \"#fdca26\"], [1.0, \"#f0f921\"]], \"sequentialminus\": [[0.0, \"#0d0887\"], [0.1111111111111111, \"#46039f\"], [0.2222222222222222, \"#7201a8\"], [0.3333333333333333, \"#9c179e\"], [0.4444444444444444, \"#bd3786\"], [0.5555555555555556, \"#d8576b\"], [0.6666666666666666, \"#ed7953\"], [0.7777777777777778, \"#fb9f3a\"], [0.8888888888888888, \"#fdca26\"], [1.0, \"#f0f921\"]]}, \"colorway\": [\"#636efa\", \"#EF553B\", \"#00cc96\", \"#ab63fa\", \"#FFA15A\", \"#19d3f3\", \"#FF6692\", \"#B6E880\", \"#FF97FF\", \"#FECB52\"], \"font\": {\"color\": \"#2a3f5f\"}, \"geo\": {\"bgcolor\": \"white\", \"lakecolor\": \"white\", \"landcolor\": \"#E5ECF6\", \"showlakes\": true, \"showland\": true, \"subunitcolor\": \"white\"}, \"hoverlabel\": {\"align\": \"left\"}, \"hovermode\": \"closest\", \"mapbox\": {\"style\": \"light\"}, \"paper_bgcolor\": \"white\", \"plot_bgcolor\": \"#E5ECF6\", \"polar\": {\"angularaxis\": {\"gridcolor\": \"white\", \"linecolor\": \"white\", \"ticks\": \"\"}, \"bgcolor\": \"#E5ECF6\", \"radialaxis\": {\"gridcolor\": \"white\", \"linecolor\": \"white\", \"ticks\": \"\"}}, \"scene\": {\"xaxis\": {\"backgroundcolor\": \"#E5ECF6\", \"gridcolor\": \"white\", \"gridwidth\": 2, \"linecolor\": \"white\", \"showbackground\": true, \"ticks\": \"\", \"zerolinecolor\": \"white\"}, \"yaxis\": {\"backgroundcolor\": \"#E5ECF6\", \"gridcolor\": \"white\", \"gridwidth\": 2, \"linecolor\": \"white\", \"showbackground\": true, \"ticks\": \"\", \"zerolinecolor\": \"white\"}, \"zaxis\": {\"backgroundcolor\": \"#E5ECF6\", \"gridcolor\": \"white\", \"gridwidth\": 2, \"linecolor\": \"white\", \"showbackground\": true, \"ticks\": \"\", \"zerolinecolor\": \"white\"}}, \"shapedefaults\": {\"line\": {\"color\": \"#2a3f5f\"}}, \"ternary\": {\"aaxis\": {\"gridcolor\": \"white\", \"linecolor\": \"white\", \"ticks\": \"\"}, \"baxis\": {\"gridcolor\": \"white\", \"linecolor\": \"white\", \"ticks\": \"\"}, \"bgcolor\": \"#E5ECF6\", \"caxis\": {\"gridcolor\": \"white\", \"linecolor\": \"white\", \"ticks\": \"\"}}, \"title\": {\"x\": 0.05}, \"xaxis\": {\"automargin\": true, \"gridcolor\": \"white\", \"linecolor\": \"white\", \"ticks\": \"\", \"title\": {\"standoff\": 15}, \"zerolinecolor\": \"white\", \"zerolinewidth\": 2}, \"yaxis\": {\"automargin\": true, \"gridcolor\": \"white\", \"linecolor\": \"white\", \"ticks\": \"\", \"title\": {\"standoff\": 15}, \"zerolinecolor\": \"white\", \"zerolinewidth\": 2}}}, \"title\": {\"text\": \"Pie chart usando plotly\"}},\n",
              "                        {\"responsive\": true}\n",
              "                    ).then(function(){\n",
              "                            \n",
              "var gd = document.getElementById('1a5a3aa3-db56-4d1b-baf2-a35201acaef3');\n",
              "var x = new MutationObserver(function (mutations, observer) {{\n",
              "        var display = window.getComputedStyle(gd).display;\n",
              "        if (!display || display === 'none') {{\n",
              "            console.log([gd, 'removed!']);\n",
              "            Plotly.purge(gd);\n",
              "            observer.disconnect();\n",
              "        }}\n",
              "}});\n",
              "\n",
              "// Listen for the removal of the full notebook cells\n",
              "var notebookContainer = gd.closest('#notebook-container');\n",
              "if (notebookContainer) {{\n",
              "    x.observe(notebookContainer, {childList: true});\n",
              "}}\n",
              "\n",
              "// Listen for the clearing of the current output cell\n",
              "var outputEl = gd.closest('.output');\n",
              "if (outputEl) {{\n",
              "    x.observe(outputEl, {childList: true});\n",
              "}}\n",
              "\n",
              "                        })\n",
              "                };\n",
              "                \n",
              "            </script>\n",
              "        </div>\n",
              "</body>\n",
              "</html>"
            ]
          },
          "metadata": {
            "tags": []
          }
        }
      ]
    },
    {
      "cell_type": "markdown",
      "metadata": {
        "id": "w9VNi-eaUjZr"
      },
      "source": [
        "## Scatter plot\n",
        "Por último vamos a realizar un Scatter plot. \n",
        "\n",
        "Esto es, bastante útil para representar la relación entre 2 variables.\n",
        "\n",
        "También se importa con plotly express"
      ]
    },
    {
      "cell_type": "code",
      "metadata": {
        "colab": {
          "base_uri": "https://localhost:8080/",
          "height": 410
        },
        "id": "_lFOiAWWTBfQ",
        "outputId": "c734b65a-40c5-4522-fec2-fd6a281f2aa3"
      },
      "source": [
        "df_notas = df_estudiantes.iloc[:, [-3,-2,-1]]\n",
        "df_notas"
      ],
      "execution_count": 104,
      "outputs": [
        {
          "output_type": "execute_result",
          "data": {
            "text/html": [
              "<div>\n",
              "<style scoped>\n",
              "    .dataframe tbody tr th:only-of-type {\n",
              "        vertical-align: middle;\n",
              "    }\n",
              "\n",
              "    .dataframe tbody tr th {\n",
              "        vertical-align: top;\n",
              "    }\n",
              "\n",
              "    .dataframe thead th {\n",
              "        text-align: right;\n",
              "    }\n",
              "</style>\n",
              "<table border=\"1\" class=\"dataframe\">\n",
              "  <thead>\n",
              "    <tr style=\"text-align: right;\">\n",
              "      <th></th>\n",
              "      <th>math score</th>\n",
              "      <th>reading score</th>\n",
              "      <th>writing score</th>\n",
              "    </tr>\n",
              "  </thead>\n",
              "  <tbody>\n",
              "    <tr>\n",
              "      <th>0</th>\n",
              "      <td>72</td>\n",
              "      <td>72</td>\n",
              "      <td>74</td>\n",
              "    </tr>\n",
              "    <tr>\n",
              "      <th>1</th>\n",
              "      <td>69</td>\n",
              "      <td>90</td>\n",
              "      <td>88</td>\n",
              "    </tr>\n",
              "    <tr>\n",
              "      <th>2</th>\n",
              "      <td>90</td>\n",
              "      <td>95</td>\n",
              "      <td>93</td>\n",
              "    </tr>\n",
              "    <tr>\n",
              "      <th>3</th>\n",
              "      <td>47</td>\n",
              "      <td>57</td>\n",
              "      <td>44</td>\n",
              "    </tr>\n",
              "    <tr>\n",
              "      <th>4</th>\n",
              "      <td>76</td>\n",
              "      <td>78</td>\n",
              "      <td>75</td>\n",
              "    </tr>\n",
              "    <tr>\n",
              "      <th>...</th>\n",
              "      <td>...</td>\n",
              "      <td>...</td>\n",
              "      <td>...</td>\n",
              "    </tr>\n",
              "    <tr>\n",
              "      <th>995</th>\n",
              "      <td>88</td>\n",
              "      <td>99</td>\n",
              "      <td>95</td>\n",
              "    </tr>\n",
              "    <tr>\n",
              "      <th>996</th>\n",
              "      <td>62</td>\n",
              "      <td>55</td>\n",
              "      <td>55</td>\n",
              "    </tr>\n",
              "    <tr>\n",
              "      <th>997</th>\n",
              "      <td>59</td>\n",
              "      <td>71</td>\n",
              "      <td>65</td>\n",
              "    </tr>\n",
              "    <tr>\n",
              "      <th>998</th>\n",
              "      <td>68</td>\n",
              "      <td>78</td>\n",
              "      <td>77</td>\n",
              "    </tr>\n",
              "    <tr>\n",
              "      <th>999</th>\n",
              "      <td>77</td>\n",
              "      <td>86</td>\n",
              "      <td>86</td>\n",
              "    </tr>\n",
              "  </tbody>\n",
              "</table>\n",
              "<p>1000 rows × 3 columns</p>\n",
              "</div>"
            ],
            "text/plain": [
              "     math score  reading score  writing score\n",
              "0            72             72             74\n",
              "1            69             90             88\n",
              "2            90             95             93\n",
              "3            47             57             44\n",
              "4            76             78             75\n",
              "..          ...            ...            ...\n",
              "995          88             99             95\n",
              "996          62             55             55\n",
              "997          59             71             65\n",
              "998          68             78             77\n",
              "999          77             86             86\n",
              "\n",
              "[1000 rows x 3 columns]"
            ]
          },
          "metadata": {
            "tags": []
          },
          "execution_count": 104
        }
      ]
    },
    {
      "cell_type": "code",
      "metadata": {
        "id": "nbZqWMCFVM23"
      },
      "source": [
        "fig = px.scatter(df_notas,x = \"math score\", y = \"reading score\",title = \"Sacatter en Plotly\")"
      ],
      "execution_count": 105,
      "outputs": []
    },
    {
      "cell_type": "code",
      "metadata": {
        "colab": {
          "base_uri": "https://localhost:8080/",
          "height": 542
        },
        "id": "OOgqucwsXswz",
        "outputId": "d2187042-dff6-4d48-c984-1931d6d91e86"
      },
      "source": [
        "fig.show()"
      ],
      "execution_count": 106,
      "outputs": [
        {
          "output_type": "display_data",
          "data": {
            "text/html": [
              "<html>\n",
              "<head><meta charset=\"utf-8\" /></head>\n",
              "<body>\n",
              "    <div>\n",
              "            <script src=\"https://cdnjs.cloudflare.com/ajax/libs/mathjax/2.7.5/MathJax.js?config=TeX-AMS-MML_SVG\"></script><script type=\"text/javascript\">if (window.MathJax) {MathJax.Hub.Config({SVG: {font: \"STIX-Web\"}});}</script>\n",
              "                <script type=\"text/javascript\">window.PlotlyConfig = {MathJaxConfig: 'local'};</script>\n",
              "        <script src=\"https://cdn.plot.ly/plotly-latest.min.js\"></script>    \n",
              "            <div id=\"ba1f724d-1c11-4bf1-afb1-0adfc8a5f17c\" class=\"plotly-graph-div\" style=\"height:525px; width:100%;\"></div>\n",
              "            <script type=\"text/javascript\">\n",
              "                \n",
              "                    window.PLOTLYENV=window.PLOTLYENV || {};\n",
              "                    \n",
              "                if (document.getElementById(\"ba1f724d-1c11-4bf1-afb1-0adfc8a5f17c\")) {\n",
              "                    Plotly.newPlot(\n",
              "                        'ba1f724d-1c11-4bf1-afb1-0adfc8a5f17c',\n",
              "                        [{\"hoverlabel\": {\"namelength\": 0}, \"hovertemplate\": \"math score=%{x}<br>reading score=%{y}\", \"legendgroup\": \"\", \"marker\": {\"color\": \"#636efa\", \"symbol\": \"circle\"}, \"mode\": \"markers\", \"name\": \"\", \"showlegend\": false, \"type\": \"scatter\", \"x\": [72, 69, 90, 47, 76, 71, 88, 40, 64, 38, 58, 40, 65, 78, 50, 69, 88, 18, 46, 54, 66, 65, 44, 69, 74, 73, 69, 67, 70, 62, 69, 63, 56, 40, 97, 81, 74, 50, 75, 57, 55, 58, 53, 59, 50, 65, 55, 66, 57, 82, 53, 77, 53, 88, 71, 33, 82, 52, 58, 0, 79, 39, 62, 69, 59, 67, 45, 60, 61, 39, 58, 63, 41, 61, 49, 44, 30, 80, 61, 62, 47, 49, 50, 72, 42, 73, 76, 71, 58, 73, 65, 27, 71, 43, 79, 78, 65, 63, 58, 65, 79, 68, 85, 60, 98, 58, 87, 66, 52, 70, 77, 62, 54, 51, 99, 84, 75, 78, 51, 55, 79, 91, 88, 63, 83, 87, 72, 65, 82, 51, 89, 53, 87, 75, 74, 58, 51, 70, 59, 71, 76, 59, 42, 57, 88, 22, 88, 73, 68, 100, 62, 77, 59, 54, 62, 70, 66, 60, 61, 66, 82, 75, 49, 52, 81, 96, 53, 58, 68, 67, 72, 94, 79, 63, 43, 81, 46, 71, 52, 97, 62, 46, 50, 65, 45, 65, 80, 62, 48, 77, 66, 76, 62, 77, 69, 61, 59, 55, 45, 78, 67, 65, 69, 57, 59, 74, 82, 81, 74, 58, 80, 35, 42, 60, 87, 84, 83, 34, 66, 61, 56, 87, 55, 86, 52, 45, 72, 57, 68, 88, 76, 46, 67, 92, 83, 80, 63, 64, 54, 84, 73, 80, 56, 59, 75, 85, 89, 58, 65, 68, 47, 71, 60, 80, 54, 62, 64, 78, 70, 65, 64, 79, 44, 99, 76, 59, 63, 69, 88, 71, 69, 58, 47, 65, 88, 83, 85, 59, 65, 73, 53, 45, 73, 70, 37, 81, 97, 67, 88, 77, 76, 86, 63, 65, 78, 67, 46, 71, 40, 90, 81, 56, 67, 80, 74, 69, 99, 51, 53, 49, 73, 66, 67, 68, 59, 71, 77, 83, 63, 56, 67, 75, 71, 43, 41, 82, 61, 28, 82, 41, 71, 47, 62, 90, 83, 61, 76, 49, 24, 35, 58, 61, 69, 67, 79, 72, 62, 77, 75, 87, 52, 66, 63, 46, 59, 61, 63, 42, 59, 80, 58, 85, 52, 27, 59, 49, 69, 61, 44, 73, 84, 45, 74, 82, 59, 46, 80, 85, 71, 66, 80, 87, 79, 38, 38, 67, 64, 57, 62, 73, 73, 77, 76, 57, 65, 48, 50, 85, 74, 60, 59, 53, 49, 88, 54, 63, 65, 82, 52, 87, 70, 84, 71, 63, 51, 84, 71, 74, 68, 57, 82, 57, 47, 59, 41, 62, 86, 69, 65, 68, 64, 61, 61, 47, 73, 50, 75, 75, 70, 89, 67, 78, 59, 73, 79, 67, 69, 86, 47, 81, 64, 100, 65, 65, 53, 37, 79, 53, 100, 72, 53, 54, 71, 77, 75, 84, 26, 72, 77, 91, 83, 63, 68, 59, 90, 71, 76, 80, 55, 76, 73, 52, 68, 59, 49, 70, 61, 60, 64, 79, 65, 64, 83, 81, 54, 68, 54, 59, 66, 76, 74, 94, 63, 95, 40, 82, 68, 55, 79, 86, 76, 64, 62, 54, 77, 76, 74, 66, 66, 67, 71, 91, 69, 54, 53, 68, 56, 36, 29, 62, 68, 47, 62, 79, 73, 66, 51, 51, 85, 97, 75, 79, 81, 82, 64, 78, 92, 72, 62, 79, 79, 87, 40, 77, 53, 32, 55, 61, 53, 73, 74, 63, 96, 63, 48, 48, 92, 61, 63, 68, 71, 91, 53, 50, 74, 40, 61, 81, 48, 53, 81, 77, 63, 73, 69, 65, 55, 44, 54, 48, 58, 71, 68, 74, 92, 56, 30, 53, 69, 65, 54, 29, 76, 60, 84, 75, 85, 40, 61, 58, 69, 58, 94, 65, 82, 60, 37, 88, 95, 65, 35, 62, 58, 100, 61, 100, 69, 61, 49, 44, 67, 79, 66, 75, 84, 71, 67, 80, 86, 76, 41, 74, 72, 74, 70, 65, 59, 64, 50, 69, 51, 68, 85, 65, 73, 62, 77, 69, 43, 90, 74, 73, 55, 65, 80, 50, 63, 77, 73, 81, 66, 52, 69, 65, 69, 50, 73, 70, 81, 63, 67, 60, 62, 29, 62, 94, 85, 77, 53, 93, 49, 73, 66, 77, 49, 79, 75, 59, 57, 66, 79, 57, 87, 63, 59, 62, 46, 66, 89, 42, 93, 80, 98, 81, 60, 76, 73, 96, 76, 91, 62, 55, 74, 50, 47, 81, 65, 68, 73, 53, 68, 55, 87, 55, 53, 67, 92, 53, 81, 61, 80, 37, 81, 59, 55, 72, 69, 69, 50, 87, 71, 68, 79, 77, 58, 84, 55, 70, 52, 69, 53, 48, 78, 62, 60, 74, 58, 76, 68, 58, 52, 75, 52, 62, 66, 49, 66, 35, 72, 94, 46, 77, 76, 52, 91, 32, 72, 19, 68, 52, 48, 60, 66, 89, 42, 57, 70, 70, 69, 52, 67, 76, 87, 82, 73, 75, 64, 41, 90, 59, 51, 45, 54, 87, 72, 94, 45, 61, 60, 77, 85, 78, 49, 71, 48, 62, 56, 65, 69, 68, 61, 74, 64, 77, 58, 60, 73, 75, 58, 66, 39, 64, 23, 74, 40, 90, 91, 64, 59, 80, 71, 61, 87, 82, 62, 97, 75, 65, 52, 87, 53, 81, 39, 71, 97, 82, 59, 61, 78, 49, 59, 70, 82, 90, 43, 80, 81, 57, 59, 64, 63, 71, 64, 55, 51, 62, 93, 54, 69, 44, 86, 85, 50, 88, 59, 32, 36, 63, 67, 65, 85, 73, 34, 93, 67, 88, 57, 79, 67, 70, 50, 69, 52, 47, 46, 68, 100, 44, 57, 91, 69, 35, 72, 54, 74, 74, 64, 65, 46, 48, 67, 62, 61, 70, 98, 70, 67, 57, 85, 77, 72, 78, 81, 61, 58, 54, 82, 49, 49, 57, 94, 75, 74, 58, 62, 72, 84, 92, 45, 75, 56, 48, 100, 65, 72, 62, 66, 63, 68, 75, 89, 78, 53, 49, 54, 64, 60, 62, 55, 91, 8, 81, 79, 78, 74, 57, 40, 81, 44, 67, 86, 65, 55, 62, 63, 88, 62, 59, 68, 77], \"xaxis\": \"x\", \"y\": [72, 90, 95, 57, 78, 83, 95, 43, 64, 60, 54, 52, 81, 72, 53, 75, 89, 32, 42, 58, 69, 75, 54, 73, 71, 74, 54, 69, 70, 70, 74, 65, 72, 42, 87, 81, 81, 64, 90, 56, 61, 73, 58, 65, 56, 54, 65, 71, 74, 84, 55, 69, 44, 78, 84, 41, 85, 55, 59, 17, 74, 39, 61, 80, 58, 64, 37, 72, 58, 64, 63, 55, 51, 57, 49, 41, 26, 78, 74, 68, 49, 45, 47, 64, 39, 80, 83, 71, 70, 86, 72, 34, 79, 45, 86, 81, 66, 72, 67, 67, 67, 74, 91, 44, 86, 67, 100, 63, 76, 64, 89, 55, 53, 58, 100, 77, 85, 82, 63, 69, 92, 89, 93, 57, 80, 95, 68, 77, 82, 49, 84, 37, 74, 81, 79, 55, 54, 55, 66, 61, 72, 62, 55, 43, 73, 39, 84, 68, 75, 100, 67, 67, 70, 49, 67, 89, 74, 60, 86, 62, 78, 88, 53, 53, 92, 100, 51, 76, 83, 75, 73, 88, 86, 67, 51, 91, 54, 77, 70, 100, 68, 64, 50, 69, 52, 67, 76, 66, 52, 88, 65, 83, 64, 62, 84, 55, 69, 56, 53, 79, 84, 81, 77, 69, 41, 71, 62, 80, 81, 61, 79, 28, 62, 51, 91, 83, 86, 42, 77, 56, 68, 85, 65, 80, 66, 56, 72, 50, 72, 95, 64, 43, 86, 87, 82, 75, 66, 60, 52, 80, 68, 83, 52, 51, 74, 76, 76, 70, 64, 60, 49, 83, 70, 80, 52, 73, 73, 77, 75, 81, 79, 79, 50, 93, 73, 42, 75, 72, 92, 76, 63, 49, 53, 70, 85, 78, 92, 63, 86, 56, 52, 48, 79, 78, 46, 82, 82, 89, 75, 76, 70, 73, 60, 73, 77, 62, 41, 74, 46, 87, 78, 54, 84, 76, 75, 67, 87, 52, 71, 57, 76, 60, 61, 67, 64, 66, 82, 72, 71, 65, 79, 86, 81, 53, 46, 90, 61, 23, 75, 55, 60, 37, 56, 78, 93, 68, 70, 51, 38, 55, 61, 73, 76, 72, 73, 80, 61, 94, 74, 74, 65, 57, 78, 58, 71, 72, 61, 66, 62, 90, 62, 84, 58, 34, 60, 58, 58, 66, 64, 84, 77, 73, 74, 97, 70, 43, 90, 95, 83, 64, 86, 100, 81, 49, 43, 76, 73, 78, 64, 70, 67, 68, 67, 54, 74, 45, 67, 89, 63, 59, 54, 43, 65, 99, 59, 73, 65, 80, 57, 84, 71, 83, 66, 67, 72, 73, 74, 73, 59, 56, 93, 58, 58, 85, 39, 67, 83, 71, 59, 63, 66, 72, 56, 59, 66, 48, 68, 66, 56, 88, 81, 81, 73, 83, 82, 74, 66, 81, 46, 73, 85, 92, 77, 58, 61, 56, 89, 54, 100, 65, 58, 54, 70, 90, 58, 87, 31, 67, 88, 74, 85, 69, 86, 67, 90, 76, 62, 68, 64, 71, 71, 59, 68, 52, 52, 74, 47, 75, 53, 82, 85, 64, 83, 88, 64, 64, 48, 78, 69, 71, 79, 87, 61, 89, 59, 82, 70, 59, 78, 92, 71, 50, 49, 61, 97, 87, 89, 74, 78, 78, 49, 86, 58, 59, 52, 60, 61, 53, 41, 74, 67, 54, 61, 88, 69, 83, 60, 66, 66, 92, 69, 82, 77, 95, 63, 83, 100, 67, 67, 72, 76, 90, 48, 62, 45, 39, 72, 67, 70, 66, 75, 74, 90, 80, 51, 43, 100, 71, 48, 68, 75, 96, 62, 66, 81, 55, 51, 91, 56, 61, 97, 79, 73, 75, 77, 76, 73, 63, 64, 66, 57, 62, 68, 76, 100, 79, 24, 54, 77, 82, 60, 29, 78, 57, 89, 72, 84, 58, 64, 63, 60, 59, 90, 77, 93, 68, 45, 78, 81, 73, 61, 63, 51, 96, 58, 97, 70, 48, 57, 51, 64, 60, 74, 88, 84, 74, 80, 92, 76, 74, 52, 88, 81, 79, 65, 81, 70, 62, 53, 79, 56, 80, 86, 70, 79, 67, 67, 66, 60, 87, 77, 66, 71, 69, 63, 60, 73, 85, 74, 72, 76, 57, 78, 84, 77, 64, 78, 82, 75, 61, 72, 68, 55, 40, 66, 99, 75, 78, 58, 90, 53, 76, 74, 77, 63, 89, 82, 72, 78, 66, 81, 67, 84, 64, 63, 72, 34, 59, 87, 61, 84, 85, 100, 81, 70, 94, 78, 96, 76, 73, 72, 59, 90, 48, 43, 74, 75, 51, 92, 39, 77, 46, 89, 47, 58, 57, 79, 66, 71, 60, 73, 57, 84, 73, 55, 79, 75, 64, 60, 84, 69, 72, 77, 90, 55, 95, 58, 68, 59, 77, 72, 58, 81, 62, 63, 72, 75, 62, 71, 60, 48, 73, 67, 78, 65, 58, 72, 44, 79, 85, 56, 90, 85, 59, 81, 51, 79, 38, 65, 65, 62, 66, 74, 84, 52, 68, 70, 84, 60, 55, 73, 80, 94, 85, 76, 81, 74, 45, 75, 54, 31, 47, 64, 84, 80, 86, 59, 70, 72, 91, 90, 90, 52, 87, 58, 67, 68, 69, 86, 54, 60, 86, 60, 82, 50, 64, 64, 82, 57, 77, 52, 58, 44, 77, 65, 85, 85, 54, 72, 75, 67, 68, 85, 67, 64, 97, 68, 79, 49, 73, 62, 86, 42, 71, 93, 82, 53, 42, 74, 51, 58, 72, 84, 90, 62, 64, 82, 61, 72, 76, 64, 70, 73, 46, 51, 76, 100, 72, 65, 51, 85, 92, 67, 74, 62, 34, 29, 78, 54, 78, 84, 78, 48, 100, 84, 77, 48, 84, 75, 64, 42, 84, 61, 62, 61, 70, 100, 61, 77, 96, 70, 53, 66, 65, 70, 64, 56, 61, 43, 56, 74, 57, 71, 75, 87, 63, 57, 58, 81, 68, 66, 91, 66, 62, 68, 61, 82, 58, 50, 75, 73, 77, 74, 52, 69, 57, 87, 100, 63, 81, 58, 54, 100, 76, 57, 70, 68, 63, 76, 84, 100, 72, 50, 65, 63, 82, 62, 65, 41, 95, 24, 78, 85, 87, 75, 51, 59, 75, 45, 86, 81, 82, 76, 72, 63, 99, 55, 71, 78, 86], \"yaxis\": \"y\"}],\n",
              "                        {\"legend\": {\"tracegroupgap\": 0}, \"template\": {\"data\": {\"bar\": [{\"error_x\": {\"color\": \"#2a3f5f\"}, \"error_y\": {\"color\": \"#2a3f5f\"}, \"marker\": {\"line\": {\"color\": \"#E5ECF6\", \"width\": 0.5}}, \"type\": \"bar\"}], \"barpolar\": [{\"marker\": {\"line\": {\"color\": \"#E5ECF6\", \"width\": 0.5}}, \"type\": \"barpolar\"}], \"carpet\": [{\"aaxis\": {\"endlinecolor\": \"#2a3f5f\", \"gridcolor\": \"white\", \"linecolor\": \"white\", \"minorgridcolor\": \"white\", \"startlinecolor\": \"#2a3f5f\"}, \"baxis\": {\"endlinecolor\": \"#2a3f5f\", \"gridcolor\": \"white\", \"linecolor\": \"white\", \"minorgridcolor\": \"white\", \"startlinecolor\": \"#2a3f5f\"}, \"type\": \"carpet\"}], \"choropleth\": [{\"colorbar\": {\"outlinewidth\": 0, \"ticks\": \"\"}, \"type\": \"choropleth\"}], \"contour\": [{\"colorbar\": {\"outlinewidth\": 0, \"ticks\": \"\"}, \"colorscale\": [[0.0, \"#0d0887\"], [0.1111111111111111, \"#46039f\"], [0.2222222222222222, \"#7201a8\"], [0.3333333333333333, \"#9c179e\"], [0.4444444444444444, \"#bd3786\"], [0.5555555555555556, \"#d8576b\"], [0.6666666666666666, \"#ed7953\"], [0.7777777777777778, \"#fb9f3a\"], [0.8888888888888888, \"#fdca26\"], [1.0, \"#f0f921\"]], \"type\": \"contour\"}], \"contourcarpet\": [{\"colorbar\": {\"outlinewidth\": 0, \"ticks\": \"\"}, \"type\": \"contourcarpet\"}], \"heatmap\": [{\"colorbar\": {\"outlinewidth\": 0, \"ticks\": \"\"}, \"colorscale\": [[0.0, \"#0d0887\"], [0.1111111111111111, \"#46039f\"], [0.2222222222222222, \"#7201a8\"], [0.3333333333333333, \"#9c179e\"], [0.4444444444444444, \"#bd3786\"], [0.5555555555555556, \"#d8576b\"], [0.6666666666666666, \"#ed7953\"], [0.7777777777777778, \"#fb9f3a\"], [0.8888888888888888, \"#fdca26\"], [1.0, \"#f0f921\"]], \"type\": \"heatmap\"}], \"heatmapgl\": [{\"colorbar\": {\"outlinewidth\": 0, \"ticks\": \"\"}, \"colorscale\": [[0.0, \"#0d0887\"], [0.1111111111111111, \"#46039f\"], [0.2222222222222222, \"#7201a8\"], [0.3333333333333333, \"#9c179e\"], [0.4444444444444444, \"#bd3786\"], [0.5555555555555556, \"#d8576b\"], [0.6666666666666666, \"#ed7953\"], [0.7777777777777778, \"#fb9f3a\"], [0.8888888888888888, \"#fdca26\"], [1.0, \"#f0f921\"]], \"type\": \"heatmapgl\"}], \"histogram\": [{\"marker\": {\"colorbar\": {\"outlinewidth\": 0, \"ticks\": \"\"}}, \"type\": \"histogram\"}], \"histogram2d\": [{\"colorbar\": {\"outlinewidth\": 0, \"ticks\": \"\"}, \"colorscale\": [[0.0, \"#0d0887\"], [0.1111111111111111, \"#46039f\"], [0.2222222222222222, \"#7201a8\"], [0.3333333333333333, \"#9c179e\"], [0.4444444444444444, \"#bd3786\"], [0.5555555555555556, \"#d8576b\"], [0.6666666666666666, \"#ed7953\"], [0.7777777777777778, \"#fb9f3a\"], [0.8888888888888888, \"#fdca26\"], [1.0, \"#f0f921\"]], \"type\": \"histogram2d\"}], \"histogram2dcontour\": [{\"colorbar\": {\"outlinewidth\": 0, \"ticks\": \"\"}, \"colorscale\": [[0.0, \"#0d0887\"], [0.1111111111111111, \"#46039f\"], [0.2222222222222222, \"#7201a8\"], [0.3333333333333333, \"#9c179e\"], [0.4444444444444444, \"#bd3786\"], [0.5555555555555556, \"#d8576b\"], [0.6666666666666666, \"#ed7953\"], [0.7777777777777778, \"#fb9f3a\"], [0.8888888888888888, \"#fdca26\"], [1.0, \"#f0f921\"]], \"type\": \"histogram2dcontour\"}], \"mesh3d\": [{\"colorbar\": {\"outlinewidth\": 0, \"ticks\": \"\"}, \"type\": \"mesh3d\"}], \"parcoords\": [{\"line\": {\"colorbar\": {\"outlinewidth\": 0, \"ticks\": \"\"}}, \"type\": \"parcoords\"}], \"pie\": [{\"automargin\": true, \"type\": \"pie\"}], \"scatter\": [{\"marker\": {\"colorbar\": {\"outlinewidth\": 0, \"ticks\": \"\"}}, \"type\": \"scatter\"}], \"scatter3d\": [{\"line\": {\"colorbar\": {\"outlinewidth\": 0, \"ticks\": \"\"}}, \"marker\": {\"colorbar\": {\"outlinewidth\": 0, \"ticks\": \"\"}}, \"type\": \"scatter3d\"}], \"scattercarpet\": [{\"marker\": {\"colorbar\": {\"outlinewidth\": 0, \"ticks\": \"\"}}, \"type\": \"scattercarpet\"}], \"scattergeo\": [{\"marker\": {\"colorbar\": {\"outlinewidth\": 0, \"ticks\": \"\"}}, \"type\": \"scattergeo\"}], \"scattergl\": [{\"marker\": {\"colorbar\": {\"outlinewidth\": 0, \"ticks\": \"\"}}, \"type\": \"scattergl\"}], \"scattermapbox\": [{\"marker\": {\"colorbar\": {\"outlinewidth\": 0, \"ticks\": \"\"}}, \"type\": \"scattermapbox\"}], \"scatterpolar\": [{\"marker\": {\"colorbar\": {\"outlinewidth\": 0, \"ticks\": \"\"}}, \"type\": \"scatterpolar\"}], \"scatterpolargl\": [{\"marker\": {\"colorbar\": {\"outlinewidth\": 0, \"ticks\": \"\"}}, \"type\": \"scatterpolargl\"}], \"scatterternary\": [{\"marker\": {\"colorbar\": {\"outlinewidth\": 0, \"ticks\": \"\"}}, \"type\": \"scatterternary\"}], \"surface\": [{\"colorbar\": {\"outlinewidth\": 0, \"ticks\": \"\"}, \"colorscale\": [[0.0, \"#0d0887\"], [0.1111111111111111, \"#46039f\"], [0.2222222222222222, \"#7201a8\"], [0.3333333333333333, \"#9c179e\"], [0.4444444444444444, \"#bd3786\"], [0.5555555555555556, \"#d8576b\"], [0.6666666666666666, \"#ed7953\"], [0.7777777777777778, \"#fb9f3a\"], [0.8888888888888888, \"#fdca26\"], [1.0, \"#f0f921\"]], \"type\": \"surface\"}], \"table\": [{\"cells\": {\"fill\": {\"color\": \"#EBF0F8\"}, \"line\": {\"color\": \"white\"}}, \"header\": {\"fill\": {\"color\": \"#C8D4E3\"}, \"line\": {\"color\": \"white\"}}, \"type\": \"table\"}]}, \"layout\": {\"annotationdefaults\": {\"arrowcolor\": \"#2a3f5f\", \"arrowhead\": 0, \"arrowwidth\": 1}, \"coloraxis\": {\"colorbar\": {\"outlinewidth\": 0, \"ticks\": \"\"}}, \"colorscale\": {\"diverging\": [[0, \"#8e0152\"], [0.1, \"#c51b7d\"], [0.2, \"#de77ae\"], [0.3, \"#f1b6da\"], [0.4, \"#fde0ef\"], [0.5, \"#f7f7f7\"], [0.6, \"#e6f5d0\"], [0.7, \"#b8e186\"], [0.8, \"#7fbc41\"], [0.9, \"#4d9221\"], [1, \"#276419\"]], \"sequential\": [[0.0, \"#0d0887\"], [0.1111111111111111, \"#46039f\"], [0.2222222222222222, \"#7201a8\"], [0.3333333333333333, \"#9c179e\"], [0.4444444444444444, \"#bd3786\"], [0.5555555555555556, \"#d8576b\"], [0.6666666666666666, \"#ed7953\"], [0.7777777777777778, \"#fb9f3a\"], [0.8888888888888888, \"#fdca26\"], [1.0, \"#f0f921\"]], \"sequentialminus\": [[0.0, \"#0d0887\"], [0.1111111111111111, \"#46039f\"], [0.2222222222222222, \"#7201a8\"], [0.3333333333333333, \"#9c179e\"], [0.4444444444444444, \"#bd3786\"], [0.5555555555555556, \"#d8576b\"], [0.6666666666666666, \"#ed7953\"], [0.7777777777777778, \"#fb9f3a\"], [0.8888888888888888, \"#fdca26\"], [1.0, \"#f0f921\"]]}, \"colorway\": [\"#636efa\", \"#EF553B\", \"#00cc96\", \"#ab63fa\", \"#FFA15A\", \"#19d3f3\", \"#FF6692\", \"#B6E880\", \"#FF97FF\", \"#FECB52\"], \"font\": {\"color\": \"#2a3f5f\"}, \"geo\": {\"bgcolor\": \"white\", \"lakecolor\": \"white\", \"landcolor\": \"#E5ECF6\", \"showlakes\": true, \"showland\": true, \"subunitcolor\": \"white\"}, \"hoverlabel\": {\"align\": \"left\"}, \"hovermode\": \"closest\", \"mapbox\": {\"style\": \"light\"}, \"paper_bgcolor\": \"white\", \"plot_bgcolor\": \"#E5ECF6\", \"polar\": {\"angularaxis\": {\"gridcolor\": \"white\", \"linecolor\": \"white\", \"ticks\": \"\"}, \"bgcolor\": \"#E5ECF6\", \"radialaxis\": {\"gridcolor\": \"white\", \"linecolor\": \"white\", \"ticks\": \"\"}}, \"scene\": {\"xaxis\": {\"backgroundcolor\": \"#E5ECF6\", \"gridcolor\": \"white\", \"gridwidth\": 2, \"linecolor\": \"white\", \"showbackground\": true, \"ticks\": \"\", \"zerolinecolor\": \"white\"}, \"yaxis\": {\"backgroundcolor\": \"#E5ECF6\", \"gridcolor\": \"white\", \"gridwidth\": 2, \"linecolor\": \"white\", \"showbackground\": true, \"ticks\": \"\", \"zerolinecolor\": \"white\"}, \"zaxis\": {\"backgroundcolor\": \"#E5ECF6\", \"gridcolor\": \"white\", \"gridwidth\": 2, \"linecolor\": \"white\", \"showbackground\": true, \"ticks\": \"\", \"zerolinecolor\": \"white\"}}, \"shapedefaults\": {\"line\": {\"color\": \"#2a3f5f\"}}, \"ternary\": {\"aaxis\": {\"gridcolor\": \"white\", \"linecolor\": \"white\", \"ticks\": \"\"}, \"baxis\": {\"gridcolor\": \"white\", \"linecolor\": \"white\", \"ticks\": \"\"}, \"bgcolor\": \"#E5ECF6\", \"caxis\": {\"gridcolor\": \"white\", \"linecolor\": \"white\", \"ticks\": \"\"}}, \"title\": {\"x\": 0.05}, \"xaxis\": {\"automargin\": true, \"gridcolor\": \"white\", \"linecolor\": \"white\", \"ticks\": \"\", \"title\": {\"standoff\": 15}, \"zerolinecolor\": \"white\", \"zerolinewidth\": 2}, \"yaxis\": {\"automargin\": true, \"gridcolor\": \"white\", \"linecolor\": \"white\", \"ticks\": \"\", \"title\": {\"standoff\": 15}, \"zerolinecolor\": \"white\", \"zerolinewidth\": 2}}}, \"title\": {\"text\": \"Sacatter en Plotly\"}, \"xaxis\": {\"anchor\": \"y\", \"domain\": [0.0, 1.0], \"title\": {\"text\": \"math score\"}}, \"yaxis\": {\"anchor\": \"x\", \"domain\": [0.0, 1.0], \"title\": {\"text\": \"reading score\"}}},\n",
              "                        {\"responsive\": true}\n",
              "                    ).then(function(){\n",
              "                            \n",
              "var gd = document.getElementById('ba1f724d-1c11-4bf1-afb1-0adfc8a5f17c');\n",
              "var x = new MutationObserver(function (mutations, observer) {{\n",
              "        var display = window.getComputedStyle(gd).display;\n",
              "        if (!display || display === 'none') {{\n",
              "            console.log([gd, 'removed!']);\n",
              "            Plotly.purge(gd);\n",
              "            observer.disconnect();\n",
              "        }}\n",
              "}});\n",
              "\n",
              "// Listen for the removal of the full notebook cells\n",
              "var notebookContainer = gd.closest('#notebook-container');\n",
              "if (notebookContainer) {{\n",
              "    x.observe(notebookContainer, {childList: true});\n",
              "}}\n",
              "\n",
              "// Listen for the clearing of the current output cell\n",
              "var outputEl = gd.closest('.output');\n",
              "if (outputEl) {{\n",
              "    x.observe(outputEl, {childList: true});\n",
              "}}\n",
              "\n",
              "                        })\n",
              "                };\n",
              "                \n",
              "            </script>\n",
              "        </div>\n",
              "</body>\n",
              "</html>"
            ]
          },
          "metadata": {
            "tags": []
          }
        }
      ]
    },
    {
      "cell_type": "markdown",
      "metadata": {
        "id": "4VG4Cki0XyyI"
      },
      "source": [
        "## The bubble graph \n",
        "\n",
        "¿Qué pasa si quieres relaciones 3 variables pero controlar la influencia de la tercera? \n",
        "\n",
        "Por ejemplo quieres ver peso vs altura pero al mismo tiempo quieres saber como influye en esos datos la cantidad de comida y representarlo en 2d como scatter. Para ello existe el bubble graph"
      ]
    },
    {
      "cell_type": "code",
      "metadata": {
        "colab": {
          "base_uri": "https://localhost:8080/",
          "height": 542
        },
        "id": "8uJugLVMXuYX",
        "outputId": "799a4f23-f6f4-4f71-d414-fee0a110e6e9"
      },
      "source": [
        "px.scatter(df_notas, x = \"math score\", y = \"reading score\", size = \"writing score\")"
      ],
      "execution_count": 110,
      "outputs": [
        {
          "output_type": "display_data",
          "data": {
            "text/html": [
              "<html>\n",
              "<head><meta charset=\"utf-8\" /></head>\n",
              "<body>\n",
              "    <div>\n",
              "            <script src=\"https://cdnjs.cloudflare.com/ajax/libs/mathjax/2.7.5/MathJax.js?config=TeX-AMS-MML_SVG\"></script><script type=\"text/javascript\">if (window.MathJax) {MathJax.Hub.Config({SVG: {font: \"STIX-Web\"}});}</script>\n",
              "                <script type=\"text/javascript\">window.PlotlyConfig = {MathJaxConfig: 'local'};</script>\n",
              "        <script src=\"https://cdn.plot.ly/plotly-latest.min.js\"></script>    \n",
              "            <div id=\"2716f461-04f8-4fbd-8f5c-c8c2429f2cfe\" class=\"plotly-graph-div\" style=\"height:525px; width:100%;\"></div>\n",
              "            <script type=\"text/javascript\">\n",
              "                \n",
              "                    window.PLOTLYENV=window.PLOTLYENV || {};\n",
              "                    \n",
              "                if (document.getElementById(\"2716f461-04f8-4fbd-8f5c-c8c2429f2cfe\")) {\n",
              "                    Plotly.newPlot(\n",
              "                        '2716f461-04f8-4fbd-8f5c-c8c2429f2cfe',\n",
              "                        [{\"hoverlabel\": {\"namelength\": 0}, \"hovertemplate\": \"math score=%{x}<br>reading score=%{y}<br>writing score=%{marker.size}\", \"legendgroup\": \"\", \"marker\": {\"color\": \"#636efa\", \"size\": [74, 88, 93, 44, 75, 78, 92, 39, 67, 50, 52, 43, 73, 70, 58, 78, 86, 28, 46, 61, 63, 70, 53, 73, 80, 72, 55, 75, 65, 75, 74, 61, 65, 38, 82, 79, 83, 59, 88, 57, 54, 68, 65, 66, 54, 57, 62, 76, 76, 82, 48, 68, 42, 75, 87, 43, 86, 49, 58, 10, 72, 34, 55, 71, 59, 61, 37, 74, 56, 57, 73, 63, 48, 56, 41, 38, 22, 81, 72, 68, 50, 45, 54, 63, 34, 82, 88, 74, 67, 82, 74, 36, 71, 50, 92, 82, 62, 70, 62, 62, 67, 74, 89, 47, 90, 72, 100, 64, 70, 72, 98, 49, 47, 54, 100, 74, 82, 79, 61, 65, 89, 92, 93, 56, 73, 86, 67, 74, 74, 51, 82, 40, 70, 84, 75, 48, 41, 56, 67, 69, 71, 64, 54, 47, 78, 33, 75, 66, 81, 93, 69, 68, 66, 47, 61, 88, 78, 60, 87, 64, 74, 85, 52, 49, 91, 100, 51, 78, 78, 70, 74, 78, 81, 70, 54, 87, 58, 77, 62, 100, 75, 66, 47, 70, 49, 65, 65, 68, 45, 87, 69, 79, 66, 62, 85, 52, 65, 51, 55, 76, 86, 77, 69, 68, 42, 78, 62, 76, 76, 66, 79, 27, 60, 56, 81, 75, 88, 39, 70, 56, 74, 73, 62, 75, 73, 54, 71, 54, 64, 94, 66, 42, 83, 78, 84, 77, 67, 74, 51, 80, 66, 83, 55, 43, 69, 71, 74, 68, 62, 53, 49, 83, 70, 72, 52, 70, 68, 77, 78, 81, 77, 78, 51, 90, 68, 41, 81, 77, 95, 70, 61, 42, 58, 71, 76, 73, 93, 75, 80, 57, 42, 46, 84, 78, 46, 82, 88, 82, 76, 77, 68, 70, 57, 75, 80, 60, 43, 68, 50, 75, 81, 52, 81, 64, 83, 69, 81, 44, 67, 52, 80, 57, 68, 69, 75, 65, 91, 78, 69, 63, 84, 79, 80, 53, 43, 94, 62, 19, 77, 51, 61, 35, 53, 81, 95, 66, 69, 43, 27, 60, 52, 63, 74, 67, 67, 75, 57, 95, 66, 76, 69, 52, 80, 57, 70, 70, 61, 69, 61, 89, 59, 78, 58, 32, 58, 60, 53, 61, 58, 85, 71, 70, 72, 96, 73, 41, 82, 100, 77, 62, 83, 95, 71, 45, 43, 75, 70, 67, 64, 75, 59, 77, 67, 56, 77, 41, 63, 95, 57, 54, 67, 43, 55, 100, 62, 68, 63, 77, 56, 85, 74, 78, 60, 67, 79, 69, 68, 67, 62, 54, 93, 64, 67, 80, 34, 62, 86, 65, 53, 54, 59, 70, 55, 50, 66, 53, 64, 73, 51, 82, 79, 80, 69, 76, 73, 77, 60, 80, 42, 72, 85, 97, 74, 49, 62, 47, 89, 48, 100, 68, 55, 45, 76, 91, 62, 91, 38, 65, 85, 76, 90, 74, 84, 61, 91, 83, 66, 72, 70, 67, 68, 56, 61, 46, 54, 71, 56, 74, 57, 82, 76, 70, 90, 90, 68, 66, 52, 76, 68, 72, 82, 92, 54, 92, 54, 80, 66, 54, 77, 87, 73, 43, 52, 62, 94, 85, 84, 73, 78, 79, 52, 84, 57, 50, 49, 59, 60, 43, 47, 70, 73, 53, 58, 94, 68, 83, 58, 62, 71, 86, 68, 80, 79, 89, 66, 80, 97, 64, 64, 69, 65, 88, 50, 64, 40, 33, 79, 66, 70, 62, 79, 74, 92, 80, 46, 45, 100, 78, 47, 67, 70, 92, 56, 64, 71, 53, 52, 89, 58, 68, 96, 80, 78, 80, 77, 76, 73, 62, 65, 65, 54, 50, 64, 73, 99, 72, 15, 48, 73, 81, 63, 30, 80, 51, 90, 62, 82, 54, 62, 65, 63, 66, 91, 74, 93, 72, 38, 83, 84, 68, 54, 56, 52, 86, 62, 99, 63, 46, 46, 55, 70, 65, 81, 85, 80, 64, 81, 88, 74, 73, 51, 90, 79, 80, 60, 81, 65, 68, 55, 81, 53, 76, 98, 74, 79, 67, 64, 61, 58, 85, 73, 63, 69, 67, 63, 60, 71, 87, 61, 77, 68, 50, 76, 84, 78, 66, 76, 76, 78, 60, 74, 60, 54, 44, 68, 100, 68, 73, 44, 83, 53, 78, 81, 73, 56, 86, 90, 70, 79, 59, 82, 72, 87, 67, 64, 65, 36, 52, 79, 58, 90, 85, 99, 84, 74, 87, 72, 99, 74, 80, 70, 59, 88, 42, 41, 71, 77, 57, 84, 37, 80, 43, 94, 44, 57, 59, 84, 73, 73, 55, 72, 56, 82, 72, 47, 74, 71, 68, 59, 86, 68, 65, 75, 85, 53, 92, 52, 72, 65, 77, 64, 54, 86, 63, 59, 72, 77, 60, 75, 57, 49, 74, 72, 79, 60, 55, 70, 43, 82, 82, 57, 84, 82, 62, 79, 44, 77, 32, 61, 61, 60, 70, 69, 77, 51, 73, 70, 81, 54, 57, 68, 73, 95, 87, 78, 74, 75, 40, 69, 51, 36, 49, 67, 76, 83, 87, 64, 76, 68, 88, 92, 93, 51, 82, 52, 58, 70, 76, 81, 53, 57, 89, 58, 89, 45, 74, 57, 79, 53, 73, 46, 51, 36, 76, 64, 84, 85, 50, 68, 69, 67, 63, 93, 61, 55, 96, 65, 81, 46, 72, 53, 87, 38, 80, 91, 88, 52, 41, 72, 51, 47, 76, 78, 82, 61, 66, 84, 54, 80, 74, 66, 70, 71, 44, 54, 80, 95, 59, 74, 48, 91, 85, 73, 75, 69, 38, 27, 79, 63, 82, 89, 74, 41, 100, 84, 77, 51, 91, 72, 70, 48, 82, 66, 66, 55, 66, 100, 52, 80, 91, 67, 46, 66, 65, 69, 60, 52, 71, 44, 51, 70, 62, 73, 74, 90, 58, 53, 57, 85, 69, 72, 96, 64, 61, 61, 58, 80, 60, 52, 73, 71, 83, 72, 54, 69, 62, 81, 100, 59, 71, 64, 53, 100, 75, 58, 72, 64, 60, 67, 80, 100, 69, 60, 61, 67, 77, 60, 58, 48, 94, 23, 78, 86, 91, 82, 54, 51, 76, 45, 83, 75, 78, 76, 74, 62, 95, 55, 65, 77, 86], \"sizemode\": \"area\", \"sizeref\": 0.25, \"symbol\": \"circle\"}, \"mode\": \"markers\", \"name\": \"\", \"showlegend\": false, \"type\": \"scatter\", \"x\": [72, 69, 90, 47, 76, 71, 88, 40, 64, 38, 58, 40, 65, 78, 50, 69, 88, 18, 46, 54, 66, 65, 44, 69, 74, 73, 69, 67, 70, 62, 69, 63, 56, 40, 97, 81, 74, 50, 75, 57, 55, 58, 53, 59, 50, 65, 55, 66, 57, 82, 53, 77, 53, 88, 71, 33, 82, 52, 58, 0, 79, 39, 62, 69, 59, 67, 45, 60, 61, 39, 58, 63, 41, 61, 49, 44, 30, 80, 61, 62, 47, 49, 50, 72, 42, 73, 76, 71, 58, 73, 65, 27, 71, 43, 79, 78, 65, 63, 58, 65, 79, 68, 85, 60, 98, 58, 87, 66, 52, 70, 77, 62, 54, 51, 99, 84, 75, 78, 51, 55, 79, 91, 88, 63, 83, 87, 72, 65, 82, 51, 89, 53, 87, 75, 74, 58, 51, 70, 59, 71, 76, 59, 42, 57, 88, 22, 88, 73, 68, 100, 62, 77, 59, 54, 62, 70, 66, 60, 61, 66, 82, 75, 49, 52, 81, 96, 53, 58, 68, 67, 72, 94, 79, 63, 43, 81, 46, 71, 52, 97, 62, 46, 50, 65, 45, 65, 80, 62, 48, 77, 66, 76, 62, 77, 69, 61, 59, 55, 45, 78, 67, 65, 69, 57, 59, 74, 82, 81, 74, 58, 80, 35, 42, 60, 87, 84, 83, 34, 66, 61, 56, 87, 55, 86, 52, 45, 72, 57, 68, 88, 76, 46, 67, 92, 83, 80, 63, 64, 54, 84, 73, 80, 56, 59, 75, 85, 89, 58, 65, 68, 47, 71, 60, 80, 54, 62, 64, 78, 70, 65, 64, 79, 44, 99, 76, 59, 63, 69, 88, 71, 69, 58, 47, 65, 88, 83, 85, 59, 65, 73, 53, 45, 73, 70, 37, 81, 97, 67, 88, 77, 76, 86, 63, 65, 78, 67, 46, 71, 40, 90, 81, 56, 67, 80, 74, 69, 99, 51, 53, 49, 73, 66, 67, 68, 59, 71, 77, 83, 63, 56, 67, 75, 71, 43, 41, 82, 61, 28, 82, 41, 71, 47, 62, 90, 83, 61, 76, 49, 24, 35, 58, 61, 69, 67, 79, 72, 62, 77, 75, 87, 52, 66, 63, 46, 59, 61, 63, 42, 59, 80, 58, 85, 52, 27, 59, 49, 69, 61, 44, 73, 84, 45, 74, 82, 59, 46, 80, 85, 71, 66, 80, 87, 79, 38, 38, 67, 64, 57, 62, 73, 73, 77, 76, 57, 65, 48, 50, 85, 74, 60, 59, 53, 49, 88, 54, 63, 65, 82, 52, 87, 70, 84, 71, 63, 51, 84, 71, 74, 68, 57, 82, 57, 47, 59, 41, 62, 86, 69, 65, 68, 64, 61, 61, 47, 73, 50, 75, 75, 70, 89, 67, 78, 59, 73, 79, 67, 69, 86, 47, 81, 64, 100, 65, 65, 53, 37, 79, 53, 100, 72, 53, 54, 71, 77, 75, 84, 26, 72, 77, 91, 83, 63, 68, 59, 90, 71, 76, 80, 55, 76, 73, 52, 68, 59, 49, 70, 61, 60, 64, 79, 65, 64, 83, 81, 54, 68, 54, 59, 66, 76, 74, 94, 63, 95, 40, 82, 68, 55, 79, 86, 76, 64, 62, 54, 77, 76, 74, 66, 66, 67, 71, 91, 69, 54, 53, 68, 56, 36, 29, 62, 68, 47, 62, 79, 73, 66, 51, 51, 85, 97, 75, 79, 81, 82, 64, 78, 92, 72, 62, 79, 79, 87, 40, 77, 53, 32, 55, 61, 53, 73, 74, 63, 96, 63, 48, 48, 92, 61, 63, 68, 71, 91, 53, 50, 74, 40, 61, 81, 48, 53, 81, 77, 63, 73, 69, 65, 55, 44, 54, 48, 58, 71, 68, 74, 92, 56, 30, 53, 69, 65, 54, 29, 76, 60, 84, 75, 85, 40, 61, 58, 69, 58, 94, 65, 82, 60, 37, 88, 95, 65, 35, 62, 58, 100, 61, 100, 69, 61, 49, 44, 67, 79, 66, 75, 84, 71, 67, 80, 86, 76, 41, 74, 72, 74, 70, 65, 59, 64, 50, 69, 51, 68, 85, 65, 73, 62, 77, 69, 43, 90, 74, 73, 55, 65, 80, 50, 63, 77, 73, 81, 66, 52, 69, 65, 69, 50, 73, 70, 81, 63, 67, 60, 62, 29, 62, 94, 85, 77, 53, 93, 49, 73, 66, 77, 49, 79, 75, 59, 57, 66, 79, 57, 87, 63, 59, 62, 46, 66, 89, 42, 93, 80, 98, 81, 60, 76, 73, 96, 76, 91, 62, 55, 74, 50, 47, 81, 65, 68, 73, 53, 68, 55, 87, 55, 53, 67, 92, 53, 81, 61, 80, 37, 81, 59, 55, 72, 69, 69, 50, 87, 71, 68, 79, 77, 58, 84, 55, 70, 52, 69, 53, 48, 78, 62, 60, 74, 58, 76, 68, 58, 52, 75, 52, 62, 66, 49, 66, 35, 72, 94, 46, 77, 76, 52, 91, 32, 72, 19, 68, 52, 48, 60, 66, 89, 42, 57, 70, 70, 69, 52, 67, 76, 87, 82, 73, 75, 64, 41, 90, 59, 51, 45, 54, 87, 72, 94, 45, 61, 60, 77, 85, 78, 49, 71, 48, 62, 56, 65, 69, 68, 61, 74, 64, 77, 58, 60, 73, 75, 58, 66, 39, 64, 23, 74, 40, 90, 91, 64, 59, 80, 71, 61, 87, 82, 62, 97, 75, 65, 52, 87, 53, 81, 39, 71, 97, 82, 59, 61, 78, 49, 59, 70, 82, 90, 43, 80, 81, 57, 59, 64, 63, 71, 64, 55, 51, 62, 93, 54, 69, 44, 86, 85, 50, 88, 59, 32, 36, 63, 67, 65, 85, 73, 34, 93, 67, 88, 57, 79, 67, 70, 50, 69, 52, 47, 46, 68, 100, 44, 57, 91, 69, 35, 72, 54, 74, 74, 64, 65, 46, 48, 67, 62, 61, 70, 98, 70, 67, 57, 85, 77, 72, 78, 81, 61, 58, 54, 82, 49, 49, 57, 94, 75, 74, 58, 62, 72, 84, 92, 45, 75, 56, 48, 100, 65, 72, 62, 66, 63, 68, 75, 89, 78, 53, 49, 54, 64, 60, 62, 55, 91, 8, 81, 79, 78, 74, 57, 40, 81, 44, 67, 86, 65, 55, 62, 63, 88, 62, 59, 68, 77], \"xaxis\": \"x\", \"y\": [72, 90, 95, 57, 78, 83, 95, 43, 64, 60, 54, 52, 81, 72, 53, 75, 89, 32, 42, 58, 69, 75, 54, 73, 71, 74, 54, 69, 70, 70, 74, 65, 72, 42, 87, 81, 81, 64, 90, 56, 61, 73, 58, 65, 56, 54, 65, 71, 74, 84, 55, 69, 44, 78, 84, 41, 85, 55, 59, 17, 74, 39, 61, 80, 58, 64, 37, 72, 58, 64, 63, 55, 51, 57, 49, 41, 26, 78, 74, 68, 49, 45, 47, 64, 39, 80, 83, 71, 70, 86, 72, 34, 79, 45, 86, 81, 66, 72, 67, 67, 67, 74, 91, 44, 86, 67, 100, 63, 76, 64, 89, 55, 53, 58, 100, 77, 85, 82, 63, 69, 92, 89, 93, 57, 80, 95, 68, 77, 82, 49, 84, 37, 74, 81, 79, 55, 54, 55, 66, 61, 72, 62, 55, 43, 73, 39, 84, 68, 75, 100, 67, 67, 70, 49, 67, 89, 74, 60, 86, 62, 78, 88, 53, 53, 92, 100, 51, 76, 83, 75, 73, 88, 86, 67, 51, 91, 54, 77, 70, 100, 68, 64, 50, 69, 52, 67, 76, 66, 52, 88, 65, 83, 64, 62, 84, 55, 69, 56, 53, 79, 84, 81, 77, 69, 41, 71, 62, 80, 81, 61, 79, 28, 62, 51, 91, 83, 86, 42, 77, 56, 68, 85, 65, 80, 66, 56, 72, 50, 72, 95, 64, 43, 86, 87, 82, 75, 66, 60, 52, 80, 68, 83, 52, 51, 74, 76, 76, 70, 64, 60, 49, 83, 70, 80, 52, 73, 73, 77, 75, 81, 79, 79, 50, 93, 73, 42, 75, 72, 92, 76, 63, 49, 53, 70, 85, 78, 92, 63, 86, 56, 52, 48, 79, 78, 46, 82, 82, 89, 75, 76, 70, 73, 60, 73, 77, 62, 41, 74, 46, 87, 78, 54, 84, 76, 75, 67, 87, 52, 71, 57, 76, 60, 61, 67, 64, 66, 82, 72, 71, 65, 79, 86, 81, 53, 46, 90, 61, 23, 75, 55, 60, 37, 56, 78, 93, 68, 70, 51, 38, 55, 61, 73, 76, 72, 73, 80, 61, 94, 74, 74, 65, 57, 78, 58, 71, 72, 61, 66, 62, 90, 62, 84, 58, 34, 60, 58, 58, 66, 64, 84, 77, 73, 74, 97, 70, 43, 90, 95, 83, 64, 86, 100, 81, 49, 43, 76, 73, 78, 64, 70, 67, 68, 67, 54, 74, 45, 67, 89, 63, 59, 54, 43, 65, 99, 59, 73, 65, 80, 57, 84, 71, 83, 66, 67, 72, 73, 74, 73, 59, 56, 93, 58, 58, 85, 39, 67, 83, 71, 59, 63, 66, 72, 56, 59, 66, 48, 68, 66, 56, 88, 81, 81, 73, 83, 82, 74, 66, 81, 46, 73, 85, 92, 77, 58, 61, 56, 89, 54, 100, 65, 58, 54, 70, 90, 58, 87, 31, 67, 88, 74, 85, 69, 86, 67, 90, 76, 62, 68, 64, 71, 71, 59, 68, 52, 52, 74, 47, 75, 53, 82, 85, 64, 83, 88, 64, 64, 48, 78, 69, 71, 79, 87, 61, 89, 59, 82, 70, 59, 78, 92, 71, 50, 49, 61, 97, 87, 89, 74, 78, 78, 49, 86, 58, 59, 52, 60, 61, 53, 41, 74, 67, 54, 61, 88, 69, 83, 60, 66, 66, 92, 69, 82, 77, 95, 63, 83, 100, 67, 67, 72, 76, 90, 48, 62, 45, 39, 72, 67, 70, 66, 75, 74, 90, 80, 51, 43, 100, 71, 48, 68, 75, 96, 62, 66, 81, 55, 51, 91, 56, 61, 97, 79, 73, 75, 77, 76, 73, 63, 64, 66, 57, 62, 68, 76, 100, 79, 24, 54, 77, 82, 60, 29, 78, 57, 89, 72, 84, 58, 64, 63, 60, 59, 90, 77, 93, 68, 45, 78, 81, 73, 61, 63, 51, 96, 58, 97, 70, 48, 57, 51, 64, 60, 74, 88, 84, 74, 80, 92, 76, 74, 52, 88, 81, 79, 65, 81, 70, 62, 53, 79, 56, 80, 86, 70, 79, 67, 67, 66, 60, 87, 77, 66, 71, 69, 63, 60, 73, 85, 74, 72, 76, 57, 78, 84, 77, 64, 78, 82, 75, 61, 72, 68, 55, 40, 66, 99, 75, 78, 58, 90, 53, 76, 74, 77, 63, 89, 82, 72, 78, 66, 81, 67, 84, 64, 63, 72, 34, 59, 87, 61, 84, 85, 100, 81, 70, 94, 78, 96, 76, 73, 72, 59, 90, 48, 43, 74, 75, 51, 92, 39, 77, 46, 89, 47, 58, 57, 79, 66, 71, 60, 73, 57, 84, 73, 55, 79, 75, 64, 60, 84, 69, 72, 77, 90, 55, 95, 58, 68, 59, 77, 72, 58, 81, 62, 63, 72, 75, 62, 71, 60, 48, 73, 67, 78, 65, 58, 72, 44, 79, 85, 56, 90, 85, 59, 81, 51, 79, 38, 65, 65, 62, 66, 74, 84, 52, 68, 70, 84, 60, 55, 73, 80, 94, 85, 76, 81, 74, 45, 75, 54, 31, 47, 64, 84, 80, 86, 59, 70, 72, 91, 90, 90, 52, 87, 58, 67, 68, 69, 86, 54, 60, 86, 60, 82, 50, 64, 64, 82, 57, 77, 52, 58, 44, 77, 65, 85, 85, 54, 72, 75, 67, 68, 85, 67, 64, 97, 68, 79, 49, 73, 62, 86, 42, 71, 93, 82, 53, 42, 74, 51, 58, 72, 84, 90, 62, 64, 82, 61, 72, 76, 64, 70, 73, 46, 51, 76, 100, 72, 65, 51, 85, 92, 67, 74, 62, 34, 29, 78, 54, 78, 84, 78, 48, 100, 84, 77, 48, 84, 75, 64, 42, 84, 61, 62, 61, 70, 100, 61, 77, 96, 70, 53, 66, 65, 70, 64, 56, 61, 43, 56, 74, 57, 71, 75, 87, 63, 57, 58, 81, 68, 66, 91, 66, 62, 68, 61, 82, 58, 50, 75, 73, 77, 74, 52, 69, 57, 87, 100, 63, 81, 58, 54, 100, 76, 57, 70, 68, 63, 76, 84, 100, 72, 50, 65, 63, 82, 62, 65, 41, 95, 24, 78, 85, 87, 75, 51, 59, 75, 45, 86, 81, 82, 76, 72, 63, 99, 55, 71, 78, 86], \"yaxis\": \"y\"}],\n",
              "                        {\"legend\": {\"itemsizing\": \"constant\", \"tracegroupgap\": 0}, \"margin\": {\"t\": 60}, \"template\": {\"data\": {\"bar\": [{\"error_x\": {\"color\": \"#2a3f5f\"}, \"error_y\": {\"color\": \"#2a3f5f\"}, \"marker\": {\"line\": {\"color\": \"#E5ECF6\", \"width\": 0.5}}, \"type\": \"bar\"}], \"barpolar\": [{\"marker\": {\"line\": {\"color\": \"#E5ECF6\", \"width\": 0.5}}, \"type\": \"barpolar\"}], \"carpet\": [{\"aaxis\": {\"endlinecolor\": \"#2a3f5f\", \"gridcolor\": \"white\", \"linecolor\": \"white\", \"minorgridcolor\": \"white\", \"startlinecolor\": \"#2a3f5f\"}, \"baxis\": {\"endlinecolor\": \"#2a3f5f\", \"gridcolor\": \"white\", \"linecolor\": \"white\", \"minorgridcolor\": \"white\", \"startlinecolor\": \"#2a3f5f\"}, \"type\": \"carpet\"}], \"choropleth\": [{\"colorbar\": {\"outlinewidth\": 0, \"ticks\": \"\"}, \"type\": \"choropleth\"}], \"contour\": [{\"colorbar\": {\"outlinewidth\": 0, \"ticks\": \"\"}, \"colorscale\": [[0.0, \"#0d0887\"], [0.1111111111111111, \"#46039f\"], [0.2222222222222222, \"#7201a8\"], [0.3333333333333333, \"#9c179e\"], [0.4444444444444444, \"#bd3786\"], [0.5555555555555556, \"#d8576b\"], [0.6666666666666666, \"#ed7953\"], [0.7777777777777778, \"#fb9f3a\"], [0.8888888888888888, \"#fdca26\"], [1.0, \"#f0f921\"]], \"type\": \"contour\"}], \"contourcarpet\": [{\"colorbar\": {\"outlinewidth\": 0, \"ticks\": \"\"}, \"type\": \"contourcarpet\"}], \"heatmap\": [{\"colorbar\": {\"outlinewidth\": 0, \"ticks\": \"\"}, \"colorscale\": [[0.0, \"#0d0887\"], [0.1111111111111111, \"#46039f\"], [0.2222222222222222, \"#7201a8\"], [0.3333333333333333, \"#9c179e\"], [0.4444444444444444, \"#bd3786\"], [0.5555555555555556, \"#d8576b\"], [0.6666666666666666, \"#ed7953\"], [0.7777777777777778, \"#fb9f3a\"], [0.8888888888888888, \"#fdca26\"], [1.0, \"#f0f921\"]], \"type\": \"heatmap\"}], \"heatmapgl\": [{\"colorbar\": {\"outlinewidth\": 0, \"ticks\": \"\"}, \"colorscale\": [[0.0, \"#0d0887\"], [0.1111111111111111, \"#46039f\"], [0.2222222222222222, \"#7201a8\"], [0.3333333333333333, \"#9c179e\"], [0.4444444444444444, \"#bd3786\"], [0.5555555555555556, \"#d8576b\"], [0.6666666666666666, \"#ed7953\"], [0.7777777777777778, \"#fb9f3a\"], [0.8888888888888888, \"#fdca26\"], [1.0, \"#f0f921\"]], \"type\": \"heatmapgl\"}], \"histogram\": [{\"marker\": {\"colorbar\": {\"outlinewidth\": 0, \"ticks\": \"\"}}, \"type\": \"histogram\"}], \"histogram2d\": [{\"colorbar\": {\"outlinewidth\": 0, \"ticks\": \"\"}, \"colorscale\": [[0.0, \"#0d0887\"], [0.1111111111111111, \"#46039f\"], [0.2222222222222222, \"#7201a8\"], [0.3333333333333333, \"#9c179e\"], [0.4444444444444444, \"#bd3786\"], [0.5555555555555556, \"#d8576b\"], [0.6666666666666666, \"#ed7953\"], [0.7777777777777778, \"#fb9f3a\"], [0.8888888888888888, \"#fdca26\"], [1.0, \"#f0f921\"]], \"type\": \"histogram2d\"}], \"histogram2dcontour\": [{\"colorbar\": {\"outlinewidth\": 0, \"ticks\": \"\"}, \"colorscale\": [[0.0, \"#0d0887\"], [0.1111111111111111, \"#46039f\"], [0.2222222222222222, \"#7201a8\"], [0.3333333333333333, \"#9c179e\"], [0.4444444444444444, \"#bd3786\"], [0.5555555555555556, \"#d8576b\"], [0.6666666666666666, \"#ed7953\"], [0.7777777777777778, \"#fb9f3a\"], [0.8888888888888888, \"#fdca26\"], [1.0, \"#f0f921\"]], \"type\": \"histogram2dcontour\"}], \"mesh3d\": [{\"colorbar\": {\"outlinewidth\": 0, \"ticks\": \"\"}, \"type\": \"mesh3d\"}], \"parcoords\": [{\"line\": {\"colorbar\": {\"outlinewidth\": 0, \"ticks\": \"\"}}, \"type\": \"parcoords\"}], \"pie\": [{\"automargin\": true, \"type\": \"pie\"}], \"scatter\": [{\"marker\": {\"colorbar\": {\"outlinewidth\": 0, \"ticks\": \"\"}}, \"type\": \"scatter\"}], \"scatter3d\": [{\"line\": {\"colorbar\": {\"outlinewidth\": 0, \"ticks\": \"\"}}, \"marker\": {\"colorbar\": {\"outlinewidth\": 0, \"ticks\": \"\"}}, \"type\": \"scatter3d\"}], \"scattercarpet\": [{\"marker\": {\"colorbar\": {\"outlinewidth\": 0, \"ticks\": \"\"}}, \"type\": \"scattercarpet\"}], \"scattergeo\": [{\"marker\": {\"colorbar\": {\"outlinewidth\": 0, \"ticks\": \"\"}}, \"type\": \"scattergeo\"}], \"scattergl\": [{\"marker\": {\"colorbar\": {\"outlinewidth\": 0, \"ticks\": \"\"}}, \"type\": \"scattergl\"}], \"scattermapbox\": [{\"marker\": {\"colorbar\": {\"outlinewidth\": 0, \"ticks\": \"\"}}, \"type\": \"scattermapbox\"}], \"scatterpolar\": [{\"marker\": {\"colorbar\": {\"outlinewidth\": 0, \"ticks\": \"\"}}, \"type\": \"scatterpolar\"}], \"scatterpolargl\": [{\"marker\": {\"colorbar\": {\"outlinewidth\": 0, \"ticks\": \"\"}}, \"type\": \"scatterpolargl\"}], \"scatterternary\": [{\"marker\": {\"colorbar\": {\"outlinewidth\": 0, \"ticks\": \"\"}}, \"type\": \"scatterternary\"}], \"surface\": [{\"colorbar\": {\"outlinewidth\": 0, \"ticks\": \"\"}, \"colorscale\": [[0.0, \"#0d0887\"], [0.1111111111111111, \"#46039f\"], [0.2222222222222222, \"#7201a8\"], [0.3333333333333333, \"#9c179e\"], [0.4444444444444444, \"#bd3786\"], [0.5555555555555556, \"#d8576b\"], [0.6666666666666666, \"#ed7953\"], [0.7777777777777778, \"#fb9f3a\"], [0.8888888888888888, \"#fdca26\"], [1.0, \"#f0f921\"]], \"type\": \"surface\"}], \"table\": [{\"cells\": {\"fill\": {\"color\": \"#EBF0F8\"}, \"line\": {\"color\": \"white\"}}, \"header\": {\"fill\": {\"color\": \"#C8D4E3\"}, \"line\": {\"color\": \"white\"}}, \"type\": \"table\"}]}, \"layout\": {\"annotationdefaults\": {\"arrowcolor\": \"#2a3f5f\", \"arrowhead\": 0, \"arrowwidth\": 1}, \"coloraxis\": {\"colorbar\": {\"outlinewidth\": 0, \"ticks\": \"\"}}, \"colorscale\": {\"diverging\": [[0, \"#8e0152\"], [0.1, \"#c51b7d\"], [0.2, \"#de77ae\"], [0.3, \"#f1b6da\"], [0.4, \"#fde0ef\"], [0.5, \"#f7f7f7\"], [0.6, \"#e6f5d0\"], [0.7, \"#b8e186\"], [0.8, \"#7fbc41\"], [0.9, \"#4d9221\"], [1, \"#276419\"]], \"sequential\": [[0.0, \"#0d0887\"], [0.1111111111111111, \"#46039f\"], [0.2222222222222222, \"#7201a8\"], [0.3333333333333333, \"#9c179e\"], [0.4444444444444444, \"#bd3786\"], [0.5555555555555556, \"#d8576b\"], [0.6666666666666666, \"#ed7953\"], [0.7777777777777778, \"#fb9f3a\"], [0.8888888888888888, \"#fdca26\"], [1.0, \"#f0f921\"]], \"sequentialminus\": [[0.0, \"#0d0887\"], [0.1111111111111111, \"#46039f\"], [0.2222222222222222, \"#7201a8\"], [0.3333333333333333, \"#9c179e\"], [0.4444444444444444, \"#bd3786\"], [0.5555555555555556, \"#d8576b\"], [0.6666666666666666, \"#ed7953\"], [0.7777777777777778, \"#fb9f3a\"], [0.8888888888888888, \"#fdca26\"], [1.0, \"#f0f921\"]]}, \"colorway\": [\"#636efa\", \"#EF553B\", \"#00cc96\", \"#ab63fa\", \"#FFA15A\", \"#19d3f3\", \"#FF6692\", \"#B6E880\", \"#FF97FF\", \"#FECB52\"], \"font\": {\"color\": \"#2a3f5f\"}, \"geo\": {\"bgcolor\": \"white\", \"lakecolor\": \"white\", \"landcolor\": \"#E5ECF6\", \"showlakes\": true, \"showland\": true, \"subunitcolor\": \"white\"}, \"hoverlabel\": {\"align\": \"left\"}, \"hovermode\": \"closest\", \"mapbox\": {\"style\": \"light\"}, \"paper_bgcolor\": \"white\", \"plot_bgcolor\": \"#E5ECF6\", \"polar\": {\"angularaxis\": {\"gridcolor\": \"white\", \"linecolor\": \"white\", \"ticks\": \"\"}, \"bgcolor\": \"#E5ECF6\", \"radialaxis\": {\"gridcolor\": \"white\", \"linecolor\": \"white\", \"ticks\": \"\"}}, \"scene\": {\"xaxis\": {\"backgroundcolor\": \"#E5ECF6\", \"gridcolor\": \"white\", \"gridwidth\": 2, \"linecolor\": \"white\", \"showbackground\": true, \"ticks\": \"\", \"zerolinecolor\": \"white\"}, \"yaxis\": {\"backgroundcolor\": \"#E5ECF6\", \"gridcolor\": \"white\", \"gridwidth\": 2, \"linecolor\": \"white\", \"showbackground\": true, \"ticks\": \"\", \"zerolinecolor\": \"white\"}, \"zaxis\": {\"backgroundcolor\": \"#E5ECF6\", \"gridcolor\": \"white\", \"gridwidth\": 2, \"linecolor\": \"white\", \"showbackground\": true, \"ticks\": \"\", \"zerolinecolor\": \"white\"}}, \"shapedefaults\": {\"line\": {\"color\": \"#2a3f5f\"}}, \"ternary\": {\"aaxis\": {\"gridcolor\": \"white\", \"linecolor\": \"white\", \"ticks\": \"\"}, \"baxis\": {\"gridcolor\": \"white\", \"linecolor\": \"white\", \"ticks\": \"\"}, \"bgcolor\": \"#E5ECF6\", \"caxis\": {\"gridcolor\": \"white\", \"linecolor\": \"white\", \"ticks\": \"\"}}, \"title\": {\"x\": 0.05}, \"xaxis\": {\"automargin\": true, \"gridcolor\": \"white\", \"linecolor\": \"white\", \"ticks\": \"\", \"title\": {\"standoff\": 15}, \"zerolinecolor\": \"white\", \"zerolinewidth\": 2}, \"yaxis\": {\"automargin\": true, \"gridcolor\": \"white\", \"linecolor\": \"white\", \"ticks\": \"\", \"title\": {\"standoff\": 15}, \"zerolinecolor\": \"white\", \"zerolinewidth\": 2}}}, \"xaxis\": {\"anchor\": \"y\", \"domain\": [0.0, 1.0], \"title\": {\"text\": \"math score\"}}, \"yaxis\": {\"anchor\": \"x\", \"domain\": [0.0, 1.0], \"title\": {\"text\": \"reading score\"}}},\n",
              "                        {\"responsive\": true}\n",
              "                    ).then(function(){\n",
              "                            \n",
              "var gd = document.getElementById('2716f461-04f8-4fbd-8f5c-c8c2429f2cfe');\n",
              "var x = new MutationObserver(function (mutations, observer) {{\n",
              "        var display = window.getComputedStyle(gd).display;\n",
              "        if (!display || display === 'none') {{\n",
              "            console.log([gd, 'removed!']);\n",
              "            Plotly.purge(gd);\n",
              "            observer.disconnect();\n",
              "        }}\n",
              "}});\n",
              "\n",
              "// Listen for the removal of the full notebook cells\n",
              "var notebookContainer = gd.closest('#notebook-container');\n",
              "if (notebookContainer) {{\n",
              "    x.observe(notebookContainer, {childList: true});\n",
              "}}\n",
              "\n",
              "// Listen for the clearing of the current output cell\n",
              "var outputEl = gd.closest('.output');\n",
              "if (outputEl) {{\n",
              "    x.observe(outputEl, {childList: true});\n",
              "}}\n",
              "\n",
              "                        })\n",
              "                };\n",
              "                \n",
              "            </script>\n",
              "        </div>\n",
              "</body>\n",
              "</html>"
            ]
          },
          "metadata": {
            "tags": []
          }
        }
      ]
    },
    {
      "cell_type": "markdown",
      "metadata": {
        "id": "AUx_xZFvZCmw"
      },
      "source": [
        "## The bubble graph con color\n",
        "\n",
        "¿Y si son 4 variables en 2d?"
      ]
    },
    {
      "cell_type": "code",
      "metadata": {
        "colab": {
          "base_uri": "https://localhost:8080/",
          "height": 199
        },
        "id": "eTiU-2NhYl1-",
        "outputId": "f8749131-36ab-4e10-f614-1e9cd0a4bb84"
      },
      "source": [
        "df_sex_notas = df_estudiantes.iloc[:,[0,-3,-2,-1]]\n",
        "df_sex_notas.head()"
      ],
      "execution_count": 111,
      "outputs": [
        {
          "output_type": "execute_result",
          "data": {
            "text/html": [
              "<div>\n",
              "<style scoped>\n",
              "    .dataframe tbody tr th:only-of-type {\n",
              "        vertical-align: middle;\n",
              "    }\n",
              "\n",
              "    .dataframe tbody tr th {\n",
              "        vertical-align: top;\n",
              "    }\n",
              "\n",
              "    .dataframe thead th {\n",
              "        text-align: right;\n",
              "    }\n",
              "</style>\n",
              "<table border=\"1\" class=\"dataframe\">\n",
              "  <thead>\n",
              "    <tr style=\"text-align: right;\">\n",
              "      <th></th>\n",
              "      <th>gender</th>\n",
              "      <th>math score</th>\n",
              "      <th>reading score</th>\n",
              "      <th>writing score</th>\n",
              "    </tr>\n",
              "  </thead>\n",
              "  <tbody>\n",
              "    <tr>\n",
              "      <th>0</th>\n",
              "      <td>female</td>\n",
              "      <td>72</td>\n",
              "      <td>72</td>\n",
              "      <td>74</td>\n",
              "    </tr>\n",
              "    <tr>\n",
              "      <th>1</th>\n",
              "      <td>female</td>\n",
              "      <td>69</td>\n",
              "      <td>90</td>\n",
              "      <td>88</td>\n",
              "    </tr>\n",
              "    <tr>\n",
              "      <th>2</th>\n",
              "      <td>female</td>\n",
              "      <td>90</td>\n",
              "      <td>95</td>\n",
              "      <td>93</td>\n",
              "    </tr>\n",
              "    <tr>\n",
              "      <th>3</th>\n",
              "      <td>male</td>\n",
              "      <td>47</td>\n",
              "      <td>57</td>\n",
              "      <td>44</td>\n",
              "    </tr>\n",
              "    <tr>\n",
              "      <th>4</th>\n",
              "      <td>male</td>\n",
              "      <td>76</td>\n",
              "      <td>78</td>\n",
              "      <td>75</td>\n",
              "    </tr>\n",
              "  </tbody>\n",
              "</table>\n",
              "</div>"
            ],
            "text/plain": [
              "   gender  math score  reading score  writing score\n",
              "0  female          72             72             74\n",
              "1  female          69             90             88\n",
              "2  female          90             95             93\n",
              "3    male          47             57             44\n",
              "4    male          76             78             75"
            ]
          },
          "metadata": {
            "tags": []
          },
          "execution_count": 111
        }
      ]
    },
    {
      "cell_type": "code",
      "metadata": {
        "colab": {
          "base_uri": "https://localhost:8080/",
          "height": 542
        },
        "id": "FcFCBCX-YnNb",
        "outputId": "7ac374a6-b056-40e0-f60b-33debbe8ca5b"
      },
      "source": [
        "fig2 = px.scatter(df_sex_notas, x = \"math score\", y = \"reading score\", color = \"gender\", size = \"writing score\")\n",
        "fig2.show()"
      ],
      "execution_count": 113,
      "outputs": [
        {
          "output_type": "display_data",
          "data": {
            "text/html": [
              "<html>\n",
              "<head><meta charset=\"utf-8\" /></head>\n",
              "<body>\n",
              "    <div>\n",
              "            <script src=\"https://cdnjs.cloudflare.com/ajax/libs/mathjax/2.7.5/MathJax.js?config=TeX-AMS-MML_SVG\"></script><script type=\"text/javascript\">if (window.MathJax) {MathJax.Hub.Config({SVG: {font: \"STIX-Web\"}});}</script>\n",
              "                <script type=\"text/javascript\">window.PlotlyConfig = {MathJaxConfig: 'local'};</script>\n",
              "        <script src=\"https://cdn.plot.ly/plotly-latest.min.js\"></script>    \n",
              "            <div id=\"239b4f77-7ecc-461f-bfc3-66752903ff69\" class=\"plotly-graph-div\" style=\"height:525px; width:100%;\"></div>\n",
              "            <script type=\"text/javascript\">\n",
              "                \n",
              "                    window.PLOTLYENV=window.PLOTLYENV || {};\n",
              "                    \n",
              "                if (document.getElementById(\"239b4f77-7ecc-461f-bfc3-66752903ff69\")) {\n",
              "                    Plotly.newPlot(\n",
              "                        '239b4f77-7ecc-461f-bfc3-66752903ff69',\n",
              "                        [{\"hoverlabel\": {\"namelength\": 0}, \"hovertemplate\": \"gender=female<br>math score=%{x}<br>reading score=%{y}<br>writing score=%{marker.size}\", \"legendgroup\": \"gender=female\", \"marker\": {\"color\": \"#636efa\", \"size\": [74, 88, 93, 78, 92, 50, 73, 58, 78, 28, 61, 70, 73, 75, 75, 74, 61, 65, 83, 59, 88, 68, 65, 54, 62, 76, 76, 87, 43, 86, 10, 71, 59, 74, 57, 73, 48, 72, 68, 50, 82, 88, 74, 67, 82, 74, 92, 70, 62, 62, 89, 72, 100, 70, 72, 98, 54, 100, 82, 79, 61, 65, 89, 93, 86, 51, 84, 67, 71, 64, 54, 33, 81, 66, 88, 78, 87, 85, 91, 100, 78, 78, 70, 81, 70, 54, 87, 58, 77, 62, 100, 66, 47, 70, 87, 69, 66, 85, 55, 76, 86, 77, 68, 76, 66, 60, 88, 39, 74, 62, 73, 54, 71, 94, 83, 74, 83, 55, 68, 62, 83, 70, 70, 68, 78, 81, 77, 51, 90, 81, 77, 95, 70, 58, 71, 93, 75, 80, 84, 78, 46, 82, 75, 81, 83, 67, 52, 80, 69, 75, 91, 63, 84, 79, 80, 53, 43, 94, 51, 95, 66, 27, 60, 63, 74, 75, 95, 69, 80, 57, 70, 70, 69, 89, 59, 58, 32, 58, 85, 70, 96, 73, 82, 100, 77, 83, 45, 43, 75, 70, 67, 64, 77, 77, 63, 95, 67, 55, 100, 62, 68, 77, 56, 74, 79, 93, 64, 67, 80, 62, 70, 50, 79, 80, 69, 76, 77, 85, 97, 74, 62, 89, 100, 76, 91, 91, 38, 85, 90, 74, 84, 61, 91, 83, 70, 56, 54, 74, 76, 70, 90, 90, 68, 52, 76, 68, 82, 92, 92, 54, 80, 87, 62, 94, 85, 84, 73, 78, 79, 84, 43, 47, 70, 73, 53, 94, 83, 62, 79, 89, 66, 97, 64, 50, 33, 79, 70, 79, 74, 80, 100, 78, 56, 64, 71, 89, 58, 68, 96, 80, 78, 80, 77, 76, 73, 62, 65, 65, 73, 99, 72, 73, 81, 63, 30, 80, 82, 54, 62, 65, 66, 74, 93, 72, 38, 54, 62, 55, 81, 85, 81, 88, 73, 90, 79, 80, 81, 65, 68, 55, 81, 76, 98, 74, 79, 67, 58, 69, 67, 60, 71, 87, 68, 76, 84, 78, 66, 76, 76, 74, 44, 100, 53, 78, 81, 73, 56, 86, 90, 70, 79, 82, 72, 67, 64, 58, 85, 99, 74, 87, 99, 74, 70, 88, 77, 84, 80, 94, 57, 73, 56, 82, 72, 59, 85, 92, 65, 64, 54, 63, 72, 77, 75, 72, 79, 55, 70, 43, 82, 57, 84, 82, 62, 44, 77, 32, 61, 60, 70, 51, 73, 81, 57, 95, 87, 78, 75, 40, 67, 83, 64, 68, 88, 92, 93, 82, 52, 70, 76, 81, 57, 89, 89, 74, 79, 73, 46, 36, 64, 68, 63, 93, 96, 81, 53, 87, 80, 76, 61, 80, 74, 70, 71, 54, 80, 95, 74, 91, 85, 73, 69, 38, 79, 82, 74, 41, 100, 84, 91, 72, 82, 66, 66, 55, 66, 52, 80, 46, 65, 71, 51, 57, 96, 61, 58, 60, 73, 83, 72, 69, 100, 59, 64, 53, 100, 75, 72, 67, 80, 100, 60, 61, 67, 77, 94, 23, 91, 82, 51, 45, 83, 78, 76, 74, 95, 65, 77, 86], \"sizemode\": \"area\", \"sizeref\": 0.25, \"symbol\": \"circle\"}, \"mode\": \"markers\", \"name\": \"gender=female\", \"showlegend\": true, \"type\": \"scatter\", \"x\": [72, 69, 90, 71, 88, 38, 65, 50, 69, 18, 54, 65, 69, 67, 62, 69, 63, 56, 74, 50, 75, 58, 53, 50, 55, 66, 57, 71, 33, 82, 0, 69, 59, 60, 39, 58, 41, 61, 62, 47, 73, 76, 71, 58, 73, 65, 79, 63, 58, 65, 85, 58, 87, 52, 70, 77, 51, 99, 75, 78, 51, 55, 79, 88, 87, 51, 75, 59, 76, 59, 42, 22, 68, 59, 70, 66, 61, 75, 81, 96, 58, 68, 67, 79, 63, 43, 81, 46, 71, 52, 97, 46, 50, 65, 77, 66, 62, 69, 45, 78, 67, 65, 57, 74, 58, 42, 83, 34, 56, 55, 52, 45, 72, 88, 67, 64, 80, 56, 58, 65, 71, 60, 62, 64, 70, 65, 64, 44, 99, 63, 69, 88, 71, 47, 65, 85, 59, 65, 73, 70, 37, 67, 65, 67, 74, 53, 49, 73, 68, 59, 77, 56, 67, 75, 71, 43, 41, 82, 41, 83, 61, 24, 35, 61, 69, 72, 77, 52, 63, 46, 59, 61, 42, 80, 58, 52, 27, 44, 73, 45, 82, 59, 80, 85, 71, 80, 38, 38, 67, 64, 57, 62, 77, 65, 50, 85, 59, 49, 88, 54, 63, 82, 52, 70, 51, 82, 57, 47, 59, 62, 61, 47, 67, 78, 59, 73, 67, 64, 100, 65, 53, 79, 100, 71, 77, 84, 26, 77, 83, 63, 68, 59, 90, 71, 55, 52, 49, 60, 65, 64, 83, 81, 54, 54, 59, 66, 74, 94, 95, 40, 82, 86, 54, 77, 76, 74, 66, 66, 67, 91, 36, 29, 62, 68, 47, 79, 66, 51, 81, 82, 64, 92, 62, 40, 32, 55, 53, 74, 63, 63, 92, 61, 53, 50, 74, 81, 48, 53, 81, 77, 63, 73, 69, 65, 55, 44, 54, 48, 74, 92, 56, 69, 65, 54, 29, 76, 85, 40, 61, 58, 58, 65, 82, 60, 37, 35, 61, 44, 66, 75, 67, 80, 76, 74, 72, 74, 65, 59, 64, 50, 69, 68, 85, 65, 73, 62, 43, 55, 65, 50, 63, 77, 66, 69, 65, 69, 50, 73, 70, 67, 29, 94, 49, 73, 66, 77, 49, 79, 75, 59, 57, 79, 57, 63, 59, 42, 80, 98, 60, 76, 96, 76, 62, 74, 65, 73, 68, 87, 53, 53, 37, 81, 59, 50, 77, 84, 52, 53, 48, 62, 74, 58, 68, 52, 62, 49, 66, 35, 72, 46, 77, 76, 52, 32, 72, 19, 52, 48, 60, 42, 57, 70, 52, 87, 82, 73, 64, 41, 54, 72, 45, 60, 77, 85, 78, 71, 48, 56, 65, 69, 61, 74, 77, 60, 75, 66, 39, 23, 40, 59, 61, 87, 97, 65, 53, 81, 71, 70, 43, 59, 64, 71, 64, 51, 62, 93, 69, 86, 85, 50, 59, 32, 63, 65, 73, 34, 93, 67, 79, 67, 69, 52, 47, 46, 68, 44, 57, 35, 54, 65, 48, 57, 78, 58, 54, 49, 57, 75, 74, 62, 92, 45, 56, 48, 100, 65, 62, 68, 75, 89, 53, 49, 54, 64, 91, 8, 78, 74, 40, 44, 67, 65, 55, 62, 88, 59, 68, 77], \"xaxis\": \"x\", \"y\": [72, 90, 95, 83, 95, 60, 81, 53, 75, 32, 58, 75, 73, 69, 70, 74, 65, 72, 81, 64, 90, 73, 58, 56, 65, 71, 74, 84, 41, 85, 17, 80, 58, 72, 64, 63, 51, 74, 68, 49, 80, 83, 71, 70, 86, 72, 86, 72, 67, 67, 91, 67, 100, 76, 64, 89, 58, 100, 85, 82, 63, 69, 92, 93, 95, 49, 81, 66, 72, 62, 55, 39, 75, 70, 89, 74, 86, 88, 92, 100, 76, 83, 75, 86, 67, 51, 91, 54, 77, 70, 100, 64, 50, 69, 88, 65, 64, 84, 53, 79, 84, 81, 69, 81, 61, 62, 86, 42, 68, 65, 66, 56, 72, 95, 86, 60, 83, 52, 70, 64, 83, 70, 73, 73, 75, 81, 79, 50, 93, 75, 72, 92, 76, 53, 70, 92, 63, 86, 79, 78, 46, 89, 73, 84, 75, 71, 57, 76, 67, 64, 82, 65, 79, 86, 81, 53, 46, 90, 55, 93, 68, 38, 55, 73, 76, 80, 94, 65, 78, 58, 71, 72, 66, 90, 62, 58, 34, 64, 84, 73, 97, 70, 90, 95, 83, 86, 49, 43, 76, 73, 78, 64, 68, 74, 67, 89, 54, 65, 99, 59, 73, 80, 57, 71, 72, 93, 58, 58, 85, 67, 72, 59, 81, 81, 73, 83, 74, 85, 92, 77, 61, 89, 100, 70, 90, 87, 31, 88, 85, 69, 86, 67, 90, 76, 64, 59, 52, 75, 85, 64, 83, 88, 64, 48, 78, 69, 79, 87, 89, 59, 82, 92, 61, 97, 87, 89, 74, 78, 78, 86, 53, 41, 74, 67, 54, 88, 83, 66, 77, 95, 63, 100, 67, 48, 39, 72, 70, 75, 74, 80, 100, 71, 62, 66, 81, 91, 56, 61, 97, 79, 73, 75, 77, 76, 73, 63, 64, 66, 76, 100, 79, 77, 82, 60, 29, 78, 84, 58, 64, 63, 59, 77, 93, 68, 45, 61, 58, 51, 74, 88, 80, 92, 74, 88, 81, 79, 81, 70, 62, 53, 79, 80, 86, 70, 79, 67, 60, 71, 69, 60, 73, 85, 76, 78, 84, 77, 64, 78, 82, 72, 40, 99, 53, 76, 74, 77, 63, 89, 82, 72, 78, 81, 67, 64, 63, 61, 85, 100, 70, 94, 96, 76, 72, 90, 75, 92, 77, 89, 58, 66, 57, 84, 73, 60, 90, 95, 59, 72, 58, 62, 72, 75, 71, 67, 78, 58, 72, 44, 79, 56, 90, 85, 59, 51, 79, 38, 65, 62, 66, 52, 68, 84, 55, 94, 85, 76, 74, 45, 64, 80, 59, 72, 91, 90, 90, 87, 58, 68, 69, 86, 60, 86, 82, 64, 82, 77, 52, 44, 65, 72, 68, 85, 97, 79, 62, 86, 71, 72, 62, 72, 76, 70, 73, 51, 76, 100, 65, 85, 92, 67, 62, 34, 78, 78, 78, 48, 100, 84, 84, 75, 84, 61, 62, 61, 70, 61, 77, 53, 65, 61, 56, 58, 91, 68, 61, 58, 75, 77, 74, 69, 100, 63, 58, 54, 100, 76, 70, 76, 84, 100, 50, 65, 63, 82, 95, 24, 87, 75, 59, 45, 86, 82, 76, 72, 99, 71, 78, 86], \"yaxis\": \"y\"}, {\"hoverlabel\": {\"namelength\": 0}, \"hovertemplate\": \"gender=male<br>math score=%{x}<br>reading score=%{y}<br>writing score=%{marker.size}\", \"legendgroup\": \"gender=male\", \"marker\": {\"color\": \"#EF553B\", \"size\": [44, 75, 39, 67, 52, 43, 70, 86, 46, 63, 53, 80, 72, 55, 65, 38, 82, 79, 57, 54, 66, 57, 82, 48, 68, 42, 75, 49, 58, 72, 34, 55, 61, 37, 56, 63, 56, 41, 38, 22, 81, 45, 54, 63, 34, 36, 71, 50, 82, 62, 67, 74, 47, 90, 64, 49, 47, 74, 92, 56, 73, 67, 74, 74, 82, 40, 70, 75, 48, 41, 56, 69, 47, 78, 75, 66, 93, 69, 68, 47, 61, 60, 64, 74, 52, 49, 51, 74, 78, 75, 49, 65, 65, 68, 45, 79, 62, 52, 65, 51, 69, 42, 78, 62, 76, 79, 27, 56, 81, 75, 70, 56, 73, 75, 54, 64, 66, 42, 78, 84, 77, 67, 51, 80, 66, 43, 69, 71, 74, 53, 49, 72, 52, 77, 78, 68, 41, 61, 42, 76, 73, 57, 42, 46, 82, 88, 76, 77, 68, 70, 57, 80, 60, 43, 68, 50, 75, 81, 52, 64, 69, 81, 44, 57, 68, 65, 78, 69, 62, 19, 77, 61, 35, 53, 81, 69, 43, 52, 67, 67, 57, 66, 76, 52, 61, 61, 78, 58, 60, 53, 61, 71, 72, 41, 62, 95, 71, 75, 59, 67, 56, 41, 57, 54, 43, 63, 85, 78, 60, 67, 69, 68, 67, 62, 54, 34, 86, 65, 53, 54, 59, 55, 66, 53, 64, 73, 51, 82, 73, 60, 80, 42, 72, 49, 47, 48, 68, 55, 45, 62, 65, 76, 66, 72, 67, 68, 61, 46, 71, 56, 57, 82, 66, 72, 54, 66, 54, 77, 73, 43, 52, 52, 57, 50, 49, 59, 60, 58, 68, 58, 71, 86, 68, 80, 80, 64, 69, 65, 88, 64, 40, 66, 62, 92, 46, 45, 47, 67, 70, 92, 53, 52, 54, 50, 64, 15, 48, 51, 90, 62, 63, 91, 83, 84, 68, 56, 52, 86, 99, 63, 46, 46, 70, 65, 80, 64, 74, 51, 60, 53, 64, 61, 85, 73, 63, 63, 61, 77, 50, 78, 60, 60, 54, 68, 68, 73, 44, 83, 59, 87, 65, 36, 52, 79, 90, 84, 72, 80, 59, 42, 41, 71, 57, 37, 43, 44, 59, 84, 73, 55, 72, 47, 74, 71, 68, 86, 68, 65, 75, 53, 52, 72, 77, 86, 59, 60, 57, 49, 74, 60, 82, 79, 61, 69, 77, 70, 54, 68, 73, 74, 69, 51, 36, 49, 76, 87, 76, 51, 58, 53, 58, 45, 57, 53, 51, 76, 84, 85, 50, 69, 67, 61, 55, 65, 46, 72, 38, 91, 88, 52, 41, 72, 51, 47, 78, 82, 66, 84, 54, 66, 44, 59, 48, 75, 27, 63, 89, 77, 51, 70, 48, 100, 91, 67, 66, 69, 60, 52, 44, 70, 62, 73, 74, 90, 58, 53, 85, 69, 72, 64, 61, 80, 52, 71, 54, 62, 81, 71, 58, 64, 60, 69, 60, 58, 48, 78, 86, 54, 76, 75, 62, 55], \"sizemode\": \"area\", \"sizeref\": 0.25, \"symbol\": \"circle\"}, \"mode\": \"markers\", \"name\": \"gender=male\", \"showlegend\": true, \"type\": \"scatter\", \"x\": [47, 76, 40, 64, 58, 40, 78, 88, 46, 66, 44, 74, 73, 69, 70, 40, 97, 81, 57, 55, 59, 65, 82, 53, 77, 53, 88, 52, 58, 79, 39, 62, 67, 45, 61, 63, 61, 49, 44, 30, 80, 49, 50, 72, 42, 27, 71, 43, 78, 65, 79, 68, 60, 98, 66, 62, 54, 84, 91, 63, 83, 72, 65, 82, 89, 53, 87, 74, 58, 51, 70, 71, 57, 88, 88, 73, 100, 62, 77, 54, 62, 60, 66, 82, 49, 52, 53, 72, 94, 62, 45, 65, 80, 62, 48, 76, 77, 61, 59, 55, 69, 59, 74, 82, 81, 80, 35, 60, 87, 84, 66, 61, 87, 86, 57, 68, 76, 46, 92, 83, 80, 63, 54, 84, 73, 59, 75, 85, 89, 68, 47, 80, 54, 78, 79, 76, 59, 69, 58, 88, 83, 73, 53, 45, 81, 97, 88, 77, 76, 86, 63, 78, 67, 46, 71, 40, 90, 81, 56, 80, 69, 99, 51, 66, 67, 71, 83, 63, 61, 28, 82, 71, 47, 62, 90, 76, 49, 58, 67, 79, 62, 75, 87, 66, 63, 59, 85, 59, 49, 69, 61, 84, 74, 46, 66, 87, 79, 73, 73, 76, 57, 48, 74, 60, 53, 65, 87, 84, 71, 63, 84, 71, 74, 68, 57, 41, 86, 69, 65, 68, 64, 61, 73, 50, 75, 75, 70, 89, 79, 69, 86, 47, 81, 65, 37, 53, 72, 53, 54, 75, 72, 91, 76, 80, 76, 73, 68, 59, 70, 61, 64, 79, 68, 76, 63, 68, 55, 79, 76, 64, 62, 71, 69, 54, 53, 68, 56, 62, 73, 51, 85, 97, 75, 79, 78, 72, 79, 79, 87, 77, 53, 61, 73, 96, 48, 48, 63, 68, 71, 91, 40, 61, 58, 71, 68, 30, 53, 60, 84, 75, 69, 94, 88, 95, 65, 62, 58, 100, 100, 69, 61, 49, 67, 79, 84, 71, 86, 41, 70, 51, 77, 69, 90, 74, 73, 80, 73, 81, 52, 81, 63, 60, 62, 62, 85, 77, 53, 93, 66, 87, 62, 46, 66, 89, 93, 81, 73, 91, 55, 50, 47, 81, 68, 53, 55, 55, 67, 92, 81, 61, 80, 55, 72, 69, 69, 87, 71, 68, 79, 58, 55, 70, 69, 78, 60, 76, 58, 52, 75, 66, 94, 91, 68, 66, 89, 70, 69, 67, 76, 75, 90, 59, 51, 45, 87, 94, 61, 49, 62, 68, 64, 58, 73, 58, 64, 74, 90, 91, 64, 80, 71, 82, 62, 75, 52, 87, 39, 97, 82, 59, 61, 78, 49, 59, 82, 90, 80, 81, 57, 63, 55, 54, 44, 88, 36, 67, 85, 88, 57, 70, 50, 100, 91, 69, 72, 74, 74, 64, 46, 67, 62, 61, 70, 98, 70, 67, 85, 77, 72, 81, 61, 82, 49, 94, 58, 72, 84, 75, 72, 66, 63, 78, 60, 62, 55, 81, 79, 57, 81, 86, 63, 62], \"xaxis\": \"x\", \"y\": [57, 78, 43, 64, 54, 52, 72, 89, 42, 69, 54, 71, 74, 54, 70, 42, 87, 81, 56, 61, 65, 54, 84, 55, 69, 44, 78, 55, 59, 74, 39, 61, 64, 37, 58, 55, 57, 49, 41, 26, 78, 45, 47, 64, 39, 34, 79, 45, 81, 66, 67, 74, 44, 86, 63, 55, 53, 77, 89, 57, 80, 68, 77, 82, 84, 37, 74, 79, 55, 54, 55, 61, 43, 73, 84, 68, 100, 67, 67, 49, 67, 60, 62, 78, 53, 53, 51, 73, 88, 68, 52, 67, 76, 66, 52, 83, 62, 55, 69, 56, 77, 41, 71, 62, 80, 79, 28, 51, 91, 83, 77, 56, 85, 80, 50, 72, 64, 43, 87, 82, 75, 66, 52, 80, 68, 51, 74, 76, 76, 60, 49, 80, 52, 77, 79, 73, 42, 63, 49, 85, 78, 56, 52, 48, 82, 82, 75, 76, 70, 73, 60, 77, 62, 41, 74, 46, 87, 78, 54, 76, 67, 87, 52, 60, 61, 66, 72, 71, 61, 23, 75, 60, 37, 56, 78, 70, 51, 61, 72, 73, 61, 74, 74, 57, 61, 62, 84, 60, 58, 58, 66, 77, 74, 43, 64, 100, 81, 70, 67, 67, 54, 45, 63, 59, 43, 65, 84, 83, 66, 67, 73, 74, 73, 59, 56, 39, 83, 71, 59, 63, 66, 56, 66, 48, 68, 66, 56, 88, 82, 66, 81, 46, 73, 58, 56, 54, 65, 58, 54, 58, 67, 74, 62, 68, 71, 71, 68, 52, 74, 47, 53, 82, 64, 71, 61, 70, 59, 78, 71, 50, 49, 49, 58, 59, 52, 60, 61, 61, 69, 60, 66, 92, 69, 82, 83, 67, 72, 76, 90, 62, 45, 67, 66, 90, 51, 43, 48, 68, 75, 96, 55, 51, 57, 62, 68, 24, 54, 57, 89, 72, 60, 90, 78, 81, 73, 63, 51, 96, 97, 70, 48, 57, 64, 60, 84, 74, 76, 52, 65, 56, 67, 66, 87, 77, 66, 63, 74, 72, 57, 75, 61, 68, 55, 66, 75, 78, 58, 90, 66, 84, 72, 34, 59, 87, 84, 81, 78, 73, 59, 48, 43, 74, 51, 39, 46, 47, 57, 79, 71, 60, 73, 55, 79, 75, 64, 84, 69, 72, 77, 55, 58, 68, 77, 81, 63, 62, 60, 48, 73, 65, 85, 81, 65, 74, 84, 70, 60, 73, 80, 81, 75, 54, 31, 47, 84, 86, 70, 52, 67, 54, 60, 50, 64, 57, 58, 77, 85, 85, 54, 75, 67, 67, 64, 68, 49, 73, 42, 93, 82, 53, 42, 74, 51, 58, 84, 90, 64, 82, 61, 64, 46, 72, 51, 74, 29, 54, 84, 77, 48, 64, 42, 100, 96, 70, 66, 70, 64, 56, 43, 74, 57, 71, 75, 87, 63, 57, 81, 68, 66, 66, 62, 82, 50, 73, 52, 57, 87, 81, 57, 68, 63, 72, 62, 65, 41, 78, 85, 51, 75, 81, 63, 55], \"yaxis\": \"y\"}],\n",
              "                        {\"legend\": {\"itemsizing\": \"constant\", \"tracegroupgap\": 0}, \"margin\": {\"t\": 60}, \"template\": {\"data\": {\"bar\": [{\"error_x\": {\"color\": \"#2a3f5f\"}, \"error_y\": {\"color\": \"#2a3f5f\"}, \"marker\": {\"line\": {\"color\": \"#E5ECF6\", \"width\": 0.5}}, \"type\": \"bar\"}], \"barpolar\": [{\"marker\": {\"line\": {\"color\": \"#E5ECF6\", \"width\": 0.5}}, \"type\": \"barpolar\"}], \"carpet\": [{\"aaxis\": {\"endlinecolor\": \"#2a3f5f\", \"gridcolor\": \"white\", \"linecolor\": \"white\", \"minorgridcolor\": \"white\", \"startlinecolor\": \"#2a3f5f\"}, \"baxis\": {\"endlinecolor\": \"#2a3f5f\", \"gridcolor\": \"white\", \"linecolor\": \"white\", \"minorgridcolor\": \"white\", \"startlinecolor\": \"#2a3f5f\"}, \"type\": \"carpet\"}], \"choropleth\": [{\"colorbar\": {\"outlinewidth\": 0, \"ticks\": \"\"}, \"type\": \"choropleth\"}], \"contour\": [{\"colorbar\": {\"outlinewidth\": 0, \"ticks\": \"\"}, \"colorscale\": [[0.0, \"#0d0887\"], [0.1111111111111111, \"#46039f\"], [0.2222222222222222, \"#7201a8\"], [0.3333333333333333, \"#9c179e\"], [0.4444444444444444, \"#bd3786\"], [0.5555555555555556, \"#d8576b\"], [0.6666666666666666, \"#ed7953\"], [0.7777777777777778, \"#fb9f3a\"], [0.8888888888888888, \"#fdca26\"], [1.0, \"#f0f921\"]], \"type\": \"contour\"}], \"contourcarpet\": [{\"colorbar\": {\"outlinewidth\": 0, \"ticks\": \"\"}, \"type\": \"contourcarpet\"}], \"heatmap\": [{\"colorbar\": {\"outlinewidth\": 0, \"ticks\": \"\"}, \"colorscale\": [[0.0, \"#0d0887\"], [0.1111111111111111, \"#46039f\"], [0.2222222222222222, \"#7201a8\"], [0.3333333333333333, \"#9c179e\"], [0.4444444444444444, \"#bd3786\"], [0.5555555555555556, \"#d8576b\"], [0.6666666666666666, \"#ed7953\"], [0.7777777777777778, \"#fb9f3a\"], [0.8888888888888888, \"#fdca26\"], [1.0, \"#f0f921\"]], \"type\": \"heatmap\"}], \"heatmapgl\": [{\"colorbar\": {\"outlinewidth\": 0, \"ticks\": \"\"}, \"colorscale\": [[0.0, \"#0d0887\"], [0.1111111111111111, \"#46039f\"], [0.2222222222222222, \"#7201a8\"], [0.3333333333333333, \"#9c179e\"], [0.4444444444444444, \"#bd3786\"], [0.5555555555555556, \"#d8576b\"], [0.6666666666666666, \"#ed7953\"], [0.7777777777777778, \"#fb9f3a\"], [0.8888888888888888, \"#fdca26\"], [1.0, \"#f0f921\"]], \"type\": \"heatmapgl\"}], \"histogram\": [{\"marker\": {\"colorbar\": {\"outlinewidth\": 0, \"ticks\": \"\"}}, \"type\": \"histogram\"}], \"histogram2d\": [{\"colorbar\": {\"outlinewidth\": 0, \"ticks\": \"\"}, \"colorscale\": [[0.0, \"#0d0887\"], [0.1111111111111111, \"#46039f\"], [0.2222222222222222, \"#7201a8\"], [0.3333333333333333, \"#9c179e\"], [0.4444444444444444, \"#bd3786\"], [0.5555555555555556, \"#d8576b\"], [0.6666666666666666, \"#ed7953\"], [0.7777777777777778, \"#fb9f3a\"], [0.8888888888888888, \"#fdca26\"], [1.0, \"#f0f921\"]], \"type\": \"histogram2d\"}], \"histogram2dcontour\": [{\"colorbar\": {\"outlinewidth\": 0, \"ticks\": \"\"}, \"colorscale\": [[0.0, \"#0d0887\"], [0.1111111111111111, \"#46039f\"], [0.2222222222222222, \"#7201a8\"], [0.3333333333333333, \"#9c179e\"], [0.4444444444444444, \"#bd3786\"], [0.5555555555555556, \"#d8576b\"], [0.6666666666666666, \"#ed7953\"], [0.7777777777777778, \"#fb9f3a\"], [0.8888888888888888, \"#fdca26\"], [1.0, \"#f0f921\"]], \"type\": \"histogram2dcontour\"}], \"mesh3d\": [{\"colorbar\": {\"outlinewidth\": 0, \"ticks\": \"\"}, \"type\": \"mesh3d\"}], \"parcoords\": [{\"line\": {\"colorbar\": {\"outlinewidth\": 0, \"ticks\": \"\"}}, \"type\": \"parcoords\"}], \"pie\": [{\"automargin\": true, \"type\": \"pie\"}], \"scatter\": [{\"marker\": {\"colorbar\": {\"outlinewidth\": 0, \"ticks\": \"\"}}, \"type\": \"scatter\"}], \"scatter3d\": [{\"line\": {\"colorbar\": {\"outlinewidth\": 0, \"ticks\": \"\"}}, \"marker\": {\"colorbar\": {\"outlinewidth\": 0, \"ticks\": \"\"}}, \"type\": \"scatter3d\"}], \"scattercarpet\": [{\"marker\": {\"colorbar\": {\"outlinewidth\": 0, \"ticks\": \"\"}}, \"type\": \"scattercarpet\"}], \"scattergeo\": [{\"marker\": {\"colorbar\": {\"outlinewidth\": 0, \"ticks\": \"\"}}, \"type\": \"scattergeo\"}], \"scattergl\": [{\"marker\": {\"colorbar\": {\"outlinewidth\": 0, \"ticks\": \"\"}}, \"type\": \"scattergl\"}], \"scattermapbox\": [{\"marker\": {\"colorbar\": {\"outlinewidth\": 0, \"ticks\": \"\"}}, \"type\": \"scattermapbox\"}], \"scatterpolar\": [{\"marker\": {\"colorbar\": {\"outlinewidth\": 0, \"ticks\": \"\"}}, \"type\": \"scatterpolar\"}], \"scatterpolargl\": [{\"marker\": {\"colorbar\": {\"outlinewidth\": 0, \"ticks\": \"\"}}, \"type\": \"scatterpolargl\"}], \"scatterternary\": [{\"marker\": {\"colorbar\": {\"outlinewidth\": 0, \"ticks\": \"\"}}, \"type\": \"scatterternary\"}], \"surface\": [{\"colorbar\": {\"outlinewidth\": 0, \"ticks\": \"\"}, \"colorscale\": [[0.0, \"#0d0887\"], [0.1111111111111111, \"#46039f\"], [0.2222222222222222, \"#7201a8\"], [0.3333333333333333, \"#9c179e\"], [0.4444444444444444, \"#bd3786\"], [0.5555555555555556, \"#d8576b\"], [0.6666666666666666, \"#ed7953\"], [0.7777777777777778, \"#fb9f3a\"], [0.8888888888888888, \"#fdca26\"], [1.0, \"#f0f921\"]], \"type\": \"surface\"}], \"table\": [{\"cells\": {\"fill\": {\"color\": \"#EBF0F8\"}, \"line\": {\"color\": \"white\"}}, \"header\": {\"fill\": {\"color\": \"#C8D4E3\"}, \"line\": {\"color\": \"white\"}}, \"type\": \"table\"}]}, \"layout\": {\"annotationdefaults\": {\"arrowcolor\": \"#2a3f5f\", \"arrowhead\": 0, \"arrowwidth\": 1}, \"coloraxis\": {\"colorbar\": {\"outlinewidth\": 0, \"ticks\": \"\"}}, \"colorscale\": {\"diverging\": [[0, \"#8e0152\"], [0.1, \"#c51b7d\"], [0.2, \"#de77ae\"], [0.3, \"#f1b6da\"], [0.4, \"#fde0ef\"], [0.5, \"#f7f7f7\"], [0.6, \"#e6f5d0\"], [0.7, \"#b8e186\"], [0.8, \"#7fbc41\"], [0.9, \"#4d9221\"], [1, \"#276419\"]], \"sequential\": [[0.0, \"#0d0887\"], [0.1111111111111111, \"#46039f\"], [0.2222222222222222, \"#7201a8\"], [0.3333333333333333, \"#9c179e\"], [0.4444444444444444, \"#bd3786\"], [0.5555555555555556, \"#d8576b\"], [0.6666666666666666, \"#ed7953\"], [0.7777777777777778, \"#fb9f3a\"], [0.8888888888888888, \"#fdca26\"], [1.0, \"#f0f921\"]], \"sequentialminus\": [[0.0, \"#0d0887\"], [0.1111111111111111, \"#46039f\"], [0.2222222222222222, \"#7201a8\"], [0.3333333333333333, \"#9c179e\"], [0.4444444444444444, \"#bd3786\"], [0.5555555555555556, \"#d8576b\"], [0.6666666666666666, \"#ed7953\"], [0.7777777777777778, \"#fb9f3a\"], [0.8888888888888888, \"#fdca26\"], [1.0, \"#f0f921\"]]}, \"colorway\": [\"#636efa\", \"#EF553B\", \"#00cc96\", \"#ab63fa\", \"#FFA15A\", \"#19d3f3\", \"#FF6692\", \"#B6E880\", \"#FF97FF\", \"#FECB52\"], \"font\": {\"color\": \"#2a3f5f\"}, \"geo\": {\"bgcolor\": \"white\", \"lakecolor\": \"white\", \"landcolor\": \"#E5ECF6\", \"showlakes\": true, \"showland\": true, \"subunitcolor\": \"white\"}, \"hoverlabel\": {\"align\": \"left\"}, \"hovermode\": \"closest\", \"mapbox\": {\"style\": \"light\"}, \"paper_bgcolor\": \"white\", \"plot_bgcolor\": \"#E5ECF6\", \"polar\": {\"angularaxis\": {\"gridcolor\": \"white\", \"linecolor\": \"white\", \"ticks\": \"\"}, \"bgcolor\": \"#E5ECF6\", \"radialaxis\": {\"gridcolor\": \"white\", \"linecolor\": \"white\", \"ticks\": \"\"}}, \"scene\": {\"xaxis\": {\"backgroundcolor\": \"#E5ECF6\", \"gridcolor\": \"white\", \"gridwidth\": 2, \"linecolor\": \"white\", \"showbackground\": true, \"ticks\": \"\", \"zerolinecolor\": \"white\"}, \"yaxis\": {\"backgroundcolor\": \"#E5ECF6\", \"gridcolor\": \"white\", \"gridwidth\": 2, \"linecolor\": \"white\", \"showbackground\": true, \"ticks\": \"\", \"zerolinecolor\": \"white\"}, \"zaxis\": {\"backgroundcolor\": \"#E5ECF6\", \"gridcolor\": \"white\", \"gridwidth\": 2, \"linecolor\": \"white\", \"showbackground\": true, \"ticks\": \"\", \"zerolinecolor\": \"white\"}}, \"shapedefaults\": {\"line\": {\"color\": \"#2a3f5f\"}}, \"ternary\": {\"aaxis\": {\"gridcolor\": \"white\", \"linecolor\": \"white\", \"ticks\": \"\"}, \"baxis\": {\"gridcolor\": \"white\", \"linecolor\": \"white\", \"ticks\": \"\"}, \"bgcolor\": \"#E5ECF6\", \"caxis\": {\"gridcolor\": \"white\", \"linecolor\": \"white\", \"ticks\": \"\"}}, \"title\": {\"x\": 0.05}, \"xaxis\": {\"automargin\": true, \"gridcolor\": \"white\", \"linecolor\": \"white\", \"ticks\": \"\", \"title\": {\"standoff\": 15}, \"zerolinecolor\": \"white\", \"zerolinewidth\": 2}, \"yaxis\": {\"automargin\": true, \"gridcolor\": \"white\", \"linecolor\": \"white\", \"ticks\": \"\", \"title\": {\"standoff\": 15}, \"zerolinecolor\": \"white\", \"zerolinewidth\": 2}}}, \"xaxis\": {\"anchor\": \"y\", \"domain\": [0.0, 1.0], \"title\": {\"text\": \"math score\"}}, \"yaxis\": {\"anchor\": \"x\", \"domain\": [0.0, 1.0], \"title\": {\"text\": \"reading score\"}}},\n",
              "                        {\"responsive\": true}\n",
              "                    ).then(function(){\n",
              "                            \n",
              "var gd = document.getElementById('239b4f77-7ecc-461f-bfc3-66752903ff69');\n",
              "var x = new MutationObserver(function (mutations, observer) {{\n",
              "        var display = window.getComputedStyle(gd).display;\n",
              "        if (!display || display === 'none') {{\n",
              "            console.log([gd, 'removed!']);\n",
              "            Plotly.purge(gd);\n",
              "            observer.disconnect();\n",
              "        }}\n",
              "}});\n",
              "\n",
              "// Listen for the removal of the full notebook cells\n",
              "var notebookContainer = gd.closest('#notebook-container');\n",
              "if (notebookContainer) {{\n",
              "    x.observe(notebookContainer, {childList: true});\n",
              "}}\n",
              "\n",
              "// Listen for the clearing of the current output cell\n",
              "var outputEl = gd.closest('.output');\n",
              "if (outputEl) {{\n",
              "    x.observe(outputEl, {childList: true});\n",
              "}}\n",
              "\n",
              "                        })\n",
              "                };\n",
              "                \n",
              "            </script>\n",
              "        </div>\n",
              "</body>\n",
              "</html>"
            ]
          },
          "metadata": {
            "tags": []
          }
        }
      ]
    },
    {
      "cell_type": "code",
      "metadata": {
        "id": "DdouTJqVZm4W"
      },
      "source": [
        ""
      ],
      "execution_count": null,
      "outputs": []
    }
  ]
}
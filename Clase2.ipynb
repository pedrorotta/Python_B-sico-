{
  "nbformat": 4,
  "nbformat_minor": 0,
  "metadata": {
    "colab": {
      "name": "Clase2.ipynb",
      "provenance": [],
      "collapsed_sections": [],
      "toc_visible": true,
      "authorship_tag": "ABX9TyNAaPF8yjHYzDTThItQTcx3",
      "include_colab_link": true
    },
    "kernelspec": {
      "name": "python3",
      "display_name": "Python 3"
    }
  },
  "cells": [
    {
      "cell_type": "markdown",
      "metadata": {
        "id": "view-in-github",
        "colab_type": "text"
      },
      "source": [
        "<a href=\"https://colab.research.google.com/github/pedrorotta/Python_B-sico-/blob/main/Clase2.ipynb\" target=\"_parent\"><img src=\"https://colab.research.google.com/assets/colab-badge.svg\" alt=\"Open In Colab\"/></a>"
      ]
    },
    {
      "cell_type": "markdown",
      "metadata": {
        "id": "SiDypcwBkivK"
      },
      "source": [
        "#**Segunda Clase**\n",
        "\n",
        "En este segunda clase, veremos algunas cosas generales de Python, como lo que son variables y funciones lógicas en Python. Luego de esta primera sesion podrás usar Python como calculadora y operador funcional. \n"
      ]
    },
    {
      "cell_type": "markdown",
      "metadata": {
        "id": "44OCdCiT_7qR"
      },
      "source": [
        "## **Variables simples**\n",
        "\n",
        "Las variables son lo más básico de Python. Una variable es la forma de designar un valor en Python. Si queremos darle a conocer a la computadora un número o un texto, debemos hacerlo en forma de variable. En Python existen los siguientes tipos de variables principales : \n",
        "\n",
        "\n",
        "\n",
        "*   **Para representar números** : Enteros o Flotantes (INT or Float)\n",
        "*   **Para representar texto** : Cadenas de texto (Strings) \n",
        "*   **Para representar conjunciones lógicas (Verdadero o Falso)** : Variables Booleanas\n",
        "\n",
        "Para definir una variable se deben cumplir las siguientes pautas: \n",
        "\n",
        "* El primer caracter de la variable debe ser una letra (mayúscula o minúscula) \n",
        "\n",
        "* Desde el segundo caracter puede contener letras, números y subguiones \n",
        "\n",
        "* las variables no pueden contener espacios, ni guiones ni tildes en su definición \n"
      ]
    },
    {
      "cell_type": "markdown",
      "metadata": {
        "id": "m_3MyY5yB-IW"
      },
      "source": [
        "### **Números** \n",
        "\n",
        "Podemos definir un número de la siguiente forma \n",
        "```\n",
        "A = 3 \n",
        "```\n",
        "o también \n",
        "\n",
        "```\n",
        "a = 3 \n",
        "```\n",
        "es incorrecto colocar \n",
        "```\n",
        "3a = 3 \n",
        "```\n"
      ]
    },
    {
      "cell_type": "markdown",
      "metadata": {
        "id": "xoevFcMH7al0"
      },
      "source": [
        "Entonces, si guardamos el numero sin decimales, estamos guardando un **entero (int)**, en cambio si guardamos el número como decimal estamos guardando un **flotante (float)** "
      ]
    },
    {
      "cell_type": "code",
      "metadata": {
        "id": "EWGmsejAkhWV"
      },
      "source": [
        "#Ejemplos correctos"
      ],
      "execution_count": 13,
      "outputs": []
    },
    {
      "cell_type": "code",
      "metadata": {
        "id": "fV4Jr2qnq-8f"
      },
      "source": [
        "#Ejemplos incorrectos"
      ],
      "execution_count": 14,
      "outputs": []
    },
    {
      "cell_type": "markdown",
      "metadata": {
        "id": "sARKx9JXFr_v"
      },
      "source": [
        "Python también acepta valores numéricos con notación científica y los almacena como flotates\n",
        "\n",
        "Por ejemplo :\n",
        "\n",
        "```\n",
        "a = 0.5e-7\n",
        "\n",
        "```"
      ]
    },
    {
      "cell_type": "code",
      "metadata": {
        "id": "T9ieu9X6GQis"
      },
      "source": [
        "#Ejemplo "
      ],
      "execution_count": 15,
      "outputs": []
    },
    {
      "cell_type": "markdown",
      "metadata": {
        "id": "72Ri1fHNDlex"
      },
      "source": [
        "### **Cadenas de texto**\n",
        "\n",
        "Las cadenas de texto son el segundo tipo de variable que vamos a ver, en otros lenguajes de programación pueden ser variables char también, acá simplemente serán string o cadenas de texto. \n",
        "\n",
        "Algunos puntos a tener en cuenta interesantes son los siguientes: \n",
        "\n",
        "* Deben ser contenidas dentro de comillas simples o dobles \n",
        "\n",
        "* los espacios forman parte de los caracteres "
      ]
    },
    {
      "cell_type": "markdown",
      "metadata": {
        "id": "POmT1TL6Em5w"
      },
      "source": [
        "Por ejemplo : \n",
        "\n",
        "```\n",
        "s = \"hola\"\n",
        "```\n",
        "\n",
        "También se puede escribir : \n",
        "\n",
        "```\n",
        "s = 'hola'\n",
        "```\n",
        "\n",
        "sería inválido si escribimos : \n",
        "\n",
        "```\n",
        "_23a = \"hola\n",
        "#esto daría error\n",
        "```\n"
      ]
    },
    {
      "cell_type": "markdown",
      "metadata": {
        "id": "8ehssbZZWOTu"
      },
      "source": [
        "#### Concatenación de cadenas de texto \n",
        "\n",
        "En python las cadenas de texto (Strings) se pueden *sumar*, esto quiere decir que se puede añadir una cadena a otra para formar una oración más grande (*o una cadena de caracteres más grande*)"
      ]
    },
    {
      "cell_type": "markdown",
      "metadata": {
        "id": "zUVPHgS9WjQr"
      },
      "source": [
        "Por ejemplo si tenemos \n",
        "\n",
        "```\n",
        "a = \"hola\"\n",
        "b = \"cómo estás\"\"\n",
        "saludo = a+b\n",
        "print(saludo)\n",
        "```"
      ]
    },
    {
      "cell_type": "markdown",
      "metadata": {
        "id": "dg0xkJvTWvEk"
      },
      "source": [
        "Nota : Tenemos que tener cuidado ya que los espacios también cuentan"
      ]
    },
    {
      "cell_type": "markdown",
      "metadata": {
        "id": "242Mi0DIktlD"
      },
      "source": [
        "\n",
        "\n",
        "### **Variables Booleanas**\n",
        "\n",
        "También llamadas condicionales, sirven para devolver un valor de verdad; por ejemplo verdadero o falso. \n",
        "\n",
        "Se usarán cuando veamos condiciones lógicas, en la siguiente clase.\n",
        "\n",
        "Se definen  :\n",
        "\n",
        "```\n",
        "verdadero = True \n",
        "```\n",
        "\n",
        "```\n",
        "fal_so = False \n",
        "```\n",
        "\n"
      ]
    },
    {
      "cell_type": "code",
      "metadata": {
        "id": "apsOJ5r1HrOv"
      },
      "source": [
        "#Ejemplo "
      ],
      "execution_count": 16,
      "outputs": []
    },
    {
      "cell_type": "markdown",
      "metadata": {
        "id": "HmLuGpS_HVZd"
      },
      "source": [
        "Algo interesante de las variables booleanas es que reciben el valor de 0 o 1. \n",
        "\n",
        "El valor de 1 es para True y 0 es para False. \n",
        "\n",
        "Python los reconoce también como enteros \n",
        "\n",
        "```\n",
        "valor = True*2\n",
        "```\n"
      ]
    },
    {
      "cell_type": "code",
      "metadata": {
        "id": "LAReghXoIBzk"
      },
      "source": [
        "#Ejemplo"
      ],
      "execution_count": 17,
      "outputs": []
    },
    {
      "cell_type": "markdown",
      "metadata": {
        "id": "wWj94fgrJ0fc"
      },
      "source": [
        "<style>\n",
        "\n",
        ".chiquito{\n",
        "  font-size: 5px; \n",
        "}\n",
        "</style>\n",
        "\n",
        "\n",
        "### **Nota**\n",
        "\n",
        "\n",
        "Las variables también permiten guardar objetos. Cómo no es un curso orientado a objetos, no los tocaremos.\n",
        "\n",
        "<strong>\"Al menos que sea muy necesario\"</strong>"
      ]
    },
    {
      "cell_type": "markdown",
      "metadata": {
        "id": "cx6dDvJrIOFJ"
      },
      "source": [
        "## Funciones \n",
        "\n",
        "Las funciones en python (y en cualquier lenguaje de programación) permiten al usuario comunicarse con el computador. \n",
        "\n",
        "Algunas funciones son de aplicación directa y también reciben el nombre de **comandos** Ya que directamente dan una orden y no necesitan de variable de entrada \n",
        "\n",
        "Otras en cambio necesitan de variables de entrada pero son automáticas, es decir no se guardan dentro de ninguna variable, son **funciones de respuesta** \n",
        "\n",
        "Las últimas, son **funciones** netamente, ya que sirven para realizar un cálculo, o para cambiar la estructura de una variable. \n",
        "\n"
      ]
    },
    {
      "cell_type": "markdown",
      "metadata": {
        "id": "YjGItJjX3I4r"
      },
      "source": [
        "Algunas funciones básicas son : \n",
        "\n",
        "* %whos : Para ver las variables\n",
        "* print : Para imprimir variables\n",
        "* input : Para que el usuario escriba un número"
      ]
    },
    {
      "cell_type": "code",
      "metadata": {
        "colab": {
          "base_uri": "https://localhost:8080/"
        },
        "id": "qM10ZFtlwaxN",
        "outputId": "56f22193-688c-4977-fc6f-ee2bb9a7edbd"
      },
      "source": [
        "%whos"
      ],
      "execution_count": 17,
      "outputs": [
        {
          "output_type": "stream",
          "text": [
            "Interactive namespace is empty.\n"
          ],
          "name": "stdout"
        }
      ]
    },
    {
      "cell_type": "code",
      "metadata": {
        "id": "w2PVgO2swdVc"
      },
      "source": [
        "#ejemplo de print "
      ],
      "execution_count": 18,
      "outputs": []
    },
    {
      "cell_type": "code",
      "metadata": {
        "id": "3lvI1aK5xYD5"
      },
      "source": [
        "#ejemplo de input"
      ],
      "execution_count": 19,
      "outputs": []
    },
    {
      "cell_type": "markdown",
      "metadata": {
        "id": "ubgCnWzo4HgS"
      },
      "source": [
        "### **Cálculo básico en Python**\n",
        "Ahora que sabemos como definir variables y algunas funciones básicas, vamos a realizar algunas operaciones en Python <strong>*para tener práctica*</strong>"
      ]
    },
    {
      "cell_type": "markdown",
      "metadata": {
        "id": "jxgDa94F5iBZ"
      },
      "source": [
        "1) Solicitar 3 números y sumarlos "
      ]
    },
    {
      "cell_type": "code",
      "metadata": {
        "id": "NNdFVC3vxfM_"
      },
      "source": [
        "#Solución"
      ],
      "execution_count": 20,
      "outputs": []
    },
    {
      "cell_type": "markdown",
      "metadata": {
        "id": "VAGeX0xd5so6"
      },
      "source": [
        "2) Guardar dos cadenas de texto y sumarlas\n",
        "\n",
        "Ejemplo : \n",
        "\n",
        "\n",
        "\n",
        "```\n",
        " a = \"hola \"\n",
        " b = \"¿como estás?\"\n",
        " print( a+b) \n",
        "```\n",
        "\n"
      ]
    },
    {
      "cell_type": "code",
      "metadata": {
        "id": "WQVKuVIux52O"
      },
      "source": [
        "#Solución"
      ],
      "execution_count": 21,
      "outputs": []
    },
    {
      "cell_type": "markdown",
      "metadata": {
        "id": "wuFAKr6q6RsX"
      },
      "source": [
        "3) Calcular el residuo entre dos números \n",
        "\n",
        "Ejemplo: \n",
        "```\n",
        "a = 5%3\n",
        "\n",
        "```\n",
        "\n"
      ]
    },
    {
      "cell_type": "code",
      "metadata": {
        "id": "CfpA7JMi-Mda"
      },
      "source": [
        "#Ejemplo"
      ],
      "execution_count": 22,
      "outputs": []
    },
    {
      "cell_type": "markdown",
      "metadata": {
        "id": "24sTXpN1-LTw"
      },
      "source": [
        "4) Calcular la potencia n de un número: \n",
        "\n",
        "Por ejemplo \n",
        "\n",
        "\n",
        "\n",
        "```\n",
        "a = 3**2\n",
        "```\n",
        "\n",
        "\n"
      ]
    },
    {
      "cell_type": "markdown",
      "metadata": {
        "id": "YIUqquDXEsd4"
      },
      "source": [
        "### **Funciones Lógicas**\n",
        "\n",
        "Ahora veremos algunas funciones lógicas que nos ayudarán en la siguiente clase. "
      ]
    },
    {
      "cell_type": "markdown",
      "metadata": {
        "id": "64wHxVcvFNtJ"
      },
      "source": [
        "Conjunción **&** : Limita a que ambas propocicios deben ser verdaderas o ambas falsas para que la propoción general compuesta por **&** sea verdad.\n",
        "\n",
        "Ejemplo \n",
        "\n",
        "Dadas las variables: \n",
        "\n",
        "```\n",
        "a = 4\n",
        "b = 3\n",
        "c = 7\n",
        "```\n",
        "La propoción \n",
        "\n",
        "```\n",
        "valor = a>b & c<a\n",
        "```\n",
        "es \n",
        "\n",
        "\n",
        "\n",
        "\n",
        "\n"
      ]
    },
    {
      "cell_type": "code",
      "metadata": {
        "id": "bXNCzEnQGqIQ"
      },
      "source": [
        "#Solución "
      ],
      "execution_count": 28,
      "outputs": []
    },
    {
      "cell_type": "markdown",
      "metadata": {
        "id": "MZsLH1gPGwlW"
      },
      "source": [
        "La conjunción **OR**  muestra falsedad solo cuando ambas proposiciones son falsas. \n",
        "\n",
        "Ejemplo : \n",
        "\n",
        "Teniendo en cuenta las variables de arriba, ¿qué respuesta tiene el siguiente código? : \n",
        "```\n",
        "proposicion = b>c or c<a\n",
        "```\n",
        "\n"
      ]
    },
    {
      "cell_type": "code",
      "metadata": {
        "id": "yT1RWyRoHcix"
      },
      "source": [
        "#Sol"
      ],
      "execution_count": 30,
      "outputs": []
    },
    {
      "cell_type": "markdown",
      "metadata": {
        "id": "Cwy42FFrNecn"
      },
      "source": [
        "La conjunción **not** convierte en contrario el valor de una proposición\n",
        "\n",
        "Ejemplo \n",
        "\n",
        "```\n",
        "print(not(a>b & c>a))\n",
        "```"
      ]
    },
    {
      "cell_type": "markdown",
      "metadata": {
        "id": "fPv6fA8mQNFi"
      },
      "source": [
        "#### Ejercicios de Proposiciones lógicas "
      ]
    },
    {
      "cell_type": "markdown",
      "metadata": {
        "id": "HE8_IsUmNeVb"
      },
      "source": [
        "Determina si son verdad las siguientes afirmaciones\n",
        "\n",
        "* el resultado de (5+3)*2-1 es igual al resultado de (20-4)/6-3  \n",
        "\n",
        "\n"
      ]
    },
    {
      "cell_type": "code",
      "metadata": {
        "id": "vU7qa13lT0-1"
      },
      "source": [
        "# Solución"
      ],
      "execution_count": null,
      "outputs": []
    },
    {
      "cell_type": "markdown",
      "metadata": {
        "id": "YeHH2A_VTH6_"
      },
      "source": [
        "* la suma de los números del 2 al 7 es menor o igual que 25 "
      ]
    },
    {
      "cell_type": "code",
      "metadata": {
        "id": "uaPLUe6lT2jg"
      },
      "source": [
        "#Solución"
      ],
      "execution_count": null,
      "outputs": []
    },
    {
      "cell_type": "markdown",
      "metadata": {
        "id": "C-X7yxNCTQMw"
      },
      "source": [
        "\n",
        "* El valor absoluto de -5 es igual al valor absoluto de 5 "
      ]
    },
    {
      "cell_type": "code",
      "metadata": {
        "id": "MGaAud3QT38A"
      },
      "source": [
        "#Solución"
      ],
      "execution_count": null,
      "outputs": []
    },
    {
      "cell_type": "markdown",
      "metadata": {
        "id": "l6kunZ-RTZtF"
      },
      "source": [
        "* La raiz cuadrada de 24 es menor que 3"
      ]
    },
    {
      "cell_type": "code",
      "metadata": {
        "id": "FCH8fEmlT5ey"
      },
      "source": [
        "#Solución "
      ],
      "execution_count": 2,
      "outputs": []
    },
    {
      "cell_type": "markdown",
      "metadata": {
        "id": "iQEGFq6DTjvq"
      },
      "source": [
        "### **Algunas funciones más** \n",
        "\n",
        "Antes de pasar al seminario de la segunda clase, veremos unos ejemplos más acerca de funciones"
      ]
    },
    {
      "cell_type": "markdown",
      "metadata": {
        "id": "tgOjSkYAUqU8"
      },
      "source": [
        "* Para redonder un número a decimales se utiliza **round**\n",
        "\n",
        "```\n",
        "b = round(3.45)\n",
        "```"
      ]
    },
    {
      "cell_type": "markdown",
      "metadata": {
        "id": "A5BYG99YTWI-"
      },
      "source": [
        "* La división entera de dos números se define por *//*\n",
        "\n",
        "```\n",
        "result = 5//3\n",
        "```"
      ]
    },
    {
      "cell_type": "markdown",
      "metadata": {
        "id": "F3CLcV9hXW9q"
      },
      "source": [
        "* La potencia de un número también se puede expresar como \n",
        "\n",
        "```\n",
        "pot = pow(2,4)\n",
        "```\n",
        " \n",
        "\n",
        " "
      ]
    },
    {
      "cell_type": "markdown",
      "metadata": {
        "id": "XwcwOof-repX"
      },
      "source": [
        "* Podemos elegir una entrada de flotante (Décimales) con **float**\n",
        "\n",
        "Ejemplo: \n",
        "\n",
        "```\n",
        "a = float(input(\"ingresa un número \"): \n",
        "```\n",
        "\n",
        " * También podemos cambiar de flotante a entero con **int**\n",
        "\n",
        "Ejemplo \n",
        "\n",
        "```\n",
        "b = int(2.42)\n",
        " ```"
      ]
    },
    {
      "cell_type": "markdown",
      "metadata": {
        "id": "QrQLGWDvsGck"
      },
      "source": [
        "* Comentarios Multilinea en python \n",
        "\n",
        "Un comentario multilinea permite no solo escribir en una sola línea sino en múltiples líneas. Si estamos desarrollando en un IDE de escritorio podemos usarlo para describir el código o programa que haremos. \n",
        "\n",
        "Podemos escribir comentarios multilínea de la siguiente manera: \n",
        "\n",
        "Ejemplo \n",
        "\n",
        "```\n",
        "\"\"\"\n",
        "Esto es un comentario\n",
        "multilínea\n",
        "\"\"\"\n",
        "\n",
        "```"
      ]
    },
    {
      "cell_type": "markdown",
      "metadata": {
        "id": "G0-662PBsnqC"
      },
      "source": [
        "# **Seminario 2**\n",
        "\n",
        "\n"
      ]
    },
    {
      "cell_type": "markdown",
      "metadata": {
        "id": "7bUrJd-Dvc2B"
      },
      "source": [
        "##Ejercicio 1 \n",
        "\n",
        "Calcular : \n",
        "\n",
        "$A = (3-8) + [5-(-2)]$\n",
        "\n",
        "$B = (5+ 3/2 - 1/4) x (7^2 -32)$\n",
        "\n",
        "$C = (5^2-32) * (3/4 -2) +134$"
      ]
    },
    {
      "cell_type": "markdown",
      "metadata": {
        "id": "QMEzJ7_Cvi4g"
      },
      "source": [
        "## Ejercicio 2\n",
        "\n",
        "Cree un pequeño programa que permita calcular la división entera entre 4 y entre 3 de un número que ingrese un usuario cualquiera. recuerde que para que se logre debe colocar \n",
        "\n",
        "```\n",
        "a = float(input...\n",
        "```"
      ]
    },
    {
      "cell_type": "markdown",
      "metadata": {
        "id": "zYvLwZ_OwEAi"
      },
      "source": [
        "## Ejercicio 3 \n",
        "\n",
        "Muestre una frase coloquial incompleta , luego permita que el usuario la complete y se muestre la frase completa \n",
        "\n",
        "Ejemplo\n",
        "\n",
        "En pantalla se mostraría\n",
        "\n",
        "\n",
        "\n",
        "```\n",
        "Al que madruga Dios lo \n",
        "\n",
        "ingrese su frase : \n",
        "\n",
        "Al que madruga Dios lo ayuda\n",
        "\n",
        "\n",
        "```"
      ]
    },
    {
      "cell_type": "markdown",
      "metadata": {
        "id": "WMALDRGYw87b"
      },
      "source": [
        "## Ejercicio 4 \n",
        "\n",
        "Escriba un programa que pida al usuario un saludo y el programa responda con otro saludo : \n",
        "\n",
        "Ejemplo\n",
        "\n",
        "```\n",
        "Usuario : Hola\n",
        "\n",
        "respuesta ¿Cómo estás?\n",
        "```"
      ]
    },
    {
      "cell_type": "markdown",
      "metadata": {
        "id": "XuLPeqIoxWUX"
      },
      "source": [
        "## Ejercicio 5\n",
        "\n",
        "Pida al usuario dos valores (a y b) y luego calcule \n",
        "\n",
        "* $a^b$\n",
        "* $b^a$\n",
        "\n",
        "* $(a)^(b/a)$\n",
        "\n",
        "* $b^(a/b)$\n",
        "\n"
      ]
    },
    {
      "cell_type": "markdown",
      "metadata": {
        "id": "cPlzmnhUzR5e"
      },
      "source": [
        "## Ejercicio 6 \n",
        "\n",
        "Calcule la veracidad de las siguientes proposiciones : \n",
        "\n",
        "\n",
        "* El producto de 4 y 24 dividido entre 12 es menor que la división entera del producto de 10 y 4 diferenciado por 10\n",
        "\n",
        "* El valor primo más cercano al residuo de dividir 7 entre 3 es igual a 7 \n",
        "\n",
        "* El número 12 es menor que el valor que se obtiene al dividir el producto de 4 y 3 entre la suma de $3/4$ y $1/6$\n",
        "\n",
        "* Si sumamos $2/4 + 4/3 + 5/4 + 6/5$ obtenemos un valor menor a $32$ y si restamos los dos primeros números primos obtenemos 1 \n",
        "\n",
        "* El valor de $1/5 + 3/4$ es igual a $19/20$ o el valor de $22$ es menor que la división entera de $124/42$\n",
        "\n",
        "\n",
        "\n"
      ]
    }
  ]
}
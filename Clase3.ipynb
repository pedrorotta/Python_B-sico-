{
  "nbformat": 4,
  "nbformat_minor": 0,
  "metadata": {
    "colab": {
      "name": "Clase3.ipynb",
      "provenance": [],
      "toc_visible": true,
      "authorship_tag": "ABX9TyOYvcTpLepJcainqqInyn8i",
      "include_colab_link": true
    },
    "kernelspec": {
      "name": "python3",
      "display_name": "Python 3"
    },
    "language_info": {
      "name": "python"
    }
  },
  "cells": [
    {
      "cell_type": "markdown",
      "metadata": {
        "id": "view-in-github",
        "colab_type": "text"
      },
      "source": [
        "<a href=\"https://colab.research.google.com/github/pedrorotta/Python_B-sico-/blob/main/Clase3.ipynb\" target=\"_parent\"><img src=\"https://colab.research.google.com/assets/colab-badge.svg\" alt=\"Open In Colab\"/></a>"
      ]
    },
    {
      "cell_type": "markdown",
      "metadata": {
        "id": "65m1KihKXDzC"
      },
      "source": [
        "## Funciones propias\n",
        "\n",
        "En la clase pasada vimos algunas funciones propias de Python, acá algunas adicionales \n",
        "\n",
        "* Para conocer el tipo de elemento o variable\n",
        "\n",
        "```\n",
        "type(x)\n",
        "```\n",
        "\n",
        "* Ayuda en python\n",
        "\n",
        "```\n",
        "nombre_de_la_funcion.help\n",
        "```\n",
        "\n",
        "\n",
        "* Valor absoluto\n",
        "\n",
        "```\n",
        "abs(x)\n",
        "```\n",
        "* Mensajes con valores\n",
        "\n",
        "\n",
        "```\n",
        " a = 3\n",
        "\n",
        " Mensaje = \"el valor a es igual a : {} \".format(a)\n",
        "\n",
        "```\n",
        "\n"
      ]
    },
    {
      "cell_type": "markdown",
      "metadata": {
        "id": "KkWnrEhkObmc"
      },
      "source": [
        "## Librerías en Python \n",
        "\n",
        "Existen muchas funciones de python para cacular algunas cosas, sin embargo, al ser un software libre, los usuarios crearon librerías que son paquetes de funciones que se descargan a python para permitir algunas operaciones más rápidas o trabajar con variables de una mejor manera\n",
        "\n",
        "*Mi definición.* \n",
        "\n",
        "Para importar una librería se escribe el comando: \n",
        "\n",
        "`import + nombre de la librería + as + nombre_corto `"
      ]
    },
    {
      "cell_type": "code",
      "metadata": {
        "id": "VsjBV0kUP5Fq"
      },
      "source": [
        "##Ejemplo 1"
      ],
      "execution_count": 2,
      "outputs": []
    },
    {
      "cell_type": "code",
      "metadata": {
        "id": "rMH3uYC1P7LB"
      },
      "source": [
        "##Ejemplo 2"
      ],
      "execution_count": null,
      "outputs": []
    },
    {
      "cell_type": "markdown",
      "metadata": {
        "id": "fvOOEIWLPCg0"
      },
      "source": [
        "### Math\n",
        "\n",
        "Es una librería para realizar algunas funciones matemáticas interesantes \n",
        "\n",
        "\n",
        "\n"
      ]
    },
    {
      "cell_type": "markdown",
      "metadata": {
        "id": "UePmASPdPXU8"
      },
      "source": [
        "#### Ceil\n",
        "\n",
        "Devuelve el menor número mayor entero a un valor dado\n",
        "\n",
        "Ejemplo : \n",
        "\n",
        "```\n",
        "math.ceil(4.45)\n",
        "```\n",
        "devuelve : \n",
        "`5`"
      ]
    },
    {
      "cell_type": "code",
      "metadata": {
        "id": "lOXkulYI8uMQ"
      },
      "source": [
        "#Ejemplo"
      ],
      "execution_count": 7,
      "outputs": []
    },
    {
      "cell_type": "markdown",
      "metadata": {
        "id": "n499secdQWkh"
      },
      "source": [
        "#### comb\n",
        "\n",
        "Devuelve la combinatoria entre k y n, es decir el número de formas de elegir k elementos de n elementos sin repetición y orden \n",
        "\n",
        "`math.comb(2,6)`"
      ]
    },
    {
      "cell_type": "code",
      "metadata": {
        "id": "pxPxigZ5Qxty"
      },
      "source": [
        "#Ejemplo"
      ],
      "execution_count": null,
      "outputs": []
    },
    {
      "cell_type": "markdown",
      "metadata": {
        "id": "-Ghi5FMdQ0lj"
      },
      "source": [
        "#### Exp\n",
        "\n",
        "Devuelve e elevado a la potencia x , donde e = 2.718281… es la base de los logaritmos naturales. Suele ser más preciso que:\n",
        "\n",
        "`math.e ** xpow(math.e, x)`\n",
        "\n",
        "Ejemplo: \n",
        "\n",
        "`math.exp(2)`"
      ]
    },
    {
      "cell_type": "markdown",
      "metadata": {
        "id": "fnPSc1w8Q0ij"
      },
      "source": [
        "#### Logartimo\n",
        "\n",
        "` math.log(x,[base])`\n",
        " \n",
        " `mat.log1p(0)`"
      ]
    },
    {
      "cell_type": "markdown",
      "metadata": {
        "id": "DNlcIOOpRyz5"
      },
      "source": [
        "#### Otras funciones\n",
        "\n",
        "```\n",
        "math.sqrt( x )\n",
        "math.acos( x ) \n",
        "math.cos( x ) \n",
        "math.dist( p , q )\n",
        "math.sin( x ) \n",
        "math.tan( x )\n",
        "math.degrees( x ) \n",
        "math.radians( x )\n",
        "```\n",
        "\n",
        "#### Constantes\n",
        "\n",
        "```\n",
        "math.pi\n",
        "La constante matemática π = 3,141592…, hasta la precisión disponible.\n",
        "\n",
        "math.e\n",
        "La constante matemática e = 2.718281…, hasta la precisión disponible.\n",
        "\n",
        "math.tau\n",
        "La constante matemática τ = 6.283185…, hasta la precisión disponible. Tau es una constante circular igual a 2 π , la relación entre la circunferencia de un círculo y su radio. Para obtener más información sobre Tau, vea el video de Vi Hart Pi is (still) Wrong , y comience a celebrar el día de Tau comiendo el doble de pastel.\n",
        "\n",
        "math.inf\n",
        "Un infinito positivo de coma flotante. (Para infinito negativo, utilice -math.inf.) Equivalente a la salida de float('inf').\n",
        "\n",
        "math.nan\n",
        "Un valor de punto flotante “no es un número” (NaN). Equivalente a la salida de float('nan').\n",
        "```"
      ]
    },
    {
      "cell_type": "markdown",
      "metadata": {
        "id": "045LNYOuQ0Xa"
      },
      "source": [
        "## Condicionales\n",
        "\n",
        "Los condicionales nos ayudan a seguir una u otra dirección en nuestro código. Nos permiten elegir una dirección u otra al momento de programar y al mismo tiempo, son la base de los algoritmos computacionales\n",
        "\n",
        "<img src=\"https://upload.wikimedia.org/wikipedia/commons/3/3d/LampFlowchart_es.svg\"></img>"
      ]
    },
    {
      "cell_type": "markdown",
      "metadata": {
        "id": "9_aCuYH7Q0U1"
      },
      "source": [
        "### If + else\n",
        "\n",
        "El primer condicional es If y else\n",
        "\n",
        "Se lee : **If (Si)** \"*se cumple tal condición*\" entonces \"*se hace tal cosa*\", **else(si no se cumple)** entonces \"*se hace otra cosa*\"\n",
        "\n",
        "```\n",
        "a = float(input(\"ingrese un numero\"))\n",
        "\n",
        "if a>5: \n",
        "  print(\"el valor de {} es mayor a 5\".format(a))\n",
        "else:\n",
        "  print( \"el valor de {} es menor a 5\".format(a))\n",
        "```\n",
        "\n"
      ]
    },
    {
      "cell_type": "markdown",
      "metadata": {
        "id": "yDzahN2eQ0SD"
      },
      "source": [
        "#### Elif\n",
        "\n",
        "elif es el comando intermedio, cuando pueden haber varias condiciones \n",
        "\n",
        "```\n",
        "x = int(input(\"Ingrese un entero: \"))\n",
        "if x < 0:\n",
        "   x = 0\n",
        "   print('Negativo se ha cambiado a cero')\n",
        "elif x == 0:\n",
        "  print('Cero')\n",
        "elif x == 1:\n",
        "  print('Uno')\n",
        "else:\n",
        "  print('Más de 1')\n",
        "\n",
        "```"
      ]
    },
    {
      "cell_type": "markdown",
      "metadata": {
        "id": "QLxLxiQfbDKh"
      },
      "source": [
        "#### Indexación de Ifs: \n",
        "\n",
        "Se puede indexar un if dentro de otro if: \n",
        "\n",
        "```\n",
        "a = int(input(\"ingrese un valor entero: \"))\n",
        "\n",
        "if a <10:\n",
        "  if a%2 == 0:\n",
        "    print(\" el número {} es múltiplo de 2 \".format(a))\n",
        "  else:\n",
        "   print(\"el número es menor que 10\")\n",
        "else:\n",
        "  print(el número es mayor que 10\")\n",
        "``` \n",
        "\n"
      ]
    },
    {
      "cell_type": "markdown",
      "metadata": {
        "id": "sFNzplajboxI"
      },
      "source": [
        "También sirve la conjugación de valores condicionales para generar algo más estricto\n",
        "\n",
        "```\n",
        "a = int(input(\"ingrese un numero: \"))\n",
        "\n",
        "if (a>3) &&  (a*2 % 4 == 1):\n",
        "  print(\"registro 1\")\n",
        "else\n",
        "  print(\"registro2\")\n",
        "\n",
        "```"
      ]
    },
    {
      "cell_type": "markdown",
      "metadata": {
        "id": "ePmgYl9tbBGv"
      },
      "source": [
        "### While \n",
        "\n",
        "En español, se diría : mientras... **While (mientras)** *algo* no se cumple se debe seguir ejecutando *una acción* hasta que se cumpla :\n",
        "\n",
        "Tiene una estructura definida\n",
        "\n",
        "```\n",
        "i = 0 # se coloca una variable inicial porque si no va a estar ejecutándose un bucle infinito\n",
        "\n",
        "while i < 10:\n",
        "  print(i)\n",
        "  i = i+1\n",
        "```"
      ]
    },
    {
      "cell_type": "markdown",
      "metadata": {
        "id": "JEb9XZ3fd8EL"
      },
      "source": [
        "Dentro del while también se pueden indexar if \n",
        "\n",
        "```\n",
        "i = 0 # se coloca una variable inicial porque si no va a estar ejecutándose un bucle infinito\n",
        "\n",
        "while i < 10:\n",
        "  if i%2 == 0:\n",
        "    print(\"par\")\n",
        "  else:\n",
        "    print(\"impar\")\n",
        "  i = i+1\n",
        "```"
      ]
    },
    {
      "cell_type": "markdown",
      "metadata": {
        "id": "eARLO8CmbA9A"
      },
      "source": [
        "### Bucle for :\n",
        "\n",
        "Normalmente se usa para repetir una regla dentro de un conjunto de datos, por ejemplo dentro de una lista o para generar un conjunto de datos \n",
        "\n",
        "El comando se repite para todo el conjunto de elementos :\n",
        "\n",
        "En español sería: \n",
        "\n",
        "**For(para)** *los elementos* dentro de este *conjunto de elementos* se debe cumplir *esta condición*\n",
        "\n",
        "```\n",
        "L = [1,2,3,4,5,6] \n",
        "for i in L:\n",
        "  print(i)\n",
        "```\n",
        "\n",
        "También se pueden indexar if o while según corresponda\n",
        "\n"
      ]
    },
    {
      "cell_type": "markdown",
      "metadata": {
        "id": "AnpKT3P9hIVh"
      },
      "source": [
        "### Nota : \n",
        "\n",
        "Para una lista : \n",
        "\n",
        "```\n",
        "a = range(100)\n",
        "b = range(0,100,2)\n",
        "```\n",
        "\n",
        "El comando `break` rompe la acción dentro de un bucle si se cumple alguna condición no deseable:\n",
        "\n",
        "```\n",
        "for i in range(100):\n",
        "  print(i)\n",
        "  if i == 45:\n",
        "    break\n",
        "\n",
        "```\n",
        "El comando `continue` pasa a la siguiente iteración \n",
        "\n",
        "```\n",
        "for i in range(100):\n",
        "  if i == 45:\n",
        "    continue\n",
        "  print(i)\n",
        "  \n",
        "  \n",
        "\n",
        "```\n",
        "\n",
        "**Tener en cuenta**: La indexación en python es importante, si no está bien indexado los comandos dentro de las funciones, no se va a poder realizar un buen código"
      ]
    },
    {
      "cell_type": "markdown",
      "metadata": {
        "id": "Chdn1hSEfy3K"
      },
      "source": [
        "Ejercicios :\n",
        "\n",
        "1) Escriba un programa que pida dos números enteros y escriba qué números son pares y cuáles impares desde el primero hasta el segundo.\n",
        "\n",
        "2) Escriba un programa que pida un número entero mayor que cero y que escriba sus divisores.\n",
        "\n",
        "3) Escriba un programa que pregunte cuántos números se van a introducir, pida esos números, y muestre un mensaje cada vez que un número no sea mayor que el primero.\n",
        "\n",
        "4) Escriba un programa que pida primero un número par (positivo o negativo) y si el valor no es correcto, muestre un aviso. Si el valor es correcto, pedirá un número impar (positivo o negativo) y si el valor no es correcto, mostrará un aviso.\n"
      ]
    },
    {
      "cell_type": "markdown",
      "metadata": {
        "id": "KApt_W-3i1PL"
      },
      "source": [
        "## Funciones en python\n",
        "\n",
        "Las funciones nos ayudan a escribir código más rápido. Las hacemos nosotros y luego las guardamos y las ejecutamos según lo necesitemos"
      ]
    },
    {
      "cell_type": "markdown",
      "metadata": {
        "id": "YaBu07m3jDQz"
      },
      "source": [
        "Para definir una función utilizamos el comando `def `: \n",
        "\n",
        "`def funcion():`\n",
        "\n",
        "donde `funcion` es el nombre de la función que deseas guardar "
      ]
    },
    {
      "cell_type": "code",
      "metadata": {
        "id": "1Tlo5JonZZXn"
      },
      "source": [
        "#ejemplo 1"
      ],
      "execution_count": 25,
      "outputs": []
    },
    {
      "cell_type": "code",
      "metadata": {
        "id": "u4bCgt47izj5"
      },
      "source": [
        "#Ejemplo 2"
      ],
      "execution_count": 26,
      "outputs": []
    },
    {
      "cell_type": "markdown",
      "metadata": {
        "id": "td0AnRu2j7Ts"
      },
      "source": [
        "### Variables globales vs Variables locales\n",
        "\n",
        "Las **variables globales** son variables que se pueden usar en todo el código, en cambio las **variables locales** se deben usar solamente en las funciones"
      ]
    },
    {
      "cell_type": "code",
      "metadata": {
        "id": "A414bK26jWMu"
      },
      "source": [
        "#Ejemplo 1"
      ],
      "execution_count": 27,
      "outputs": []
    },
    {
      "cell_type": "code",
      "metadata": {
        "id": "zvEMuXdTj7G0"
      },
      "source": [
        "#Ejemplo 2"
      ],
      "execution_count": 28,
      "outputs": []
    },
    {
      "cell_type": "markdown",
      "metadata": {
        "id": "J0giL76nkWCU"
      },
      "source": [
        "### Argumentos múltiples\n",
        "\n",
        "Para definir funciones que contengan múltiples argumentos utilizamos `*args` de la siguiente forma: \n",
        "\n",
        "```\n",
        "def suma(*args):\n",
        "  sum = 0\n",
        "  for i in args:\n",
        "    sum = sum + i\n",
        "  return sum\n",
        "```"
      ]
    },
    {
      "cell_type": "markdown",
      "metadata": {
        "id": "9b1l2CjClv60"
      },
      "source": [
        "###Función recursiva\n",
        "\n",
        "Se puede usar la misma función para llamarse a si misma en caso de recursividad\n",
        "\n",
        "Por ejemplo: \n",
        "\n",
        "$ n! = n*(n-1)*(n-2)...$\n",
        "\n",
        "Es un ejemplo de recursividad, si deseamos hacer una función recursiva de este estilo podemos tener\n",
        "\n",
        "```\n",
        "def factorial_recursive(n):\n",
        "    # Caso básico: 1! = 1\n",
        "    if n == 1:\n",
        "        return 1\n",
        "\n",
        "    # Caso recursivo: n! = n * (n-1)!\n",
        "    else:\n",
        "        return n * factorial_recursive(n-1)\n",
        "```"
      ]
    },
    {
      "cell_type": "markdown",
      "metadata": {
        "id": "36tdWsi4nLD-"
      },
      "source": [
        "## Variables 2.0 \n",
        "\n",
        "Ahora veremos algunas **estructuras** que se pueden guardar en variables "
      ]
    },
    {
      "cell_type": "markdown",
      "metadata": {
        "id": "iL4hl05crXp3"
      },
      "source": [
        "### Cadenas de texto (Funciones) \n",
        "\n",
        "Seleccionar un caracter : \n",
        "\n",
        "```\n",
        "a = \"hsjahskdj\"\n",
        "a[0]\n",
        "```\n",
        "\n",
        " "
      ]
    },
    {
      "cell_type": "markdown",
      "metadata": {
        "id": "need7QBory1J"
      },
      "source": [
        "### Listas\n",
        "Las listas son arreglos de objetos\n",
        "\n",
        "`lista = [1,2,3,4]`\n",
        "\n",
        "En las listas se puede : \n",
        "\n",
        "* Seleccionar un elemento\n",
        "\n",
        "`lista[0]`\n",
        "\n",
        "* Insertar un elemento\n",
        "\n",
        "`lista.append(5)`\n",
        "\n",
        "* Cambiar un número\n",
        "\n",
        "`lista[2] = 7`\n",
        "\n",
        "* Acceder a algunos puntos\n",
        "\n",
        "`print(lista[:2])`\n",
        "\n",
        "* Eliminar un valor de la lista\n",
        "\n",
        "`lista.remove(2)`\n",
        "\n"
      ]
    },
    {
      "cell_type": "markdown",
      "metadata": {
        "id": "lXAXZXuMsnSF"
      },
      "source": [
        "#### Nota con las listas\n",
        "\n",
        "Solo se puede almacenar una lista en python\n",
        "\n",
        "```\n",
        "lista1 = lista.copy()\n",
        "\n",
        "```"
      ]
    },
    {
      "cell_type": "markdown",
      "metadata": {
        "id": "H563AIqftI-l"
      },
      "source": [
        "## Seminario 3: \n",
        "\n",
        "1) Crea una lista con valores definidos por el usuario \n"
      ]
    },
    {
      "cell_type": "markdown",
      "metadata": {
        "id": "ZZUbK28BtXW-"
      },
      "source": [
        "2) De una lista cualquiera defina si el usuario quiere ver números pares o impares"
      ]
    },
    {
      "cell_type": "markdown",
      "metadata": {
        "id": "3ShmJ8rVteML"
      },
      "source": [
        "3) Escribe una función para encontrar el valor máximo de algunos valores"
      ]
    },
    {
      "cell_type": "markdown",
      "metadata": {
        "id": "IkihXEpWt6Bt"
      },
      "source": [
        "4) Escribe un programa que acepte un string y que calcule cuántas letras mayúsculas y cuántas minúsculas hay \n",
        "\n",
        "Pista : el comando `txt.isupper()` devuelve verdadero en caso el string txt sea mayuscúla\n",
        "\n",
        "Por ejemplo\n",
        "```\n",
        "txt = \"HOLA\"\n",
        "print(txt.isupper())\n",
        "\n",
        "```\n",
        "`>>> True`"
      ]
    },
    {
      "cell_type": "markdown",
      "metadata": {
        "id": "C5ZoWyUPwnSa"
      },
      "source": [
        "5) Escribe una función que retorne solo los elementos únicos de una lista\n",
        "\n",
        "\n",
        "Ejemplo \n",
        "Dado : \n",
        "\n",
        "```\n",
        "L = [4,5,6,6,6,7,7,7,8,8,8]\n",
        "```\n",
        "`>>> L2 = [4,5,6,7,8]`"
      ]
    },
    {
      "cell_type": "markdown",
      "metadata": {
        "id": "WdImxrIfxFkW"
      },
      "source": [
        "6) Escribe un código que encuentre los números que son divisibles por 7 y múltiplos de 5, entre 1500 y 2700"
      ]
    },
    {
      "cell_type": "markdown",
      "metadata": {
        "id": "i6QPNnapxSWt"
      },
      "source": [
        "7) Escribe un programa que convierta la temperatura de celcius a Farentheit o viceversa"
      ]
    },
    {
      "cell_type": "markdown",
      "metadata": {
        "id": "y5L7MAiCxkte"
      },
      "source": [
        "8) Escriba un programa en Python para construir el siguiente patrón, usando un bucle for anidado.\n",
        "\n",
        "```\n",
        "* \n",
        "* * \n",
        "* * * \n",
        "* * * * \n",
        "* * * * \n",
        "* * * * \n",
        "* * * \n",
        "* * \n",
        "*\n",
        "```"
      ]
    },
    {
      "cell_type": "code",
      "metadata": {
        "id": "MyQ83LlAxZWw"
      },
      "source": [
        ""
      ],
      "execution_count": null,
      "outputs": []
    }
  ]
}
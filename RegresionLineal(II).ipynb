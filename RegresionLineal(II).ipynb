{
  "nbformat": 4,
  "nbformat_minor": 0,
  "metadata": {
    "colab": {
      "name": "RegresionLineal(II).ipynb",
      "provenance": [],
      "collapsed_sections": [],
      "authorship_tag": "ABX9TyP25EwtggYKA73BoeC8QkUY",
      "include_colab_link": true
    },
    "kernelspec": {
      "name": "python3",
      "display_name": "Python 3"
    },
    "language_info": {
      "name": "python"
    }
  },
  "cells": [
    {
      "cell_type": "markdown",
      "metadata": {
        "id": "view-in-github",
        "colab_type": "text"
      },
      "source": [
        "<a href=\"https://colab.research.google.com/github/pedrorotta/Python_B-sico-/blob/main/RegresionLineal(II).ipynb\" target=\"_parent\"><img src=\"https://colab.research.google.com/assets/colab-badge.svg\" alt=\"Open In Colab\"/></a>"
      ]
    },
    {
      "cell_type": "markdown",
      "metadata": {
        "id": "BoKYnGjbO1rr"
      },
      "source": [
        "# **Regresión lineal multivariable**"
      ]
    },
    {
      "cell_type": "markdown",
      "metadata": {
        "id": "lyb5P6miO1oj"
      },
      "source": [
        "## ¿Qué veremos? \n",
        "\n",
        "  * Usar una regresión y definir hiperparámetros \n",
        "  * Utilizar la regresión multivariable :  \n",
        "    * Preprocesamiento\n",
        "    * Modelamiento\n",
        "    * Validación  "
      ]
    },
    {
      "cell_type": "markdown",
      "metadata": {
        "id": "k-zKOiVlO1lh"
      },
      "source": [
        "## Usar una regresión y definir hiperparámetros\n",
        "\n",
        "Para esto vamos a utilizar [el modelo lineal SGD de la librería Sklearn](https://scikit-learn.org/stable/modules/generated/sklearn.linear_model.SGDRegressor.html#sklearn.linear_model.SGDRegressor). \n",
        "En este caso, usaremos los puntos de este [dataset.](https://www.kaggle.com/tanuprabhu/linear-regression-dataset) \n",
        "\n"
      ]
    },
    {
      "cell_type": "markdown",
      "metadata": {
        "id": "t4xFl4Zwv1Ja"
      },
      "source": [
        "## Utilizar la regresión multivariable "
      ]
    },
    {
      "cell_type": "markdown",
      "metadata": {
        "id": "UIkb45QewKNp"
      },
      "source": [
        "### Preprocesamiento: \n",
        "\n",
        "1. Analizar la correlación en un dataFrame `df.corr()`\n",
        "\n",
        "2. Hacer un mapa `sns.heatmap()`\n",
        "\n",
        "3. Variance_inflation_factor (VIF)\n",
        "\n"
      ]
    },
    {
      "cell_type": "markdown",
      "metadata": {
        "id": "csTP11MrwsuZ"
      },
      "source": [
        "### Modelamiento"
      ]
    },
    {
      "cell_type": "markdown",
      "metadata": {
        "id": "bw1DZsY5wwP5"
      },
      "source": [
        "### Validación"
      ]
    }
  ]
}
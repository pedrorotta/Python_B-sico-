{
  "nbformat": 4,
  "nbformat_minor": 0,
  "metadata": {
    "colab": {
      "name": "Regresion_lineal.ipynb",
      "provenance": [],
      "collapsed_sections": [],
      "authorship_tag": "ABX9TyNq/6o1k0AUYnfFIV4dABfe",
      "include_colab_link": true
    },
    "kernelspec": {
      "name": "python3",
      "display_name": "Python 3"
    },
    "language_info": {
      "name": "python"
    }
  },
  "cells": [
    {
      "cell_type": "markdown",
      "metadata": {
        "id": "view-in-github",
        "colab_type": "text"
      },
      "source": [
        "<a href=\"https://colab.research.google.com/github/pedrorotta/Python_B-sico-/blob/main/Regresion_lineal.ipynb\" target=\"_parent\"><img src=\"https://colab.research.google.com/assets/colab-badge.svg\" alt=\"Open In Colab\"/></a>"
      ]
    },
    {
      "cell_type": "markdown",
      "metadata": {
        "id": "BoKYnGjbO1rr"
      },
      "source": [
        "# **Regresión lineal simple**"
      ]
    },
    {
      "cell_type": "markdown",
      "metadata": {
        "id": "lyb5P6miO1oj"
      },
      "source": [
        "## ¿Qué veremos? \n",
        "\n",
        "  * ¿Qué es la regresión lineal simple?\n",
        "  * ¿Cómo funciona una regresión lineal?  \n",
        "    * ¿Cuál es el algoritmo matemático?\n",
        "    * ¿Cuál es el algoritmo computacional? \n",
        "  * Ejemplo sencillo "
      ]
    },
    {
      "cell_type": "markdown",
      "metadata": {
        "id": "k-zKOiVlO1lh"
      },
      "source": [
        "## ¿Qué es la regresión lineal?"
      ]
    },
    {
      "cell_type": "markdown",
      "metadata": {
        "id": "lJ4_FfsKO1cF"
      },
      "source": [
        "Es un algoritmo que permite predecir una variable y por medio de una variable x. (**mi definición)**\n",
        "\n",
        "La variable y normalmente se llama **target** y la variable x se llama **feature**. \n",
        "\n"
      ]
    },
    {
      "cell_type": "markdown",
      "metadata": {
        "id": "7Z4zSQZaPRmB"
      },
      "source": [
        "Def_oficial : Algoritmo que permite encontrar un modelo matemático de una variable dependiente (y) a partir de una variable independiente (x). \n"
      ]
    },
    {
      "cell_type": "markdown",
      "metadata": {
        "id": "XO4RLD-_PRek"
      },
      "source": [
        "Ejemplo : Imagina que d[texto del enlace](https://)eseas predecir :\n",
        "\n",
        "\n",
        "\n",
        "1.   La electricidad que se consume en un recinto, teniendo en cuenta la densidad volumétrica del aire acondicionado. \n",
        "\n",
        "2.   El valor de inflación tomando en cuenta el valor del precio de la gasolina. \n",
        "\n",
        "\n",
        "3.  Deseas predecir la nota de un alumno, tomando en cuenta las horas que estudió."
      ]
    },
    {
      "cell_type": "markdown",
      "metadata": {
        "id": "hF-X75ixPRa6"
      },
      "source": [
        "## ¿Cómo funciona una regresión lineal?  \n",
        "\n",
        "La idea de la regresión lineal es crear un modelo de la forma\n",
        "\n",
        "$y = f(x) = w_1*x+b $\n",
        "\n",
        "Donde : \n",
        "\n",
        "1. w_1 : Parámetro del modelo\n",
        "2. b : bias => intersección con el eje x = 0\n",
        "\n",
        "<p><img height=\"400px\" align=\"center\" width = \"300\" src=\"https://upload.wikimedia.org/wikipedia/commons/thumb/4/4c/Funci%C3%B3n_lineal.svg/1200px-Funci%C3%B3n_lineal.svg.png\"></p>"
      ]
    },
    {
      "cell_type": "markdown",
      "metadata": {
        "id": "i4D44korfW6o"
      },
      "source": [
        "### ¿Cuál es el algoritmo matemático?  \n",
        "\n",
        "\n",
        "Primero representaré una iteración: \n",
        "\n",
        "1. Se selecciona un peso aleatorio w_1 y un b aleatorio. (Por ejemplo w_1 = 0 y b = 0) \n",
        " * Si esto es así el modelo se vuelve : \n",
        "$y = 0*x + 0$. Es decir : $y = x$     \n",
        "2. Se calcula el valor de todos los target. (Esto sería un entrenamiento de la red) \n",
        "3. Se calcula el valor del error cuadrático medio. \n",
        "  * ¿Es el error cercano a 0? Si la rpta es sí entonces, se finaliza, si es no, se continúa con el paso 4 \n",
        "  * ¿Estamos en el límite de las iteraciones permitidas?  Si es sí se finaliza, si es no se continúa con el paso 4. \n",
        "4. Se modifica el parámetro w_1 y el valor de b con ayuda del error.\n",
        "5. Se procede con el paso 2. "
      ]
    },
    {
      "cell_type": "markdown",
      "metadata": {
        "id": "vCVO89rpYoU4"
      },
      "source": [
        "### ¿Cuál es el algoritmo computacional?\n",
        "\n",
        "1. Se selecciona el feature (x) y el target(y)\n",
        "2. Los datos observables se separan en 2 grupos: De entrenamiento y de validación. \n",
        "3. Se procede a realizar el algoritmo de entrenamiento (En una sola linea de código se procesa todo el algortimo matemático)\n",
        "4. Se evalúa el modelo obtenido. "
      ]
    },
    {
      "cell_type": "markdown",
      "metadata": {
        "id": "Adcfj82EfWqP"
      },
      "source": [
        "## Ejemplo sencillo:"
      ]
    },
    {
      "cell_type": "code",
      "metadata": {
        "id": "ckcFXf9QNdQq"
      },
      "source": [
        "# Importamos librerías \n",
        "import numpy as np \n",
        "import matplotlib.pyplot as plt\n",
        "import random\n",
        "from sklearn import linear_model\n",
        "from sklearn.metrics import mean_squared_error, r2_score"
      ],
      "execution_count": 3,
      "outputs": []
    },
    {
      "cell_type": "code",
      "metadata": {
        "id": "GH5h45AdXC3-"
      },
      "source": [
        "def gen_data(n, bias, varianza):\n",
        "    x = []\n",
        "    y = []\n",
        "    for i in range(0, n):\n",
        "        x.append(i)\n",
        "        y.append((2*i + bias) + random.uniform(0, 1) * varianza)\n",
        "    return x, y"
      ],
      "execution_count": 7,
      "outputs": []
    },
    {
      "cell_type": "code",
      "metadata": {
        "colab": {
          "base_uri": "https://localhost:8080/",
          "height": 265
        },
        "id": "zT-NjbY_3cE8",
        "outputId": "cfbf29bd-e109-4b98-d4a2-185356ab5918"
      },
      "source": [
        "#Seleccionamos x & y \n",
        "x,y = gen_data(100, 25, 50)\n",
        "plt.scatter(x, y)\n",
        "plt.show()"
      ],
      "execution_count": 9,
      "outputs": [
        {
          "output_type": "display_data",
          "data": {
            "image/png": "[encoded data removed]",
            "text/plain": [
              "<Figure size 432x288 with 1 Axes>"
            ]
          },
          "metadata": {
            "tags": [],
            "needs_background": "light"
          }
        }
      ]
    },
    {
      "cell_type": "code",
      "metadata": {
        "id": "Z44Ejhwk3VxU"
      },
      "source": [
        "# separamos el conjunto de datos en 2 grupos : Entrenamiento (70-80%) y validación (30%-20%)"
      ],
      "execution_count": 10,
      "outputs": []
    },
    {
      "cell_type": "code",
      "metadata": {
        "id": "TRYncuvA3l8m"
      },
      "source": [
        "x_train = (np.array(x[0:70])).reshape(70,1)\n",
        "y_train = (np.array(y[0:70])).reshape(70,1)\n",
        "x_test = (np.array(x[70:])).reshape(30,1)\n",
        "y_test = (np.array(y[70:])).reshape(30,1)\n"
      ],
      "execution_count": 15,
      "outputs": []
    },
    {
      "cell_type": "code",
      "metadata": {
        "id": "9jBezd6q5HXx"
      },
      "source": [
        "modelo1 = linear_model.LinearRegression()"
      ],
      "execution_count": 18,
      "outputs": []
    },
    {
      "cell_type": "code",
      "metadata": {
        "id": "2IPPZ5sO5NnO"
      },
      "source": [
        "fit1 = modelo1.fit(x_train,y_train)"
      ],
      "execution_count": 23,
      "outputs": []
    },
    {
      "cell_type": "code",
      "metadata": {
        "id": "_PpKmFzY81Vy"
      },
      "source": [
        ""
      ],
      "execution_count": null,
      "outputs": []
    },
    {
      "cell_type": "code",
      "metadata": {
        "colab": {
          "base_uri": "https://localhost:8080/",
          "height": 335
        },
        "id": "DBTYLR586nlN",
        "outputId": "1ca41741-f16f-430c-a911-09e7d39886f5"
      },
      "source": [
        "# EVALUAR EL MODELO\n",
        "print(modelo1.coef_)\n",
        "print(modelo1.intercept_)\n",
        "y_predicho = modelo1.predict(x_test)\n",
        "print(r2_score(y_test, y_predicho))\n",
        "print(mean_squared_error(y_test, y_predicho))\n",
        "plt.scatter(x_test,y_test, color = \"black\")\n",
        "plt.plot(x_test,y_predicho, color = \"green\")\n",
        "y_recta = 2*x_test + 25\n",
        "plt.plot(x_test,y_recta, color =  \"red\")\n",
        "plt.show()"
      ],
      "execution_count": 38,
      "outputs": [
        {
          "output_type": "stream",
          "text": [
            "[[1.91298691]]\n",
            "[51.9472324]\n",
            "0.6169734276647432\n",
            "198.27712234532245\n"
          ],
          "name": "stdout"
        },
        {
          "output_type": "display_data",
          "data": {
            "image/png": "[encoded data removed]",
            "text/plain": [
              "<Figure size 432x288 with 1 Axes>"
            ]
          },
          "metadata": {
            "tags": [],
            "needs_background": "light"
          }
        }
      ]
    },
    {
      "cell_type": "code",
      "metadata": {
        "colab": {
          "base_uri": "https://localhost:8080/"
        },
        "id": "Ja9KzNMu8xUt",
        "outputId": "a8dccee9-17fc-42df-a396-8e846b347b17"
      },
      "source": [
        "modelo1.get_params(deep=True)"
      ],
      "execution_count": 40,
      "outputs": [
        {
          "output_type": "execute_result",
          "data": {
            "text/plain": [
              "{'copy_X': True, 'fit_intercept': True, 'n_jobs': None, 'normalize': False}"
            ]
          },
          "metadata": {
            "tags": []
          },
          "execution_count": 40
        }
      ]
    },
    {
      "cell_type": "code",
      "metadata": {
        "id": "DKvhvTi99tLK"
      },
      "source": [
        ""
      ],
      "execution_count": null,
      "outputs": []
    }
  ]
}
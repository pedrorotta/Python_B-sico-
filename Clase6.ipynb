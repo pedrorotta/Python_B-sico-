{
  "nbformat": 4,
  "nbformat_minor": 0,
  "metadata": {
    "colab": {
      "name": "Clase6.ipynb",
      "provenance": [],
      "mount_file_id": "16z5oJ0ErefRmdNiKmfYlP0xxxN-TvOaw",
      "authorship_tag": "ABX9TyNC2DVT2TLsW7kOpsGpr95q",
      "include_colab_link": true
    },
    "kernelspec": {
      "name": "python3",
      "display_name": "Python 3"
    },
    "language_info": {
      "name": "python"
    }
  },
  "cells": [
    {
      "cell_type": "markdown",
      "metadata": {
        "id": "view-in-github",
        "colab_type": "text"
      },
      "source": [
        "<a href=\"https://colab.research.google.com/github/pedrorotta/Python_B-sico-/blob/main/Clase6.ipynb\" target=\"_parent\"><img src=\"https://colab.research.google.com/assets/colab-badge.svg\" alt=\"Open In Colab\"/></a>"
      ]
    },
    {
      "cell_type": "markdown",
      "metadata": {
        "id": "vEY5saZMXr3W"
      },
      "source": [
        "# **Clase 6 : Análisis de datos**\n",
        "\n",
        "En el transcurso del curso hemos desarrollado los conceptos básicos de python. En esta sesión desarrollaremos los principios básicos de un tratamiento de datos y además un análisis de datos utilizando Pandas Y Numpy por completo. Esto con el fin de incursionar más adelante en el mundo del machine learning.\n",
        "\n",
        "**Puntos principales en el análisis de datos**\n",
        "\n",
        "El análisis de datos tiene por objetivos lo siguiente: \n",
        "\n",
        "* Visualizar de manera estructurada los datos (Por medio de tablas o de relaciones en bases de datos) \n",
        "\n",
        "* Desarrollar un análisis estadístico de un dataset por medio de gráficas visuales que faciliten la interpretación\n",
        "\n",
        "* Desarrollar informes (History telling) acerca del análisis de datos de una manera detallada y simplificada para poder estimar y deducir resultados de las variables. \n",
        "\n",
        "* Analizar relaciones y predicciones en base al dataset obtenido, respetando los criterios y análisis que se presentan. "
      ]
    },
    {
      "cell_type": "markdown",
      "metadata": {
        "id": "nPBL4TYlYMXe"
      },
      "source": [
        "## **Recepción de data**\n",
        "\n",
        "Hay muchas formas de recibir datos, diferentes tipos de formato, pero lo más básico es recibirlo desde un archivo en la PC. Desde el archivo de pc, es util el tener los datos en el Drive de Google o en algún archivo en tus carpetas de memoria. Existen varios tipos de archivos que pueden ser leídos por python. Para leer los archivos usamos la librería pandas.\n",
        "\n",
        "Los tipos de archivos más comunes que pueden ser leídos, son: \n",
        "\n",
        "* CSV\n",
        "\n",
        "* JSON\n",
        "\n",
        "* Excel \n",
        "\n",
        "* Stata\n",
        "\n",
        "* HTML\n",
        "\n",
        "Puedes encontrar una descripción gneeral de todos los formatos compatibles [aquí](https://pandas.pydata.org/docs/user_guide/io.html)"
      ]
    },
    {
      "cell_type": "markdown",
      "metadata": {
        "id": "w5YwmXimYM7z"
      },
      "source": [
        "### **Librería Pandas**\n",
        "\n",
        "La librería pandas permite trabajar con datos estructurados o con bases de datos para análisis de datos. Las operaciones que permite son muchas, entre las que destacan: \n",
        "\n",
        "* Recepción de datos\n",
        "* Análisis estadístico de datos\n",
        "* Conversión de datos en un DataFrame (Tabla de datos) \n",
        "\n",
        "Entre otras. \n",
        "\n"
      ]
    },
    {
      "cell_type": "code",
      "metadata": {
        "id": "4tJ9wSX9S130"
      },
      "source": [
        "#importamos pandas"
      ],
      "execution_count": null,
      "outputs": []
    },
    {
      "cell_type": "code",
      "metadata": {
        "id": "4CNQXkGCS108"
      },
      "source": [
        ""
      ],
      "execution_count": null,
      "outputs": []
    },
    {
      "cell_type": "markdown",
      "metadata": {
        "id": "umM8xLOTYMU2"
      },
      "source": [
        "#### **Ejemplo práctico**\n",
        "\n",
        "Para este ejemplo usaremos el siguiente dataset de *[Kaggle](https://www.kaggle.com/spscientist/students-performance-in-exams): \n",
        "\n",
        "Este dataset pretende ser como una estimación de la importancia de factores externos a estudiantes para sus calificaciones.  \n",
        "\n",
        "La idea de analizar este dataset es determnar datos analíticos de la data que permitan realizar algunas conclusiones. \n",
        "\n",
        "*Kaggle: Es una página web enfocada casi al 100% para el análisis de datos, la idea de la página web es fomentar una comunidad dedicada al aprendizaje y al compartir información acerca del análisis de datos. \n",
        "\n"
      ]
    },
    {
      "cell_type": "code",
      "metadata": {
        "id": "AUB7pI1Lgbdc"
      },
      "source": [
        "# guardar archivo en python\n"
      ],
      "execution_count": null,
      "outputs": []
    },
    {
      "cell_type": "code",
      "metadata": {
        "id": "QmSMy0cfgbNu"
      },
      "source": [
        "#convertir a dataFrame"
      ],
      "execution_count": null,
      "outputs": []
    },
    {
      "cell_type": "code",
      "metadata": {
        "id": "3gQgUzvAgamd"
      },
      "source": [
        "#Visualizar en tabla \n",
        "#Formato entero\n",
        "#comando head"
      ],
      "execution_count": null,
      "outputs": []
    },
    {
      "cell_type": "markdown",
      "metadata": {
        "id": "W171qJgTYMSl"
      },
      "source": [
        "Para este caso hemos utilizado un dataset desde nuestro drive. Pero también podemos hacer nosotros nuestro propio dataset y al mismo tiempo convertirlo en DataFrame. "
      ]
    },
    {
      "cell_type": "code",
      "metadata": {
        "id": "P1x3gomlji2Z"
      },
      "source": [
        "# Ejemplo"
      ],
      "execution_count": null,
      "outputs": []
    },
    {
      "cell_type": "code",
      "metadata": {
        "id": "mTmTzj5Aji03"
      },
      "source": [
        ""
      ],
      "execution_count": null,
      "outputs": []
    },
    {
      "cell_type": "markdown",
      "metadata": {
        "id": "0EnWHbW1YMQN"
      },
      "source": [
        "### **Guardar data**\n",
        "\n",
        "Así como es útil recibir datos de python, también es util cuando guardamos un archivo. para esto podemos usar el comando write"
      ]
    },
    {
      "cell_type": "code",
      "metadata": {
        "id": "1JvRx3VTnyG4"
      },
      "source": [
        "#Ejemplo"
      ],
      "execution_count": 13,
      "outputs": []
    },
    {
      "cell_type": "code",
      "metadata": {
        "id": "49FKoT-yoN_x"
      },
      "source": [
        ""
      ],
      "execution_count": 17,
      "outputs": []
    },
    {
      "cell_type": "markdown",
      "metadata": {
        "id": "wwsIihDgYMOF"
      },
      "source": [
        "## **Análisis estadístico**\n",
        "\n",
        "Una de las cosas interesantes en el análisis de datos, es presentar un análisis estadístico del dataset, esto lo podemos hacer con pandas y [seaborn](https://seaborn.pydata.org/) que es una librería dedicada al análisis estadístico. De esta librería podemos exportar varias funciones para visualizar estadísticamente nuestra data. Para realizar gráficas también utilizamos otra librería que se llama [Matplotlib](https://matplotlib.org/)"
      ]
    },
    {
      "cell_type": "code",
      "metadata": {
        "id": "I2DBO_SQttHb"
      },
      "source": [
        "import pandas as pd\n",
        "import seaborn as sns\n",
        "import matplotlib.pyplot as plt\n"
      ],
      "execution_count": 20,
      "outputs": []
    },
    {
      "cell_type": "code",
      "metadata": {
        "colab": {
          "base_uri": "https://localhost:8080/"
        },
        "id": "Qch7hSUYz1w-",
        "outputId": "ff65bc00-a682-4bda-8559-4038b6b70ea7"
      },
      "source": [
        "Nota1 = df2[\"Nota1\"]\n",
        "Nota1.mean()"
      ],
      "execution_count": 74,
      "outputs": [
        {
          "output_type": "execute_result",
          "data": {
            "text/plain": [
              "13.6"
            ]
          },
          "metadata": {
            "tags": []
          },
          "execution_count": 74
        }
      ]
    },
    {
      "cell_type": "code",
      "metadata": {
        "id": "4vhYW7ot4rfA"
      },
      "source": [
        "#abrir el archivo"
      ],
      "execution_count": null,
      "outputs": []
    },
    {
      "cell_type": "code",
      "metadata": {
        "id": "S9gpa8_Pz1n3"
      },
      "source": [
        "alumnos = pd.read_csv(\"/content/drive/MyDrive/archivos_python/exams.csv\")"
      ],
      "execution_count": 77,
      "outputs": []
    },
    {
      "cell_type": "code",
      "metadata": {
        "id": "Zqdu5yMz4t4g"
      },
      "source": [
        "#mostrarlo como tabla (dataframe)"
      ],
      "execution_count": 89,
      "outputs": []
    },
    {
      "cell_type": "code",
      "metadata": {
        "colab": {
          "base_uri": "https://localhost:8080/",
          "height": 199
        },
        "id": "rkGAhJaz2vB-",
        "outputId": "21b622a0-4d19-482b-cae0-ec14d95d4b20"
      },
      "source": [
        "alumnos.head()"
      ],
      "execution_count": 78,
      "outputs": [
        {
          "output_type": "execute_result",
          "data": {
            "text/html": [
              "<div>\n",
              "<style scoped>\n",
              "    .dataframe tbody tr th:only-of-type {\n",
              "        vertical-align: middle;\n",
              "    }\n",
              "\n",
              "    .dataframe tbody tr th {\n",
              "        vertical-align: top;\n",
              "    }\n",
              "\n",
              "    .dataframe thead th {\n",
              "        text-align: right;\n",
              "    }\n",
              "</style>\n",
              "<table border=\"1\" class=\"dataframe\">\n",
              "  <thead>\n",
              "    <tr style=\"text-align: right;\">\n",
              "      <th></th>\n",
              "      <th>gender</th>\n",
              "      <th>race/ethnicity</th>\n",
              "      <th>parental level of education</th>\n",
              "      <th>lunch</th>\n",
              "      <th>test preparation course</th>\n",
              "      <th>math score</th>\n",
              "      <th>reading score</th>\n",
              "      <th>writing score</th>\n",
              "    </tr>\n",
              "  </thead>\n",
              "  <tbody>\n",
              "    <tr>\n",
              "      <th>0</th>\n",
              "      <td>male</td>\n",
              "      <td>group A</td>\n",
              "      <td>some high school</td>\n",
              "      <td>free/reduced</td>\n",
              "      <td>completed</td>\n",
              "      <td>46</td>\n",
              "      <td>45</td>\n",
              "      <td>44</td>\n",
              "    </tr>\n",
              "    <tr>\n",
              "      <th>1</th>\n",
              "      <td>male</td>\n",
              "      <td>group B</td>\n",
              "      <td>high school</td>\n",
              "      <td>standard</td>\n",
              "      <td>none</td>\n",
              "      <td>74</td>\n",
              "      <td>62</td>\n",
              "      <td>56</td>\n",
              "    </tr>\n",
              "    <tr>\n",
              "      <th>2</th>\n",
              "      <td>female</td>\n",
              "      <td>group C</td>\n",
              "      <td>high school</td>\n",
              "      <td>standard</td>\n",
              "      <td>none</td>\n",
              "      <td>53</td>\n",
              "      <td>73</td>\n",
              "      <td>67</td>\n",
              "    </tr>\n",
              "    <tr>\n",
              "      <th>3</th>\n",
              "      <td>female</td>\n",
              "      <td>group C</td>\n",
              "      <td>high school</td>\n",
              "      <td>standard</td>\n",
              "      <td>completed</td>\n",
              "      <td>67</td>\n",
              "      <td>80</td>\n",
              "      <td>72</td>\n",
              "    </tr>\n",
              "    <tr>\n",
              "      <th>4</th>\n",
              "      <td>female</td>\n",
              "      <td>group B</td>\n",
              "      <td>some college</td>\n",
              "      <td>standard</td>\n",
              "      <td>none</td>\n",
              "      <td>79</td>\n",
              "      <td>85</td>\n",
              "      <td>85</td>\n",
              "    </tr>\n",
              "  </tbody>\n",
              "</table>\n",
              "</div>"
            ],
            "text/plain": [
              "   gender race/ethnicity  ... reading score writing score\n",
              "0    male        group A  ...            45            44\n",
              "1    male        group B  ...            62            56\n",
              "2  female        group C  ...            73            67\n",
              "3  female        group C  ...            80            72\n",
              "4  female        group B  ...            85            85\n",
              "\n",
              "[5 rows x 8 columns]"
            ]
          },
          "metadata": {
            "tags": []
          },
          "execution_count": 78
        }
      ]
    },
    {
      "cell_type": "code",
      "metadata": {
        "colab": {
          "base_uri": "https://localhost:8080/",
          "height": 410
        },
        "id": "xXwwOkVdChbw",
        "outputId": "f349d8d8-330d-4815-8edf-fdd66fe88764"
      },
      "source": [
        "## cambiar nombres de columnas\n",
        "\n",
        "alumnos.rename(columns={\"parental level of education\": \"educ padres\"})"
      ],
      "execution_count": 153,
      "outputs": [
        {
          "output_type": "execute_result",
          "data": {
            "text/html": [
              "<div>\n",
              "<style scoped>\n",
              "    .dataframe tbody tr th:only-of-type {\n",
              "        vertical-align: middle;\n",
              "    }\n",
              "\n",
              "    .dataframe tbody tr th {\n",
              "        vertical-align: top;\n",
              "    }\n",
              "\n",
              "    .dataframe thead th {\n",
              "        text-align: right;\n",
              "    }\n",
              "</style>\n",
              "<table border=\"1\" class=\"dataframe\">\n",
              "  <thead>\n",
              "    <tr style=\"text-align: right;\">\n",
              "      <th></th>\n",
              "      <th>gender</th>\n",
              "      <th>race/ethnicity</th>\n",
              "      <th>educ padres</th>\n",
              "      <th>lunch</th>\n",
              "      <th>test preparation course</th>\n",
              "      <th>math score</th>\n",
              "      <th>reading score</th>\n",
              "      <th>writing score</th>\n",
              "    </tr>\n",
              "  </thead>\n",
              "  <tbody>\n",
              "    <tr>\n",
              "      <th>0</th>\n",
              "      <td>male</td>\n",
              "      <td>group A</td>\n",
              "      <td>some high school</td>\n",
              "      <td>free/reduced</td>\n",
              "      <td>completed</td>\n",
              "      <td>46</td>\n",
              "      <td>45</td>\n",
              "      <td>44</td>\n",
              "    </tr>\n",
              "    <tr>\n",
              "      <th>1</th>\n",
              "      <td>male</td>\n",
              "      <td>group B</td>\n",
              "      <td>high school</td>\n",
              "      <td>standard</td>\n",
              "      <td>none</td>\n",
              "      <td>74</td>\n",
              "      <td>62</td>\n",
              "      <td>56</td>\n",
              "    </tr>\n",
              "    <tr>\n",
              "      <th>2</th>\n",
              "      <td>female</td>\n",
              "      <td>group C</td>\n",
              "      <td>high school</td>\n",
              "      <td>standard</td>\n",
              "      <td>none</td>\n",
              "      <td>53</td>\n",
              "      <td>73</td>\n",
              "      <td>67</td>\n",
              "    </tr>\n",
              "    <tr>\n",
              "      <th>3</th>\n",
              "      <td>female</td>\n",
              "      <td>group C</td>\n",
              "      <td>high school</td>\n",
              "      <td>standard</td>\n",
              "      <td>completed</td>\n",
              "      <td>67</td>\n",
              "      <td>80</td>\n",
              "      <td>72</td>\n",
              "    </tr>\n",
              "    <tr>\n",
              "      <th>4</th>\n",
              "      <td>female</td>\n",
              "      <td>group B</td>\n",
              "      <td>some college</td>\n",
              "      <td>standard</td>\n",
              "      <td>none</td>\n",
              "      <td>79</td>\n",
              "      <td>85</td>\n",
              "      <td>85</td>\n",
              "    </tr>\n",
              "    <tr>\n",
              "      <th>...</th>\n",
              "      <td>...</td>\n",
              "      <td>...</td>\n",
              "      <td>...</td>\n",
              "      <td>...</td>\n",
              "      <td>...</td>\n",
              "      <td>...</td>\n",
              "      <td>...</td>\n",
              "      <td>...</td>\n",
              "    </tr>\n",
              "    <tr>\n",
              "      <th>95</th>\n",
              "      <td>female</td>\n",
              "      <td>group C</td>\n",
              "      <td>some high school</td>\n",
              "      <td>standard</td>\n",
              "      <td>none</td>\n",
              "      <td>68</td>\n",
              "      <td>74</td>\n",
              "      <td>69</td>\n",
              "    </tr>\n",
              "    <tr>\n",
              "      <th>96</th>\n",
              "      <td>male</td>\n",
              "      <td>group B</td>\n",
              "      <td>some college</td>\n",
              "      <td>standard</td>\n",
              "      <td>none</td>\n",
              "      <td>60</td>\n",
              "      <td>58</td>\n",
              "      <td>59</td>\n",
              "    </tr>\n",
              "    <tr>\n",
              "      <th>97</th>\n",
              "      <td>male</td>\n",
              "      <td>group C</td>\n",
              "      <td>some high school</td>\n",
              "      <td>standard</td>\n",
              "      <td>none</td>\n",
              "      <td>71</td>\n",
              "      <td>71</td>\n",
              "      <td>58</td>\n",
              "    </tr>\n",
              "    <tr>\n",
              "      <th>98</th>\n",
              "      <td>female</td>\n",
              "      <td>group E</td>\n",
              "      <td>associate's degree</td>\n",
              "      <td>free/reduced</td>\n",
              "      <td>none</td>\n",
              "      <td>72</td>\n",
              "      <td>85</td>\n",
              "      <td>79</td>\n",
              "    </tr>\n",
              "    <tr>\n",
              "      <th>99</th>\n",
              "      <td>male</td>\n",
              "      <td>group D</td>\n",
              "      <td>associate's degree</td>\n",
              "      <td>standard</td>\n",
              "      <td>completed</td>\n",
              "      <td>84</td>\n",
              "      <td>76</td>\n",
              "      <td>85</td>\n",
              "    </tr>\n",
              "  </tbody>\n",
              "</table>\n",
              "<p>100 rows × 8 columns</p>\n",
              "</div>"
            ],
            "text/plain": [
              "    gender race/ethnicity  ... reading score writing score\n",
              "0     male        group A  ...            45            44\n",
              "1     male        group B  ...            62            56\n",
              "2   female        group C  ...            73            67\n",
              "3   female        group C  ...            80            72\n",
              "4   female        group B  ...            85            85\n",
              "..     ...            ...  ...           ...           ...\n",
              "95  female        group C  ...            74            69\n",
              "96    male        group B  ...            58            59\n",
              "97    male        group C  ...            71            58\n",
              "98  female        group E  ...            85            79\n",
              "99    male        group D  ...            76            85\n",
              "\n",
              "[100 rows x 8 columns]"
            ]
          },
          "metadata": {
            "tags": []
          },
          "execution_count": 153
        }
      ]
    },
    {
      "cell_type": "code",
      "metadata": {
        "id": "xh8oEwtB4y-b"
      },
      "source": [
        "#Valores estadísticos"
      ],
      "execution_count": null,
      "outputs": []
    },
    {
      "cell_type": "code",
      "metadata": {
        "colab": {
          "base_uri": "https://localhost:8080/",
          "height": 290
        },
        "id": "G8BGy_hE2u_L",
        "outputId": "1594985f-0293-4f13-8538-54656f9d0e15"
      },
      "source": [
        "alumnos.describe()"
      ],
      "execution_count": 90,
      "outputs": [
        {
          "output_type": "execute_result",
          "data": {
            "text/html": [
              "<div>\n",
              "<style scoped>\n",
              "    .dataframe tbody tr th:only-of-type {\n",
              "        vertical-align: middle;\n",
              "    }\n",
              "\n",
              "    .dataframe tbody tr th {\n",
              "        vertical-align: top;\n",
              "    }\n",
              "\n",
              "    .dataframe thead th {\n",
              "        text-align: right;\n",
              "    }\n",
              "</style>\n",
              "<table border=\"1\" class=\"dataframe\">\n",
              "  <thead>\n",
              "    <tr style=\"text-align: right;\">\n",
              "      <th></th>\n",
              "      <th>math score</th>\n",
              "      <th>reading score</th>\n",
              "      <th>writing score</th>\n",
              "    </tr>\n",
              "  </thead>\n",
              "  <tbody>\n",
              "    <tr>\n",
              "      <th>count</th>\n",
              "      <td>100.000000</td>\n",
              "      <td>100.000000</td>\n",
              "      <td>100.000000</td>\n",
              "    </tr>\n",
              "    <tr>\n",
              "      <th>mean</th>\n",
              "      <td>69.260000</td>\n",
              "      <td>71.740000</td>\n",
              "      <td>70.580000</td>\n",
              "    </tr>\n",
              "    <tr>\n",
              "      <th>std</th>\n",
              "      <td>14.076716</td>\n",
              "      <td>14.017752</td>\n",
              "      <td>14.112234</td>\n",
              "    </tr>\n",
              "    <tr>\n",
              "      <th>min</th>\n",
              "      <td>27.000000</td>\n",
              "      <td>33.000000</td>\n",
              "      <td>27.000000</td>\n",
              "    </tr>\n",
              "    <tr>\n",
              "      <th>25%</th>\n",
              "      <td>60.750000</td>\n",
              "      <td>63.000000</td>\n",
              "      <td>60.000000</td>\n",
              "    </tr>\n",
              "    <tr>\n",
              "      <th>50%</th>\n",
              "      <td>70.500000</td>\n",
              "      <td>71.000000</td>\n",
              "      <td>69.500000</td>\n",
              "    </tr>\n",
              "    <tr>\n",
              "      <th>75%</th>\n",
              "      <td>79.000000</td>\n",
              "      <td>83.000000</td>\n",
              "      <td>83.000000</td>\n",
              "    </tr>\n",
              "    <tr>\n",
              "      <th>max</th>\n",
              "      <td>100.000000</td>\n",
              "      <td>100.000000</td>\n",
              "      <td>100.000000</td>\n",
              "    </tr>\n",
              "  </tbody>\n",
              "</table>\n",
              "</div>"
            ],
            "text/plain": [
              "       math score  reading score  writing score\n",
              "count  100.000000     100.000000     100.000000\n",
              "mean    69.260000      71.740000      70.580000\n",
              "std     14.076716      14.017752      14.112234\n",
              "min     27.000000      33.000000      27.000000\n",
              "25%     60.750000      63.000000      60.000000\n",
              "50%     70.500000      71.000000      69.500000\n",
              "75%     79.000000      83.000000      83.000000\n",
              "max    100.000000     100.000000     100.000000"
            ]
          },
          "metadata": {
            "tags": []
          },
          "execution_count": 90
        }
      ]
    },
    {
      "cell_type": "markdown",
      "metadata": {
        "id": "oPVBv9xN2Bt3"
      },
      "source": [
        "1) Anlizar valores no numéricos de género \n",
        "\n",
        "```\n",
        "mujeres = alumnos.loc[(alumnos['gender']==\"female\")]\n",
        "mujeres\n",
        "nm = len(mujeres) #devuelve el número de filas\n",
        "print(nm)\n",
        "hombres = alumnos.loc[(alumnos['gender']==\"male\")]\n",
        "nh = len(hombres)\n",
        "print(nh)\n",
        "\n",
        "## Graficar (Gráfico de barras):\n",
        "\n",
        "plt.bar([\"#hombres\",\"#mujeres\"],[nh,nm])\n",
        "\n",
        "```"
      ]
    },
    {
      "cell_type": "code",
      "metadata": {
        "id": "FYHBiwYi2u1-"
      },
      "source": [
        "#Valores no numéricos\n",
        "\n",
        "#Valor de género (loc)\n",
        "\n"
      ],
      "execution_count": 247,
      "outputs": []
    },
    {
      "cell_type": "markdown",
      "metadata": {
        "id": "2ev--cDT2TiC"
      },
      "source": [
        "Para etnia :\n",
        "* No sabemos cuantas etnias son\n",
        "* Cuantos por cada uno hay\n",
        "\n",
        "```\n",
        "etnias = alumnos[\"race/ethnicity\"]\n",
        "etnias.describe()\n",
        "```\n",
        "\n",
        "```\n",
        "valores = etnias.value_counts()\n",
        "val_np = np.array(valores)\n",
        "val_list = list(val_np)\n",
        "axes_val = list(valores.axes)\n",
        "print(val_list)\n",
        "print(axes_val[0])\n",
        "plt.bar(axes_val[0],val_list)\n",
        "```\n",
        "\n"
      ]
    },
    {
      "cell_type": "markdown",
      "metadata": {
        "id": "96IsL4k46nqJ"
      },
      "source": [
        "Para conocer el número exacto de cada uno vamos a utilizar [documentación ](https://pandas.pydata.org/docs/reference/api/pandas.DataFrame.value_counts.html)"
      ]
    },
    {
      "cell_type": "markdown",
      "metadata": {
        "id": "gpGNkKNX260c"
      },
      "source": [
        "Pie chart : \n",
        "```\n",
        "### Piechart\n",
        "fig1 = plt.figure(figsize=[5,5])\n",
        "plt.pie(val_list,labels = axes_val[0],autopct='%1.0f%%')\n",
        "plt.show()\n",
        "```\n"
      ]
    },
    {
      "cell_type": "code",
      "metadata": {
        "id": "D5UtWc9ouNRd"
      },
      "source": [
        "##Tratamiento para raza/etnia : \n",
        "## Consideraciones : \n",
        "  # No conocemos cuántos grupos hay\n"
      ],
      "execution_count": 250,
      "outputs": []
    },
    {
      "cell_type": "code",
      "metadata": {
        "id": "1jnxfOofttE6"
      },
      "source": [
        "#describimos para saber el número de etnias\n"
      ],
      "execution_count": 251,
      "outputs": []
    },
    {
      "cell_type": "markdown",
      "metadata": {
        "id": "og-uOyMQ3F7X"
      },
      "source": [
        "Ejemplo para Educación de padres: \n",
        "\n",
        "Renombramos la columna \n",
        "\n",
        "`alumnos1 = alumnos.rename(columns = {'parental level of education' :'educ padres' })`\n",
        "\n",
        "```\n",
        "edp = alumnos1[\"educ padres\"]\n",
        "plt.figure(figsize=(10,10))\n",
        "plt.hist(edp,bins=5,)\n",
        "plt.show()\n",
        "```"
      ]
    },
    {
      "cell_type": "markdown",
      "metadata": {
        "id": "uSowUuD83ebv"
      },
      "source": [
        "Y si ponemos todos los plots en un mismo gráfico (¿Más guay?)\n",
        "\n",
        "```\n",
        "fig, axs = plt.subplots(3,1, figsize = (10,20))\n",
        "axs[0].bar([\"#hombres\",\"#mujeres\"],[nh,nm])\n",
        "axs[1].pie(val_list,labels = axes_val[0],autopct='%1.0f%%')\n",
        "axs[2].hist(edp,bins=5)\n",
        "plt.show()\n",
        "```"
      ]
    },
    {
      "cell_type": "code",
      "metadata": {
        "id": "hQ1g60XOH1EP"
      },
      "source": [
        "#Hazlo \n"
      ],
      "execution_count": 254,
      "outputs": []
    },
    {
      "cell_type": "markdown",
      "metadata": {
        "id": "9fU9VpGnYML1"
      },
      "source": [
        "Tarea grupal : Sacar datos estadísticos de lunch y test preparation course "
      ]
    },
    {
      "cell_type": "code",
      "metadata": {
        "id": "cStUYMQoLIMB"
      },
      "source": [
        ""
      ],
      "execution_count": 255,
      "outputs": []
    },
    {
      "cell_type": "markdown",
      "metadata": {
        "id": "VVnL6nDv32x2"
      },
      "source": [
        "¿qué más podemos hacer? \n",
        "Probar con los datos :\n",
        "math score\treading score\twriting score\n",
        "\n",
        "```\n",
        "bins = valores_notamate_ordenados.index\n",
        "bins\n",
        "len(bins)\n",
        "plt.figure(figsize = (10,10))\n",
        "plt.plot(bins_mate,valores_notamate_ordenados,'--', c = \"g\")\n",
        "write = alumnos[\"writing score\"]\n",
        "write_v = write.value_counts(sort=False)\n",
        "bins_write = write_v.index\n",
        "plt.plot(bins_write,write_v, c = \"r\")\n",
        "plt.show()\n",
        "```"
      ]
    }
  ]
}
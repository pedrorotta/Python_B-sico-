{
  "nbformat": 4,
  "nbformat_minor": 0,
  "metadata": {
    "colab": {
      "name": "Clase1.ipynb",
      "provenance": [],
      "collapsed_sections": [],
      "authorship_tag": "ABX9TyPHbdbS29rVdsI+Fe5Y9DIP",
      "include_colab_link": true
    },
    "kernelspec": {
      "name": "python3",
      "display_name": "Python 3"
    }
  },
  "cells": [
    {
      "cell_type": "markdown",
      "metadata": {
        "id": "view-in-github",
        "colab_type": "text"
      },
      "source": [
        "<a href=\"https://colab.research.google.com/github/pedrorotta/Python_B-sico-/blob/main/Clase1.ipynb\" target=\"_parent\"><img src=\"https://colab.research.google.com/assets/colab-badge.svg\" alt=\"Open In Colab\"/></a>"
      ]
    },
    {
      "cell_type": "markdown",
      "metadata": {
        "id": "SiDypcwBkivK"
      },
      "source": [
        "# Variable básicas"
      ]
    },
    {
      "cell_type": "code",
      "metadata": {
        "colab": {
          "base_uri": "https://localhost:8080/"
        },
        "id": "EWGmsejAkhWV",
        "outputId": "dd79f883-eca5-405c-f824-65f990396618"
      },
      "source": [
        "#String (Cadenas de texto)\n",
        "\n",
        "\"\"\"\n",
        "Trabajaremos\n",
        "con strings \n",
        "\"\"\"\n",
        "saludo_bonito = \"Hola bienvenidos al curso de Introducción al análisis de datos con Python\"\n",
        "saludo2 = \" espero que aprendan mucho\"\n",
        "print(saludo_bonito + saludo2) #concatenación de string \n",
        "type(saludo_bonito)"
      ],
      "execution_count": null,
      "outputs": [
        {
          "output_type": "stream",
          "text": [
            "Hola bienvenidos al curso de Introducción al análisis de datos con Python espero que aprendan mucho\n"
          ],
          "name": "stdout"
        },
        {
          "output_type": "execute_result",
          "data": {
            "text/plain": [
              "str"
            ]
          },
          "metadata": {
            "tags": []
          },
          "execution_count": 19
        }
      ]
    },
    {
      "cell_type": "markdown",
      "metadata": {
        "id": "242Mi0DIktlD"
      },
      "source": [
        "\n",
        "\n",
        "# Números"
      ]
    },
    {
      "cell_type": "code",
      "metadata": {
        "id": "wTN-WQijky69",
        "colab": {
          "base_uri": "https://localhost:8080/"
        },
        "outputId": "99fa6dc4-6137-4558-c4c1-a55a5f431dad"
      },
      "source": [
        "# Enteros\n",
        "a = 32\n",
        "b = 14\n",
        "type(a)\n",
        "# flotantes\n",
        "c = 32.12132\n",
        "# notación científica\n",
        "d = 0.00000000002\n",
        "print(type(d))"
      ],
      "execution_count": null,
      "outputs": [
        {
          "output_type": "stream",
          "text": [
            "<class 'float'>\n"
          ],
          "name": "stdout"
        }
      ]
    },
    {
      "cell_type": "code",
      "metadata": {
        "id": "k2bNN6IbtfyE"
      },
      "source": [
        ""
      ],
      "execution_count": null,
      "outputs": []
    },
    {
      "cell_type": "markdown",
      "metadata": {
        "id": "TSCrhf9cuPkT"
      },
      "source": [
        "# Boleanos\n"
      ]
    },
    {
      "cell_type": "code",
      "metadata": {
        "colab": {
          "base_uri": "https://localhost:8080/"
        },
        "id": "qj8tTpA-uSkt",
        "outputId": "187cb5ae-9c44-44c5-a4fd-dfef32b5a1d2"
      },
      "source": [
        "a = True\n",
        "print(type(a))\n",
        "x = True+1\n",
        "print(x)\n",
        "y = False \n",
        "z = y*x\n",
        "print(z)"
      ],
      "execution_count": null,
      "outputs": [
        {
          "output_type": "stream",
          "text": [
            "<class 'bool'>\n",
            "2\n",
            "0\n"
          ],
          "name": "stdout"
        }
      ]
    },
    {
      "cell_type": "markdown",
      "metadata": {
        "id": "9cxPYi5ZuvbN"
      },
      "source": [
        "# Bases numéricas"
      ]
    },
    {
      "cell_type": "code",
      "metadata": {
        "colab": {
          "base_uri": "https://localhost:8080/"
        },
        "id": "yVZKnmebuW2h",
        "outputId": "bdbbea9e-eeb9-4c20-c697-a440c434dc18"
      },
      "source": [
        "num_binario = 0b10101011\n",
        "num_octal = 0o10\n",
        "print(num_binario,num_octal)\n",
        "print(type(num_binario))"
      ],
      "execution_count": null,
      "outputs": [
        {
          "output_type": "stream",
          "text": [
            "171 8\n",
            "<class 'int'>\n"
          ],
          "name": "stdout"
        }
      ]
    },
    {
      "cell_type": "code",
      "metadata": {
        "id": "o-sOQgIgvH0M"
      },
      "source": [
        "#cadena de texto con simples comillas\n",
        "este_es_un_texto = \"hola\"\n",
        "esto_es_un_texto = 'hola'\n"
      ],
      "execution_count": null,
      "outputs": []
    },
    {
      "cell_type": "code",
      "metadata": {
        "colab": {
          "base_uri": "https://localhost:8080/"
        },
        "id": "qM10ZFtlwaxN",
        "outputId": "43a94640-10d8-4856-e309-905d99d21ab3"
      },
      "source": [
        "%whos"
      ],
      "execution_count": null,
      "outputs": [
        {
          "output_type": "stream",
          "text": [
            "Variable                 Type     Data/Info\n",
            "-------------------------------------------\n",
            "S3_                      str      lata\n",
            "S3__sasa232_sdasaaludo   str      lata\n",
            "a                        bool     True\n",
            "b                        int      14\n",
            "c                        float    32.12132\n",
            "d                        float    2e-11\n",
            "este_es_un_texto         str      hola\n",
            "esto_es_un_texto         str      hola\n",
            "num_binario              int      171\n",
            "num_octal                int      8\n",
            "saludo2                  str       espero que aprendan mucho\n",
            "saludo_bonito            str      Hola bienvenidos al curso<...>lisis de datos con Python\n",
            "x                        int      2\n",
            "y                        bool     False\n",
            "z                        int      0\n"
          ],
          "name": "stdout"
        }
      ]
    },
    {
      "cell_type": "code",
      "metadata": {
        "id": "w2PVgO2swdVc"
      },
      "source": [
        "saludo"
      ],
      "execution_count": null,
      "outputs": []
    },
    {
      "cell_type": "code",
      "metadata": {
        "colab": {
          "base_uri": "https://localhost:8080/"
        },
        "id": "3lvI1aK5xYD5",
        "outputId": "b3dbb4e2-f489-4d67-e159-6804dd57a6e2"
      },
      "source": [
        "#función pot \n",
        "print(34**(1/3500))"
      ],
      "execution_count": null,
      "outputs": [
        {
          "output_type": "stream",
          "text": [
            "1.0010080393089065\n"
          ],
          "name": "stdout"
        }
      ]
    },
    {
      "cell_type": "code",
      "metadata": {
        "colab": {
          "base_uri": "https://localhost:8080/"
        },
        "id": "NNdFVC3vxfM_",
        "outputId": "ac17a578-d5b8-4130-fbf5-161a6b19f615"
      },
      "source": [
        "import math\n",
        "euler = math.e\n",
        "suma = euler + 1\n",
        "print(suma)"
      ],
      "execution_count": null,
      "outputs": [
        {
          "output_type": "stream",
          "text": [
            "3.718281828459045\n"
          ],
          "name": "stdout"
        }
      ]
    },
    {
      "cell_type": "code",
      "metadata": {
        "colab": {
          "base_uri": "https://localhost:8080/"
        },
        "id": "WQVKuVIux52O",
        "outputId": "7a1ec594-bce9-451d-d8ae-1783b0732ec4"
      },
      "source": [
        "import math\n",
        "phi = math.pi\n",
        "suma = phi+1\n",
        "print(suma)"
      ],
      "execution_count": null,
      "outputs": [
        {
          "output_type": "stream",
          "text": [
            "4.141592653589793\n"
          ],
          "name": "stdout"
        }
      ]
    },
    {
      "cell_type": "code",
      "metadata": {
        "colab": {
          "base_uri": "https://localhost:8080/"
        },
        "id": "VdnYaGwUx-R6",
        "outputId": "09f821db-848c-425a-9c58-c4a0d38f6b2c"
      },
      "source": [
        "print(False or False)"
      ],
      "execution_count": null,
      "outputs": [
        {
          "output_type": "stream",
          "text": [
            "False\n"
          ],
          "name": "stdout"
        }
      ]
    },
    {
      "cell_type": "code",
      "metadata": {
        "colab": {
          "base_uri": "https://localhost:8080/"
        },
        "id": "jYxbn6S9ydFp",
        "outputId": "20f9bd73-37e2-4d07-b76a-e42a10ddfde6"
      },
      "source": [
        "print(True & True)"
      ],
      "execution_count": null,
      "outputs": [
        {
          "output_type": "stream",
          "text": [
            "True\n"
          ],
          "name": "stdout"
        }
      ]
    },
    {
      "cell_type": "code",
      "metadata": {
        "colab": {
          "base_uri": "https://localhost:8080/"
        },
        "id": "1okjyWtfymF2",
        "outputId": "868b9968-9346-48a2-8665-3bd668eb8331"
      },
      "source": [
        "a = 54\n",
        "b = 54\n",
        "c = 32\n",
        "print(a != c)"
      ],
      "execution_count": null,
      "outputs": [
        {
          "output_type": "stream",
          "text": [
            "True\n"
          ],
          "name": "stdout"
        }
      ]
    },
    {
      "cell_type": "code",
      "metadata": {
        "colab": {
          "base_uri": "https://localhost:8080/"
        },
        "id": "zYWrds4RywEF",
        "outputId": "af4563e4-f44e-4a16-8cf7-be2ef011da52"
      },
      "source": [
        "#programa elevar a la 23 un número\n",
        "x = float(input(\"escribe un número \"))\n",
        "y = pow(x,23)\n",
        "#y = x**(23)\n",
        "print(y)"
      ],
      "execution_count": null,
      "outputs": [
        {
          "output_type": "stream",
          "text": [
            "escribe un número 182\n",
            "9.586099305075937e+51\n"
          ],
          "name": "stdout"
        }
      ]
    },
    {
      "cell_type": "code",
      "metadata": {
        "colab": {
          "base_uri": "https://localhost:8080/"
        },
        "id": "keJuuf7y5sIp",
        "outputId": "1b5d34f9-c09b-416b-eaa8-1e5177c152ed"
      },
      "source": [
        "D = {'Nombre': 'Juan', 'edad': 23, 'color':'negro'}\n",
        "D2 = {'vivienda': 'casa'}\n",
        "D.update(D2)\n",
        "print(D)"
      ],
      "execution_count": null,
      "outputs": [
        {
          "output_type": "stream",
          "text": [
            "{'Nombre': 'Juan', 'edad': 23, 'color': 'negro', 'vivienda': 'casa'}\n"
          ],
          "name": "stdout"
        }
      ]
    },
    {
      "cell_type": "code",
      "metadata": {
        "id": "yCcBfdsYIle4"
      },
      "source": [
        ""
      ],
      "execution_count": null,
      "outputs": []
    }
  ]
}
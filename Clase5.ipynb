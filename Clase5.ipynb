{
  "nbformat": 4,
  "nbformat_minor": 0,
  "metadata": {
    "colab": {
      "name": "Clase5.ipynb",
      "provenance": [],
      "authorship_tag": "ABX9TyNGEO0uoYfxQ4Xmk9RTTcJm",
      "include_colab_link": true
    },
    "kernelspec": {
      "name": "python3",
      "display_name": "Python 3"
    },
    "language_info": {
      "name": "python"
    }
  },
  "cells": [
    {
      "cell_type": "markdown",
      "metadata": {
        "id": "view-in-github",
        "colab_type": "text"
      },
      "source": [
        "<a href=\"https://colab.research.google.com/github/pedrorotta/Python_B-sico-/blob/main/Clase5.ipynb\" target=\"_parent\"><img src=\"https://colab.research.google.com/assets/colab-badge.svg\" alt=\"Open In Colab\"/></a>"
      ]
    },
    {
      "cell_type": "markdown",
      "metadata": {
        "id": "xbeYxnobysHQ"
      },
      "source": [
        "# **Clase 5**\n",
        "\n",
        "En esta clase veremos : \n",
        "\n",
        "* Numpy\n"
      ]
    },
    {
      "cell_type": "markdown",
      "metadata": {
        "id": "CgW0JJUduhEH"
      },
      "source": [
        "## **Librería Numpy**\n",
        "\n",
        "Es una librería que se enmarca dentro del ecosistema de [Scipy.org](https://www.scipy.org) y brinda al usuario: \n",
        "\n",
        "* Un tipo de objeto conocido como array. \n",
        "\n",
        "* Operaciones con arreglos de alta velocidad\n",
        "\n",
        "* Algebral lineal, transformaciones de Fourier y Generación numérica aleatoria\n"
      ]
    },
    {
      "cell_type": "code",
      "metadata": {
        "id": "d1L4LAo0ufMH"
      },
      "source": [
        "import numpy as np"
      ],
      "execution_count": 1,
      "outputs": []
    },
    {
      "cell_type": "code",
      "metadata": {
        "colab": {
          "base_uri": "https://localhost:8080/",
          "height": 35
        },
        "id": "kPgMvrAR5NBv",
        "outputId": "f85a2c09-366a-486a-94c9-99cb7a000e61"
      },
      "source": [
        "np.__version__"
      ],
      "execution_count": 2,
      "outputs": [
        {
          "output_type": "execute_result",
          "data": {
            "application/vnd.google.colaboratory.intrinsic+json": {
              "type": "string"
            },
            "text/plain": [
              "'1.19.5'"
            ]
          },
          "metadata": {
            "tags": []
          },
          "execution_count": 2
        }
      ]
    },
    {
      "cell_type": "markdown",
      "metadata": {
        "id": "_wSAu70dynO5"
      },
      "source": [
        "### **Arreglo de Numpy (Array)**\n",
        "\n",
        "Un array de numpy me permite representar datos (numéricos o de texto) de manera ordenada. Normalmente se utiliza para codificación de datos como imágenes y transformaciones del algebra lineal. \n",
        "\n",
        "Normalmente se utilizará como una representación de matrices. \n",
        "\n",
        "\n",
        "<strong>*Mi definición*</strong>"
      ]
    },
    {
      "cell_type": "code",
      "metadata": {
        "colab": {
          "base_uri": "https://localhost:8080/"
        },
        "id": "zOSejXRg325I",
        "outputId": "83634289-e86b-4e6a-8b6f-80de84c0d75f"
      },
      "source": [
        "# Objetos\n",
        "a = np.array([3,4,5],dtype= float)\n",
        "b = np.array([\"hola\", \"como estás\", \"adios\"], dtype=str)\n",
        "print(a)\n",
        "print(b)"
      ],
      "execution_count": 3,
      "outputs": [
        {
          "output_type": "stream",
          "text": [
            "[3. 4. 5.]\n",
            "['hola' 'como estás' 'adios']\n"
          ],
          "name": "stdout"
        }
      ]
    },
    {
      "cell_type": "code",
      "metadata": {
        "id": "kZc9conQ4M4o"
      },
      "source": [
        "# Matrices : \n",
        "# Normalmente se usará letras mayúsculas para las matrices y minúsculas para los vectores\n",
        "a = np.array([3,4,5])\n",
        "A = np.array([[0,1,2],[1,0,1]]) #la matriz va dentro de corchetes"
      ],
      "execution_count": 4,
      "outputs": []
    },
    {
      "cell_type": "code",
      "metadata": {
        "id": "DS24wpt74xSp"
      },
      "source": [
        "A.sort() #ordenar un objeto"
      ],
      "execution_count": 5,
      "outputs": []
    },
    {
      "cell_type": "code",
      "metadata": {
        "colab": {
          "base_uri": "https://localhost:8080/"
        },
        "id": "UIarGcHF4zdl",
        "outputId": "aeb21ec4-ec72-4b0f-dd34-5844157b30a3"
      },
      "source": [
        "A"
      ],
      "execution_count": 6,
      "outputs": [
        {
          "output_type": "execute_result",
          "data": {
            "text/plain": [
              "array([[0, 1, 2],\n",
              "       [0, 1, 1]])"
            ]
          },
          "metadata": {
            "tags": []
          },
          "execution_count": 6
        }
      ]
    },
    {
      "cell_type": "code",
      "metadata": {
        "id": "h0KPys_f5IrX"
      },
      "source": [
        "#verificar algunos módulos\n",
        "np??\n"
      ],
      "execution_count": 7,
      "outputs": []
    },
    {
      "cell_type": "markdown",
      "metadata": {
        "id": "OJjpb6R6yuIe"
      },
      "source": [
        "### **Desarrollo de Algebra lineal**\n",
        "\n",
        "Muchos temas de programación y análisis de datos se desarrollan, usando técnicas básicas de algebra lineal, como el dot product o el cross product. Existen además muchas más funciones de algebra lineal que se pueden usar en numpy. \n",
        "\n",
        "Nosotros veremos 3 : \n",
        "\n",
        "* Dot product \n",
        "* Cross product\n",
        "* Transpuesta de una matriz "
      ]
    },
    {
      "cell_type": "markdown",
      "metadata": {
        "id": "KAPPWI4HyuFu"
      },
      "source": [
        "#### **Dot Product**\n",
        "\n",
        "El producto punto hace referencia a la combinación lineal de dos Arreglos : \n",
        "\n",
        "Ejemplo : Sean los arreglos en 1-D : $x = [x_1, x_2, x_3, ..., x_n]$ y $ w = [w_1,w_2,w_3,w_4,...,w_n]$.  La combinación lineal de estos dos vectores se puede definir como : \n",
        "\n",
        "$f(x,y) = w_1*x_1 + w_2*x_2 + w_3*x_3 + w_4*x_4 + ... + w_n*x_n = w.n$\n",
        "\n",
        "que en python será expresado por el comando : `np.dot(x,w)`\n",
        "\n",
        "El producto punto de un vector da como resultado un escalar. En el caso de las matrices, el valor cambia. Normalmente una matriz se define respecto al número de filas por su número de columnas en mayúscula $A_(nxm)$ : Donde n es el número de filas y m es el número de columnas \n",
        "\n",
        "Por ejemplo la matriz :\n",
        "\n",
        "```\n",
        "A = [[3,4,5], \n",
        "    [1,3,2]]\n",
        "```\n",
        "tiene 2 filas y 3 columnas por lo tanto se lee $A_(2x3)$\n",
        "\n",
        "En el caso se tenga una matriz $B_(3x2)$. El resultado del producto punto tendrá como resultado una Matriz  $C_(2x2)$\n",
        "\n",
        "Como conclusión, en la multiplicación matricial simple o producto punto, se cumple : \n",
        "\n",
        "* El producto punto de 2 vectores que tienen que tener la misma cantidad de elementos, el resultado es un escalar\n",
        "\n",
        "* Si el producto punto se da entre 2 matrices, el número de colunmas de la primera matriz debe ser igual al número de filas de la segunda matriz \n",
        "\n",
        "* El resultado de un producto punto de 2 matrices dará una matriz cuyas dimensiones son los valores del número de filas de la primera matriz por el número de columnas de la segunda matriz. \n"
      ]
    },
    {
      "cell_type": "code",
      "metadata": {
        "colab": {
          "base_uri": "https://localhost:8080/"
        },
        "id": "e2oGeWtvd9SW",
        "outputId": "47d88576-da22-4486-bdd1-7b8c8222adb7"
      },
      "source": [
        "# Multiplicación de 2 vectores\n",
        "\n",
        "a = np.array([0,3,1])\n",
        "b = np.array([1,0,3])\n",
        "c = np.dot(a,b)\n",
        "print(a)\n",
        "print(b)\n",
        "print(c)\n",
        "len(a)"
      ],
      "execution_count": 8,
      "outputs": [
        {
          "output_type": "stream",
          "text": [
            "[0 3 1]\n",
            "[1 0 3]\n",
            "3\n"
          ],
          "name": "stdout"
        },
        {
          "output_type": "execute_result",
          "data": {
            "text/plain": [
              "3"
            ]
          },
          "metadata": {
            "tags": []
          },
          "execution_count": 8
        }
      ]
    },
    {
      "cell_type": "code",
      "metadata": {
        "id": "1lH75FhjeABd"
      },
      "source": [
        "def dot(a = a,b = b) :\n",
        "  sum = 0\n",
        "  for i in range(0,len(a)):\n",
        "    if len(b) != len(a):\n",
        "      print(\"error, dimensiones no coinciden\")\n",
        "    else: \n",
        "      e = a[i] * b[i]\n",
        "      print(\"Iteración n°.....{}\".format(i+1))\n",
        "      print(\"La multiplicación es {} * {} que es igual a multiplicación = {}\".format(a[i],b[i],e))\n",
        "      print(\"la suma en la iteración pasada n° {} es suma = {}\".format((i),sum))\n",
        "      sum = sum + e\n",
        "      print(\"la suma en esta iteración n° {} es suma = {}\".format((i+1),sum))\n",
        "  return sum"
      ],
      "execution_count": 9,
      "outputs": []
    },
    {
      "cell_type": "code",
      "metadata": {
        "colab": {
          "base_uri": "https://localhost:8080/"
        },
        "id": "Hr_A2AUSeATW",
        "outputId": "baa70f22-a48d-44d5-e859-3a385d10c729"
      },
      "source": [
        "print(a)\n",
        "print(b)\n",
        "dot_ab = dot(a = a, b = b)\n",
        "print(dot_ab)"
      ],
      "execution_count": 10,
      "outputs": [
        {
          "output_type": "stream",
          "text": [
            "[0 3 1]\n",
            "[1 0 3]\n",
            "Iteración n°.....1\n",
            "La multiplicación es 0 * 1 que es igual a multiplicación = 0\n",
            "la suma en la iteración pasada n° 0 es suma = 0\n",
            "la suma en esta iteración n° 1 es suma = 0\n",
            "Iteración n°.....2\n",
            "La multiplicación es 3 * 0 que es igual a multiplicación = 0\n",
            "la suma en la iteración pasada n° 1 es suma = 0\n",
            "la suma en esta iteración n° 2 es suma = 0\n",
            "Iteración n°.....3\n",
            "La multiplicación es 1 * 3 que es igual a multiplicación = 3\n",
            "la suma en la iteración pasada n° 2 es suma = 0\n",
            "la suma en esta iteración n° 3 es suma = 3\n",
            "3\n"
          ],
          "name": "stdout"
        }
      ]
    },
    {
      "cell_type": "code",
      "metadata": {
        "id": "8_m8sh6HeAiB"
      },
      "source": [
        "#mutlplicación de 2 matrices\n",
        "A = np.array([[2,3,1], \n",
        "              [1,2,0]])\n",
        "\n",
        "B = np.array([[1,2,1],\n",
        "             [1,2,3],\n",
        "             [1,3,1]])\n",
        "C = np.dot(A,B)\n"
      ],
      "execution_count": 15,
      "outputs": []
    },
    {
      "cell_type": "code",
      "metadata": {
        "id": "zSH7JmicnSG8"
      },
      "source": [
        "def imprimir(A,B,C):\n",
        "  print(\"..........................\")\n",
        "  print(\"..........................\")\n",
        "  print(\"El primer arreglo es : \")\n",
        "  print(A)\n",
        "  print(\"..........................\")\n",
        "  print(\"..........................\")\n",
        "  print(\"El segundo arreglo es : \")\n",
        "  print(B)\n",
        "  print(\"..........................\")\n",
        "  print(\"..........................\")\n",
        "  print(\"el valor del resultado es : \")\n",
        "  print(C)\n",
        "\n"
      ],
      "execution_count": 17,
      "outputs": []
    },
    {
      "cell_type": "code",
      "metadata": {
        "id": "KR-BBDDLuEJq"
      },
      "source": [
        "\n",
        "def imprimir_valores(*args):\n",
        "  for i in args:\n",
        "    print(\"..................\")\n",
        "    print(i)"
      ],
      "execution_count": 30,
      "outputs": []
    },
    {
      "cell_type": "code",
      "metadata": {
        "colab": {
          "base_uri": "https://localhost:8080/"
        },
        "id": "aIr51FL3iVI4",
        "outputId": "dba9297f-6018-487c-fc55-2aaf25fb56ce"
      },
      "source": [
        "imprimir(A,B,C)"
      ],
      "execution_count": 16,
      "outputs": [
        {
          "output_type": "stream",
          "text": [
            "..........................\n",
            "..........................\n",
            "El primer arreglo es : \n",
            "[[2 3 1]\n",
            " [1 2 0]]\n",
            "..........................\n",
            "..........................\n",
            "El segundo arreglo es : \n",
            "[[1 2 1]\n",
            " [1 2 3]\n",
            " [1 3 1]]\n",
            "..........................\n",
            "..........................\n",
            "el valor del resultado es : \n",
            "[[ 6 13 12]\n",
            " [ 3  6  7]]\n"
          ],
          "name": "stdout"
        }
      ]
    },
    {
      "cell_type": "markdown",
      "metadata": {
        "id": "n5GBTeTLyuC-"
      },
      "source": [
        "#### **Cross product**\n",
        "El producto cruz hace referencia a la operación dimensional de 2 vectores o de dos matrices. Normalmente no es requisito conocer a profundidad lo que hace para este curso. Basta con aclarar que es una forma de cálculo vectorial. \n",
        "\n",
        "En python se puede obtener con ` np.cross(a,b)`\n",
        "\n",
        "<img src= \"http://2.bp.blogspot.com/_ureTHIKNfX4/S8MylDVIGGI/AAAAAAAAACg/yfgG8HXoyEg/s1600/prodCruz.png\" heigth = \"100px\"></img>\n"
      ]
    },
    {
      "cell_type": "code",
      "metadata": {
        "colab": {
          "base_uri": "https://localhost:8080/"
        },
        "id": "C5pB2Z_UytIe",
        "outputId": "4807c47a-5a85-4e58-e8b4-3a904591a4ea"
      },
      "source": [
        "#para vectores \n",
        "\n",
        "e = np.cross(a,b)\n",
        "imprimir(a,b,e)"
      ],
      "execution_count": 18,
      "outputs": [
        {
          "output_type": "stream",
          "text": [
            "..........................\n",
            "..........................\n",
            "El primer arreglo es : \n",
            "[0 3 1]\n",
            "..........................\n",
            "..........................\n",
            "El segundo arreglo es : \n",
            "[1 0 3]\n",
            "..........................\n",
            "..........................\n",
            "el valor del resultado es : \n",
            "[ 9  1 -3]\n"
          ],
          "name": "stdout"
        }
      ]
    },
    {
      "cell_type": "code",
      "metadata": {
        "id": "vUpATTt9zqHp"
      },
      "source": [
        "## Hacer función del producto vectorial "
      ],
      "execution_count": 19,
      "outputs": []
    },
    {
      "cell_type": "code",
      "metadata": {
        "id": "pETRY1p1n8b6"
      },
      "source": [
        ""
      ],
      "execution_count": null,
      "outputs": []
    },
    {
      "cell_type": "markdown",
      "metadata": {
        "id": "8upva0m4oBTJ"
      },
      "source": [
        "#### **Transpuesta**\n",
        "\n",
        "La transpuesta de una matriz sirve en el caso queremos reconfigurar de alguna manera, una operación vectorial o matricial según sea el caso.\n",
        "\n",
        "Los momentos en que se utiliza es cuando tenemos dos vectores con las mismas dimensiones en donde ambos son vectores fila o vectores columna (Se verá ejemplo) o matrices en que sean de igual tamaño, por ejemplo. \n",
        "\n",
        "<img src = \"https://lh3.googleusercontent.com/proxy/n1BbCpYUIldTGNelh_F6dmfK165z1ImDihGWFiYWspQVKkOXq8QThCkSZsK8g4uJd2ryPR4rELbGoZ66a8QPzlQr4RImgXxMTMIxTgjKM_ogVgaYGZxt9YtIkGQbIPBjf4wm\"></img>\n",
        "\n",
        "\n",
        "en python usamos `np.transpose(x)`"
      ]
    },
    {
      "cell_type": "code",
      "metadata": {
        "colab": {
          "base_uri": "https://localhost:8080/"
        },
        "id": "UQy02OFVo1MP",
        "outputId": "10e00c42-47fa-418c-c0e0-df63f591ded9"
      },
      "source": [
        "print(np.transpose(a))"
      ],
      "execution_count": 21,
      "outputs": [
        {
          "output_type": "stream",
          "text": [
            "[0 3 1]\n"
          ],
          "name": "stdout"
        }
      ]
    },
    {
      "cell_type": "code",
      "metadata": {
        "colab": {
          "base_uri": "https://localhost:8080/"
        },
        "id": "ZONL4ozIo3Zk",
        "outputId": "86b82b8e-7067-490d-cd9e-71e0fb706b4c"
      },
      "source": [
        "# Ejemplo de necesidad : \n",
        "\n",
        "#Sean: \n",
        "M = np.array([[1,3,2],\n",
        "              [2,1,2],\n",
        "              [1,3,1],\n",
        "              [2,3,1]])\n",
        "N = np.array([[6,2,1],\n",
        "              [2,3,1],\n",
        "              [3,4,1],\n",
        "              [3,1,4]])\n",
        "#hallar producto punto\n",
        "#O = np.dot(M,N)\n",
        "O = np.dot(M,np.transpose(N))\n",
        "imprimir(M,N,O)"
      ],
      "execution_count": 28,
      "outputs": [
        {
          "output_type": "stream",
          "text": [
            "..........................\n",
            "..........................\n",
            "El primer arreglo es : \n",
            "[[1 3 2]\n",
            " [2 1 2]\n",
            " [1 3 1]\n",
            " [2 3 1]]\n",
            "..........................\n",
            "..........................\n",
            "El segundo arreglo es : \n",
            "[[6 2 1]\n",
            " [2 3 1]\n",
            " [3 4 1]\n",
            " [3 1 4]]\n",
            "..........................\n",
            "..........................\n",
            "el valor del resultado es : \n",
            "[[14 13 17 14]\n",
            " [16  9 12 15]\n",
            " [13 12 16 10]\n",
            " [19 14 19 13]]\n"
          ],
          "name": "stdout"
        }
      ]
    },
    {
      "cell_type": "markdown",
      "metadata": {
        "id": "vK-GmOZksfYP"
      },
      "source": [
        "### **Algunas funciones más**\n",
        "\n",
        "En las siguientes lineas, se verán algunas funciones más"
      ]
    },
    {
      "cell_type": "code",
      "metadata": {
        "colab": {
          "base_uri": "https://localhost:8080/"
        },
        "id": "4eqHeCfTpMcd",
        "outputId": "491d292d-7319-4984-9d4d-9481f9ebce8e"
      },
      "source": [
        "#Creación de matrices: \n",
        "\n",
        "# Matrices de ceros: \n",
        "\n",
        "matriz_ceros = np.zeros((3,2),dtype=int)\n",
        "\n",
        "# Matrices de unos: \n",
        "\n",
        "matriz_unos = np.zeros((3,2),dtype=int)\n",
        "\n",
        "#matriz identidad :\n",
        "\n",
        "matriz_indetidad = np.identity(4,dtype=int)\n",
        "\n",
        "#matriz diagonal: \n",
        "matriz_diagonal = np.eye(3,2,dtype= int)\n",
        "\n",
        "imprimir_valores(matriz_ceros, matriz_unos, matriz_indetidad, matriz_diagonal)"
      ],
      "execution_count": 32,
      "outputs": [
        {
          "output_type": "stream",
          "text": [
            "..................\n",
            "[[0 0]\n",
            " [0 0]\n",
            " [0 0]]\n",
            "..................\n",
            "[[0 0]\n",
            " [0 0]\n",
            " [0 0]]\n",
            "..................\n",
            "[[1 0 0 0]\n",
            " [0 1 0 0]\n",
            " [0 0 1 0]\n",
            " [0 0 0 1]]\n",
            "..................\n",
            "[[1 0]\n",
            " [0 1]\n",
            " [0 0]]\n"
          ],
          "name": "stdout"
        }
      ]
    },
    {
      "cell_type": "code",
      "metadata": {
        "id": "YWUbWLQlsuDv"
      },
      "source": [
        "# creación de matrices aleaotrias: \n",
        "\n",
        "matriz_ale = np.round(np.random.rand(4,2),2)"
      ],
      "execution_count": 40,
      "outputs": []
    },
    {
      "cell_type": "code",
      "metadata": {
        "colab": {
          "base_uri": "https://localhost:8080/"
        },
        "id": "ZMzsyDaRueVc",
        "outputId": "c1bddfb3-8de0-43a9-9e5e-02b0eb496685"
      },
      "source": [
        "#Rangos largos: \n",
        "\n",
        "#Linspace: \n",
        "\n",
        "lin = np.linspace(1,5,25)\n",
        "lin_list = list(lin)\n",
        "# Logspace: \n",
        "\n",
        "log = np.logspace(2,10,10)\n",
        "\n",
        "#Concatenar :\n",
        "concat1 = np.concatenate((M,N),0)\n",
        "concat2 = np.concatenate((M,N),1)\n",
        "\n",
        "imprimir_valores(lin,lin_list,log,M,N,concat1,concat2)"
      ],
      "execution_count": 47,
      "outputs": [
        {
          "output_type": "stream",
          "text": [
            "..................\n",
            "[1.         1.16666667 1.33333333 1.5        1.66666667 1.83333333\n",
            " 2.         2.16666667 2.33333333 2.5        2.66666667 2.83333333\n",
            " 3.         3.16666667 3.33333333 3.5        3.66666667 3.83333333\n",
            " 4.         4.16666667 4.33333333 4.5        4.66666667 4.83333333\n",
            " 5.        ]\n",
            "..................\n",
            "[1.0, 1.1666666666666667, 1.3333333333333333, 1.5, 1.6666666666666665, 1.8333333333333333, 2.0, 2.1666666666666665, 2.333333333333333, 2.5, 2.6666666666666665, 2.833333333333333, 3.0, 3.1666666666666665, 3.333333333333333, 3.5, 3.6666666666666665, 3.833333333333333, 4.0, 4.166666666666666, 4.333333333333333, 4.5, 4.666666666666666, 4.833333333333333, 5.0]\n",
            "..................\n",
            "[1.00000000e+02 7.74263683e+02 5.99484250e+03 4.64158883e+04\n",
            " 3.59381366e+05 2.78255940e+06 2.15443469e+07 1.66810054e+08\n",
            " 1.29154967e+09 1.00000000e+10]\n",
            "..................\n",
            "[[1 3 2]\n",
            " [2 1 2]\n",
            " [1 3 1]\n",
            " [2 3 1]]\n",
            "..................\n",
            "[[6 2 1]\n",
            " [2 3 1]\n",
            " [3 4 1]\n",
            " [3 1 4]]\n",
            "..................\n",
            "[[1 3 2]\n",
            " [2 1 2]\n",
            " [1 3 1]\n",
            " [2 3 1]\n",
            " [6 2 1]\n",
            " [2 3 1]\n",
            " [3 4 1]\n",
            " [3 1 4]]\n",
            "..................\n",
            "[[1 3 2 6 2 1]\n",
            " [2 1 2 2 3 1]\n",
            " [1 3 1 3 4 1]\n",
            " [2 3 1 3 1 4]]\n"
          ],
          "name": "stdout"
        }
      ]
    },
    {
      "cell_type": "code",
      "metadata": {
        "id": "YNknaUYtvbSz"
      },
      "source": [
        ""
      ],
      "execution_count": null,
      "outputs": []
    }
  ]
}
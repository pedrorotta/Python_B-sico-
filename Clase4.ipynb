{
  "nbformat": 4,
  "nbformat_minor": 0,
  "metadata": {
    "colab": {
      "name": "Clase4.ipynb",
      "provenance": [],
      "authorship_tag": "ABX9TyP1v5MLfgxO71LU0RpCfWEl",
      "include_colab_link": true
    },
    "kernelspec": {
      "name": "python3",
      "display_name": "Python 3"
    },
    "language_info": {
      "name": "python"
    }
  },
  "cells": [
    {
      "cell_type": "markdown",
      "metadata": {
        "id": "view-in-github",
        "colab_type": "text"
      },
      "source": [
        "<a href=\"https://colab.research.google.com/github/pedrorotta/Python_B-sico-/blob/main/Clase4.ipynb\" target=\"_parent\"><img src=\"https://colab.research.google.com/assets/colab-badge.svg\" alt=\"Open In Colab\"/></a>"
      ]
    },
    {
      "cell_type": "markdown",
      "metadata": {
        "id": "AMwgESko5pjT"
      },
      "source": [
        "# **Clase 4**\n",
        "\n",
        "En esta clase veremos\n",
        "* Tuplas\n",
        "* Conjuntos\n",
        "* Diccionarios\n",
        "* Modulo Time \n",
        "* Tu propio módulo\n"
      ]
    },
    {
      "cell_type": "markdown",
      "metadata": {
        "id": "I1oqq5p9-lzj"
      },
      "source": [
        "##**Tuplas**\n"
      ]
    },
    {
      "cell_type": "markdown",
      "metadata": {
        "id": "43ABeqqH-lrM"
      },
      "source": [
        "Son un conjunto de valores, separados por comas y que cumplen características similares pero no iguales a las listas\n",
        "\n",
        "* Puedes escribirlos directamente : \n",
        "\n",
        "  ` tupla1 = 3,4,\"Milagros\"`\n",
        "\n",
        "* Puedes escribirlos en parentesis: \n",
        "\n",
        "  ` tupla1 = (3,4,\"Milagros\")`\n",
        "\n",
        "La diferencia con las listas es que las tuplas son inmutables (No permiten append, por ejemplo) "
      ]
    },
    {
      "cell_type": "markdown",
      "metadata": {
        "id": "ciNQOSy8_maC"
      },
      "source": [
        "Las tuplas pueden estar anidadas (o indexadas) : \n",
        "\n",
        "` tupla_a  = (5,6,7)`\n",
        "\n",
        "\n",
        "`tupla_b = (tupla_a,1000,2000,3000)`"
      ]
    },
    {
      "cell_type": "markdown",
      "metadata": {
        "id": "-JGyth6oBBaL"
      },
      "source": [
        "\n",
        "### **Operaciones con tuplas** : \n",
        "\n",
        "1. Concatenación de tuplas \n",
        "\n",
        "  ```\n",
        "T = (1,2,4,5)\n",
        "T2 = (500,1000,1500)\n",
        "print(T+ T2)\n",
        "```\n",
        "\n",
        "2. Ampliación de una tupla\n",
        "\n",
        "  ```\n",
        "T = (1,3,4,5,\"Angie\",\"Gabriel\")\n",
        "T3 = T*2\n",
        "T3\n",
        "```\n",
        "\n",
        "3. Acceder al índice de una tupla\n",
        "\n",
        "  ```\n",
        "T  = (1,3,4,9,\"Tony\",\"Roger\")\n",
        "print(T[2])\n",
        "```\n",
        "\n",
        "4. Acceder al índice de un valor\n",
        "\n",
        "  ```\n",
        "T = (1,3,5,9, \"Carlos\", \"Jose\")\n",
        "print(T.index(3))\n",
        "```\n",
        "5. Contar el número de veces que se repite un número\n",
        "\n",
        "  ```\n",
        "T = (1,3,4,4,5,5,5,5,5)\n",
        "print(T.count(3))\n",
        "```\n"
      ]
    },
    {
      "cell_type": "markdown",
      "metadata": {
        "id": "SOjat0W5BBWT"
      },
      "source": [
        "6. Eliminar tupla \n",
        "\n",
        "  ```\n",
        "T = (3,4,5,6,7)\n",
        "del T\n",
        "```\n",
        "\n",
        "7. Cantidad de elementos en una tupla\n",
        "\n",
        " ` print(len(T))`\n",
        " "
      ]
    },
    {
      "cell_type": "markdown",
      "metadata": {
        "id": "c2PKXr-BBBSE"
      },
      "source": [
        "## **Conjuntos**"
      ]
    },
    {
      "cell_type": "markdown",
      "metadata": {
        "id": "WHU1lpD9BBO6"
      },
      "source": [
        "Son estrucutras no ordenas y sin repetición que sirven para fines convenientes como los siguientes : \n",
        "\n",
        "* Estructurar datos para operaciones de unión, intersección resta, etc entre conjuntos\n",
        "\n",
        "* Eliminar valores repetidos en una lista de datos\n",
        "\n",
        "* Nota conjunto vacío : Para crear un **conjunto vacío** se tiene que usar la función `set()`. No usar `{}`. Esto creará un diccionario vacío (Otro tipo de estructura que discutiremos más adelante) "
      ]
    },
    {
      "cell_type": "markdown",
      "metadata": {
        "id": "g8dFjzDVBBLs"
      },
      "source": [
        "### **Operaciones con conjuntos**\n",
        "\n",
        "* Formato String: \n",
        "\n",
        "  `conjunto = set(\"846\")`\n",
        "\n",
        "* Formato Numérico: \n",
        "\n",
        "  `C = {1,3,4,5,\"Aaron\")`\n",
        "\n",
        "* Intersección: \n",
        "\n",
        "  `C_interseccion = C1.intersection(C2)`\n",
        "\n",
        "* Unión: \n",
        "\n",
        "  `C_union = C1.union(C2)`\n",
        "\n",
        "* Diferencia: \n",
        "\n",
        "  `C_diferencia = C1-C2`\n",
        "\n",
        "\n",
        "* Añadir un valor\n",
        "\n",
        " `C1.add(24)`\n",
        "\n",
        "* Eliminar un valor \n",
        "\n",
        "  `C1.remove(3)`\n",
        "\n"
      ]
    },
    {
      "cell_type": "markdown",
      "metadata": {
        "id": "36SFjREOBBI9"
      },
      "source": [
        "## Diccionarios "
      ]
    },
    {
      "cell_type": "markdown",
      "metadata": {
        "id": "avID-CmaBBGK"
      },
      "source": [
        "Es otro tipo de estructura de Python. Los diccionarios permiten guardar un objeto que a diferencia de las secuencias (Listas y tuplas) estas se guardan mediante clave, no por índice. \n",
        "\n",
        "Notas sobre las claves:\n",
        "\n",
        "* Una clave puede ser una cadena o número.\n",
        "* Las tuplas solo puden usarse como clave si contienen cadenas, números o tuplas. \n",
        "* No puedes usar lista como clave porque es un elemento mutable \n",
        "\n",
        "Las funciones de un diccionario son : \n",
        "\n",
        "* Guardar un valor dada una clave\n",
        "* Dar el valor de una solicitada clave \n",
        "\n"
      ]
    },
    {
      "cell_type": "markdown",
      "metadata": {
        "id": "gG3nqC3zMdwT"
      },
      "source": [
        "### Operaciones con diccionarios \n",
        "\n",
        "* Creación de diccionarios : \n",
        "\n",
        "  ```\n",
        "D = {'Nombre': 'Dana', 'edad': 22, 'ciclo' : '4'}\n",
        "a = dict(Nombre=\"Luis\", Edad=25, ciclo=9)\n",
        "```\n",
        "\n",
        "*  LLamar a una clave\n",
        "\n",
        "  `D['Nombre']`\n",
        "\n",
        "* Reemplazar o insertar un valor \n",
        "\n",
        "  `D['nombre'] = \"Mario\"`\n",
        "\n",
        "* Unir dos diccionarios:\n",
        "\n",
        "  `D.update(D2)`\n",
        "\n"
      ]
    },
    {
      "cell_type": "markdown",
      "metadata": {
        "id": "F6gaeIP0O5b_"
      },
      "source": [
        "## **Objeto Fecha**"
      ]
    },
    {
      "cell_type": "markdown",
      "metadata": {
        "id": "llxaoDKhO9p6"
      },
      "source": [
        "Este es un objeto especial que me gustaría explicar para que lo tengas en cuenta: \n",
        "\n",
        "* Modulo time\n",
        "\n",
        "  `import time `\n",
        "\n",
        "Para ver el tiempo en python se utiliza esta librería con el comando `time.time()`\n",
        "\n",
        "Esto devuelve el valor en **Unixtamp** la cantidad de segundos transcurridos desde la media noche del 1 de Enero de 1970. \n",
        "\n",
        "* Modulo datatime\n",
        "\n",
        "\n",
        "  `import datetime as dt`\n",
        "\n",
        "Este módulo es otro tipo de módulo, tiene la herramienta datetime tal que : \n",
        "\n",
        "` Today = datetime.datetime.now`\n",
        "\n",
        "`print(today)`\n",
        "\n"
      ]
    },
    {
      "cell_type": "markdown",
      "metadata": {
        "id": "BuLOiE-_QFO2"
      },
      "source": [
        "## **Tu propio módulo**"
      ]
    },
    {
      "cell_type": "markdown",
      "metadata": {
        "id": "FmK-pmt_QNqD"
      },
      "source": [
        "Para importar tu propio módulo tienes que escribir\n",
        "\n",
        "```\n",
        "import sys \n",
        "sys.path.append('direccion')\n",
        "```"
      ]
    },
    {
      "cell_type": "code",
      "metadata": {
        "id": "ceY7EUJSQG6o"
      },
      "source": [
        ""
      ],
      "execution_count": null,
      "outputs": []
    }
  ]
}